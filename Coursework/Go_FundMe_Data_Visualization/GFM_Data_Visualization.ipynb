{
  "nbformat": 4,
  "nbformat_minor": 0,
  "metadata": {
    "colab": {
      "provenance": [],
      "include_colab_link": true
    },
    "kernelspec": {
      "name": "python3",
      "display_name": "Python 3"
    },
    "language_info": {
      "name": "python"
    }
  },
  "cells": [
    {
      "cell_type": "markdown",
      "metadata": {
        "id": "view-in-github",
        "colab_type": "text"
      },
      "source": [
        "<a href=\"https://colab.research.google.com/github/Gabbers18/Python_Projects/blob/main/Coursework%20%20/Go_FundMe_Data_Visualization/GFM_Data_Visualization.ipynb\" target=\"_parent\"><img src=\"https://colab.research.google.com/assets/colab-badge.svg\" alt=\"Open In Colab\"/></a>"
      ]
    },
    {
      "cell_type": "markdown",
      "source": [
        "# Descriptive Stastics in Python Exercise - Module 1\n",
        "\n",
        "In this exercise we will use a dataset related to a collection of individual fundraising campaigns created via the [GoFundMe](https://gofundme.com) website. The data comes from a [project on Github](https://github.com/lmeninato/GoFundMe/) which collected information about GoFundMe projects in 2018.\n",
        "\n",
        "You will apply your knowledge of descriptive stastics and skills from the data wrangling course to summarize information about specific categories of projects. I've stubbed out a series of steps below. I will describe each task and leave an open code block for you to complete the task. Please use text blocks to summarize your analysis. Use your own knowledge and the [Module 1 example descriptive stats notebook](https://github.com/digitalshawn/STC551/blob/main/Module%201/Descriptive%20Stats%20Example.ipynb) as a guide, but you may use other techniques to answer the prompts.\n",
        "\n"
      ],
      "metadata": {
        "id": "FWPASuhCScx4"
      }
    },
    {
      "cell_type": "markdown",
      "source": [
        "# Let's Get Started!\n",
        "\n",
        "### Task hints\n",
        "\n",
        "*   `instructions in this style require you to write and execute python code in a code block`\n",
        "*   instructions in this style require you to write a summary, analysis, or explanation in a text block\n",
        "\n",
        "\n",
        "\n",
        "\n",
        "Here we load the modules we will use in this script. They are the same modules that are used in the [example notebook](https://github.com/digitalshawn/STC551/blob/main/Module%201/Descriptive%20Stats%20Example.ipynb)."
      ],
      "metadata": {
        "id": "pRhJ5ojlpPKv"
      }
    },
    {
      "cell_type": "code",
      "execution_count": null,
      "metadata": {
        "id": "Rs_rPmDXSWwT"
      },
      "outputs": [],
      "source": [
        "import numpy as np # linear algebra\n",
        "import pandas as pd # data processing, CSV file I/O (e.g. pd.read_csv)\n",
        "import plotly.express as px # accessible module for plotting graphs\n",
        "from scipy.stats import skew, kurtosis # to analyze the skew of our dataset\n",
        "import plotly.figure_factory as ff"
      ]
    },
    {
      "cell_type": "markdown",
      "source": [
        "# Loading the GoFundMe Data\n",
        "\n",
        "Below we load the GoFundMe data directly via its GitHub URL. Briefly take a look [at the data file](https://raw.githubusercontent.com/lmeninato/GoFundMe/master/data-raw/GFM_data.csv). You'll see that although the files ends in .csv, the fields are delimited (seperated) via a tab and not a comma. You'll see that I've flagged this for panda's read_csv() function using the `sep` argument and setting it equal to a tab (`\\t`).\n",
        "\n"
      ],
      "metadata": {
        "id": "UX_Ebg9zp91-"
      }
    },
    {
      "cell_type": "code",
      "source": [
        "df = pd.read_csv(\"https://raw.githubusercontent.com/lmeninato/GoFundMe/master/data-raw/GFM_data.csv\", sep=\"\\t\")\n"
      ],
      "metadata": {
        "id": "0j2ir6e1UK2q"
      },
      "execution_count": null,
      "outputs": []
    },
    {
      "cell_type": "markdown",
      "source": [
        "# Let's explore the data file\n",
        "\n",
        "1.   `show the first few rows of the data file.`\n",
        "2.   List and describe the meaning of each row\n",
        "\n",
        "\n",
        "\n",
        "\n"
      ],
      "metadata": {
        "id": "AK5yv-XLq1sk"
      }
    },
    {
      "cell_type": "markdown",
      "source": [
        "The first row of the dataset is showing that $327345 has been raised for a 92 Year old man who was brutally attacked in Los Angeles, CA. This money was raised within one month by 12167 people.\n",
        "\n",
        "The second row shows that $316261 has been raised for Olivia, who had a bone marrow transplant. This was raised within 3 months by 5598 people.\n",
        "\n",
        "The second row shows that $241125 was rasied for a person who needed a T cell transplant in Staten Island, NY. This money was raised in 2 months by 841 people."
      ],
      "metadata": {
        "id": "ytn_ZB40LJNU"
      }
    },
    {
      "cell_type": "code",
      "source": [
        "df.head(5)"
      ],
      "metadata": {
        "id": "MGCGWa5BLEBE",
        "outputId": "03f83637-b28a-4d0e-d2a2-3f4bd84641a4",
        "colab": {
          "base_uri": "https://localhost:8080/",
          "height": 556
        }
      },
      "execution_count": null,
      "outputs": [
        {
          "output_type": "execute_result",
          "data": {
            "text/plain": [
              "   Unnamed: 0                                                Url Category  \\\n",
              "0           0  https://www.gofundme.com/3ctqm-medical-bills-f...  Medical   \n",
              "1           1  https://www.gofundme.com/olivia-stoy-bone-marr...  Medical   \n",
              "2           2  https://www.gofundme.com/autologous-Tcell-Tran...  Medical   \n",
              "3           3       https://www.gofundme.com/a-chance-of-rebirth  Medical   \n",
              "4           4                https://www.gofundme.com/teamclaire  Medical   \n",
              "\n",
              "  Position                                Title           Location  \\\n",
              "0        0     92 Yr old Man Brutally Attacked.    LOS ANGELES, CA   \n",
              "1        0  Olivia Stoy:Transplant & Liv it up!         ASHLEY, IN   \n",
              "2        1         AUTOLOGOUS T CELL TRANSPLANT  STATEN ISLAND, NY   \n",
              "3        1                  A chance of rebirth         DUBLIN, CA   \n",
              "4        1       Claire Wineland Needs Our Help   GARDEN GROVE, CA   \n",
              "\n",
              "   Amount_Raised     Goal Number_of_Donators Length_of_Fundraising FB_Shares  \\\n",
              "0       327345.0   15,000             12,167               1 month       26k   \n",
              "1       316261.0     1.0M              5,598              3 months       12k   \n",
              "2       241125.0  250,000                841              2 months      1.8k   \n",
              "3       237424.0  225,000              4,708               1 month      9.7k   \n",
              "4       236590.0  225,000              8,393              2 months      6.4k   \n",
              "\n",
              "  GFM_hearts                                               Text   Latitude  \\\n",
              "0        12k  Rodolfo Rodriguez needs your help today! 92 Yr...  34.052234   \n",
              "1       5.7k  Thomas Stoy needs your help today! Olivia Stoy...  41.527273   \n",
              "2        836  Philip Defonte needs your help today! AUTOLOGO...  40.579532   \n",
              "3       4.7k  Sriram Kanniah needs your help today! A chance...  37.702152   \n",
              "4       8.9k  Melissa Yeager needs your help today! Claire W...  33.774269   \n",
              "\n",
              "    Longitude  \n",
              "0 -118.243685  \n",
              "1  -85.065523  \n",
              "2  -74.150201  \n",
              "3 -121.935792  \n",
              "4 -117.937995  "
            ],
            "text/html": [
              "\n",
              "  <div id=\"df-d5a28906-6961-4e88-81b1-224fb7c4b553\" class=\"colab-df-container\">\n",
              "    <div>\n",
              "<style scoped>\n",
              "    .dataframe tbody tr th:only-of-type {\n",
              "        vertical-align: middle;\n",
              "    }\n",
              "\n",
              "    .dataframe tbody tr th {\n",
              "        vertical-align: top;\n",
              "    }\n",
              "\n",
              "    .dataframe thead th {\n",
              "        text-align: right;\n",
              "    }\n",
              "</style>\n",
              "<table border=\"1\" class=\"dataframe\">\n",
              "  <thead>\n",
              "    <tr style=\"text-align: right;\">\n",
              "      <th></th>\n",
              "      <th>Unnamed: 0</th>\n",
              "      <th>Url</th>\n",
              "      <th>Category</th>\n",
              "      <th>Position</th>\n",
              "      <th>Title</th>\n",
              "      <th>Location</th>\n",
              "      <th>Amount_Raised</th>\n",
              "      <th>Goal</th>\n",
              "      <th>Number_of_Donators</th>\n",
              "      <th>Length_of_Fundraising</th>\n",
              "      <th>FB_Shares</th>\n",
              "      <th>GFM_hearts</th>\n",
              "      <th>Text</th>\n",
              "      <th>Latitude</th>\n",
              "      <th>Longitude</th>\n",
              "    </tr>\n",
              "  </thead>\n",
              "  <tbody>\n",
              "    <tr>\n",
              "      <th>0</th>\n",
              "      <td>0</td>\n",
              "      <td>https://www.gofundme.com/3ctqm-medical-bills-f...</td>\n",
              "      <td>Medical</td>\n",
              "      <td>0</td>\n",
              "      <td>92 Yr old Man Brutally Attacked.</td>\n",
              "      <td>LOS ANGELES, CA</td>\n",
              "      <td>327345.0</td>\n",
              "      <td>15,000</td>\n",
              "      <td>12,167</td>\n",
              "      <td>1 month</td>\n",
              "      <td>26k</td>\n",
              "      <td>12k</td>\n",
              "      <td>Rodolfo Rodriguez needs your help today! 92 Yr...</td>\n",
              "      <td>34.052234</td>\n",
              "      <td>-118.243685</td>\n",
              "    </tr>\n",
              "    <tr>\n",
              "      <th>1</th>\n",
              "      <td>1</td>\n",
              "      <td>https://www.gofundme.com/olivia-stoy-bone-marr...</td>\n",
              "      <td>Medical</td>\n",
              "      <td>0</td>\n",
              "      <td>Olivia Stoy:Transplant &amp; Liv it up!</td>\n",
              "      <td>ASHLEY, IN</td>\n",
              "      <td>316261.0</td>\n",
              "      <td>1.0M</td>\n",
              "      <td>5,598</td>\n",
              "      <td>3 months</td>\n",
              "      <td>12k</td>\n",
              "      <td>5.7k</td>\n",
              "      <td>Thomas Stoy needs your help today! Olivia Stoy...</td>\n",
              "      <td>41.527273</td>\n",
              "      <td>-85.065523</td>\n",
              "    </tr>\n",
              "    <tr>\n",
              "      <th>2</th>\n",
              "      <td>2</td>\n",
              "      <td>https://www.gofundme.com/autologous-Tcell-Tran...</td>\n",
              "      <td>Medical</td>\n",
              "      <td>1</td>\n",
              "      <td>AUTOLOGOUS T CELL TRANSPLANT</td>\n",
              "      <td>STATEN ISLAND, NY</td>\n",
              "      <td>241125.0</td>\n",
              "      <td>250,000</td>\n",
              "      <td>841</td>\n",
              "      <td>2 months</td>\n",
              "      <td>1.8k</td>\n",
              "      <td>836</td>\n",
              "      <td>Philip Defonte needs your help today! AUTOLOGO...</td>\n",
              "      <td>40.579532</td>\n",
              "      <td>-74.150201</td>\n",
              "    </tr>\n",
              "    <tr>\n",
              "      <th>3</th>\n",
              "      <td>3</td>\n",
              "      <td>https://www.gofundme.com/a-chance-of-rebirth</td>\n",
              "      <td>Medical</td>\n",
              "      <td>1</td>\n",
              "      <td>A chance of rebirth</td>\n",
              "      <td>DUBLIN, CA</td>\n",
              "      <td>237424.0</td>\n",
              "      <td>225,000</td>\n",
              "      <td>4,708</td>\n",
              "      <td>1 month</td>\n",
              "      <td>9.7k</td>\n",
              "      <td>4.7k</td>\n",
              "      <td>Sriram Kanniah needs your help today! A chance...</td>\n",
              "      <td>37.702152</td>\n",
              "      <td>-121.935792</td>\n",
              "    </tr>\n",
              "    <tr>\n",
              "      <th>4</th>\n",
              "      <td>4</td>\n",
              "      <td>https://www.gofundme.com/teamclaire</td>\n",
              "      <td>Medical</td>\n",
              "      <td>1</td>\n",
              "      <td>Claire Wineland Needs Our Help</td>\n",
              "      <td>GARDEN GROVE, CA</td>\n",
              "      <td>236590.0</td>\n",
              "      <td>225,000</td>\n",
              "      <td>8,393</td>\n",
              "      <td>2 months</td>\n",
              "      <td>6.4k</td>\n",
              "      <td>8.9k</td>\n",
              "      <td>Melissa Yeager needs your help today! Claire W...</td>\n",
              "      <td>33.774269</td>\n",
              "      <td>-117.937995</td>\n",
              "    </tr>\n",
              "  </tbody>\n",
              "</table>\n",
              "</div>\n",
              "    <div class=\"colab-df-buttons\">\n",
              "\n",
              "  <div class=\"colab-df-container\">\n",
              "    <button class=\"colab-df-convert\" onclick=\"convertToInteractive('df-d5a28906-6961-4e88-81b1-224fb7c4b553')\"\n",
              "            title=\"Convert this dataframe to an interactive table.\"\n",
              "            style=\"display:none;\">\n",
              "\n",
              "  <svg xmlns=\"http://www.w3.org/2000/svg\" height=\"24px\" viewBox=\"0 -960 960 960\">\n",
              "    <path d=\"M120-120v-720h720v720H120Zm60-500h600v-160H180v160Zm220 220h160v-160H400v160Zm0 220h160v-160H400v160ZM180-400h160v-160H180v160Zm440 0h160v-160H620v160ZM180-180h160v-160H180v160Zm440 0h160v-160H620v160Z\"/>\n",
              "  </svg>\n",
              "    </button>\n",
              "\n",
              "  <style>\n",
              "    .colab-df-container {\n",
              "      display:flex;\n",
              "      gap: 12px;\n",
              "    }\n",
              "\n",
              "    .colab-df-convert {\n",
              "      background-color: #E8F0FE;\n",
              "      border: none;\n",
              "      border-radius: 50%;\n",
              "      cursor: pointer;\n",
              "      display: none;\n",
              "      fill: #1967D2;\n",
              "      height: 32px;\n",
              "      padding: 0 0 0 0;\n",
              "      width: 32px;\n",
              "    }\n",
              "\n",
              "    .colab-df-convert:hover {\n",
              "      background-color: #E2EBFA;\n",
              "      box-shadow: 0px 1px 2px rgba(60, 64, 67, 0.3), 0px 1px 3px 1px rgba(60, 64, 67, 0.15);\n",
              "      fill: #174EA6;\n",
              "    }\n",
              "\n",
              "    .colab-df-buttons div {\n",
              "      margin-bottom: 4px;\n",
              "    }\n",
              "\n",
              "    [theme=dark] .colab-df-convert {\n",
              "      background-color: #3B4455;\n",
              "      fill: #D2E3FC;\n",
              "    }\n",
              "\n",
              "    [theme=dark] .colab-df-convert:hover {\n",
              "      background-color: #434B5C;\n",
              "      box-shadow: 0px 1px 3px 1px rgba(0, 0, 0, 0.15);\n",
              "      filter: drop-shadow(0px 1px 2px rgba(0, 0, 0, 0.3));\n",
              "      fill: #FFFFFF;\n",
              "    }\n",
              "  </style>\n",
              "\n",
              "    <script>\n",
              "      const buttonEl =\n",
              "        document.querySelector('#df-d5a28906-6961-4e88-81b1-224fb7c4b553 button.colab-df-convert');\n",
              "      buttonEl.style.display =\n",
              "        google.colab.kernel.accessAllowed ? 'block' : 'none';\n",
              "\n",
              "      async function convertToInteractive(key) {\n",
              "        const element = document.querySelector('#df-d5a28906-6961-4e88-81b1-224fb7c4b553');\n",
              "        const dataTable =\n",
              "          await google.colab.kernel.invokeFunction('convertToInteractive',\n",
              "                                                    [key], {});\n",
              "        if (!dataTable) return;\n",
              "\n",
              "        const docLinkHtml = 'Like what you see? Visit the ' +\n",
              "          '<a target=\"_blank\" href=https://colab.research.google.com/notebooks/data_table.ipynb>data table notebook</a>'\n",
              "          + ' to learn more about interactive tables.';\n",
              "        element.innerHTML = '';\n",
              "        dataTable['output_type'] = 'display_data';\n",
              "        await google.colab.output.renderOutput(dataTable, element);\n",
              "        const docLink = document.createElement('div');\n",
              "        docLink.innerHTML = docLinkHtml;\n",
              "        element.appendChild(docLink);\n",
              "      }\n",
              "    </script>\n",
              "  </div>\n",
              "\n",
              "\n",
              "<div id=\"df-64662fa2-1fa9-4c85-a5f5-a75d7d3d38a4\">\n",
              "  <button class=\"colab-df-quickchart\" onclick=\"quickchart('df-64662fa2-1fa9-4c85-a5f5-a75d7d3d38a4')\"\n",
              "            title=\"Suggest charts\"\n",
              "            style=\"display:none;\">\n",
              "\n",
              "<svg xmlns=\"http://www.w3.org/2000/svg\" height=\"24px\"viewBox=\"0 0 24 24\"\n",
              "     width=\"24px\">\n",
              "    <g>\n",
              "        <path d=\"M19 3H5c-1.1 0-2 .9-2 2v14c0 1.1.9 2 2 2h14c1.1 0 2-.9 2-2V5c0-1.1-.9-2-2-2zM9 17H7v-7h2v7zm4 0h-2V7h2v10zm4 0h-2v-4h2v4z\"/>\n",
              "    </g>\n",
              "</svg>\n",
              "  </button>\n",
              "\n",
              "<style>\n",
              "  .colab-df-quickchart {\n",
              "      --bg-color: #E8F0FE;\n",
              "      --fill-color: #1967D2;\n",
              "      --hover-bg-color: #E2EBFA;\n",
              "      --hover-fill-color: #174EA6;\n",
              "      --disabled-fill-color: #AAA;\n",
              "      --disabled-bg-color: #DDD;\n",
              "  }\n",
              "\n",
              "  [theme=dark] .colab-df-quickchart {\n",
              "      --bg-color: #3B4455;\n",
              "      --fill-color: #D2E3FC;\n",
              "      --hover-bg-color: #434B5C;\n",
              "      --hover-fill-color: #FFFFFF;\n",
              "      --disabled-bg-color: #3B4455;\n",
              "      --disabled-fill-color: #666;\n",
              "  }\n",
              "\n",
              "  .colab-df-quickchart {\n",
              "    background-color: var(--bg-color);\n",
              "    border: none;\n",
              "    border-radius: 50%;\n",
              "    cursor: pointer;\n",
              "    display: none;\n",
              "    fill: var(--fill-color);\n",
              "    height: 32px;\n",
              "    padding: 0;\n",
              "    width: 32px;\n",
              "  }\n",
              "\n",
              "  .colab-df-quickchart:hover {\n",
              "    background-color: var(--hover-bg-color);\n",
              "    box-shadow: 0 1px 2px rgba(60, 64, 67, 0.3), 0 1px 3px 1px rgba(60, 64, 67, 0.15);\n",
              "    fill: var(--button-hover-fill-color);\n",
              "  }\n",
              "\n",
              "  .colab-df-quickchart-complete:disabled,\n",
              "  .colab-df-quickchart-complete:disabled:hover {\n",
              "    background-color: var(--disabled-bg-color);\n",
              "    fill: var(--disabled-fill-color);\n",
              "    box-shadow: none;\n",
              "  }\n",
              "\n",
              "  .colab-df-spinner {\n",
              "    border: 2px solid var(--fill-color);\n",
              "    border-color: transparent;\n",
              "    border-bottom-color: var(--fill-color);\n",
              "    animation:\n",
              "      spin 1s steps(1) infinite;\n",
              "  }\n",
              "\n",
              "  @keyframes spin {\n",
              "    0% {\n",
              "      border-color: transparent;\n",
              "      border-bottom-color: var(--fill-color);\n",
              "      border-left-color: var(--fill-color);\n",
              "    }\n",
              "    20% {\n",
              "      border-color: transparent;\n",
              "      border-left-color: var(--fill-color);\n",
              "      border-top-color: var(--fill-color);\n",
              "    }\n",
              "    30% {\n",
              "      border-color: transparent;\n",
              "      border-left-color: var(--fill-color);\n",
              "      border-top-color: var(--fill-color);\n",
              "      border-right-color: var(--fill-color);\n",
              "    }\n",
              "    40% {\n",
              "      border-color: transparent;\n",
              "      border-right-color: var(--fill-color);\n",
              "      border-top-color: var(--fill-color);\n",
              "    }\n",
              "    60% {\n",
              "      border-color: transparent;\n",
              "      border-right-color: var(--fill-color);\n",
              "    }\n",
              "    80% {\n",
              "      border-color: transparent;\n",
              "      border-right-color: var(--fill-color);\n",
              "      border-bottom-color: var(--fill-color);\n",
              "    }\n",
              "    90% {\n",
              "      border-color: transparent;\n",
              "      border-bottom-color: var(--fill-color);\n",
              "    }\n",
              "  }\n",
              "</style>\n",
              "\n",
              "  <script>\n",
              "    async function quickchart(key) {\n",
              "      const quickchartButtonEl =\n",
              "        document.querySelector('#' + key + ' button');\n",
              "      quickchartButtonEl.disabled = true;  // To prevent multiple clicks.\n",
              "      quickchartButtonEl.classList.add('colab-df-spinner');\n",
              "      try {\n",
              "        const charts = await google.colab.kernel.invokeFunction(\n",
              "            'suggestCharts', [key], {});\n",
              "      } catch (error) {\n",
              "        console.error('Error during call to suggestCharts:', error);\n",
              "      }\n",
              "      quickchartButtonEl.classList.remove('colab-df-spinner');\n",
              "      quickchartButtonEl.classList.add('colab-df-quickchart-complete');\n",
              "    }\n",
              "    (() => {\n",
              "      let quickchartButtonEl =\n",
              "        document.querySelector('#df-64662fa2-1fa9-4c85-a5f5-a75d7d3d38a4 button');\n",
              "      quickchartButtonEl.style.display =\n",
              "        google.colab.kernel.accessAllowed ? 'block' : 'none';\n",
              "    })();\n",
              "  </script>\n",
              "</div>\n",
              "\n",
              "    </div>\n",
              "  </div>\n"
            ],
            "application/vnd.google.colaboratory.intrinsic+json": {
              "type": "dataframe",
              "variable_name": "df",
              "summary": "{\n  \"name\": \"df\",\n  \"rows\": 1242,\n  \"fields\": [\n    {\n      \"column\": \"Unnamed: 0\",\n      \"properties\": {\n        \"dtype\": \"number\",\n        \"std\": 358,\n        \"min\": 0,\n        \"max\": 1241,\n        \"num_unique_values\": 1242,\n        \"samples\": [\n          900,\n          1003,\n          671\n        ],\n        \"semantic_type\": \"\",\n        \"description\": \"\"\n      }\n    },\n    {\n      \"column\": \"Url\",\n      \"properties\": {\n        \"dtype\": \"string\",\n        \"num_unique_values\": 1234,\n        \"samples\": [\n          \"https://www.gofundme.com/romanian-orthodox-church\",\n          \"https://www.gofundme.com/sa6xr7-national-american-miss-pageant\",\n          \"https://www.gofundme.com/sendStuyPulsetoChamps\"\n        ],\n        \"semantic_type\": \"\",\n        \"description\": \"\"\n      }\n    },\n    {\n      \"column\": \"Category\",\n      \"properties\": {\n        \"dtype\": \"category\",\n        \"num_unique_values\": 21,\n        \"samples\": [\n          \"Medical\",\n          \"Sports\",\n          \"Family\"\n        ],\n        \"semantic_type\": \"\",\n        \"description\": \"\"\n      }\n    },\n    {\n      \"column\": \"Position\",\n      \"properties\": {\n        \"dtype\": \"category\",\n        \"num_unique_values\": 25,\n        \"samples\": [\n          \"8\",\n          \"16\",\n          \"0\"\n        ],\n        \"semantic_type\": \"\",\n        \"description\": \"\"\n      }\n    },\n    {\n      \"column\": \"Title\",\n      \"properties\": {\n        \"dtype\": \"string\",\n        \"num_unique_values\": 1232,\n        \"samples\": [\n          \"Competition Civics Nationals 2018\",\n          \"Sampson's Summer of  Shakespeare\",\n          \"Supporting Sean & Those with Autism\"\n        ],\n        \"semantic_type\": \"\",\n        \"description\": \"\"\n      }\n    },\n    {\n      \"column\": \"Location\",\n      \"properties\": {\n        \"dtype\": \"string\",\n        \"num_unique_values\": 754,\n        \"samples\": [\n          \"WINTER PARK, FL\",\n          \"PERRIS, CA\",\n          \"BOISE, ID\"\n        ],\n        \"semantic_type\": \"\",\n        \"description\": \"\"\n      }\n    },\n    {\n      \"column\": \"Amount_Raised\",\n      \"properties\": {\n        \"dtype\": \"number\",\n        \"std\": 134754.9774132035,\n        \"min\": 688.0,\n        \"max\": 3584330.0,\n        \"num_unique_values\": 1182,\n        \"samples\": [\n          62450.0,\n          8815.0,\n          3700.0\n        ],\n        \"semantic_type\": \"\",\n        \"description\": \"\"\n      }\n    },\n    {\n      \"column\": \"Goal\",\n      \"properties\": {\n        \"dtype\": \"category\",\n        \"num_unique_values\": 154,\n        \"samples\": [\n          \"650,000\",\n          \"6,250\",\n          \"18,590\"\n        ],\n        \"semantic_type\": \"\",\n        \"description\": \"\"\n      }\n    },\n    {\n      \"column\": \"Number_of_Donators\",\n      \"properties\": {\n        \"dtype\": \"category\",\n        \"num_unique_values\": 607,\n        \"samples\": [\n          \"259\",\n          \"2,858\",\n          \"3,482\"\n        ],\n        \"semantic_type\": \"\",\n        \"description\": \"\"\n      }\n    },\n    {\n      \"column\": \"Length_of_Fundraising\",\n      \"properties\": {\n        \"dtype\": \"category\",\n        \"num_unique_values\": 29,\n        \"samples\": [\n          \"7 days\",\n          \"21 days\",\n          \"20 days\"\n        ],\n        \"semantic_type\": \"\",\n        \"description\": \"\"\n      }\n    },\n    {\n      \"column\": \"FB_Shares\",\n      \"properties\": {\n        \"dtype\": \"category\",\n        \"num_unique_values\": 582,\n        \"samples\": [\n          \"146\",\n          \"351\",\n          \"5.3k\"\n        ],\n        \"semantic_type\": \"\",\n        \"description\": \"\"\n      }\n    },\n    {\n      \"column\": \"GFM_hearts\",\n      \"properties\": {\n        \"dtype\": \"category\",\n        \"num_unique_values\": 499,\n        \"samples\": [\n          \"25\",\n          \"318\",\n          \"437\"\n        ],\n        \"semantic_type\": \"\",\n        \"description\": \"\"\n      }\n    },\n    {\n      \"column\": \"Text\",\n      \"properties\": {\n        \"dtype\": \"string\",\n        \"num_unique_values\": 1230,\n        \"samples\": [\n          \"Erica Dorenkamp needs your help today! Send Watertown DI to Global Finals - We are a group of high school freshmen who are part of Watertown DI. Watertown DI is a chapter of the organization Destination Imagination (DI) and have earned the opportunity to compete in the global finals in Knoxville, Tennessee.  Destination Imagination is an organization that teaches kids th...\",\n          \"Milton Academy needs your help today! Milton Academy - Dear MA Lower School Families,  We are starting to plan the Faculty Appreciation Event for the Lower School. We are excited to continue this joyous annual tradition on behalf of the Lower School Parent Association, to honor our wonderful teachers, administrators and staff members.  Money donated...\",\n          \"Corrinne Mestayer needs your help today! Supporting Sean & Those with Autism - On Sunday, July 1st, 2018, our beautiful son and brother, Sean Franklin Salvo, unexpectedly left this world. Words cannot express our grief and deep sense of loss. As we struggle to imagine our lives without Sean, we find ourselves thinking deeply about the unique joys and challenges of living wi...\"\n        ],\n        \"semantic_type\": \"\",\n        \"description\": \"\"\n      }\n    },\n    {\n      \"column\": \"Latitude\",\n      \"properties\": {\n        \"dtype\": \"number\",\n        \"std\": 5.255682652909988,\n        \"min\": 17.7466397,\n        \"max\": 61.5813889,\n        \"num_unique_values\": 746,\n        \"samples\": [\n          42.3709299,\n          33.7825194,\n          34.0028786\n        ],\n        \"semantic_type\": \"\",\n        \"description\": \"\"\n      }\n    },\n    {\n      \"column\": \"Longitude\",\n      \"properties\": {\n        \"dtype\": \"number\",\n        \"std\": 19.442148343728665,\n        \"min\": -159.4977455,\n        \"max\": -64.7031977,\n        \"num_unique_values\": 745,\n        \"samples\": [\n          -71.1828321,\n          -117.2286478,\n          -84.1446376\n        ],\n        \"semantic_type\": \"\",\n        \"description\": \"\"\n      }\n    }\n  ]\n}"
            }
          },
          "metadata": {},
          "execution_count": 296
        }
      ]
    },
    {
      "cell_type": "markdown",
      "source": [],
      "metadata": {
        "id": "pdh6kDquLGlv"
      }
    },
    {
      "cell_type": "markdown",
      "source": [
        "*list and description of column headers go here*"
      ],
      "metadata": {
        "id": "xdcgg-3otLvB"
      }
    },
    {
      "cell_type": "markdown",
      "source": [
        "# Campaigns by Category\n",
        "\n",
        "\n",
        "\n",
        "1.   `How many campaigns are in each category? Visuzlize this.`\n",
        "2.   `What is the average $ amount raised in each category? Visualize this.`\n",
        "3.   `What is the average fundraising goal in each category? Visualize this.`\n",
        "4.   Provide a text summary of the results\n",
        "\n",
        "*feel free to use multiple code blocks if you'd like*\n",
        "\n"
      ],
      "metadata": {
        "id": "mLJ0FgOJtYBM"
      }
    },
    {
      "cell_type": "code",
      "source": [
        "# here I am removing these numeric categories ... there are not categories\n",
        "df_categories = df[~df['Category'].isin(['11525.0', '-75.3199035', '-73.9495823'])]"
      ],
      "metadata": {
        "id": "SU4Ddy8Z7u3i"
      },
      "execution_count": null,
      "outputs": []
    },
    {
      "cell_type": "code",
      "source": [
        "df_categories['Category'].value_counts().plot(kind ='barh', title='Number of Campaigns in each GoFundMe Category', xlabel='Number of campaigns', ylabel='Category')"
      ],
      "metadata": {
        "id": "ErRt43U8URcs",
        "outputId": "599046d9-d28d-43a6-8df0-be625cad8480",
        "colab": {
          "base_uri": "https://localhost:8080/",
          "height": 507
        }
      },
      "execution_count": null,
      "outputs": [
        {
          "output_type": "execute_result",
          "data": {
            "text/plain": [
              "<Axes: title={'center': 'Number of Campaigns in each GoFundMe Category'}, xlabel='Number of campaigns', ylabel='Category'>"
            ]
          },
          "metadata": {},
          "execution_count": 298
        },
        {
          "output_type": "display_data",
          "data": {
            "text/plain": [
              "<Figure size 640x480 with 1 Axes>"
            ],
            "image/png": "[encoded data removed]"
          },
          "metadata": {}
        }
      ]
    },
    {
      "cell_type": "markdown",
      "source": [
        "1. There are 18 categories that GoFundMe Campaigns are in. The most campaigns are in the \"Medical\" category, at around 75 campaigns. The least amount of campaigns are in the \"Animals\" cateogry, at a little under 20 campaigns."
      ],
      "metadata": {
        "id": "aRs7IRWZurx3"
      }
    },
    {
      "cell_type": "code",
      "source": [
        "category_means = df_categories.groupby('Category')['Amount_Raised'].mean()\n",
        "category_means.plot(kind ='barh', title='Average Amount of Money Raised by GoFundMeCategory', xlabel='Average Money Raised ($)', ylabel='Category')"
      ],
      "metadata": {
        "id": "U9zb5lz5Ny3F",
        "outputId": "d90e9692-f5eb-467e-a3b7-1f2ae696d83b",
        "colab": {
          "base_uri": "https://localhost:8080/",
          "height": 507
        }
      },
      "execution_count": null,
      "outputs": [
        {
          "output_type": "execute_result",
          "data": {
            "text/plain": [
              "<Axes: title={'center': 'Average Amount of Money Raised by GoFundMeCategory'}, xlabel='Average Money Raised ($)', ylabel='Category'>"
            ]
          },
          "metadata": {},
          "execution_count": 299
        },
        {
          "output_type": "display_data",
          "data": {
            "text/plain": [
              "<Figure size 640x480 with 1 Axes>"
            ],
            "image/png": "[encoded data removed]"
          },
          "metadata": {}
        }
      ]
    },
    {
      "cell_type": "markdown",
      "source": [
        "2. This is a distribution of the average amount of money raised in dollars for each GoFundMe category. The \"Medical\" category had the highest average of money raised at a around $150000. The \"Competition\" and \"Newlywed\" categories had the least average amount of money raised."
      ],
      "metadata": {
        "id": "fWofICo7-bHk"
      }
    },
    {
      "cell_type": "code",
      "source": [
        "df['Goal'] = df['Goal'].str.replace(',', '')\n",
        "df['Goal'] = df['Goal'].str.replace('.', '')\n",
        "df['Goal'] = df['Goal'].str.replace('M', '00000')\n",
        "df['Goal'] = df['Goal'].str.replace('K', '00')\n",
        "df['Goal'] = pd.to_numeric(df['Goal'])"
      ],
      "metadata": {
        "id": "nBsQwiGsSOXW"
      },
      "execution_count": null,
      "outputs": []
    },
    {
      "cell_type": "code",
      "source": [
        "# asked chatGPT to create a function to do this because I need to do this for a lot of variables\n",
        "def convert_gfm_hearts(value):\n",
        "    # Remove any whitespace and convert to uppercase\n",
        "    value = str(value).strip().upper()\n",
        "\n",
        "    # Check for 'M' (millions) and 'K' (thousands) notation\n",
        "    if 'M' in value:\n",
        "        return float(value.replace(\"M\", \"\")) * 1_000_000\n",
        "    elif 'K' in value:\n",
        "        return float(value.replace(\"K\", \"\")) * 1_000\n",
        "    else:\n",
        "        return float(value)  # Directly convert if no suffix"
      ],
      "metadata": {
        "id": "O-YOgdfMuhSG"
      },
      "execution_count": null,
      "outputs": []
    },
    {
      "cell_type": "code",
      "source": [
        "try:\n",
        "    df['GFM_hearts'] = df['GFM_hearts'].apply(convert_gfm_hearts)\n",
        "except ValueError as e:\n",
        "    print(\"Conversion error:\", e)\n",
        "\n",
        "# Optional: Check for any remaining non-numeric values\n",
        "df['GFM_hearts'] = pd.to_numeric(df['GFM_hearts'], errors='coerce')\n",
        "\n",
        "# Display the converted column\n",
        "print(df['GFM_hearts'].head())"
      ],
      "metadata": {
        "colab": {
          "base_uri": "https://localhost:8080/"
        },
        "id": "td_AXt6Tu6W1",
        "outputId": "b13d7af8-eaf9-4a39-830c-1b13d10eb2e5"
      },
      "execution_count": null,
      "outputs": [
        {
          "output_type": "stream",
          "name": "stdout",
          "text": [
            "0    12000.0\n",
            "1     5700.0\n",
            "2      836.0\n",
            "3     4700.0\n",
            "4     8900.0\n",
            "Name: GFM_hearts, dtype: float64\n"
          ]
        }
      ]
    },
    {
      "cell_type": "code",
      "source": [
        "try:\n",
        "    df['FB_Shares'] = df['FB_Shares'].apply(convert_gfm_hearts)\n",
        "except ValueError as e:\n",
        "    print(\"Conversion error:\", e)\n",
        "\n",
        "# Optional: Check for any remaining non-numeric values\n",
        "df['FB_Shares'] = pd.to_numeric(df['FB_Shares'], errors='coerce')\n",
        "\n",
        "# Display the converted column\n",
        "print(df['FB_Shares'].head())"
      ],
      "metadata": {
        "colab": {
          "base_uri": "https://localhost:8080/"
        },
        "id": "mQJcZ_W6vBVh",
        "outputId": "ae6011d4-eb29-4f19-b5a9-31941468bc99"
      },
      "execution_count": null,
      "outputs": [
        {
          "output_type": "stream",
          "name": "stdout",
          "text": [
            "0    26000.0\n",
            "1    12000.0\n",
            "2     1800.0\n",
            "3     9700.0\n",
            "4     6400.0\n",
            "Name: FB_Shares, dtype: float64\n"
          ]
        }
      ]
    },
    {
      "cell_type": "code",
      "source": [
        "df.head(10)"
      ],
      "metadata": {
        "colab": {
          "base_uri": "https://localhost:8080/",
          "height": 1000
        },
        "id": "I3MDr3Xks764",
        "outputId": "04862c00-259b-4a87-94e0-0f244242012e"
      },
      "execution_count": null,
      "outputs": [
        {
          "output_type": "execute_result",
          "data": {
            "text/plain": [
              "   Unnamed: 0                                                Url Category  \\\n",
              "0           0  https://www.gofundme.com/3ctqm-medical-bills-f...  Medical   \n",
              "1           1  https://www.gofundme.com/olivia-stoy-bone-marr...  Medical   \n",
              "2           2  https://www.gofundme.com/autologous-Tcell-Tran...  Medical   \n",
              "3           3       https://www.gofundme.com/a-chance-of-rebirth  Medical   \n",
              "4           4                https://www.gofundme.com/teamclaire  Medical   \n",
              "5           5  https://www.gofundme.com/hannas-emergency-canc...  Medical   \n",
              "6           6            https://www.gofundme.com/brayden-belden  Medical   \n",
              "7           7         https://www.gofundme.com/jacobburyrecovery  Medical   \n",
              "8           8  https://www.gofundme.com/Victoria-Gouletas-Wes...  Medical   \n",
              "9           9     https://www.gofundme.com/fight-like-the-averys  Medical   \n",
              "\n",
              "  Position                                Title           Location  \\\n",
              "0        0     92 Yr old Man Brutally Attacked.    LOS ANGELES, CA   \n",
              "1        0  Olivia Stoy:Transplant & Liv it up!         ASHLEY, IN   \n",
              "2        1         AUTOLOGOUS T CELL TRANSPLANT  STATEN ISLAND, NY   \n",
              "3        1                  A chance of rebirth         DUBLIN, CA   \n",
              "4        1       Claire Wineland Needs Our Help   GARDEN GROVE, CA   \n",
              "5        2     Hanna's Emergency Cancer Surgery    SPRING LAKE, NJ   \n",
              "6        2         Brayden Belden Recovery Fund   LAGUNA BEACH, CA   \n",
              "7        2             Jacob Bury Recovery Fund         TACOMA, WA   \n",
              "8        3         When the Unthinkable Happens       WESTPORT, CT   \n",
              "9        3                Fight like the Averys  REDONDO BEACH, CA   \n",
              "\n",
              "   Amount_Raised       Goal Number_of_Donators Length_of_Fundraising  \\\n",
              "0       327345.0    15000.0             12,167               1 month   \n",
              "1       316261.0  1000000.0              5,598              3 months   \n",
              "2       241125.0   250000.0                841              2 months   \n",
              "3       237424.0   225000.0              4,708               1 month   \n",
              "4       236590.0   225000.0              8,393              2 months   \n",
              "5       224718.0   250000.0              2,705              5 months   \n",
              "6       214147.0   275000.0              2,700              6 months   \n",
              "7       209490.0   250000.0                924               1 month   \n",
              "8       206726.0   250000.0              2,052              5 months   \n",
              "9       195413.0   200000.0              2,445               1 month   \n",
              "\n",
              "   FB_Shares  GFM_hearts                                               Text  \\\n",
              "0    26000.0     12000.0  Rodolfo Rodriguez needs your help today! 92 Yr...   \n",
              "1    12000.0      5700.0  Thomas Stoy needs your help today! Olivia Stoy...   \n",
              "2     1800.0       836.0  Philip Defonte needs your help today! AUTOLOGO...   \n",
              "3     9700.0      4700.0  Sriram Kanniah needs your help today! A chance...   \n",
              "4     6400.0      8900.0  Melissa Yeager needs your help today! Claire W...   \n",
              "5     3700.0      2700.0  Hanna Wilt needs your help today! Hanna's Emer...   \n",
              "6    10000.0      2700.0  Matt Belden needs your help today! Brayden Bel...   \n",
              "7     2800.0       949.0  Jacob Bury needs your help today! Jacob Bury R...   \n",
              "8     3300.0      2000.0  Victoria Gouletas needs your help today! When ...   \n",
              "9     6000.0      2500.0  Duncan Avery needs your help today! Fight like...   \n",
              "\n",
              "    Latitude   Longitude  \n",
              "0  34.052234 -118.243685  \n",
              "1  41.527273  -85.065523  \n",
              "2  40.579532  -74.150201  \n",
              "3  37.702152 -121.935792  \n",
              "4  33.774269 -117.937995  \n",
              "5  40.153448  -74.028193  \n",
              "6  33.542719 -117.785357  \n",
              "7  47.252877 -122.444291  \n",
              "8  41.141472  -73.357905  \n",
              "9  33.849182 -118.388408  "
            ],
            "text/html": [
              "\n",
              "  <div id=\"df-770a444f-3e53-43b8-900a-472820e6aaa5\" class=\"colab-df-container\">\n",
              "    <div>\n",
              "<style scoped>\n",
              "    .dataframe tbody tr th:only-of-type {\n",
              "        vertical-align: middle;\n",
              "    }\n",
              "\n",
              "    .dataframe tbody tr th {\n",
              "        vertical-align: top;\n",
              "    }\n",
              "\n",
              "    .dataframe thead th {\n",
              "        text-align: right;\n",
              "    }\n",
              "</style>\n",
              "<table border=\"1\" class=\"dataframe\">\n",
              "  <thead>\n",
              "    <tr style=\"text-align: right;\">\n",
              "      <th></th>\n",
              "      <th>Unnamed: 0</th>\n",
              "      <th>Url</th>\n",
              "      <th>Category</th>\n",
              "      <th>Position</th>\n",
              "      <th>Title</th>\n",
              "      <th>Location</th>\n",
              "      <th>Amount_Raised</th>\n",
              "      <th>Goal</th>\n",
              "      <th>Number_of_Donators</th>\n",
              "      <th>Length_of_Fundraising</th>\n",
              "      <th>FB_Shares</th>\n",
              "      <th>GFM_hearts</th>\n",
              "      <th>Text</th>\n",
              "      <th>Latitude</th>\n",
              "      <th>Longitude</th>\n",
              "    </tr>\n",
              "  </thead>\n",
              "  <tbody>\n",
              "    <tr>\n",
              "      <th>0</th>\n",
              "      <td>0</td>\n",
              "      <td>https://www.gofundme.com/3ctqm-medical-bills-f...</td>\n",
              "      <td>Medical</td>\n",
              "      <td>0</td>\n",
              "      <td>92 Yr old Man Brutally Attacked.</td>\n",
              "      <td>LOS ANGELES, CA</td>\n",
              "      <td>327345.0</td>\n",
              "      <td>15000.0</td>\n",
              "      <td>12,167</td>\n",
              "      <td>1 month</td>\n",
              "      <td>26000.0</td>\n",
              "      <td>12000.0</td>\n",
              "      <td>Rodolfo Rodriguez needs your help today! 92 Yr...</td>\n",
              "      <td>34.052234</td>\n",
              "      <td>-118.243685</td>\n",
              "    </tr>\n",
              "    <tr>\n",
              "      <th>1</th>\n",
              "      <td>1</td>\n",
              "      <td>https://www.gofundme.com/olivia-stoy-bone-marr...</td>\n",
              "      <td>Medical</td>\n",
              "      <td>0</td>\n",
              "      <td>Olivia Stoy:Transplant &amp; Liv it up!</td>\n",
              "      <td>ASHLEY, IN</td>\n",
              "      <td>316261.0</td>\n",
              "      <td>1000000.0</td>\n",
              "      <td>5,598</td>\n",
              "      <td>3 months</td>\n",
              "      <td>12000.0</td>\n",
              "      <td>5700.0</td>\n",
              "      <td>Thomas Stoy needs your help today! Olivia Stoy...</td>\n",
              "      <td>41.527273</td>\n",
              "      <td>-85.065523</td>\n",
              "    </tr>\n",
              "    <tr>\n",
              "      <th>2</th>\n",
              "      <td>2</td>\n",
              "      <td>https://www.gofundme.com/autologous-Tcell-Tran...</td>\n",
              "      <td>Medical</td>\n",
              "      <td>1</td>\n",
              "      <td>AUTOLOGOUS T CELL TRANSPLANT</td>\n",
              "      <td>STATEN ISLAND, NY</td>\n",
              "      <td>241125.0</td>\n",
              "      <td>250000.0</td>\n",
              "      <td>841</td>\n",
              "      <td>2 months</td>\n",
              "      <td>1800.0</td>\n",
              "      <td>836.0</td>\n",
              "      <td>Philip Defonte needs your help today! AUTOLOGO...</td>\n",
              "      <td>40.579532</td>\n",
              "      <td>-74.150201</td>\n",
              "    </tr>\n",
              "    <tr>\n",
              "      <th>3</th>\n",
              "      <td>3</td>\n",
              "      <td>https://www.gofundme.com/a-chance-of-rebirth</td>\n",
              "      <td>Medical</td>\n",
              "      <td>1</td>\n",
              "      <td>A chance of rebirth</td>\n",
              "      <td>DUBLIN, CA</td>\n",
              "      <td>237424.0</td>\n",
              "      <td>225000.0</td>\n",
              "      <td>4,708</td>\n",
              "      <td>1 month</td>\n",
              "      <td>9700.0</td>\n",
              "      <td>4700.0</td>\n",
              "      <td>Sriram Kanniah needs your help today! A chance...</td>\n",
              "      <td>37.702152</td>\n",
              "      <td>-121.935792</td>\n",
              "    </tr>\n",
              "    <tr>\n",
              "      <th>4</th>\n",
              "      <td>4</td>\n",
              "      <td>https://www.gofundme.com/teamclaire</td>\n",
              "      <td>Medical</td>\n",
              "      <td>1</td>\n",
              "      <td>Claire Wineland Needs Our Help</td>\n",
              "      <td>GARDEN GROVE, CA</td>\n",
              "      <td>236590.0</td>\n",
              "      <td>225000.0</td>\n",
              "      <td>8,393</td>\n",
              "      <td>2 months</td>\n",
              "      <td>6400.0</td>\n",
              "      <td>8900.0</td>\n",
              "      <td>Melissa Yeager needs your help today! Claire W...</td>\n",
              "      <td>33.774269</td>\n",
              "      <td>-117.937995</td>\n",
              "    </tr>\n",
              "    <tr>\n",
              "      <th>5</th>\n",
              "      <td>5</td>\n",
              "      <td>https://www.gofundme.com/hannas-emergency-canc...</td>\n",
              "      <td>Medical</td>\n",
              "      <td>2</td>\n",
              "      <td>Hanna's Emergency Cancer Surgery</td>\n",
              "      <td>SPRING LAKE, NJ</td>\n",
              "      <td>224718.0</td>\n",
              "      <td>250000.0</td>\n",
              "      <td>2,705</td>\n",
              "      <td>5 months</td>\n",
              "      <td>3700.0</td>\n",
              "      <td>2700.0</td>\n",
              "      <td>Hanna Wilt needs your help today! Hanna's Emer...</td>\n",
              "      <td>40.153448</td>\n",
              "      <td>-74.028193</td>\n",
              "    </tr>\n",
              "    <tr>\n",
              "      <th>6</th>\n",
              "      <td>6</td>\n",
              "      <td>https://www.gofundme.com/brayden-belden</td>\n",
              "      <td>Medical</td>\n",
              "      <td>2</td>\n",
              "      <td>Brayden Belden Recovery Fund</td>\n",
              "      <td>LAGUNA BEACH, CA</td>\n",
              "      <td>214147.0</td>\n",
              "      <td>275000.0</td>\n",
              "      <td>2,700</td>\n",
              "      <td>6 months</td>\n",
              "      <td>10000.0</td>\n",
              "      <td>2700.0</td>\n",
              "      <td>Matt Belden needs your help today! Brayden Bel...</td>\n",
              "      <td>33.542719</td>\n",
              "      <td>-117.785357</td>\n",
              "    </tr>\n",
              "    <tr>\n",
              "      <th>7</th>\n",
              "      <td>7</td>\n",
              "      <td>https://www.gofundme.com/jacobburyrecovery</td>\n",
              "      <td>Medical</td>\n",
              "      <td>2</td>\n",
              "      <td>Jacob Bury Recovery Fund</td>\n",
              "      <td>TACOMA, WA</td>\n",
              "      <td>209490.0</td>\n",
              "      <td>250000.0</td>\n",
              "      <td>924</td>\n",
              "      <td>1 month</td>\n",
              "      <td>2800.0</td>\n",
              "      <td>949.0</td>\n",
              "      <td>Jacob Bury needs your help today! Jacob Bury R...</td>\n",
              "      <td>47.252877</td>\n",
              "      <td>-122.444291</td>\n",
              "    </tr>\n",
              "    <tr>\n",
              "      <th>8</th>\n",
              "      <td>8</td>\n",
              "      <td>https://www.gofundme.com/Victoria-Gouletas-Wes...</td>\n",
              "      <td>Medical</td>\n",
              "      <td>3</td>\n",
              "      <td>When the Unthinkable Happens</td>\n",
              "      <td>WESTPORT, CT</td>\n",
              "      <td>206726.0</td>\n",
              "      <td>250000.0</td>\n",
              "      <td>2,052</td>\n",
              "      <td>5 months</td>\n",
              "      <td>3300.0</td>\n",
              "      <td>2000.0</td>\n",
              "      <td>Victoria Gouletas needs your help today! When ...</td>\n",
              "      <td>41.141472</td>\n",
              "      <td>-73.357905</td>\n",
              "    </tr>\n",
              "    <tr>\n",
              "      <th>9</th>\n",
              "      <td>9</td>\n",
              "      <td>https://www.gofundme.com/fight-like-the-averys</td>\n",
              "      <td>Medical</td>\n",
              "      <td>3</td>\n",
              "      <td>Fight like the Averys</td>\n",
              "      <td>REDONDO BEACH, CA</td>\n",
              "      <td>195413.0</td>\n",
              "      <td>200000.0</td>\n",
              "      <td>2,445</td>\n",
              "      <td>1 month</td>\n",
              "      <td>6000.0</td>\n",
              "      <td>2500.0</td>\n",
              "      <td>Duncan Avery needs your help today! Fight like...</td>\n",
              "      <td>33.849182</td>\n",
              "      <td>-118.388408</td>\n",
              "    </tr>\n",
              "  </tbody>\n",
              "</table>\n",
              "</div>\n",
              "    <div class=\"colab-df-buttons\">\n",
              "\n",
              "  <div class=\"colab-df-container\">\n",
              "    <button class=\"colab-df-convert\" onclick=\"convertToInteractive('df-770a444f-3e53-43b8-900a-472820e6aaa5')\"\n",
              "            title=\"Convert this dataframe to an interactive table.\"\n",
              "            style=\"display:none;\">\n",
              "\n",
              "  <svg xmlns=\"http://www.w3.org/2000/svg\" height=\"24px\" viewBox=\"0 -960 960 960\">\n",
              "    <path d=\"M120-120v-720h720v720H120Zm60-500h600v-160H180v160Zm220 220h160v-160H400v160Zm0 220h160v-160H400v160ZM180-400h160v-160H180v160Zm440 0h160v-160H620v160ZM180-180h160v-160H180v160Zm440 0h160v-160H620v160Z\"/>\n",
              "  </svg>\n",
              "    </button>\n",
              "\n",
              "  <style>\n",
              "    .colab-df-container {\n",
              "      display:flex;\n",
              "      gap: 12px;\n",
              "    }\n",
              "\n",
              "    .colab-df-convert {\n",
              "      background-color: #E8F0FE;\n",
              "      border: none;\n",
              "      border-radius: 50%;\n",
              "      cursor: pointer;\n",
              "      display: none;\n",
              "      fill: #1967D2;\n",
              "      height: 32px;\n",
              "      padding: 0 0 0 0;\n",
              "      width: 32px;\n",
              "    }\n",
              "\n",
              "    .colab-df-convert:hover {\n",
              "      background-color: #E2EBFA;\n",
              "      box-shadow: 0px 1px 2px rgba(60, 64, 67, 0.3), 0px 1px 3px 1px rgba(60, 64, 67, 0.15);\n",
              "      fill: #174EA6;\n",
              "    }\n",
              "\n",
              "    .colab-df-buttons div {\n",
              "      margin-bottom: 4px;\n",
              "    }\n",
              "\n",
              "    [theme=dark] .colab-df-convert {\n",
              "      background-color: #3B4455;\n",
              "      fill: #D2E3FC;\n",
              "    }\n",
              "\n",
              "    [theme=dark] .colab-df-convert:hover {\n",
              "      background-color: #434B5C;\n",
              "      box-shadow: 0px 1px 3px 1px rgba(0, 0, 0, 0.15);\n",
              "      filter: drop-shadow(0px 1px 2px rgba(0, 0, 0, 0.3));\n",
              "      fill: #FFFFFF;\n",
              "    }\n",
              "  </style>\n",
              "\n",
              "    <script>\n",
              "      const buttonEl =\n",
              "        document.querySelector('#df-770a444f-3e53-43b8-900a-472820e6aaa5 button.colab-df-convert');\n",
              "      buttonEl.style.display =\n",
              "        google.colab.kernel.accessAllowed ? 'block' : 'none';\n",
              "\n",
              "      async function convertToInteractive(key) {\n",
              "        const element = document.querySelector('#df-770a444f-3e53-43b8-900a-472820e6aaa5');\n",
              "        const dataTable =\n",
              "          await google.colab.kernel.invokeFunction('convertToInteractive',\n",
              "                                                    [key], {});\n",
              "        if (!dataTable) return;\n",
              "\n",
              "        const docLinkHtml = 'Like what you see? Visit the ' +\n",
              "          '<a target=\"_blank\" href=https://colab.research.google.com/notebooks/data_table.ipynb>data table notebook</a>'\n",
              "          + ' to learn more about interactive tables.';\n",
              "        element.innerHTML = '';\n",
              "        dataTable['output_type'] = 'display_data';\n",
              "        await google.colab.output.renderOutput(dataTable, element);\n",
              "        const docLink = document.createElement('div');\n",
              "        docLink.innerHTML = docLinkHtml;\n",
              "        element.appendChild(docLink);\n",
              "      }\n",
              "    </script>\n",
              "  </div>\n",
              "\n",
              "\n",
              "<div id=\"df-0877e30c-552f-409d-9619-df1c01813880\">\n",
              "  <button class=\"colab-df-quickchart\" onclick=\"quickchart('df-0877e30c-552f-409d-9619-df1c01813880')\"\n",
              "            title=\"Suggest charts\"\n",
              "            style=\"display:none;\">\n",
              "\n",
              "<svg xmlns=\"http://www.w3.org/2000/svg\" height=\"24px\"viewBox=\"0 0 24 24\"\n",
              "     width=\"24px\">\n",
              "    <g>\n",
              "        <path d=\"M19 3H5c-1.1 0-2 .9-2 2v14c0 1.1.9 2 2 2h14c1.1 0 2-.9 2-2V5c0-1.1-.9-2-2-2zM9 17H7v-7h2v7zm4 0h-2V7h2v10zm4 0h-2v-4h2v4z\"/>\n",
              "    </g>\n",
              "</svg>\n",
              "  </button>\n",
              "\n",
              "<style>\n",
              "  .colab-df-quickchart {\n",
              "      --bg-color: #E8F0FE;\n",
              "      --fill-color: #1967D2;\n",
              "      --hover-bg-color: #E2EBFA;\n",
              "      --hover-fill-color: #174EA6;\n",
              "      --disabled-fill-color: #AAA;\n",
              "      --disabled-bg-color: #DDD;\n",
              "  }\n",
              "\n",
              "  [theme=dark] .colab-df-quickchart {\n",
              "      --bg-color: #3B4455;\n",
              "      --fill-color: #D2E3FC;\n",
              "      --hover-bg-color: #434B5C;\n",
              "      --hover-fill-color: #FFFFFF;\n",
              "      --disabled-bg-color: #3B4455;\n",
              "      --disabled-fill-color: #666;\n",
              "  }\n",
              "\n",
              "  .colab-df-quickchart {\n",
              "    background-color: var(--bg-color);\n",
              "    border: none;\n",
              "    border-radius: 50%;\n",
              "    cursor: pointer;\n",
              "    display: none;\n",
              "    fill: var(--fill-color);\n",
              "    height: 32px;\n",
              "    padding: 0;\n",
              "    width: 32px;\n",
              "  }\n",
              "\n",
              "  .colab-df-quickchart:hover {\n",
              "    background-color: var(--hover-bg-color);\n",
              "    box-shadow: 0 1px 2px rgba(60, 64, 67, 0.3), 0 1px 3px 1px rgba(60, 64, 67, 0.15);\n",
              "    fill: var(--button-hover-fill-color);\n",
              "  }\n",
              "\n",
              "  .colab-df-quickchart-complete:disabled,\n",
              "  .colab-df-quickchart-complete:disabled:hover {\n",
              "    background-color: var(--disabled-bg-color);\n",
              "    fill: var(--disabled-fill-color);\n",
              "    box-shadow: none;\n",
              "  }\n",
              "\n",
              "  .colab-df-spinner {\n",
              "    border: 2px solid var(--fill-color);\n",
              "    border-color: transparent;\n",
              "    border-bottom-color: var(--fill-color);\n",
              "    animation:\n",
              "      spin 1s steps(1) infinite;\n",
              "  }\n",
              "\n",
              "  @keyframes spin {\n",
              "    0% {\n",
              "      border-color: transparent;\n",
              "      border-bottom-color: var(--fill-color);\n",
              "      border-left-color: var(--fill-color);\n",
              "    }\n",
              "    20% {\n",
              "      border-color: transparent;\n",
              "      border-left-color: var(--fill-color);\n",
              "      border-top-color: var(--fill-color);\n",
              "    }\n",
              "    30% {\n",
              "      border-color: transparent;\n",
              "      border-left-color: var(--fill-color);\n",
              "      border-top-color: var(--fill-color);\n",
              "      border-right-color: var(--fill-color);\n",
              "    }\n",
              "    40% {\n",
              "      border-color: transparent;\n",
              "      border-right-color: var(--fill-color);\n",
              "      border-top-color: var(--fill-color);\n",
              "    }\n",
              "    60% {\n",
              "      border-color: transparent;\n",
              "      border-right-color: var(--fill-color);\n",
              "    }\n",
              "    80% {\n",
              "      border-color: transparent;\n",
              "      border-right-color: var(--fill-color);\n",
              "      border-bottom-color: var(--fill-color);\n",
              "    }\n",
              "    90% {\n",
              "      border-color: transparent;\n",
              "      border-bottom-color: var(--fill-color);\n",
              "    }\n",
              "  }\n",
              "</style>\n",
              "\n",
              "  <script>\n",
              "    async function quickchart(key) {\n",
              "      const quickchartButtonEl =\n",
              "        document.querySelector('#' + key + ' button');\n",
              "      quickchartButtonEl.disabled = true;  // To prevent multiple clicks.\n",
              "      quickchartButtonEl.classList.add('colab-df-spinner');\n",
              "      try {\n",
              "        const charts = await google.colab.kernel.invokeFunction(\n",
              "            'suggestCharts', [key], {});\n",
              "      } catch (error) {\n",
              "        console.error('Error during call to suggestCharts:', error);\n",
              "      }\n",
              "      quickchartButtonEl.classList.remove('colab-df-spinner');\n",
              "      quickchartButtonEl.classList.add('colab-df-quickchart-complete');\n",
              "    }\n",
              "    (() => {\n",
              "      let quickchartButtonEl =\n",
              "        document.querySelector('#df-0877e30c-552f-409d-9619-df1c01813880 button');\n",
              "      quickchartButtonEl.style.display =\n",
              "        google.colab.kernel.accessAllowed ? 'block' : 'none';\n",
              "    })();\n",
              "  </script>\n",
              "</div>\n",
              "\n",
              "    </div>\n",
              "  </div>\n"
            ],
            "application/vnd.google.colaboratory.intrinsic+json": {
              "type": "dataframe",
              "variable_name": "df",
              "summary": "{\n  \"name\": \"df\",\n  \"rows\": 1242,\n  \"fields\": [\n    {\n      \"column\": \"Unnamed: 0\",\n      \"properties\": {\n        \"dtype\": \"number\",\n        \"std\": 358,\n        \"min\": 0,\n        \"max\": 1241,\n        \"num_unique_values\": 1242,\n        \"samples\": [\n          900,\n          1003,\n          671\n        ],\n        \"semantic_type\": \"\",\n        \"description\": \"\"\n      }\n    },\n    {\n      \"column\": \"Url\",\n      \"properties\": {\n        \"dtype\": \"string\",\n        \"num_unique_values\": 1234,\n        \"samples\": [\n          \"https://www.gofundme.com/romanian-orthodox-church\",\n          \"https://www.gofundme.com/sa6xr7-national-american-miss-pageant\",\n          \"https://www.gofundme.com/sendStuyPulsetoChamps\"\n        ],\n        \"semantic_type\": \"\",\n        \"description\": \"\"\n      }\n    },\n    {\n      \"column\": \"Category\",\n      \"properties\": {\n        \"dtype\": \"category\",\n        \"num_unique_values\": 21,\n        \"samples\": [\n          \"Medical\",\n          \"Sports\",\n          \"Family\"\n        ],\n        \"semantic_type\": \"\",\n        \"description\": \"\"\n      }\n    },\n    {\n      \"column\": \"Position\",\n      \"properties\": {\n        \"dtype\": \"category\",\n        \"num_unique_values\": 25,\n        \"samples\": [\n          \"8\",\n          \"16\",\n          \"0\"\n        ],\n        \"semantic_type\": \"\",\n        \"description\": \"\"\n      }\n    },\n    {\n      \"column\": \"Title\",\n      \"properties\": {\n        \"dtype\": \"string\",\n        \"num_unique_values\": 1232,\n        \"samples\": [\n          \"Competition Civics Nationals 2018\",\n          \"Sampson's Summer of  Shakespeare\",\n          \"Supporting Sean & Those with Autism\"\n        ],\n        \"semantic_type\": \"\",\n        \"description\": \"\"\n      }\n    },\n    {\n      \"column\": \"Location\",\n      \"properties\": {\n        \"dtype\": \"string\",\n        \"num_unique_values\": 754,\n        \"samples\": [\n          \"WINTER PARK, FL\",\n          \"PERRIS, CA\",\n          \"BOISE, ID\"\n        ],\n        \"semantic_type\": \"\",\n        \"description\": \"\"\n      }\n    },\n    {\n      \"column\": \"Amount_Raised\",\n      \"properties\": {\n        \"dtype\": \"number\",\n        \"std\": 134754.9774132035,\n        \"min\": 688.0,\n        \"max\": 3584330.0,\n        \"num_unique_values\": 1182,\n        \"samples\": [\n          62450.0,\n          8815.0,\n          3700.0\n        ],\n        \"semantic_type\": \"\",\n        \"description\": \"\"\n      }\n    },\n    {\n      \"column\": \"Goal\",\n      \"properties\": {\n        \"dtype\": \"number\",\n        \"std\": 219059.6771062696,\n        \"min\": 1.0,\n        \"max\": 3800000.0,\n        \"num_unique_values\": 154,\n        \"samples\": [\n          650000.0,\n          6250.0,\n          18590.0\n        ],\n        \"semantic_type\": \"\",\n        \"description\": \"\"\n      }\n    },\n    {\n      \"column\": \"Number_of_Donators\",\n      \"properties\": {\n        \"dtype\": \"category\",\n        \"num_unique_values\": 607,\n        \"samples\": [\n          \"259\",\n          \"2,858\",\n          \"3,482\"\n        ],\n        \"semantic_type\": \"\",\n        \"description\": \"\"\n      }\n    },\n    {\n      \"column\": \"Length_of_Fundraising\",\n      \"properties\": {\n        \"dtype\": \"category\",\n        \"num_unique_values\": 29,\n        \"samples\": [\n          \"7 days\",\n          \"21 days\",\n          \"20 days\"\n        ],\n        \"semantic_type\": \"\",\n        \"description\": \"\"\n      }\n    },\n    {\n      \"column\": \"FB_Shares\",\n      \"properties\": {\n        \"dtype\": \"number\",\n        \"std\": 5254.852030991441,\n        \"min\": 2.0,\n        \"max\": 117000.0,\n        \"num_unique_values\": 582,\n        \"samples\": [\n          146.0,\n          351.0,\n          5300.0\n        ],\n        \"semantic_type\": \"\",\n        \"description\": \"\"\n      }\n    },\n    {\n      \"column\": \"GFM_hearts\",\n      \"properties\": {\n        \"dtype\": \"number\",\n        \"std\": 2019.132141945631,\n        \"min\": 1.0,\n        \"max\": 44000.0,\n        \"num_unique_values\": 499,\n        \"samples\": [\n          25.0,\n          318.0,\n          437.0\n        ],\n        \"semantic_type\": \"\",\n        \"description\": \"\"\n      }\n    },\n    {\n      \"column\": \"Text\",\n      \"properties\": {\n        \"dtype\": \"string\",\n        \"num_unique_values\": 1230,\n        \"samples\": [\n          \"Erica Dorenkamp needs your help today! Send Watertown DI to Global Finals - We are a group of high school freshmen who are part of Watertown DI. Watertown DI is a chapter of the organization Destination Imagination (DI) and have earned the opportunity to compete in the global finals in Knoxville, Tennessee.  Destination Imagination is an organization that teaches kids th...\",\n          \"Milton Academy needs your help today! Milton Academy - Dear MA Lower School Families,  We are starting to plan the Faculty Appreciation Event for the Lower School. We are excited to continue this joyous annual tradition on behalf of the Lower School Parent Association, to honor our wonderful teachers, administrators and staff members.  Money donated...\",\n          \"Corrinne Mestayer needs your help today! Supporting Sean & Those with Autism - On Sunday, July 1st, 2018, our beautiful son and brother, Sean Franklin Salvo, unexpectedly left this world. Words cannot express our grief and deep sense of loss. As we struggle to imagine our lives without Sean, we find ourselves thinking deeply about the unique joys and challenges of living wi...\"\n        ],\n        \"semantic_type\": \"\",\n        \"description\": \"\"\n      }\n    },\n    {\n      \"column\": \"Latitude\",\n      \"properties\": {\n        \"dtype\": \"number\",\n        \"std\": 5.255682652909988,\n        \"min\": 17.7466397,\n        \"max\": 61.5813889,\n        \"num_unique_values\": 746,\n        \"samples\": [\n          42.3709299,\n          33.7825194,\n          34.0028786\n        ],\n        \"semantic_type\": \"\",\n        \"description\": \"\"\n      }\n    },\n    {\n      \"column\": \"Longitude\",\n      \"properties\": {\n        \"dtype\": \"number\",\n        \"std\": 19.442148343728665,\n        \"min\": -159.4977455,\n        \"max\": -64.7031977,\n        \"num_unique_values\": 745,\n        \"samples\": [\n          -71.1828321,\n          -117.2286478,\n          -84.1446376\n        ],\n        \"semantic_type\": \"\",\n        \"description\": \"\"\n      }\n    }\n  ]\n}"
            }
          },
          "metadata": {},
          "execution_count": 304
        }
      ]
    },
    {
      "cell_type": "code",
      "source": [
        "df = df[~df['Category'].isin(['11525.0', '-75.3199035', '-73.9495823'])]"
      ],
      "metadata": {
        "id": "boBxUhLFC843"
      },
      "execution_count": null,
      "outputs": []
    },
    {
      "cell_type": "code",
      "source": [
        "goal_means = df.groupby('Category')['Goal'].mean()\n",
        "goal_means.plot(kind = 'barh', title = 'Average Fundraising Goal by GoFundMe Category', xlabel='Average Fundraising Goal ($)', ylabel='Category')"
      ],
      "metadata": {
        "id": "L5dHNUCpOweo",
        "outputId": "057bf8bd-50b2-4e77-ddc4-2000a4e94a34",
        "colab": {
          "base_uri": "https://localhost:8080/",
          "height": 507
        }
      },
      "execution_count": null,
      "outputs": [
        {
          "output_type": "execute_result",
          "data": {
            "text/plain": [
              "<Axes: title={'center': 'Average Fundraising Goal by GoFundMe Category'}, xlabel='Average Fundraising Goal ($)', ylabel='Category'>"
            ]
          },
          "metadata": {},
          "execution_count": 306
        },
        {
          "output_type": "display_data",
          "data": {
            "text/plain": [
              "<Figure size 640x480 with 1 Axes>"
            ],
            "image/png": "[encoded data removed]"
          },
          "metadata": {}
        }
      ]
    },
    {
      "cell_type": "markdown",
      "source": [
        "3. Visually, there are similarities between the distribution of the average amount of money raised by category and the average fundraising goal by GoFundMe Category. We see that categories with higher average goals have higher amounts of money raised, and the same goes for categories with lower goals, so they raise less money. For example, the \"Medical\" category has the highest average fundraising goal at around $200,000 and the highest amount of money raised. The \"Competition\" category has a low goal and a low amount of money raised."
      ],
      "metadata": {
        "id": "RCwLU-q8DC_k"
      }
    },
    {
      "cell_type": "markdown",
      "source": [
        "# Looking for outliers in shares and hearts\n",
        "\n",
        "\n",
        "\n",
        "1.   `Select 3 catgories and create a boxplot of the FB shares and GFM hearts`\n",
        "2.   `Plot the outliers in the boxplot`\n",
        "1.   `Calculate the mean, median, mode, std deviation, and variance for the 3 categories' FB shares and GFM hearts`\n",
        "3.   Summarize these results. What conclusions can you come to about these results?\n",
        "\n"
      ],
      "metadata": {
        "id": "Sh4MExqcuyoo"
      }
    },
    {
      "cell_type": "markdown",
      "source": [
        "1. Select categories and create visualizations.\n",
        "2. Plot outliers within the boxplot."
      ],
      "metadata": {
        "id": "VrjvizXoC7a9"
      }
    },
    {
      "cell_type": "code",
      "source": [
        "df_small = df[df['Category'].isin(['Medical', 'Family', 'Education'])]"
      ],
      "metadata": {
        "id": "O2phWHH2uyWL"
      },
      "execution_count": null,
      "outputs": []
    },
    {
      "cell_type": "code",
      "source": [
        "fig = px.box(df_small, x = \"Category\", y = \"FB_Shares\", title = \"Distribution of FaceBook Shares for GoFundMe Posts by Category\")\n",
        "fig.update_xaxes(title_text=\"Category\")\n",
        "fig.update_yaxes(title_text=\"Number of Facebook Shares\")\n",
        "fig.show()"
      ],
      "metadata": {
        "id": "1zF6DECradXC",
        "outputId": "d01fb078-c906-4ee7-f978-d1cd4fd75754",
        "colab": {
          "base_uri": "https://localhost:8080/",
          "height": 542
        }
      },
      "execution_count": null,
      "outputs": [
        {
          "output_type": "display_data",
          "data": {
            "text/html": [
              "<html>\n",
              "<head><meta charset=\"utf-8\" /></head>\n",
              "<body>\n",
              "    <div>            <script src=\"https://cdnjs.cloudflare.com/ajax/libs/mathjax/2.7.5/MathJax.js?config=TeX-AMS-MML_SVG\"></script><script type=\"text/javascript\">if (window.MathJax && window.MathJax.Hub && window.MathJax.Hub.Config) {window.MathJax.Hub.Config({SVG: {font: \"STIX-Web\"}});}</script>                <script type=\"text/javascript\">window.PlotlyConfig = {MathJaxConfig: 'local'};</script>\n",
              "        <script charset=\"utf-8\" src=\"https://cdn.plot.ly/plotly-2.35.2.min.js\"></script>                <div id=\"0921e973-3c34-4dd6-ad5c-2dc1fcdcd78c\" class=\"plotly-graph-div\" style=\"height:525px; width:100%;\"></div>            <script type=\"text/javascript\">                                    window.PLOTLYENV=window.PLOTLYENV || {};                                    if (document.getElementById(\"0921e973-3c34-4dd6-ad5c-2dc1fcdcd78c\")) {                    Plotly.newPlot(                        \"0921e973-3c34-4dd6-ad5c-2dc1fcdcd78c\",                        [{\"alignmentgroup\":\"True\",\"hovertemplate\":\"Category=%{x}\\u003cbr\\u003eFB_Shares=%{y}\\u003cextra\\u003e\\u003c\\u002fextra\\u003e\",\"legendgroup\":\"\",\"marker\":{\"color\":\"#636efa\"},\"name\":\"\",\"notched\":false,\"offsetgroup\":\"\",\"orientation\":\"v\",\"showlegend\":false,\"x\":[\"Medical\",\"Medical\",\"Medical\",\"Medical\",\"Medical\",\"Medical\",\"Medical\",\"Medical\",\"Medical\",\"Medical\",\"Medical\",\"Medical\",\"Medical\",\"Medical\",\"Medical\",\"Medical\",\"Medical\",\"Medical\",\"Medical\",\"Medical\",\"Medical\",\"Medical\",\"Medical\",\"Medical\",\"Medical\",\"Medical\",\"Medical\",\"Medical\",\"Medical\",\"Medical\",\"Medical\",\"Medical\",\"Medical\",\"Medical\",\"Medical\",\"Medical\",\"Medical\",\"Medical\",\"Medical\",\"Medical\",\"Medical\",\"Medical\",\"Medical\",\"Medical\",\"Medical\",\"Medical\",\"Medical\",\"Medical\",\"Medical\",\"Medical\",\"Medical\",\"Medical\",\"Medical\",\"Medical\",\"Medical\",\"Medical\",\"Medical\",\"Medical\",\"Medical\",\"Medical\",\"Medical\",\"Medical\",\"Medical\",\"Medical\",\"Medical\",\"Medical\",\"Medical\",\"Medical\",\"Medical\",\"Medical\",\"Medical\",\"Medical\",\"Medical\",\"Medical\",\"Medical\",\"Medical\",\"Education\",\"Education\",\"Education\",\"Education\",\"Education\",\"Education\",\"Education\",\"Education\",\"Education\",\"Education\",\"Education\",\"Education\",\"Education\",\"Education\",\"Education\",\"Education\",\"Education\",\"Education\",\"Education\",\"Education\",\"Education\",\"Education\",\"Education\",\"Education\",\"Education\",\"Education\",\"Education\",\"Education\",\"Education\",\"Education\",\"Education\",\"Education\",\"Education\",\"Education\",\"Education\",\"Education\",\"Education\",\"Education\",\"Education\",\"Education\",\"Education\",\"Education\",\"Education\",\"Education\",\"Education\",\"Education\",\"Education\",\"Education\",\"Education\",\"Education\",\"Education\",\"Education\",\"Education\",\"Education\",\"Education\",\"Education\",\"Education\",\"Education\",\"Education\",\"Education\",\"Education\",\"Education\",\"Education\",\"Education\",\"Education\",\"Education\",\"Education\",\"Education\",\"Education\",\"Education\",\"Education\",\"Education\",\"Family\",\"Family\",\"Family\",\"Family\",\"Family\",\"Family\",\"Family\",\"Family\",\"Family\",\"Family\",\"Family\",\"Family\",\"Family\",\"Family\",\"Family\",\"Family\",\"Family\",\"Family\",\"Family\",\"Family\",\"Family\",\"Family\",\"Family\",\"Family\",\"Family\",\"Family\",\"Family\",\"Family\",\"Family\",\"Family\",\"Family\",\"Family\",\"Family\",\"Family\",\"Family\",\"Family\",\"Family\",\"Family\",\"Family\",\"Family\",\"Family\",\"Family\",\"Family\",\"Family\",\"Family\",\"Family\",\"Family\",\"Family\",\"Family\",\"Family\",\"Family\",\"Family\",\"Family\",\"Family\",\"Family\",\"Family\",\"Family\",\"Family\",\"Family\",\"Family\",\"Family\",\"Family\",\"Family\",\"Family\",\"Family\",\"Family\",\"Family\",\"Family\",\"Family\",\"Family\",\"Family\",\"Family\"],\"x0\":\" \",\"xaxis\":\"x\",\"y\":[26000.0,12000.0,1800.0,9700.0,6400.0,3700.0,10000.0,2800.0,3300.0,6000.0,3200.0,1300.0,2500.0,5600.0,606.0,12000.0,2400.0,2100.0,1600.0,8600.0,1000.0,1800.0,9900.0,1600.0,9100.0,1600.0,1600.0,2600.0,8500.0,3800.0,845.0,2000.0,7400.0,913.0,246.0,11000.0,2300.0,3100.0,2300.0,365.0,8700.0,1700.0,764.0,921.0,904.0,5100.0,9400.0,1300.0,11000.0,828.0,723.0,12000.0,9100.0,3000.0,3100.0,2400.0,2500.0,1000.0,681.0,147.0,1800.0,1700.0,1100.0,1600.0,170.0,2600.0,1300.0,1500.0,2000.0,689.0,9200.0,330.0,1300.0,2300.0,1300.0,8700.0,683.0,74.0,435.0,4600.0,5200.0,354.0,747.0,298.0,2100.0,2400.0,501.0,3700.0,92.0,3500.0,669.0,342.0,85.0,1800.0,878.0,604.0,844.0,608.0,3.0,319.0,291.0,577.0,678.0,375.0,489.0,295.0,394.0,796.0,3500.0,798.0,552.0,489.0,74.0,38.0,282.0,315.0,1000.0,1200.0,59.0,269.0,100.0,96.0,3500.0,213.0,224.0,1200.0,832.0,2.0,657.0,2500.0,1600.0,198.0,515.0,688.0,469.0,493.0,295.0,85.0,682.0,321.0,342.0,51.0,96.0,404.0,100.0,120.0,450.0,357.0,8800.0,5500.0,1100.0,10000.0,3400.0,38000.0,1400.0,3700.0,5900.0,66.0,6000.0,5900.0,7600.0,1400.0,2000.0,2400.0,1700.0,1400.0,2200.0,1200.0,336.0,423.0,103.0,982.0,1100.0,4400.0,1100.0,2400.0,238.0,5900.0,975.0,6400.0,1400.0,2700.0,530.0,3200.0,1600.0,1900.0,545.0,2400.0,1100.0,3900.0,677.0,601.0,1600.0,1300.0,577.0,1700.0,1700.0,436.0,1100.0,137.0,1000.0,402.0,2300.0,2500.0,631.0,2900.0,196.0,2600.0,1200.0,3700.0,6.0,85.0,934.0,2600.0,1800.0,1500.0,586.0,382.0,189.0,1600.0],\"y0\":\" \",\"yaxis\":\"y\",\"type\":\"box\"}],                        {\"template\":{\"data\":{\"histogram2dcontour\":[{\"type\":\"histogram2dcontour\",\"colorbar\":{\"outlinewidth\":0,\"ticks\":\"\"},\"colorscale\":[[0.0,\"#0d0887\"],[0.1111111111111111,\"#46039f\"],[0.2222222222222222,\"#7201a8\"],[0.3333333333333333,\"#9c179e\"],[0.4444444444444444,\"#bd3786\"],[0.5555555555555556,\"#d8576b\"],[0.6666666666666666,\"#ed7953\"],[0.7777777777777778,\"#fb9f3a\"],[0.8888888888888888,\"#fdca26\"],[1.0,\"#f0f921\"]]}],\"choropleth\":[{\"type\":\"choropleth\",\"colorbar\":{\"outlinewidth\":0,\"ticks\":\"\"}}],\"histogram2d\":[{\"type\":\"histogram2d\",\"colorbar\":{\"outlinewidth\":0,\"ticks\":\"\"},\"colorscale\":[[0.0,\"#0d0887\"],[0.1111111111111111,\"#46039f\"],[0.2222222222222222,\"#7201a8\"],[0.3333333333333333,\"#9c179e\"],[0.4444444444444444,\"#bd3786\"],[0.5555555555555556,\"#d8576b\"],[0.6666666666666666,\"#ed7953\"],[0.7777777777777778,\"#fb9f3a\"],[0.8888888888888888,\"#fdca26\"],[1.0,\"#f0f921\"]]}],\"heatmap\":[{\"type\":\"heatmap\",\"colorbar\":{\"outlinewidth\":0,\"ticks\":\"\"},\"colorscale\":[[0.0,\"#0d0887\"],[0.1111111111111111,\"#46039f\"],[0.2222222222222222,\"#7201a8\"],[0.3333333333333333,\"#9c179e\"],[0.4444444444444444,\"#bd3786\"],[0.5555555555555556,\"#d8576b\"],[0.6666666666666666,\"#ed7953\"],[0.7777777777777778,\"#fb9f3a\"],[0.8888888888888888,\"#fdca26\"],[1.0,\"#f0f921\"]]}],\"heatmapgl\":[{\"type\":\"heatmapgl\",\"colorbar\":{\"outlinewidth\":0,\"ticks\":\"\"},\"colorscale\":[[0.0,\"#0d0887\"],[0.1111111111111111,\"#46039f\"],[0.2222222222222222,\"#7201a8\"],[0.3333333333333333,\"#9c179e\"],[0.4444444444444444,\"#bd3786\"],[0.5555555555555556,\"#d8576b\"],[0.6666666666666666,\"#ed7953\"],[0.7777777777777778,\"#fb9f3a\"],[0.8888888888888888,\"#fdca26\"],[1.0,\"#f0f921\"]]}],\"contourcarpet\":[{\"type\":\"contourcarpet\",\"colorbar\":{\"outlinewidth\":0,\"ticks\":\"\"}}],\"contour\":[{\"type\":\"contour\",\"colorbar\":{\"outlinewidth\":0,\"ticks\":\"\"},\"colorscale\":[[0.0,\"#0d0887\"],[0.1111111111111111,\"#46039f\"],[0.2222222222222222,\"#7201a8\"],[0.3333333333333333,\"#9c179e\"],[0.4444444444444444,\"#bd3786\"],[0.5555555555555556,\"#d8576b\"],[0.6666666666666666,\"#ed7953\"],[0.7777777777777778,\"#fb9f3a\"],[0.8888888888888888,\"#fdca26\"],[1.0,\"#f0f921\"]]}],\"surface\":[{\"type\":\"surface\",\"colorbar\":{\"outlinewidth\":0,\"ticks\":\"\"},\"colorscale\":[[0.0,\"#0d0887\"],[0.1111111111111111,\"#46039f\"],[0.2222222222222222,\"#7201a8\"],[0.3333333333333333,\"#9c179e\"],[0.4444444444444444,\"#bd3786\"],[0.5555555555555556,\"#d8576b\"],[0.6666666666666666,\"#ed7953\"],[0.7777777777777778,\"#fb9f3a\"],[0.8888888888888888,\"#fdca26\"],[1.0,\"#f0f921\"]]}],\"mesh3d\":[{\"type\":\"mesh3d\",\"colorbar\":{\"outlinewidth\":0,\"ticks\":\"\"}}],\"scatter\":[{\"fillpattern\":{\"fillmode\":\"overlay\",\"size\":10,\"solidity\":0.2},\"type\":\"scatter\"}],\"parcoords\":[{\"type\":\"parcoords\",\"line\":{\"colorbar\":{\"outlinewidth\":0,\"ticks\":\"\"}}}],\"scatterpolargl\":[{\"type\":\"scatterpolargl\",\"marker\":{\"colorbar\":{\"outlinewidth\":0,\"ticks\":\"\"}}}],\"bar\":[{\"error_x\":{\"color\":\"#2a3f5f\"},\"error_y\":{\"color\":\"#2a3f5f\"},\"marker\":{\"line\":{\"color\":\"#E5ECF6\",\"width\":0.5},\"pattern\":{\"fillmode\":\"overlay\",\"size\":10,\"solidity\":0.2}},\"type\":\"bar\"}],\"scattergeo\":[{\"type\":\"scattergeo\",\"marker\":{\"colorbar\":{\"outlinewidth\":0,\"ticks\":\"\"}}}],\"scatterpolar\":[{\"type\":\"scatterpolar\",\"marker\":{\"colorbar\":{\"outlinewidth\":0,\"ticks\":\"\"}}}],\"histogram\":[{\"marker\":{\"pattern\":{\"fillmode\":\"overlay\",\"size\":10,\"solidity\":0.2}},\"type\":\"histogram\"}],\"scattergl\":[{\"type\":\"scattergl\",\"marker\":{\"colorbar\":{\"outlinewidth\":0,\"ticks\":\"\"}}}],\"scatter3d\":[{\"type\":\"scatter3d\",\"line\":{\"colorbar\":{\"outlinewidth\":0,\"ticks\":\"\"}},\"marker\":{\"colorbar\":{\"outlinewidth\":0,\"ticks\":\"\"}}}],\"scattermapbox\":[{\"type\":\"scattermapbox\",\"marker\":{\"colorbar\":{\"outlinewidth\":0,\"ticks\":\"\"}}}],\"scatterternary\":[{\"type\":\"scatterternary\",\"marker\":{\"colorbar\":{\"outlinewidth\":0,\"ticks\":\"\"}}}],\"scattercarpet\":[{\"type\":\"scattercarpet\",\"marker\":{\"colorbar\":{\"outlinewidth\":0,\"ticks\":\"\"}}}],\"carpet\":[{\"aaxis\":{\"endlinecolor\":\"#2a3f5f\",\"gridcolor\":\"white\",\"linecolor\":\"white\",\"minorgridcolor\":\"white\",\"startlinecolor\":\"#2a3f5f\"},\"baxis\":{\"endlinecolor\":\"#2a3f5f\",\"gridcolor\":\"white\",\"linecolor\":\"white\",\"minorgridcolor\":\"white\",\"startlinecolor\":\"#2a3f5f\"},\"type\":\"carpet\"}],\"table\":[{\"cells\":{\"fill\":{\"color\":\"#EBF0F8\"},\"line\":{\"color\":\"white\"}},\"header\":{\"fill\":{\"color\":\"#C8D4E3\"},\"line\":{\"color\":\"white\"}},\"type\":\"table\"}],\"barpolar\":[{\"marker\":{\"line\":{\"color\":\"#E5ECF6\",\"width\":0.5},\"pattern\":{\"fillmode\":\"overlay\",\"size\":10,\"solidity\":0.2}},\"type\":\"barpolar\"}],\"pie\":[{\"automargin\":true,\"type\":\"pie\"}]},\"layout\":{\"autotypenumbers\":\"strict\",\"colorway\":[\"#636efa\",\"#EF553B\",\"#00cc96\",\"#ab63fa\",\"#FFA15A\",\"#19d3f3\",\"#FF6692\",\"#B6E880\",\"#FF97FF\",\"#FECB52\"],\"font\":{\"color\":\"#2a3f5f\"},\"hovermode\":\"closest\",\"hoverlabel\":{\"align\":\"left\"},\"paper_bgcolor\":\"white\",\"plot_bgcolor\":\"#E5ECF6\",\"polar\":{\"bgcolor\":\"#E5ECF6\",\"angularaxis\":{\"gridcolor\":\"white\",\"linecolor\":\"white\",\"ticks\":\"\"},\"radialaxis\":{\"gridcolor\":\"white\",\"linecolor\":\"white\",\"ticks\":\"\"}},\"ternary\":{\"bgcolor\":\"#E5ECF6\",\"aaxis\":{\"gridcolor\":\"white\",\"linecolor\":\"white\",\"ticks\":\"\"},\"baxis\":{\"gridcolor\":\"white\",\"linecolor\":\"white\",\"ticks\":\"\"},\"caxis\":{\"gridcolor\":\"white\",\"linecolor\":\"white\",\"ticks\":\"\"}},\"coloraxis\":{\"colorbar\":{\"outlinewidth\":0,\"ticks\":\"\"}},\"colorscale\":{\"sequential\":[[0.0,\"#0d0887\"],[0.1111111111111111,\"#46039f\"],[0.2222222222222222,\"#7201a8\"],[0.3333333333333333,\"#9c179e\"],[0.4444444444444444,\"#bd3786\"],[0.5555555555555556,\"#d8576b\"],[0.6666666666666666,\"#ed7953\"],[0.7777777777777778,\"#fb9f3a\"],[0.8888888888888888,\"#fdca26\"],[1.0,\"#f0f921\"]],\"sequentialminus\":[[0.0,\"#0d0887\"],[0.1111111111111111,\"#46039f\"],[0.2222222222222222,\"#7201a8\"],[0.3333333333333333,\"#9c179e\"],[0.4444444444444444,\"#bd3786\"],[0.5555555555555556,\"#d8576b\"],[0.6666666666666666,\"#ed7953\"],[0.7777777777777778,\"#fb9f3a\"],[0.8888888888888888,\"#fdca26\"],[1.0,\"#f0f921\"]],\"diverging\":[[0,\"#8e0152\"],[0.1,\"#c51b7d\"],[0.2,\"#de77ae\"],[0.3,\"#f1b6da\"],[0.4,\"#fde0ef\"],[0.5,\"#f7f7f7\"],[0.6,\"#e6f5d0\"],[0.7,\"#b8e186\"],[0.8,\"#7fbc41\"],[0.9,\"#4d9221\"],[1,\"#276419\"]]},\"xaxis\":{\"gridcolor\":\"white\",\"linecolor\":\"white\",\"ticks\":\"\",\"title\":{\"standoff\":15},\"zerolinecolor\":\"white\",\"automargin\":true,\"zerolinewidth\":2},\"yaxis\":{\"gridcolor\":\"white\",\"linecolor\":\"white\",\"ticks\":\"\",\"title\":{\"standoff\":15},\"zerolinecolor\":\"white\",\"automargin\":true,\"zerolinewidth\":2},\"scene\":{\"xaxis\":{\"backgroundcolor\":\"#E5ECF6\",\"gridcolor\":\"white\",\"linecolor\":\"white\",\"showbackground\":true,\"ticks\":\"\",\"zerolinecolor\":\"white\",\"gridwidth\":2},\"yaxis\":{\"backgroundcolor\":\"#E5ECF6\",\"gridcolor\":\"white\",\"linecolor\":\"white\",\"showbackground\":true,\"ticks\":\"\",\"zerolinecolor\":\"white\",\"gridwidth\":2},\"zaxis\":{\"backgroundcolor\":\"#E5ECF6\",\"gridcolor\":\"white\",\"linecolor\":\"white\",\"showbackground\":true,\"ticks\":\"\",\"zerolinecolor\":\"white\",\"gridwidth\":2}},\"shapedefaults\":{\"line\":{\"color\":\"#2a3f5f\"}},\"annotationdefaults\":{\"arrowcolor\":\"#2a3f5f\",\"arrowhead\":0,\"arrowwidth\":1},\"geo\":{\"bgcolor\":\"white\",\"landcolor\":\"#E5ECF6\",\"subunitcolor\":\"white\",\"showland\":true,\"showlakes\":true,\"lakecolor\":\"white\"},\"title\":{\"x\":0.05},\"mapbox\":{\"style\":\"light\"}}},\"xaxis\":{\"anchor\":\"y\",\"domain\":[0.0,1.0],\"title\":{\"text\":\"Category\"}},\"yaxis\":{\"anchor\":\"x\",\"domain\":[0.0,1.0],\"title\":{\"text\":\"Number of Facebook Shares\"}},\"legend\":{\"tracegroupgap\":0},\"title\":{\"text\":\"Distribution of FaceBook Shares for GoFundMe Posts by Category\"},\"boxmode\":\"group\"},                        {\"responsive\": true}                    ).then(function(){\n",
              "                            \n",
              "var gd = document.getElementById('0921e973-3c34-4dd6-ad5c-2dc1fcdcd78c');\n",
              "var x = new MutationObserver(function (mutations, observer) {{\n",
              "        var display = window.getComputedStyle(gd).display;\n",
              "        if (!display || display === 'none') {{\n",
              "            console.log([gd, 'removed!']);\n",
              "            Plotly.purge(gd);\n",
              "            observer.disconnect();\n",
              "        }}\n",
              "}});\n",
              "\n",
              "// Listen for the removal of the full notebook cells\n",
              "var notebookContainer = gd.closest('#notebook-container');\n",
              "if (notebookContainer) {{\n",
              "    x.observe(notebookContainer, {childList: true});\n",
              "}}\n",
              "\n",
              "// Listen for the clearing of the current output cell\n",
              "var outputEl = gd.closest('.output');\n",
              "if (outputEl) {{\n",
              "    x.observe(outputEl, {childList: true});\n",
              "}}\n",
              "\n",
              "                        })                };                            </script>        </div>\n",
              "</body>\n",
              "</html>"
            ]
          },
          "metadata": {}
        }
      ]
    },
    {
      "cell_type": "markdown",
      "source": [
        "There seem to be outliers in the education category for GoFundMe posts. It seems, on average, that most education GoFundMe posts do not have a lot of FB shares. But, there are a few times wehre education GoFundMes have been shared significantly more than the average."
      ],
      "metadata": {
        "id": "AVjkY8dvvbcI"
      }
    },
    {
      "cell_type": "code",
      "source": [
        "fig = px.box(df_small, x = \"Category\", y = \"GFM_hearts\", title = \"Distribution of GoFundMe Hearts by Category\")\n",
        "fig.update_xaxes(title_text=\"Category\")\n",
        "fig.update_yaxes(title_text=\"Number of GFM Hearts\")\n",
        "fig.show()"
      ],
      "metadata": {
        "colab": {
          "base_uri": "https://localhost:8080/",
          "height": 542
        },
        "id": "zIocyYEDA75G",
        "outputId": "cf1c4e4a-3e23-4acc-9b42-15144e119d14"
      },
      "execution_count": null,
      "outputs": [
        {
          "output_type": "display_data",
          "data": {
            "text/html": [
              "<html>\n",
              "<head><meta charset=\"utf-8\" /></head>\n",
              "<body>\n",
              "    <div>            <script src=\"https://cdnjs.cloudflare.com/ajax/libs/mathjax/2.7.5/MathJax.js?config=TeX-AMS-MML_SVG\"></script><script type=\"text/javascript\">if (window.MathJax && window.MathJax.Hub && window.MathJax.Hub.Config) {window.MathJax.Hub.Config({SVG: {font: \"STIX-Web\"}});}</script>                <script type=\"text/javascript\">window.PlotlyConfig = {MathJaxConfig: 'local'};</script>\n",
              "        <script charset=\"utf-8\" src=\"https://cdn.plot.ly/plotly-2.35.2.min.js\"></script>                <div id=\"be44e72a-397a-46a6-b97a-379fdba57c14\" class=\"plotly-graph-div\" style=\"height:525px; width:100%;\"></div>            <script type=\"text/javascript\">                                    window.PLOTLYENV=window.PLOTLYENV || {};                                    if (document.getElementById(\"be44e72a-397a-46a6-b97a-379fdba57c14\")) {                    Plotly.newPlot(                        \"be44e72a-397a-46a6-b97a-379fdba57c14\",                        [{\"alignmentgroup\":\"True\",\"hovertemplate\":\"Category=%{x}\\u003cbr\\u003eGFM_hearts=%{y}\\u003cextra\\u003e\\u003c\\u002fextra\\u003e\",\"legendgroup\":\"\",\"marker\":{\"color\":\"#636efa\"},\"name\":\"\",\"notched\":false,\"offsetgroup\":\"\",\"orientation\":\"v\",\"showlegend\":false,\"x\":[\"Medical\",\"Medical\",\"Medical\",\"Medical\",\"Medical\",\"Medical\",\"Medical\",\"Medical\",\"Medical\",\"Medical\",\"Medical\",\"Medical\",\"Medical\",\"Medical\",\"Medical\",\"Medical\",\"Medical\",\"Medical\",\"Medical\",\"Medical\",\"Medical\",\"Medical\",\"Medical\",\"Medical\",\"Medical\",\"Medical\",\"Medical\",\"Medical\",\"Medical\",\"Medical\",\"Medical\",\"Medical\",\"Medical\",\"Medical\",\"Medical\",\"Medical\",\"Medical\",\"Medical\",\"Medical\",\"Medical\",\"Medical\",\"Medical\",\"Medical\",\"Medical\",\"Medical\",\"Medical\",\"Medical\",\"Medical\",\"Medical\",\"Medical\",\"Medical\",\"Medical\",\"Medical\",\"Medical\",\"Medical\",\"Medical\",\"Medical\",\"Medical\",\"Medical\",\"Medical\",\"Medical\",\"Medical\",\"Medical\",\"Medical\",\"Medical\",\"Medical\",\"Medical\",\"Medical\",\"Medical\",\"Medical\",\"Medical\",\"Medical\",\"Medical\",\"Medical\",\"Medical\",\"Medical\",\"Education\",\"Education\",\"Education\",\"Education\",\"Education\",\"Education\",\"Education\",\"Education\",\"Education\",\"Education\",\"Education\",\"Education\",\"Education\",\"Education\",\"Education\",\"Education\",\"Education\",\"Education\",\"Education\",\"Education\",\"Education\",\"Education\",\"Education\",\"Education\",\"Education\",\"Education\",\"Education\",\"Education\",\"Education\",\"Education\",\"Education\",\"Education\",\"Education\",\"Education\",\"Education\",\"Education\",\"Education\",\"Education\",\"Education\",\"Education\",\"Education\",\"Education\",\"Education\",\"Education\",\"Education\",\"Education\",\"Education\",\"Education\",\"Education\",\"Education\",\"Education\",\"Education\",\"Education\",\"Education\",\"Education\",\"Education\",\"Education\",\"Education\",\"Education\",\"Education\",\"Education\",\"Education\",\"Education\",\"Education\",\"Education\",\"Education\",\"Education\",\"Education\",\"Education\",\"Education\",\"Education\",\"Education\",\"Family\",\"Family\",\"Family\",\"Family\",\"Family\",\"Family\",\"Family\",\"Family\",\"Family\",\"Family\",\"Family\",\"Family\",\"Family\",\"Family\",\"Family\",\"Family\",\"Family\",\"Family\",\"Family\",\"Family\",\"Family\",\"Family\",\"Family\",\"Family\",\"Family\",\"Family\",\"Family\",\"Family\",\"Family\",\"Family\",\"Family\",\"Family\",\"Family\",\"Family\",\"Family\",\"Family\",\"Family\",\"Family\",\"Family\",\"Family\",\"Family\",\"Family\",\"Family\",\"Family\",\"Family\",\"Family\",\"Family\",\"Family\",\"Family\",\"Family\",\"Family\",\"Family\",\"Family\",\"Family\",\"Family\",\"Family\",\"Family\",\"Family\",\"Family\",\"Family\",\"Family\",\"Family\",\"Family\",\"Family\",\"Family\",\"Family\",\"Family\",\"Family\",\"Family\",\"Family\",\"Family\",\"Family\"],\"x0\":\" \",\"xaxis\":\"x\",\"y\":[12000.0,5700.0,836.0,4700.0,8900.0,2700.0,2700.0,949.0,2000.0,2500.0,932.0,597.0,859.0,1500.0,2700.0,5300.0,1100.0,2800.0,1400.0,1600.0,1100.0,813.0,1900.0,785.0,2200.0,612.0,691.0,2400.0,1200.0,944.0,627.0,3200.0,925.0,648.0,295.0,2500.0,885.0,1100.0,1100.0,364.0,1000.0,770.0,584.0,1500.0,1300.0,2700.0,1700.0,649.0,1900.0,645.0,1000.0,2200.0,1400.0,1100.0,1900.0,954.0,1300.0,549.0,245.0,367.0,608.0,832.0,524.0,707.0,106.0,1100.0,614.0,1100.0,975.0,722.0,1800.0,2400.0,598.0,886.0,599.0,1000.0,151.0,71.0,602.0,739.0,974.0,370.0,410.0,242.0,657.0,621.0,264.0,3000.0,300.0,1200.0,301.0,275.0,196.0,368.0,1100.0,154.0,426.0,194.0,120.0,172.0,217.0,283.0,226.0,153.0,240.0,733.0,269.0,788.0,601.0,249.0,234.0,187.0,105.0,253.0,156.0,151.0,271.0,434.0,149.0,182.0,185.0,175.0,945.0,154.0,447.0,437.0,241.0,44.0,231.0,286.0,470.0,109.0,88.0,463.0,159.0,155.0,229.0,51.0,478.0,229.0,97.0,81.0,89.0,161.0,111.0,131.0,209.0,38.0,2900.0,5200.0,1600.0,1700.0,1000.0,3500.0,538.0,2100.0,1000.0,198.0,1700.0,984.0,1100.0,658.0,376.0,856.0,3600.0,502.0,505.0,408.0,246.0,365.0,267.0,383.0,2300.0,920.0,305.0,722.0,105.0,1200.0,376.0,851.0,473.0,1000.0,170.0,518.0,406.0,514.0,906.0,476.0,349.0,313.0,322.0,220.0,385.0,731.0,233.0,236.0,419.0,199.0,577.0,80.0,274.0,221.0,270.0,364.0,118.0,383.0,137.0,565.0,392.0,473.0,73.0,80.0,277.0,534.0,354.0,398.0,348.0,271.0,263.0,733.0],\"y0\":\" \",\"yaxis\":\"y\",\"type\":\"box\"}],                        {\"template\":{\"data\":{\"histogram2dcontour\":[{\"type\":\"histogram2dcontour\",\"colorbar\":{\"outlinewidth\":0,\"ticks\":\"\"},\"colorscale\":[[0.0,\"#0d0887\"],[0.1111111111111111,\"#46039f\"],[0.2222222222222222,\"#7201a8\"],[0.3333333333333333,\"#9c179e\"],[0.4444444444444444,\"#bd3786\"],[0.5555555555555556,\"#d8576b\"],[0.6666666666666666,\"#ed7953\"],[0.7777777777777778,\"#fb9f3a\"],[0.8888888888888888,\"#fdca26\"],[1.0,\"#f0f921\"]]}],\"choropleth\":[{\"type\":\"choropleth\",\"colorbar\":{\"outlinewidth\":0,\"ticks\":\"\"}}],\"histogram2d\":[{\"type\":\"histogram2d\",\"colorbar\":{\"outlinewidth\":0,\"ticks\":\"\"},\"colorscale\":[[0.0,\"#0d0887\"],[0.1111111111111111,\"#46039f\"],[0.2222222222222222,\"#7201a8\"],[0.3333333333333333,\"#9c179e\"],[0.4444444444444444,\"#bd3786\"],[0.5555555555555556,\"#d8576b\"],[0.6666666666666666,\"#ed7953\"],[0.7777777777777778,\"#fb9f3a\"],[0.8888888888888888,\"#fdca26\"],[1.0,\"#f0f921\"]]}],\"heatmap\":[{\"type\":\"heatmap\",\"colorbar\":{\"outlinewidth\":0,\"ticks\":\"\"},\"colorscale\":[[0.0,\"#0d0887\"],[0.1111111111111111,\"#46039f\"],[0.2222222222222222,\"#7201a8\"],[0.3333333333333333,\"#9c179e\"],[0.4444444444444444,\"#bd3786\"],[0.5555555555555556,\"#d8576b\"],[0.6666666666666666,\"#ed7953\"],[0.7777777777777778,\"#fb9f3a\"],[0.8888888888888888,\"#fdca26\"],[1.0,\"#f0f921\"]]}],\"heatmapgl\":[{\"type\":\"heatmapgl\",\"colorbar\":{\"outlinewidth\":0,\"ticks\":\"\"},\"colorscale\":[[0.0,\"#0d0887\"],[0.1111111111111111,\"#46039f\"],[0.2222222222222222,\"#7201a8\"],[0.3333333333333333,\"#9c179e\"],[0.4444444444444444,\"#bd3786\"],[0.5555555555555556,\"#d8576b\"],[0.6666666666666666,\"#ed7953\"],[0.7777777777777778,\"#fb9f3a\"],[0.8888888888888888,\"#fdca26\"],[1.0,\"#f0f921\"]]}],\"contourcarpet\":[{\"type\":\"contourcarpet\",\"colorbar\":{\"outlinewidth\":0,\"ticks\":\"\"}}],\"contour\":[{\"type\":\"contour\",\"colorbar\":{\"outlinewidth\":0,\"ticks\":\"\"},\"colorscale\":[[0.0,\"#0d0887\"],[0.1111111111111111,\"#46039f\"],[0.2222222222222222,\"#7201a8\"],[0.3333333333333333,\"#9c179e\"],[0.4444444444444444,\"#bd3786\"],[0.5555555555555556,\"#d8576b\"],[0.6666666666666666,\"#ed7953\"],[0.7777777777777778,\"#fb9f3a\"],[0.8888888888888888,\"#fdca26\"],[1.0,\"#f0f921\"]]}],\"surface\":[{\"type\":\"surface\",\"colorbar\":{\"outlinewidth\":0,\"ticks\":\"\"},\"colorscale\":[[0.0,\"#0d0887\"],[0.1111111111111111,\"#46039f\"],[0.2222222222222222,\"#7201a8\"],[0.3333333333333333,\"#9c179e\"],[0.4444444444444444,\"#bd3786\"],[0.5555555555555556,\"#d8576b\"],[0.6666666666666666,\"#ed7953\"],[0.7777777777777778,\"#fb9f3a\"],[0.8888888888888888,\"#fdca26\"],[1.0,\"#f0f921\"]]}],\"mesh3d\":[{\"type\":\"mesh3d\",\"colorbar\":{\"outlinewidth\":0,\"ticks\":\"\"}}],\"scatter\":[{\"fillpattern\":{\"fillmode\":\"overlay\",\"size\":10,\"solidity\":0.2},\"type\":\"scatter\"}],\"parcoords\":[{\"type\":\"parcoords\",\"line\":{\"colorbar\":{\"outlinewidth\":0,\"ticks\":\"\"}}}],\"scatterpolargl\":[{\"type\":\"scatterpolargl\",\"marker\":{\"colorbar\":{\"outlinewidth\":0,\"ticks\":\"\"}}}],\"bar\":[{\"error_x\":{\"color\":\"#2a3f5f\"},\"error_y\":{\"color\":\"#2a3f5f\"},\"marker\":{\"line\":{\"color\":\"#E5ECF6\",\"width\":0.5},\"pattern\":{\"fillmode\":\"overlay\",\"size\":10,\"solidity\":0.2}},\"type\":\"bar\"}],\"scattergeo\":[{\"type\":\"scattergeo\",\"marker\":{\"colorbar\":{\"outlinewidth\":0,\"ticks\":\"\"}}}],\"scatterpolar\":[{\"type\":\"scatterpolar\",\"marker\":{\"colorbar\":{\"outlinewidth\":0,\"ticks\":\"\"}}}],\"histogram\":[{\"marker\":{\"pattern\":{\"fillmode\":\"overlay\",\"size\":10,\"solidity\":0.2}},\"type\":\"histogram\"}],\"scattergl\":[{\"type\":\"scattergl\",\"marker\":{\"colorbar\":{\"outlinewidth\":0,\"ticks\":\"\"}}}],\"scatter3d\":[{\"type\":\"scatter3d\",\"line\":{\"colorbar\":{\"outlinewidth\":0,\"ticks\":\"\"}},\"marker\":{\"colorbar\":{\"outlinewidth\":0,\"ticks\":\"\"}}}],\"scattermapbox\":[{\"type\":\"scattermapbox\",\"marker\":{\"colorbar\":{\"outlinewidth\":0,\"ticks\":\"\"}}}],\"scatterternary\":[{\"type\":\"scatterternary\",\"marker\":{\"colorbar\":{\"outlinewidth\":0,\"ticks\":\"\"}}}],\"scattercarpet\":[{\"type\":\"scattercarpet\",\"marker\":{\"colorbar\":{\"outlinewidth\":0,\"ticks\":\"\"}}}],\"carpet\":[{\"aaxis\":{\"endlinecolor\":\"#2a3f5f\",\"gridcolor\":\"white\",\"linecolor\":\"white\",\"minorgridcolor\":\"white\",\"startlinecolor\":\"#2a3f5f\"},\"baxis\":{\"endlinecolor\":\"#2a3f5f\",\"gridcolor\":\"white\",\"linecolor\":\"white\",\"minorgridcolor\":\"white\",\"startlinecolor\":\"#2a3f5f\"},\"type\":\"carpet\"}],\"table\":[{\"cells\":{\"fill\":{\"color\":\"#EBF0F8\"},\"line\":{\"color\":\"white\"}},\"header\":{\"fill\":{\"color\":\"#C8D4E3\"},\"line\":{\"color\":\"white\"}},\"type\":\"table\"}],\"barpolar\":[{\"marker\":{\"line\":{\"color\":\"#E5ECF6\",\"width\":0.5},\"pattern\":{\"fillmode\":\"overlay\",\"size\":10,\"solidity\":0.2}},\"type\":\"barpolar\"}],\"pie\":[{\"automargin\":true,\"type\":\"pie\"}]},\"layout\":{\"autotypenumbers\":\"strict\",\"colorway\":[\"#636efa\",\"#EF553B\",\"#00cc96\",\"#ab63fa\",\"#FFA15A\",\"#19d3f3\",\"#FF6692\",\"#B6E880\",\"#FF97FF\",\"#FECB52\"],\"font\":{\"color\":\"#2a3f5f\"},\"hovermode\":\"closest\",\"hoverlabel\":{\"align\":\"left\"},\"paper_bgcolor\":\"white\",\"plot_bgcolor\":\"#E5ECF6\",\"polar\":{\"bgcolor\":\"#E5ECF6\",\"angularaxis\":{\"gridcolor\":\"white\",\"linecolor\":\"white\",\"ticks\":\"\"},\"radialaxis\":{\"gridcolor\":\"white\",\"linecolor\":\"white\",\"ticks\":\"\"}},\"ternary\":{\"bgcolor\":\"#E5ECF6\",\"aaxis\":{\"gridcolor\":\"white\",\"linecolor\":\"white\",\"ticks\":\"\"},\"baxis\":{\"gridcolor\":\"white\",\"linecolor\":\"white\",\"ticks\":\"\"},\"caxis\":{\"gridcolor\":\"white\",\"linecolor\":\"white\",\"ticks\":\"\"}},\"coloraxis\":{\"colorbar\":{\"outlinewidth\":0,\"ticks\":\"\"}},\"colorscale\":{\"sequential\":[[0.0,\"#0d0887\"],[0.1111111111111111,\"#46039f\"],[0.2222222222222222,\"#7201a8\"],[0.3333333333333333,\"#9c179e\"],[0.4444444444444444,\"#bd3786\"],[0.5555555555555556,\"#d8576b\"],[0.6666666666666666,\"#ed7953\"],[0.7777777777777778,\"#fb9f3a\"],[0.8888888888888888,\"#fdca26\"],[1.0,\"#f0f921\"]],\"sequentialminus\":[[0.0,\"#0d0887\"],[0.1111111111111111,\"#46039f\"],[0.2222222222222222,\"#7201a8\"],[0.3333333333333333,\"#9c179e\"],[0.4444444444444444,\"#bd3786\"],[0.5555555555555556,\"#d8576b\"],[0.6666666666666666,\"#ed7953\"],[0.7777777777777778,\"#fb9f3a\"],[0.8888888888888888,\"#fdca26\"],[1.0,\"#f0f921\"]],\"diverging\":[[0,\"#8e0152\"],[0.1,\"#c51b7d\"],[0.2,\"#de77ae\"],[0.3,\"#f1b6da\"],[0.4,\"#fde0ef\"],[0.5,\"#f7f7f7\"],[0.6,\"#e6f5d0\"],[0.7,\"#b8e186\"],[0.8,\"#7fbc41\"],[0.9,\"#4d9221\"],[1,\"#276419\"]]},\"xaxis\":{\"gridcolor\":\"white\",\"linecolor\":\"white\",\"ticks\":\"\",\"title\":{\"standoff\":15},\"zerolinecolor\":\"white\",\"automargin\":true,\"zerolinewidth\":2},\"yaxis\":{\"gridcolor\":\"white\",\"linecolor\":\"white\",\"ticks\":\"\",\"title\":{\"standoff\":15},\"zerolinecolor\":\"white\",\"automargin\":true,\"zerolinewidth\":2},\"scene\":{\"xaxis\":{\"backgroundcolor\":\"#E5ECF6\",\"gridcolor\":\"white\",\"linecolor\":\"white\",\"showbackground\":true,\"ticks\":\"\",\"zerolinecolor\":\"white\",\"gridwidth\":2},\"yaxis\":{\"backgroundcolor\":\"#E5ECF6\",\"gridcolor\":\"white\",\"linecolor\":\"white\",\"showbackground\":true,\"ticks\":\"\",\"zerolinecolor\":\"white\",\"gridwidth\":2},\"zaxis\":{\"backgroundcolor\":\"#E5ECF6\",\"gridcolor\":\"white\",\"linecolor\":\"white\",\"showbackground\":true,\"ticks\":\"\",\"zerolinecolor\":\"white\",\"gridwidth\":2}},\"shapedefaults\":{\"line\":{\"color\":\"#2a3f5f\"}},\"annotationdefaults\":{\"arrowcolor\":\"#2a3f5f\",\"arrowhead\":0,\"arrowwidth\":1},\"geo\":{\"bgcolor\":\"white\",\"landcolor\":\"#E5ECF6\",\"subunitcolor\":\"white\",\"showland\":true,\"showlakes\":true,\"lakecolor\":\"white\"},\"title\":{\"x\":0.05},\"mapbox\":{\"style\":\"light\"}}},\"xaxis\":{\"anchor\":\"y\",\"domain\":[0.0,1.0],\"title\":{\"text\":\"Category\"}},\"yaxis\":{\"anchor\":\"x\",\"domain\":[0.0,1.0],\"title\":{\"text\":\"Number of GFM Hearts\"}},\"legend\":{\"tracegroupgap\":0},\"title\":{\"text\":\"Distribution of GoFundMe Hearts by Category\"},\"boxmode\":\"group\"},                        {\"responsive\": true}                    ).then(function(){\n",
              "                            \n",
              "var gd = document.getElementById('be44e72a-397a-46a6-b97a-379fdba57c14');\n",
              "var x = new MutationObserver(function (mutations, observer) {{\n",
              "        var display = window.getComputedStyle(gd).display;\n",
              "        if (!display || display === 'none') {{\n",
              "            console.log([gd, 'removed!']);\n",
              "            Plotly.purge(gd);\n",
              "            observer.disconnect();\n",
              "        }}\n",
              "}});\n",
              "\n",
              "// Listen for the removal of the full notebook cells\n",
              "var notebookContainer = gd.closest('#notebook-container');\n",
              "if (notebookContainer) {{\n",
              "    x.observe(notebookContainer, {childList: true});\n",
              "}}\n",
              "\n",
              "// Listen for the clearing of the current output cell\n",
              "var outputEl = gd.closest('.output');\n",
              "if (outputEl) {{\n",
              "    x.observe(outputEl, {childList: true});\n",
              "}}\n",
              "\n",
              "                        })                };                            </script>        </div>\n",
              "</body>\n",
              "</html>"
            ]
          },
          "metadata": {}
        }
      ]
    },
    {
      "cell_type": "markdown",
      "source": [
        "There seems to be one outlier for the Education category, where one post received a great deal more GFM hearts than the average of all the education category posts.\n",
        "\n",
        "In addition, within the family category, there are a few outliers. We see that there is a lower average of GFM hearts for Family posts, at atound 598 hearts; however, a few posts far surpassed this. These posts have around 400-900 likes, which is significnatly outside of the typical spread of the data."
      ],
      "metadata": {
        "id": "L4gWFyFEOlZb"
      }
    },
    {
      "cell_type": "markdown",
      "source": [
        "3. Calculate descriptive statisics"
      ],
      "metadata": {
        "id": "xrirYAS0C2LG"
      }
    },
    {
      "cell_type": "markdown",
      "source": [
        "Medical Category GB Shares Descriptive Statistics"
      ],
      "metadata": {
        "id": "4oTzRZ_1Jlhr"
      }
    },
    {
      "cell_type": "code",
      "source": [
        "# select only the medical GoFundMe posts\n",
        "df_small_medical = df_small[df_small['Category'] == 'Medical']\n",
        "\n",
        "df_small_medical['FB_Shares'] = pd.to_numeric(df_small_medical['FB_Shares'], errors='coerce')\n",
        "\n",
        "mean_value = df_small_medical['FB_Shares'].mean()\n",
        "median_value = df_small_medical['FB_Shares'].median()\n",
        "mode_value = df_small_medical['FB_Shares'].mode()[0] if not df_small_medical['FB_Shares'].mode().empty else None\n",
        "std_deviation = df_small_medical['FB_Shares'].std()\n",
        "variance = df_small_medical['FB_Shares'].var()"
      ],
      "metadata": {
        "id": "tsVy9ZkyDBTm"
      },
      "execution_count": null,
      "outputs": []
    },
    {
      "cell_type": "code",
      "source": [
        "print(mean_value)\n",
        "print(median_value)\n",
        "print(mode_value)\n",
        "print(std_deviation)\n",
        "print(variance)"
      ],
      "metadata": {
        "colab": {
          "base_uri": "https://localhost:8080/"
        },
        "id": "vTpBpKiOJc77",
        "outputId": "0f7a2c3b-a6b7-4d43-c1fa-8a6e73e4ece5"
      },
      "execution_count": null,
      "outputs": [
        {
          "output_type": "stream",
          "name": "stdout",
          "text": [
            "4032.0\n",
            "2300.0\n",
            "1300.0\n",
            "4369.40896689701\n",
            "19091734.72\n"
          ]
        }
      ]
    },
    {
      "cell_type": "markdown",
      "source": [
        "Medical Category GFM Hearts Descriptive Statistics"
      ],
      "metadata": {
        "id": "3p6jhctRHvdM"
      }
    },
    {
      "cell_type": "code",
      "source": [
        "df_small_medical['GFM_hearts'] = pd.to_numeric(df_small_medical['GFM_hearts'], errors='coerce')\n",
        "\n",
        "\n",
        "mean_value = df_small_medical['GFM_hearts'].mean()\n",
        "median_value = df_small_medical['GFM_hearts'].median()\n",
        "mode_value = df_small_medical['GFM_hearts'].mode()[0] if not df_small_medical['GFM_hearts'].mode().empty else None\n",
        "std_deviation = df_small_medical['GFM_hearts'].std()\n",
        "variance = df_small_medical['GFM_hearts'].var()"
      ],
      "metadata": {
        "id": "K0uo7mqSFWLy"
      },
      "execution_count": null,
      "outputs": []
    },
    {
      "cell_type": "code",
      "source": [
        "print(mean_value)\n",
        "print(median_value)\n",
        "print(mode_value)\n",
        "print(std_deviation)\n",
        "print(variance)"
      ],
      "metadata": {
        "colab": {
          "base_uri": "https://localhost:8080/"
        },
        "id": "v197hPjKHEcP",
        "outputId": "f43d5f6c-1c29-4e65-a56e-725adcd1d5e8"
      },
      "execution_count": null,
      "outputs": [
        {
          "output_type": "stream",
          "name": "stdout",
          "text": [
            "1636.7894736842106\n",
            "1050.0\n",
            "1100.0\n",
            "1822.3405266545876\n",
            "3320924.99508772\n"
          ]
        }
      ]
    },
    {
      "cell_type": "markdown",
      "source": [
        "Education Category FaceBook Shares Descriptive Statistics\n",
        "\n"
      ],
      "metadata": {
        "id": "Z1jNrDr8JsRf"
      }
    },
    {
      "cell_type": "code",
      "source": [
        "df_small_Education = df_small[df_small['Category'] == 'Education']\n",
        "\n",
        "df_small_Education['FB_Shares'] = pd.to_numeric(df_small_Education['FB_Shares'], errors='coerce')\n",
        "\n",
        "mean_value = df_small_Education['FB_Shares'].mean()\n",
        "median_value = df_small_Education['FB_Shares'].median()\n",
        "mode_value = df_small_Education['FB_Shares'].mode()[0] if not df_small_Education['FB_Shares'].mode().empty else None\n",
        "std_deviation = df_small_Education['FB_Shares'].std()\n",
        "variance = df_small_Education['FB_Shares'].var()"
      ],
      "metadata": {
        "id": "Z3t5fdLgJxAl"
      },
      "execution_count": null,
      "outputs": []
    },
    {
      "cell_type": "code",
      "source": [
        "print(mean_value)\n",
        "print(median_value)\n",
        "print(mode_value)\n",
        "print(std_deviation)\n",
        "print(variance)"
      ],
      "metadata": {
        "colab": {
          "base_uri": "https://localhost:8080/"
        },
        "id": "XIc79WCyKAZu",
        "outputId": "c75b8f7d-fac8-40be-df77-ba3311b7be78"
      },
      "execution_count": null,
      "outputs": [
        {
          "output_type": "stream",
          "name": "stdout",
          "text": [
            "831.9027777777778\n",
            "459.5\n",
            "3500.0\n",
            "1106.05734461177\n",
            "1223362.8495696401\n"
          ]
        }
      ]
    },
    {
      "cell_type": "markdown",
      "source": [
        "Education Category GFM Hearts Descriptive Statistics"
      ],
      "metadata": {
        "id": "txNAzoAACca6"
      }
    },
    {
      "cell_type": "code",
      "source": [
        "df_small_Education['GFM_hearts'] = pd.to_numeric(df_small_Education['GFM_hearts'], errors='coerce')\n",
        "\n",
        "mean_value = df_small_Education['GFM_hearts'].mean()\n",
        "median_value = df_small_Education['GFM_hearts'].median()\n",
        "mode_value = df_small_Education['GFM_hearts'].mode()[0] if not df_small_Education['GFM_hearts'].mode().empty else None\n",
        "std_deviation = df_small_Education['GFM_hearts'].std()\n",
        "variance = df_small_Education['GFM_hearts'].var()"
      ],
      "metadata": {
        "id": "Y_0kx_ZqKQVU"
      },
      "execution_count": null,
      "outputs": []
    },
    {
      "cell_type": "code",
      "source": [
        "print(mean_value)\n",
        "print(median_value)\n",
        "print(mode_value)\n",
        "print(std_deviation)\n",
        "print(variance)"
      ],
      "metadata": {
        "colab": {
          "base_uri": "https://localhost:8080/"
        },
        "id": "fowooT8oK1wL",
        "outputId": "f5114d05-b8db-42aa-fa17-601973e50d82"
      },
      "execution_count": null,
      "outputs": [
        {
          "output_type": "stream",
          "name": "stdout",
          "text": [
            "351.125\n",
            "232.5\n",
            "151.0\n",
            "404.20127943361916\n",
            "163378.67429577466\n"
          ]
        }
      ]
    },
    {
      "cell_type": "markdown",
      "source": [
        "Family Category FaceBook Shares Descriptive Statistics"
      ],
      "metadata": {
        "id": "PzJvD8rlLFLs"
      }
    },
    {
      "cell_type": "code",
      "source": [
        "df_small_Family = df_small[df_small['Category'] == 'Family']\n",
        "\n",
        "df_small_Family['FB_Shares'] = pd.to_numeric(df_small_Family['FB_Shares'], errors='coerce')\n",
        "\n",
        "mean_value = df_small_Family['FB_Shares'].mean()\n",
        "median_value = df_small_Family['FB_Shares'].median()\n",
        "mode_value = df_small_Family['FB_Shares'].mode()[0] if not df_small_Family['FB_Shares'].mode().empty else None\n",
        "std_deviation = df_small_Family['FB_Shares'].std()\n",
        "variance = df_small_Family['FB_Shares'].var()"
      ],
      "metadata": {
        "id": "Z00gwjmLLHzF"
      },
      "execution_count": null,
      "outputs": []
    },
    {
      "cell_type": "code",
      "source": [
        "print(mean_value)\n",
        "print(median_value)\n",
        "print(mode_value)\n",
        "print(std_deviation)\n",
        "print(variance)"
      ],
      "metadata": {
        "colab": {
          "base_uri": "https://localhost:8080/"
        },
        "id": "onVniq6VK2xt",
        "outputId": "69c837bb-6dc5-4570-f40b-e2db8c709dbd"
      },
      "execution_count": null,
      "outputs": [
        {
          "output_type": "stream",
          "name": "stdout",
          "text": [
            "2642.1805555555557\n",
            "1450.0\n",
            "1100.0\n",
            "4732.209037583952\n",
            "22393802.375391234\n"
          ]
        }
      ]
    },
    {
      "cell_type": "markdown",
      "source": [
        "Family Category GFM Hearts Descriptive Statistics"
      ],
      "metadata": {
        "id": "ehvY-VXWLrIZ"
      }
    },
    {
      "cell_type": "code",
      "source": [
        "df_small_Family['GFM_hearts'] = pd.to_numeric(df_small_Family['GFM_hearts'], errors='coerce')\n",
        "\n",
        "mean_value = df_small_Family['GFM_hearts'].mean()\n",
        "median_value = df_small_Family['GFM_hearts'].median()\n",
        "mode_value = df_small_Family['GFM_hearts'].mode()[0] if not df_small_Family['GFM_hearts'].mode().empty else None\n",
        "std_deviation = df_small_Family['GFM_hearts'].std()\n",
        "variance = df_small_Family['GFM_hearts'].var()"
      ],
      "metadata": {
        "id": "iuLjZZrwLj0J"
      },
      "execution_count": null,
      "outputs": []
    },
    {
      "cell_type": "code",
      "source": [
        "print(mean_value)\n",
        "print(median_value)\n",
        "print(mode_value)\n",
        "print(std_deviation)\n",
        "print(variance)"
      ],
      "metadata": {
        "colab": {
          "base_uri": "https://localhost:8080/"
        },
        "id": "iXjigSuBLgFU",
        "outputId": "f7cabf16-2cdc-4244-9247-0409bb76c35e"
      },
      "execution_count": null,
      "outputs": [
        {
          "output_type": "stream",
          "name": "stdout",
          "text": [
            "743.3333333333334\n",
            "407.0\n",
            "1000.0\n",
            "895.790358397088\n",
            "802440.3661971833\n"
          ]
        }
      ]
    },
    {
      "cell_type": "markdown",
      "source": [
        "4. Summarize results."
      ],
      "metadata": {
        "id": "f809XTpUPqXV"
      }
    },
    {
      "cell_type": "markdown",
      "source": [
        "The medical category has the greatest average of FB shares, followed by the family category, then the education category. In addition, the medical category has the greatest average of GoFundMe likes, followed by the family category, then the education category. This might be because of the urgency associated with getting medical treatments done, which means that money needs to be raised in a shorter period of time, leading to a faster spread of awareness by the people. The family category seems to have the greatest variance within the data, meaning that values are spread out more from the average number of GFM hearts within this category."
      ],
      "metadata": {
        "id": "lgSzBFq4MTG8"
      }
    },
    {
      "cell_type": "markdown",
      "source": [
        "**Part 2 of the Homework**"
      ],
      "metadata": {
        "id": "ILNzKruDDHV7"
      }
    },
    {
      "cell_type": "markdown",
      "source": [
        "1. Visualizations of GFM Heart by Category showing Unsuccessful and Successful Projects"
      ],
      "metadata": {
        "id": "Ul-2mmIMCccu"
      }
    },
    {
      "cell_type": "code",
      "source": [
        "# here I created two dataframe: one with successful projects, one with unsuccessful projects\n",
        "\n",
        "df['Amount_Raised'] = pd.to_numeric(df['Amount_Raised'], errors='coerce')\n",
        "df['Goal'] = pd.to_numeric(df['Goal'], errors='coerce')\n",
        "df_suc = df[df['Amount_Raised'] >= df['Goal']]\n",
        "df_unsuc = df[df['Amount_Raised'] < df['Goal']]"
      ],
      "metadata": {
        "id": "jSd0hRo_nQ0r"
      },
      "execution_count": null,
      "outputs": []
    },
    {
      "cell_type": "code",
      "source": [
        "df_suc.head(5)"
      ],
      "metadata": {
        "colab": {
          "base_uri": "https://localhost:8080/",
          "height": 695
        },
        "id": "DQQSMwGFrozE",
        "outputId": "5eeaa8e0-696e-4c47-8400-44b4b1d370aa"
      },
      "execution_count": null,
      "outputs": [
        {
          "output_type": "execute_result",
          "data": {
            "text/plain": [
              "    Unnamed: 0                                                Url Category  \\\n",
              "0            0  https://www.gofundme.com/3ctqm-medical-bills-f...  Medical   \n",
              "3            3       https://www.gofundme.com/a-chance-of-rebirth  Medical   \n",
              "4            4                https://www.gofundme.com/teamclaire  Medical   \n",
              "12          12  https://www.gofundme.com/please-help-the-rober...  Medical   \n",
              "15          15  https://www.gofundme.com/justice-for-pedro-dan...  Medical   \n",
              "\n",
              "   Position                             Title          Location  \\\n",
              "0         0  92 Yr old Man Brutally Attacked.   LOS ANGELES, CA   \n",
              "3         1               A chance of rebirth        DUBLIN, CA   \n",
              "4         1    Claire Wineland Needs Our Help  GARDEN GROVE, CA   \n",
              "12        4  Please help the Robertson Family          CARY, NC   \n",
              "15        5   Justice for Pedro Daniel Reyes.   LOS ANGELES, CA   \n",
              "\n",
              "    Amount_Raised      Goal Number_of_Donators Length_of_Fundraising  \\\n",
              "0        327345.0   15000.0             12,167               1 month   \n",
              "3        237424.0  225000.0              4,708               1 month   \n",
              "4        236590.0  225000.0              8,393              2 months   \n",
              "12       169087.0   90000.0                883              2 months   \n",
              "15       161337.0  150000.0              4,873              5 months   \n",
              "\n",
              "    FB_Shares  GFM_hearts                                               Text  \\\n",
              "0     26000.0     12000.0  Rodolfo Rodriguez needs your help today! 92 Yr...   \n",
              "3      9700.0      4700.0  Sriram Kanniah needs your help today! A chance...   \n",
              "4      6400.0      8900.0  Melissa Yeager needs your help today! Claire W...   \n",
              "12     2500.0       859.0  Julie Robertson needs your help today! Please ...   \n",
              "15    12000.0      5300.0  John Patrick needs your help today! Justice fo...   \n",
              "\n",
              "     Latitude   Longitude  \n",
              "0   34.052234 -118.243685  \n",
              "3   37.702152 -121.935792  \n",
              "4   33.774269 -117.937995  \n",
              "12  35.791540  -78.781117  \n",
              "15  34.052234 -118.243685  "
            ],
            "text/html": [
              "\n",
              "  <div id=\"df-a7784dc6-3eae-4cde-8cd5-79c97604e8ee\" class=\"colab-df-container\">\n",
              "    <div>\n",
              "<style scoped>\n",
              "    .dataframe tbody tr th:only-of-type {\n",
              "        vertical-align: middle;\n",
              "    }\n",
              "\n",
              "    .dataframe tbody tr th {\n",
              "        vertical-align: top;\n",
              "    }\n",
              "\n",
              "    .dataframe thead th {\n",
              "        text-align: right;\n",
              "    }\n",
              "</style>\n",
              "<table border=\"1\" class=\"dataframe\">\n",
              "  <thead>\n",
              "    <tr style=\"text-align: right;\">\n",
              "      <th></th>\n",
              "      <th>Unnamed: 0</th>\n",
              "      <th>Url</th>\n",
              "      <th>Category</th>\n",
              "      <th>Position</th>\n",
              "      <th>Title</th>\n",
              "      <th>Location</th>\n",
              "      <th>Amount_Raised</th>\n",
              "      <th>Goal</th>\n",
              "      <th>Number_of_Donators</th>\n",
              "      <th>Length_of_Fundraising</th>\n",
              "      <th>FB_Shares</th>\n",
              "      <th>GFM_hearts</th>\n",
              "      <th>Text</th>\n",
              "      <th>Latitude</th>\n",
              "      <th>Longitude</th>\n",
              "    </tr>\n",
              "  </thead>\n",
              "  <tbody>\n",
              "    <tr>\n",
              "      <th>0</th>\n",
              "      <td>0</td>\n",
              "      <td>https://www.gofundme.com/3ctqm-medical-bills-f...</td>\n",
              "      <td>Medical</td>\n",
              "      <td>0</td>\n",
              "      <td>92 Yr old Man Brutally Attacked.</td>\n",
              "      <td>LOS ANGELES, CA</td>\n",
              "      <td>327345.0</td>\n",
              "      <td>15000.0</td>\n",
              "      <td>12,167</td>\n",
              "      <td>1 month</td>\n",
              "      <td>26000.0</td>\n",
              "      <td>12000.0</td>\n",
              "      <td>Rodolfo Rodriguez needs your help today! 92 Yr...</td>\n",
              "      <td>34.052234</td>\n",
              "      <td>-118.243685</td>\n",
              "    </tr>\n",
              "    <tr>\n",
              "      <th>3</th>\n",
              "      <td>3</td>\n",
              "      <td>https://www.gofundme.com/a-chance-of-rebirth</td>\n",
              "      <td>Medical</td>\n",
              "      <td>1</td>\n",
              "      <td>A chance of rebirth</td>\n",
              "      <td>DUBLIN, CA</td>\n",
              "      <td>237424.0</td>\n",
              "      <td>225000.0</td>\n",
              "      <td>4,708</td>\n",
              "      <td>1 month</td>\n",
              "      <td>9700.0</td>\n",
              "      <td>4700.0</td>\n",
              "      <td>Sriram Kanniah needs your help today! A chance...</td>\n",
              "      <td>37.702152</td>\n",
              "      <td>-121.935792</td>\n",
              "    </tr>\n",
              "    <tr>\n",
              "      <th>4</th>\n",
              "      <td>4</td>\n",
              "      <td>https://www.gofundme.com/teamclaire</td>\n",
              "      <td>Medical</td>\n",
              "      <td>1</td>\n",
              "      <td>Claire Wineland Needs Our Help</td>\n",
              "      <td>GARDEN GROVE, CA</td>\n",
              "      <td>236590.0</td>\n",
              "      <td>225000.0</td>\n",
              "      <td>8,393</td>\n",
              "      <td>2 months</td>\n",
              "      <td>6400.0</td>\n",
              "      <td>8900.0</td>\n",
              "      <td>Melissa Yeager needs your help today! Claire W...</td>\n",
              "      <td>33.774269</td>\n",
              "      <td>-117.937995</td>\n",
              "    </tr>\n",
              "    <tr>\n",
              "      <th>12</th>\n",
              "      <td>12</td>\n",
              "      <td>https://www.gofundme.com/please-help-the-rober...</td>\n",
              "      <td>Medical</td>\n",
              "      <td>4</td>\n",
              "      <td>Please help the Robertson Family</td>\n",
              "      <td>CARY, NC</td>\n",
              "      <td>169087.0</td>\n",
              "      <td>90000.0</td>\n",
              "      <td>883</td>\n",
              "      <td>2 months</td>\n",
              "      <td>2500.0</td>\n",
              "      <td>859.0</td>\n",
              "      <td>Julie Robertson needs your help today! Please ...</td>\n",
              "      <td>35.791540</td>\n",
              "      <td>-78.781117</td>\n",
              "    </tr>\n",
              "    <tr>\n",
              "      <th>15</th>\n",
              "      <td>15</td>\n",
              "      <td>https://www.gofundme.com/justice-for-pedro-dan...</td>\n",
              "      <td>Medical</td>\n",
              "      <td>5</td>\n",
              "      <td>Justice for Pedro Daniel Reyes.</td>\n",
              "      <td>LOS ANGELES, CA</td>\n",
              "      <td>161337.0</td>\n",
              "      <td>150000.0</td>\n",
              "      <td>4,873</td>\n",
              "      <td>5 months</td>\n",
              "      <td>12000.0</td>\n",
              "      <td>5300.0</td>\n",
              "      <td>John Patrick needs your help today! Justice fo...</td>\n",
              "      <td>34.052234</td>\n",
              "      <td>-118.243685</td>\n",
              "    </tr>\n",
              "  </tbody>\n",
              "</table>\n",
              "</div>\n",
              "    <div class=\"colab-df-buttons\">\n",
              "\n",
              "  <div class=\"colab-df-container\">\n",
              "    <button class=\"colab-df-convert\" onclick=\"convertToInteractive('df-a7784dc6-3eae-4cde-8cd5-79c97604e8ee')\"\n",
              "            title=\"Convert this dataframe to an interactive table.\"\n",
              "            style=\"display:none;\">\n",
              "\n",
              "  <svg xmlns=\"http://www.w3.org/2000/svg\" height=\"24px\" viewBox=\"0 -960 960 960\">\n",
              "    <path d=\"M120-120v-720h720v720H120Zm60-500h600v-160H180v160Zm220 220h160v-160H400v160Zm0 220h160v-160H400v160ZM180-400h160v-160H180v160Zm440 0h160v-160H620v160ZM180-180h160v-160H180v160Zm440 0h160v-160H620v160Z\"/>\n",
              "  </svg>\n",
              "    </button>\n",
              "\n",
              "  <style>\n",
              "    .colab-df-container {\n",
              "      display:flex;\n",
              "      gap: 12px;\n",
              "    }\n",
              "\n",
              "    .colab-df-convert {\n",
              "      background-color: #E8F0FE;\n",
              "      border: none;\n",
              "      border-radius: 50%;\n",
              "      cursor: pointer;\n",
              "      display: none;\n",
              "      fill: #1967D2;\n",
              "      height: 32px;\n",
              "      padding: 0 0 0 0;\n",
              "      width: 32px;\n",
              "    }\n",
              "\n",
              "    .colab-df-convert:hover {\n",
              "      background-color: #E2EBFA;\n",
              "      box-shadow: 0px 1px 2px rgba(60, 64, 67, 0.3), 0px 1px 3px 1px rgba(60, 64, 67, 0.15);\n",
              "      fill: #174EA6;\n",
              "    }\n",
              "\n",
              "    .colab-df-buttons div {\n",
              "      margin-bottom: 4px;\n",
              "    }\n",
              "\n",
              "    [theme=dark] .colab-df-convert {\n",
              "      background-color: #3B4455;\n",
              "      fill: #D2E3FC;\n",
              "    }\n",
              "\n",
              "    [theme=dark] .colab-df-convert:hover {\n",
              "      background-color: #434B5C;\n",
              "      box-shadow: 0px 1px 3px 1px rgba(0, 0, 0, 0.15);\n",
              "      filter: drop-shadow(0px 1px 2px rgba(0, 0, 0, 0.3));\n",
              "      fill: #FFFFFF;\n",
              "    }\n",
              "  </style>\n",
              "\n",
              "    <script>\n",
              "      const buttonEl =\n",
              "        document.querySelector('#df-a7784dc6-3eae-4cde-8cd5-79c97604e8ee button.colab-df-convert');\n",
              "      buttonEl.style.display =\n",
              "        google.colab.kernel.accessAllowed ? 'block' : 'none';\n",
              "\n",
              "      async function convertToInteractive(key) {\n",
              "        const element = document.querySelector('#df-a7784dc6-3eae-4cde-8cd5-79c97604e8ee');\n",
              "        const dataTable =\n",
              "          await google.colab.kernel.invokeFunction('convertToInteractive',\n",
              "                                                    [key], {});\n",
              "        if (!dataTable) return;\n",
              "\n",
              "        const docLinkHtml = 'Like what you see? Visit the ' +\n",
              "          '<a target=\"_blank\" href=https://colab.research.google.com/notebooks/data_table.ipynb>data table notebook</a>'\n",
              "          + ' to learn more about interactive tables.';\n",
              "        element.innerHTML = '';\n",
              "        dataTable['output_type'] = 'display_data';\n",
              "        await google.colab.output.renderOutput(dataTable, element);\n",
              "        const docLink = document.createElement('div');\n",
              "        docLink.innerHTML = docLinkHtml;\n",
              "        element.appendChild(docLink);\n",
              "      }\n",
              "    </script>\n",
              "  </div>\n",
              "\n",
              "\n",
              "<div id=\"df-d3f5d13a-9e37-4861-b1f4-cf16124a7190\">\n",
              "  <button class=\"colab-df-quickchart\" onclick=\"quickchart('df-d3f5d13a-9e37-4861-b1f4-cf16124a7190')\"\n",
              "            title=\"Suggest charts\"\n",
              "            style=\"display:none;\">\n",
              "\n",
              "<svg xmlns=\"http://www.w3.org/2000/svg\" height=\"24px\"viewBox=\"0 0 24 24\"\n",
              "     width=\"24px\">\n",
              "    <g>\n",
              "        <path d=\"M19 3H5c-1.1 0-2 .9-2 2v14c0 1.1.9 2 2 2h14c1.1 0 2-.9 2-2V5c0-1.1-.9-2-2-2zM9 17H7v-7h2v7zm4 0h-2V7h2v10zm4 0h-2v-4h2v4z\"/>\n",
              "    </g>\n",
              "</svg>\n",
              "  </button>\n",
              "\n",
              "<style>\n",
              "  .colab-df-quickchart {\n",
              "      --bg-color: #E8F0FE;\n",
              "      --fill-color: #1967D2;\n",
              "      --hover-bg-color: #E2EBFA;\n",
              "      --hover-fill-color: #174EA6;\n",
              "      --disabled-fill-color: #AAA;\n",
              "      --disabled-bg-color: #DDD;\n",
              "  }\n",
              "\n",
              "  [theme=dark] .colab-df-quickchart {\n",
              "      --bg-color: #3B4455;\n",
              "      --fill-color: #D2E3FC;\n",
              "      --hover-bg-color: #434B5C;\n",
              "      --hover-fill-color: #FFFFFF;\n",
              "      --disabled-bg-color: #3B4455;\n",
              "      --disabled-fill-color: #666;\n",
              "  }\n",
              "\n",
              "  .colab-df-quickchart {\n",
              "    background-color: var(--bg-color);\n",
              "    border: none;\n",
              "    border-radius: 50%;\n",
              "    cursor: pointer;\n",
              "    display: none;\n",
              "    fill: var(--fill-color);\n",
              "    height: 32px;\n",
              "    padding: 0;\n",
              "    width: 32px;\n",
              "  }\n",
              "\n",
              "  .colab-df-quickchart:hover {\n",
              "    background-color: var(--hover-bg-color);\n",
              "    box-shadow: 0 1px 2px rgba(60, 64, 67, 0.3), 0 1px 3px 1px rgba(60, 64, 67, 0.15);\n",
              "    fill: var(--button-hover-fill-color);\n",
              "  }\n",
              "\n",
              "  .colab-df-quickchart-complete:disabled,\n",
              "  .colab-df-quickchart-complete:disabled:hover {\n",
              "    background-color: var(--disabled-bg-color);\n",
              "    fill: var(--disabled-fill-color);\n",
              "    box-shadow: none;\n",
              "  }\n",
              "\n",
              "  .colab-df-spinner {\n",
              "    border: 2px solid var(--fill-color);\n",
              "    border-color: transparent;\n",
              "    border-bottom-color: var(--fill-color);\n",
              "    animation:\n",
              "      spin 1s steps(1) infinite;\n",
              "  }\n",
              "\n",
              "  @keyframes spin {\n",
              "    0% {\n",
              "      border-color: transparent;\n",
              "      border-bottom-color: var(--fill-color);\n",
              "      border-left-color: var(--fill-color);\n",
              "    }\n",
              "    20% {\n",
              "      border-color: transparent;\n",
              "      border-left-color: var(--fill-color);\n",
              "      border-top-color: var(--fill-color);\n",
              "    }\n",
              "    30% {\n",
              "      border-color: transparent;\n",
              "      border-left-color: var(--fill-color);\n",
              "      border-top-color: var(--fill-color);\n",
              "      border-right-color: var(--fill-color);\n",
              "    }\n",
              "    40% {\n",
              "      border-color: transparent;\n",
              "      border-right-color: var(--fill-color);\n",
              "      border-top-color: var(--fill-color);\n",
              "    }\n",
              "    60% {\n",
              "      border-color: transparent;\n",
              "      border-right-color: var(--fill-color);\n",
              "    }\n",
              "    80% {\n",
              "      border-color: transparent;\n",
              "      border-right-color: var(--fill-color);\n",
              "      border-bottom-color: var(--fill-color);\n",
              "    }\n",
              "    90% {\n",
              "      border-color: transparent;\n",
              "      border-bottom-color: var(--fill-color);\n",
              "    }\n",
              "  }\n",
              "</style>\n",
              "\n",
              "  <script>\n",
              "    async function quickchart(key) {\n",
              "      const quickchartButtonEl =\n",
              "        document.querySelector('#' + key + ' button');\n",
              "      quickchartButtonEl.disabled = true;  // To prevent multiple clicks.\n",
              "      quickchartButtonEl.classList.add('colab-df-spinner');\n",
              "      try {\n",
              "        const charts = await google.colab.kernel.invokeFunction(\n",
              "            'suggestCharts', [key], {});\n",
              "      } catch (error) {\n",
              "        console.error('Error during call to suggestCharts:', error);\n",
              "      }\n",
              "      quickchartButtonEl.classList.remove('colab-df-spinner');\n",
              "      quickchartButtonEl.classList.add('colab-df-quickchart-complete');\n",
              "    }\n",
              "    (() => {\n",
              "      let quickchartButtonEl =\n",
              "        document.querySelector('#df-d3f5d13a-9e37-4861-b1f4-cf16124a7190 button');\n",
              "      quickchartButtonEl.style.display =\n",
              "        google.colab.kernel.accessAllowed ? 'block' : 'none';\n",
              "    })();\n",
              "  </script>\n",
              "</div>\n",
              "\n",
              "    </div>\n",
              "  </div>\n"
            ],
            "application/vnd.google.colaboratory.intrinsic+json": {
              "type": "dataframe",
              "variable_name": "df_suc",
              "summary": "{\n  \"name\": \"df_suc\",\n  \"rows\": 455,\n  \"fields\": [\n    {\n      \"column\": \"Unnamed: 0\",\n      \"properties\": {\n        \"dtype\": \"number\",\n        \"std\": 372,\n        \"min\": 0,\n        \"max\": 1237,\n        \"num_unique_values\": 455,\n        \"samples\": [\n          854,\n          94,\n          1109\n        ],\n        \"semantic_type\": \"\",\n        \"description\": \"\"\n      }\n    },\n    {\n      \"column\": \"Url\",\n      \"properties\": {\n        \"dtype\": \"string\",\n        \"num_unique_values\": 453,\n        \"samples\": [\n          \"https://www.gofundme.com/support-queer-youth-rite-of-passage\",\n          \"https://www.gofundme.com/Michael-Canniff\",\n          \"https://www.gofundme.com/honeymoonjaro\"\n        ],\n        \"semantic_type\": \"\",\n        \"description\": \"\"\n      }\n    },\n    {\n      \"column\": \"Category\",\n      \"properties\": {\n        \"dtype\": \"category\",\n        \"num_unique_values\": 18,\n        \"samples\": [\n          \"Medical\",\n          \"Memorial\",\n          \"Competition\"\n        ],\n        \"semantic_type\": \"\",\n        \"description\": \"\"\n      }\n    },\n    {\n      \"column\": \"Position\",\n      \"properties\": {\n        \"dtype\": \"category\",\n        \"num_unique_values\": 24,\n        \"samples\": [\n          \"12\",\n          \"21\",\n          \"0\"\n        ],\n        \"semantic_type\": \"\",\n        \"description\": \"\"\n      }\n    },\n    {\n      \"column\": \"Title\",\n      \"properties\": {\n        \"dtype\": \"string\",\n        \"num_unique_values\": 453,\n        \"samples\": [\n          \"Support Queer Youth Rite of Passage\",\n          \"Support the Canniff Family\",\n          \"Honeymoonjaro!\"\n        ],\n        \"semantic_type\": \"\",\n        \"description\": \"\"\n      }\n    },\n    {\n      \"column\": \"Location\",\n      \"properties\": {\n        \"dtype\": \"string\",\n        \"num_unique_values\": 330,\n        \"samples\": [\n          \"EAGLE RIVER, AK\",\n          \"DRIPPING SPRINGS, TX\",\n          \"BRIGHTON, MA\"\n        ],\n        \"semantic_type\": \"\",\n        \"description\": \"\"\n      }\n    },\n    {\n      \"column\": \"Amount_Raised\",\n      \"properties\": {\n        \"dtype\": \"number\",\n        \"std\": 124507.36733251823,\n        \"min\": 1935.0,\n        \"max\": 2104990.0,\n        \"num_unique_values\": 441,\n        \"samples\": [\n          83815.0,\n          10400.0,\n          333939.0\n        ],\n        \"semantic_type\": \"\",\n        \"description\": \"\"\n      }\n    },\n    {\n      \"column\": \"Goal\",\n      \"properties\": {\n        \"dtype\": \"number\",\n        \"std\": 105193.1059884025,\n        \"min\": 1.0,\n        \"max\": 1800000.0,\n        \"num_unique_values\": 84,\n        \"samples\": [\n          13000.0,\n          15000.0,\n          28000.0\n        ],\n        \"semantic_type\": \"\",\n        \"description\": \"\"\n      }\n    },\n    {\n      \"column\": \"Number_of_Donators\",\n      \"properties\": {\n        \"dtype\": \"string\",\n        \"num_unique_values\": 323,\n        \"samples\": [\n          \"44\",\n          \"321\",\n          \"18\"\n        ],\n        \"semantic_type\": \"\",\n        \"description\": \"\"\n      }\n    },\n    {\n      \"column\": \"Length_of_Fundraising\",\n      \"properties\": {\n        \"dtype\": \"category\",\n        \"num_unique_values\": 26,\n        \"samples\": [\n          \"6 months\",\n          \"24 days\",\n          \"1 month\"\n        ],\n        \"semantic_type\": \"\",\n        \"description\": \"\"\n      }\n    },\n    {\n      \"column\": \"FB_Shares\",\n      \"properties\": {\n        \"dtype\": \"number\",\n        \"std\": 4027.809208143293,\n        \"min\": 2.0,\n        \"max\": 47000.0,\n        \"num_unique_values\": 314,\n        \"samples\": [\n          315.0,\n          3400.0,\n          1800.0\n        ],\n        \"semantic_type\": \"\",\n        \"description\": \"\"\n      }\n    },\n    {\n      \"column\": \"GFM_hearts\",\n      \"properties\": {\n        \"dtype\": \"number\",\n        \"std\": 2358.8590554239927,\n        \"min\": 2.0,\n        \"max\": 40000.0,\n        \"num_unique_values\": 293,\n        \"samples\": [\n          657.0,\n          27.0,\n          2100.0\n        ],\n        \"semantic_type\": \"\",\n        \"description\": \"\"\n      }\n    },\n    {\n      \"column\": \"Text\",\n      \"properties\": {\n        \"dtype\": \"string\",\n        \"num_unique_values\": 453,\n        \"samples\": [\n          \"Rite of Passage Journeys Team needs your help today! Support Queer Youth Rite of Passage - Join us in this wholehearted call to support Rites of Passage Journey\\u00e2\\u0080\\u0099s first program for LGBTQ2IA+* youth\\u00e2\\u0080\\u0094the Queer Mountain Quest !  *This acronym stands for Lesbian, Gay, Bisexual, Transgender, Queer or Questioning, Two-Spirit, Intersex, Asexual, plus (+) non-binary and other gender & sexual m...\",\n          \"Megan Canniff needs your help today! Support the Canniff Family - We are all devastated by the unexpectedly loss of our dear friend, brother, \\u00c2\\u00a0father, \\u00c2\\u00a0son, uncle, and husband.... Michael Canniff, age 40. We have all been\\u00c2\\u00a0robbed of him, of his infectious smile, laugh, enthusiasm, and the extraordinary effort he put into every endeavor in life. His humor, intell...\",\n          \"Ashwin Pananjady needs your help today! Honeymoonjaro! - For our honeymoon,\\u00c2\\u00a0Vidya and I are going to be climbing Kilimanjaro this December! Please treat this as our wedding registry in case you were thinking of getting us a present. Any help is appreciated; the goal is just a placeholder, and no amount is too small! You will have the eternal gratitude...\"\n        ],\n        \"semantic_type\": \"\",\n        \"description\": \"\"\n      }\n    },\n    {\n      \"column\": \"Latitude\",\n      \"properties\": {\n        \"dtype\": \"number\",\n        \"std\": 4.9626973775035825,\n        \"min\": 17.7466397,\n        \"max\": 61.3293186,\n        \"num_unique_values\": 326,\n        \"samples\": [\n          36.3047735,\n          40.8428759,\n          33.7700504\n        ],\n        \"semantic_type\": \"\",\n        \"description\": \"\"\n      }\n    },\n    {\n      \"column\": \"Longitude\",\n      \"properties\": {\n        \"dtype\": \"number\",\n        \"std\": 19.144027572139372,\n        \"min\": -156.3130556,\n        \"max\": -64.7031977,\n        \"num_unique_values\": 326,\n        \"samples\": [\n          -86.6199957,\n          -73.29289430000001,\n          -118.1937395\n        ],\n        \"semantic_type\": \"\",\n        \"description\": \"\"\n      }\n    }\n  ]\n}"
            }
          },
          "metadata": {},
          "execution_count": 323
        }
      ]
    },
    {
      "cell_type": "code",
      "source": [
        "df_unsuc.head(5)"
      ],
      "metadata": {
        "colab": {
          "base_uri": "https://localhost:8080/",
          "height": 538
        },
        "id": "ZXF56SIfoM7L",
        "outputId": "26d281bc-e044-4dc3-9b18-51f3d27058a7"
      },
      "execution_count": null,
      "outputs": [
        {
          "output_type": "execute_result",
          "data": {
            "text/plain": [
              "   Unnamed: 0                                                Url Category  \\\n",
              "1           1  https://www.gofundme.com/olivia-stoy-bone-marr...  Medical   \n",
              "2           2  https://www.gofundme.com/autologous-Tcell-Tran...  Medical   \n",
              "5           5  https://www.gofundme.com/hannas-emergency-canc...  Medical   \n",
              "6           6            https://www.gofundme.com/brayden-belden  Medical   \n",
              "7           7         https://www.gofundme.com/jacobburyrecovery  Medical   \n",
              "\n",
              "  Position                                Title           Location  \\\n",
              "1        0  Olivia Stoy:Transplant & Liv it up!         ASHLEY, IN   \n",
              "2        1         AUTOLOGOUS T CELL TRANSPLANT  STATEN ISLAND, NY   \n",
              "5        2     Hanna's Emergency Cancer Surgery    SPRING LAKE, NJ   \n",
              "6        2         Brayden Belden Recovery Fund   LAGUNA BEACH, CA   \n",
              "7        2             Jacob Bury Recovery Fund         TACOMA, WA   \n",
              "\n",
              "   Amount_Raised       Goal Number_of_Donators Length_of_Fundraising  \\\n",
              "1       316261.0  1000000.0              5,598              3 months   \n",
              "2       241125.0   250000.0                841              2 months   \n",
              "5       224718.0   250000.0              2,705              5 months   \n",
              "6       214147.0   275000.0              2,700              6 months   \n",
              "7       209490.0   250000.0                924               1 month   \n",
              "\n",
              "   FB_Shares  GFM_hearts                                               Text  \\\n",
              "1    12000.0      5700.0  Thomas Stoy needs your help today! Olivia Stoy...   \n",
              "2     1800.0       836.0  Philip Defonte needs your help today! AUTOLOGO...   \n",
              "5     3700.0      2700.0  Hanna Wilt needs your help today! Hanna's Emer...   \n",
              "6    10000.0      2700.0  Matt Belden needs your help today! Brayden Bel...   \n",
              "7     2800.0       949.0  Jacob Bury needs your help today! Jacob Bury R...   \n",
              "\n",
              "    Latitude   Longitude  \n",
              "1  41.527273  -85.065523  \n",
              "2  40.579532  -74.150201  \n",
              "5  40.153448  -74.028193  \n",
              "6  33.542719 -117.785357  \n",
              "7  47.252877 -122.444291  "
            ],
            "text/html": [
              "\n",
              "  <div id=\"df-290ceb2f-2349-427d-9bda-a317699af166\" class=\"colab-df-container\">\n",
              "    <div>\n",
              "<style scoped>\n",
              "    .dataframe tbody tr th:only-of-type {\n",
              "        vertical-align: middle;\n",
              "    }\n",
              "\n",
              "    .dataframe tbody tr th {\n",
              "        vertical-align: top;\n",
              "    }\n",
              "\n",
              "    .dataframe thead th {\n",
              "        text-align: right;\n",
              "    }\n",
              "</style>\n",
              "<table border=\"1\" class=\"dataframe\">\n",
              "  <thead>\n",
              "    <tr style=\"text-align: right;\">\n",
              "      <th></th>\n",
              "      <th>Unnamed: 0</th>\n",
              "      <th>Url</th>\n",
              "      <th>Category</th>\n",
              "      <th>Position</th>\n",
              "      <th>Title</th>\n",
              "      <th>Location</th>\n",
              "      <th>Amount_Raised</th>\n",
              "      <th>Goal</th>\n",
              "      <th>Number_of_Donators</th>\n",
              "      <th>Length_of_Fundraising</th>\n",
              "      <th>FB_Shares</th>\n",
              "      <th>GFM_hearts</th>\n",
              "      <th>Text</th>\n",
              "      <th>Latitude</th>\n",
              "      <th>Longitude</th>\n",
              "    </tr>\n",
              "  </thead>\n",
              "  <tbody>\n",
              "    <tr>\n",
              "      <th>1</th>\n",
              "      <td>1</td>\n",
              "      <td>https://www.gofundme.com/olivia-stoy-bone-marr...</td>\n",
              "      <td>Medical</td>\n",
              "      <td>0</td>\n",
              "      <td>Olivia Stoy:Transplant &amp; Liv it up!</td>\n",
              "      <td>ASHLEY, IN</td>\n",
              "      <td>316261.0</td>\n",
              "      <td>1000000.0</td>\n",
              "      <td>5,598</td>\n",
              "      <td>3 months</td>\n",
              "      <td>12000.0</td>\n",
              "      <td>5700.0</td>\n",
              "      <td>Thomas Stoy needs your help today! Olivia Stoy...</td>\n",
              "      <td>41.527273</td>\n",
              "      <td>-85.065523</td>\n",
              "    </tr>\n",
              "    <tr>\n",
              "      <th>2</th>\n",
              "      <td>2</td>\n",
              "      <td>https://www.gofundme.com/autologous-Tcell-Tran...</td>\n",
              "      <td>Medical</td>\n",
              "      <td>1</td>\n",
              "      <td>AUTOLOGOUS T CELL TRANSPLANT</td>\n",
              "      <td>STATEN ISLAND, NY</td>\n",
              "      <td>241125.0</td>\n",
              "      <td>250000.0</td>\n",
              "      <td>841</td>\n",
              "      <td>2 months</td>\n",
              "      <td>1800.0</td>\n",
              "      <td>836.0</td>\n",
              "      <td>Philip Defonte needs your help today! AUTOLOGO...</td>\n",
              "      <td>40.579532</td>\n",
              "      <td>-74.150201</td>\n",
              "    </tr>\n",
              "    <tr>\n",
              "      <th>5</th>\n",
              "      <td>5</td>\n",
              "      <td>https://www.gofundme.com/hannas-emergency-canc...</td>\n",
              "      <td>Medical</td>\n",
              "      <td>2</td>\n",
              "      <td>Hanna's Emergency Cancer Surgery</td>\n",
              "      <td>SPRING LAKE, NJ</td>\n",
              "      <td>224718.0</td>\n",
              "      <td>250000.0</td>\n",
              "      <td>2,705</td>\n",
              "      <td>5 months</td>\n",
              "      <td>3700.0</td>\n",
              "      <td>2700.0</td>\n",
              "      <td>Hanna Wilt needs your help today! Hanna's Emer...</td>\n",
              "      <td>40.153448</td>\n",
              "      <td>-74.028193</td>\n",
              "    </tr>\n",
              "    <tr>\n",
              "      <th>6</th>\n",
              "      <td>6</td>\n",
              "      <td>https://www.gofundme.com/brayden-belden</td>\n",
              "      <td>Medical</td>\n",
              "      <td>2</td>\n",
              "      <td>Brayden Belden Recovery Fund</td>\n",
              "      <td>LAGUNA BEACH, CA</td>\n",
              "      <td>214147.0</td>\n",
              "      <td>275000.0</td>\n",
              "      <td>2,700</td>\n",
              "      <td>6 months</td>\n",
              "      <td>10000.0</td>\n",
              "      <td>2700.0</td>\n",
              "      <td>Matt Belden needs your help today! Brayden Bel...</td>\n",
              "      <td>33.542719</td>\n",
              "      <td>-117.785357</td>\n",
              "    </tr>\n",
              "    <tr>\n",
              "      <th>7</th>\n",
              "      <td>7</td>\n",
              "      <td>https://www.gofundme.com/jacobburyrecovery</td>\n",
              "      <td>Medical</td>\n",
              "      <td>2</td>\n",
              "      <td>Jacob Bury Recovery Fund</td>\n",
              "      <td>TACOMA, WA</td>\n",
              "      <td>209490.0</td>\n",
              "      <td>250000.0</td>\n",
              "      <td>924</td>\n",
              "      <td>1 month</td>\n",
              "      <td>2800.0</td>\n",
              "      <td>949.0</td>\n",
              "      <td>Jacob Bury needs your help today! Jacob Bury R...</td>\n",
              "      <td>47.252877</td>\n",
              "      <td>-122.444291</td>\n",
              "    </tr>\n",
              "  </tbody>\n",
              "</table>\n",
              "</div>\n",
              "    <div class=\"colab-df-buttons\">\n",
              "\n",
              "  <div class=\"colab-df-container\">\n",
              "    <button class=\"colab-df-convert\" onclick=\"convertToInteractive('df-290ceb2f-2349-427d-9bda-a317699af166')\"\n",
              "            title=\"Convert this dataframe to an interactive table.\"\n",
              "            style=\"display:none;\">\n",
              "\n",
              "  <svg xmlns=\"http://www.w3.org/2000/svg\" height=\"24px\" viewBox=\"0 -960 960 960\">\n",
              "    <path d=\"M120-120v-720h720v720H120Zm60-500h600v-160H180v160Zm220 220h160v-160H400v160Zm0 220h160v-160H400v160ZM180-400h160v-160H180v160Zm440 0h160v-160H620v160ZM180-180h160v-160H180v160Zm440 0h160v-160H620v160Z\"/>\n",
              "  </svg>\n",
              "    </button>\n",
              "\n",
              "  <style>\n",
              "    .colab-df-container {\n",
              "      display:flex;\n",
              "      gap: 12px;\n",
              "    }\n",
              "\n",
              "    .colab-df-convert {\n",
              "      background-color: #E8F0FE;\n",
              "      border: none;\n",
              "      border-radius: 50%;\n",
              "      cursor: pointer;\n",
              "      display: none;\n",
              "      fill: #1967D2;\n",
              "      height: 32px;\n",
              "      padding: 0 0 0 0;\n",
              "      width: 32px;\n",
              "    }\n",
              "\n",
              "    .colab-df-convert:hover {\n",
              "      background-color: #E2EBFA;\n",
              "      box-shadow: 0px 1px 2px rgba(60, 64, 67, 0.3), 0px 1px 3px 1px rgba(60, 64, 67, 0.15);\n",
              "      fill: #174EA6;\n",
              "    }\n",
              "\n",
              "    .colab-df-buttons div {\n",
              "      margin-bottom: 4px;\n",
              "    }\n",
              "\n",
              "    [theme=dark] .colab-df-convert {\n",
              "      background-color: #3B4455;\n",
              "      fill: #D2E3FC;\n",
              "    }\n",
              "\n",
              "    [theme=dark] .colab-df-convert:hover {\n",
              "      background-color: #434B5C;\n",
              "      box-shadow: 0px 1px 3px 1px rgba(0, 0, 0, 0.15);\n",
              "      filter: drop-shadow(0px 1px 2px rgba(0, 0, 0, 0.3));\n",
              "      fill: #FFFFFF;\n",
              "    }\n",
              "  </style>\n",
              "\n",
              "    <script>\n",
              "      const buttonEl =\n",
              "        document.querySelector('#df-290ceb2f-2349-427d-9bda-a317699af166 button.colab-df-convert');\n",
              "      buttonEl.style.display =\n",
              "        google.colab.kernel.accessAllowed ? 'block' : 'none';\n",
              "\n",
              "      async function convertToInteractive(key) {\n",
              "        const element = document.querySelector('#df-290ceb2f-2349-427d-9bda-a317699af166');\n",
              "        const dataTable =\n",
              "          await google.colab.kernel.invokeFunction('convertToInteractive',\n",
              "                                                    [key], {});\n",
              "        if (!dataTable) return;\n",
              "\n",
              "        const docLinkHtml = 'Like what you see? Visit the ' +\n",
              "          '<a target=\"_blank\" href=https://colab.research.google.com/notebooks/data_table.ipynb>data table notebook</a>'\n",
              "          + ' to learn more about interactive tables.';\n",
              "        element.innerHTML = '';\n",
              "        dataTable['output_type'] = 'display_data';\n",
              "        await google.colab.output.renderOutput(dataTable, element);\n",
              "        const docLink = document.createElement('div');\n",
              "        docLink.innerHTML = docLinkHtml;\n",
              "        element.appendChild(docLink);\n",
              "      }\n",
              "    </script>\n",
              "  </div>\n",
              "\n",
              "\n",
              "<div id=\"df-c42c7b97-ee99-48e9-8200-400666a510c5\">\n",
              "  <button class=\"colab-df-quickchart\" onclick=\"quickchart('df-c42c7b97-ee99-48e9-8200-400666a510c5')\"\n",
              "            title=\"Suggest charts\"\n",
              "            style=\"display:none;\">\n",
              "\n",
              "<svg xmlns=\"http://www.w3.org/2000/svg\" height=\"24px\"viewBox=\"0 0 24 24\"\n",
              "     width=\"24px\">\n",
              "    <g>\n",
              "        <path d=\"M19 3H5c-1.1 0-2 .9-2 2v14c0 1.1.9 2 2 2h14c1.1 0 2-.9 2-2V5c0-1.1-.9-2-2-2zM9 17H7v-7h2v7zm4 0h-2V7h2v10zm4 0h-2v-4h2v4z\"/>\n",
              "    </g>\n",
              "</svg>\n",
              "  </button>\n",
              "\n",
              "<style>\n",
              "  .colab-df-quickchart {\n",
              "      --bg-color: #E8F0FE;\n",
              "      --fill-color: #1967D2;\n",
              "      --hover-bg-color: #E2EBFA;\n",
              "      --hover-fill-color: #174EA6;\n",
              "      --disabled-fill-color: #AAA;\n",
              "      --disabled-bg-color: #DDD;\n",
              "  }\n",
              "\n",
              "  [theme=dark] .colab-df-quickchart {\n",
              "      --bg-color: #3B4455;\n",
              "      --fill-color: #D2E3FC;\n",
              "      --hover-bg-color: #434B5C;\n",
              "      --hover-fill-color: #FFFFFF;\n",
              "      --disabled-bg-color: #3B4455;\n",
              "      --disabled-fill-color: #666;\n",
              "  }\n",
              "\n",
              "  .colab-df-quickchart {\n",
              "    background-color: var(--bg-color);\n",
              "    border: none;\n",
              "    border-radius: 50%;\n",
              "    cursor: pointer;\n",
              "    display: none;\n",
              "    fill: var(--fill-color);\n",
              "    height: 32px;\n",
              "    padding: 0;\n",
              "    width: 32px;\n",
              "  }\n",
              "\n",
              "  .colab-df-quickchart:hover {\n",
              "    background-color: var(--hover-bg-color);\n",
              "    box-shadow: 0 1px 2px rgba(60, 64, 67, 0.3), 0 1px 3px 1px rgba(60, 64, 67, 0.15);\n",
              "    fill: var(--button-hover-fill-color);\n",
              "  }\n",
              "\n",
              "  .colab-df-quickchart-complete:disabled,\n",
              "  .colab-df-quickchart-complete:disabled:hover {\n",
              "    background-color: var(--disabled-bg-color);\n",
              "    fill: var(--disabled-fill-color);\n",
              "    box-shadow: none;\n",
              "  }\n",
              "\n",
              "  .colab-df-spinner {\n",
              "    border: 2px solid var(--fill-color);\n",
              "    border-color: transparent;\n",
              "    border-bottom-color: var(--fill-color);\n",
              "    animation:\n",
              "      spin 1s steps(1) infinite;\n",
              "  }\n",
              "\n",
              "  @keyframes spin {\n",
              "    0% {\n",
              "      border-color: transparent;\n",
              "      border-bottom-color: var(--fill-color);\n",
              "      border-left-color: var(--fill-color);\n",
              "    }\n",
              "    20% {\n",
              "      border-color: transparent;\n",
              "      border-left-color: var(--fill-color);\n",
              "      border-top-color: var(--fill-color);\n",
              "    }\n",
              "    30% {\n",
              "      border-color: transparent;\n",
              "      border-left-color: var(--fill-color);\n",
              "      border-top-color: var(--fill-color);\n",
              "      border-right-color: var(--fill-color);\n",
              "    }\n",
              "    40% {\n",
              "      border-color: transparent;\n",
              "      border-right-color: var(--fill-color);\n",
              "      border-top-color: var(--fill-color);\n",
              "    }\n",
              "    60% {\n",
              "      border-color: transparent;\n",
              "      border-right-color: var(--fill-color);\n",
              "    }\n",
              "    80% {\n",
              "      border-color: transparent;\n",
              "      border-right-color: var(--fill-color);\n",
              "      border-bottom-color: var(--fill-color);\n",
              "    }\n",
              "    90% {\n",
              "      border-color: transparent;\n",
              "      border-bottom-color: var(--fill-color);\n",
              "    }\n",
              "  }\n",
              "</style>\n",
              "\n",
              "  <script>\n",
              "    async function quickchart(key) {\n",
              "      const quickchartButtonEl =\n",
              "        document.querySelector('#' + key + ' button');\n",
              "      quickchartButtonEl.disabled = true;  // To prevent multiple clicks.\n",
              "      quickchartButtonEl.classList.add('colab-df-spinner');\n",
              "      try {\n",
              "        const charts = await google.colab.kernel.invokeFunction(\n",
              "            'suggestCharts', [key], {});\n",
              "      } catch (error) {\n",
              "        console.error('Error during call to suggestCharts:', error);\n",
              "      }\n",
              "      quickchartButtonEl.classList.remove('colab-df-spinner');\n",
              "      quickchartButtonEl.classList.add('colab-df-quickchart-complete');\n",
              "    }\n",
              "    (() => {\n",
              "      let quickchartButtonEl =\n",
              "        document.querySelector('#df-c42c7b97-ee99-48e9-8200-400666a510c5 button');\n",
              "      quickchartButtonEl.style.display =\n",
              "        google.colab.kernel.accessAllowed ? 'block' : 'none';\n",
              "    })();\n",
              "  </script>\n",
              "</div>\n",
              "\n",
              "    </div>\n",
              "  </div>\n"
            ],
            "application/vnd.google.colaboratory.intrinsic+json": {
              "type": "dataframe",
              "variable_name": "df_unsuc",
              "summary": "{\n  \"name\": \"df_unsuc\",\n  \"rows\": 776,\n  \"fields\": [\n    {\n      \"column\": \"Unnamed: 0\",\n      \"properties\": {\n        \"dtype\": \"number\",\n        \"std\": 350,\n        \"min\": 1,\n        \"max\": 1241,\n        \"num_unique_values\": 776,\n        \"samples\": [\n          650,\n          1128,\n          508\n        ],\n        \"semantic_type\": \"\",\n        \"description\": \"\"\n      }\n    },\n    {\n      \"column\": \"Url\",\n      \"properties\": {\n        \"dtype\": \"string\",\n        \"num_unique_values\": 771,\n        \"samples\": [\n          \"https://www.gofundme.com/4wheel-recovery-program\",\n          \"https://www.gofundme.com/moshood\",\n          \"https://www.gofundme.com/libbyfosterclub\"\n        ],\n        \"semantic_type\": \"\",\n        \"description\": \"\"\n      }\n    },\n    {\n      \"column\": \"Category\",\n      \"properties\": {\n        \"dtype\": \"category\",\n        \"num_unique_values\": 18,\n        \"samples\": [\n          \"Medical\",\n          \"Memorial\",\n          \"Competition\"\n        ],\n        \"semantic_type\": \"\",\n        \"description\": \"\"\n      }\n    },\n    {\n      \"column\": \"Position\",\n      \"properties\": {\n        \"dtype\": \"category\",\n        \"num_unique_values\": 24,\n        \"samples\": [\n          \"9\",\n          \"19\",\n          \"0\"\n        ],\n        \"semantic_type\": \"\",\n        \"description\": \"\"\n      }\n    },\n    {\n      \"column\": \"Title\",\n      \"properties\": {\n        \"dtype\": \"string\",\n        \"num_unique_values\": 771,\n        \"samples\": [\n          \"4-Wheel Recovery Program\",\n          \"Moshood Ebi\",\n          \"Libby's FosterClub Opportunity\"\n        ],\n        \"semantic_type\": \"\",\n        \"description\": \"\"\n      }\n    },\n    {\n      \"column\": \"Location\",\n      \"properties\": {\n        \"dtype\": \"string\",\n        \"num_unique_values\": 517,\n        \"samples\": [\n          \"PERALTA, NM\",\n          \"RIDGEFIELD, WA\",\n          \"SCOTTSDALE, AZ\"\n        ],\n        \"semantic_type\": \"\",\n        \"description\": \"\"\n      }\n    },\n    {\n      \"column\": \"Amount_Raised\",\n      \"properties\": {\n        \"dtype\": \"number\",\n        \"std\": 140547.01485077591,\n        \"min\": 1975.0,\n        \"max\": 3584330.0,\n        \"num_unique_values\": 761,\n        \"samples\": [\n          17110.0,\n          18610.0,\n          133463.0\n        ],\n        \"semantic_type\": \"\",\n        \"description\": \"\"\n      }\n    },\n    {\n      \"column\": \"Goal\",\n      \"properties\": {\n        \"dtype\": \"number\",\n        \"std\": 260609.02991139013,\n        \"min\": 2000.0,\n        \"max\": 3800000.0,\n        \"num_unique_values\": 117,\n        \"samples\": [\n          53000.0,\n          200918.0,\n          12000.0\n        ],\n        \"semantic_type\": \"\",\n        \"description\": \"\"\n      }\n    },\n    {\n      \"column\": \"Number_of_Donators\",\n      \"properties\": {\n        \"dtype\": \"string\",\n        \"num_unique_values\": 439,\n        \"samples\": [\n          \"43,884\",\n          \"987\",\n          \"7\"\n        ],\n        \"semantic_type\": \"\",\n        \"description\": \"\"\n      }\n    },\n    {\n      \"column\": \"Length_of_Fundraising\",\n      \"properties\": {\n        \"dtype\": \"category\",\n        \"num_unique_values\": 29,\n        \"samples\": [\n          \"14 days\",\n          \"26 days\",\n          \"24 days\"\n        ],\n        \"semantic_type\": \"\",\n        \"description\": \"\"\n      }\n    },\n    {\n      \"column\": \"FB_Shares\",\n      \"properties\": {\n        \"dtype\": \"number\",\n        \"std\": 5860.892372805058,\n        \"min\": 2.0,\n        \"max\": 117000.0,\n        \"num_unique_values\": 431,\n        \"samples\": [\n          900.0,\n          4800.0,\n          181.0\n        ],\n        \"semantic_type\": \"\",\n        \"description\": \"\"\n      }\n    },\n    {\n      \"column\": \"GFM_hearts\",\n      \"properties\": {\n        \"dtype\": \"number\",\n        \"std\": 1791.6864268791735,\n        \"min\": 2.0,\n        \"max\": 44000.0,\n        \"num_unique_values\": 381,\n        \"samples\": [\n          117.0,\n          131.0,\n          318.0\n        ],\n        \"semantic_type\": \"\",\n        \"description\": \"\"\n      }\n    },\n    {\n      \"column\": \"Text\",\n      \"properties\": {\n        \"dtype\": \"string\",\n        \"num_unique_values\": 771,\n        \"samples\": [\n          \"Colin Holetz needs your help today! 4-Wheel Recovery Program - For over 20 years we have been taking tech industry city boys to the Holetz Mountain Sanctuary to experience something bigger than a Samsung 34\\\" CF791 Curved Widescreen Monitor.  Last year our world was rocked when two fellow good people of the earth were slung into the depths of the mountain whi...\",\n          \"Moshood Creations needs your help today! Moshood Ebi - Ebi is Yoruba for family. Moshood Creations has been part of the Fort Greene, Brooklyn family for over 20 years.\\u00c2\\u00a0  Moshood Creations is an international sensation, welcoming tourists from all over the globe.  Moshood Creations is the iconic brand it is today, because it was founded by a kind and...\",\n          \"Libby Branch needs your help today! Libby's FosterClub Opportunity - I was recently selected to serve as an All-Star Summer Intern with FosterClub. During this internship I will spend 7 weeks traveling around the country facilitating workshops at conferences and other events. I will participate in creating publications and video recordings for youth in foster care...\"\n        ],\n        \"semantic_type\": \"\",\n        \"description\": \"\"\n      }\n    },\n    {\n      \"column\": \"Latitude\",\n      \"properties\": {\n        \"dtype\": \"number\",\n        \"std\": 5.430268772560931,\n        \"min\": 18.4655394,\n        \"max\": 61.5813889,\n        \"num_unique_values\": 511,\n        \"samples\": [\n          47.6062095,\n          38.9784453,\n          40.787878\n        ],\n        \"semantic_type\": \"\",\n        \"description\": \"\"\n      }\n    },\n    {\n      \"column\": \"Longitude\",\n      \"properties\": {\n        \"dtype\": \"number\",\n        \"std\": 19.700754365371182,\n        \"min\": -159.4977455,\n        \"max\": -66.1057355,\n        \"num_unique_values\": 511,\n        \"samples\": [\n          -122.3320708,\n          -76.4921829,\n          -74.3882072\n        ],\n        \"semantic_type\": \"\",\n        \"description\": \"\"\n      }\n    }\n  ]\n}"
            }
          },
          "metadata": {},
          "execution_count": 324
        }
      ]
    },
    {
      "cell_type": "code",
      "source": [
        "import seaborn as sns"
      ],
      "metadata": {
        "id": "vwgsLXH8lkt2"
      },
      "execution_count": null,
      "outputs": []
    },
    {
      "cell_type": "code",
      "source": [
        "g_unsuc = sns.catplot(x=\"Category\", y=\"GFM_hearts\", data=df_unsuc, kind=\"bar\", height=6, aspect=1.5)\n",
        "g_unsuc.set_xticklabels(rotation=90)\n",
        "g_unsuc.set_axis_labels(\"Category\", \"GFM Hearts\")\n",
        "g_unsuc.fig.suptitle(\"GFM Hearts by Category for Unsuccessful Projects\", y=1.05)"
      ],
      "metadata": {
        "colab": {
          "base_uri": "https://localhost:8080/",
          "height": 646
        },
        "id": "Dxg5dAiRCfl0",
        "outputId": "d117dfe5-cad0-47ad-bda4-563ef14f4ad9"
      },
      "execution_count": null,
      "outputs": [
        {
          "output_type": "execute_result",
          "data": {
            "text/plain": [
              "Text(0.5, 1.05, 'GFM Hearts by Category for Unsuccessful Projects')"
            ]
          },
          "metadata": {},
          "execution_count": 326
        },
        {
          "output_type": "display_data",
          "data": {
            "text/plain": [
              "<Figure size 911.111x600 with 1 Axes>"
            ],
            "image/png": "[encoded data removed]"
          },
          "metadata": {}
        }
      ]
    },
    {
      "cell_type": "code",
      "source": [
        "g_suc = sns.catplot(x=\"Category\", y=\"GFM_hearts\", data=df_suc, kind=\"bar\", height=6, aspect=1.5)\n",
        "g_suc.set_xticklabels(rotation=90)\n",
        "g_suc.set_axis_labels(\"Category\", \"GFM Hearts\")\n",
        "g_suc.fig.suptitle(\"GFM Hearts by Category for Successful Projects\", y=1.05)"
      ],
      "metadata": {
        "colab": {
          "base_uri": "https://localhost:8080/",
          "height": 646
        },
        "id": "Ph2hRqlrlbpV",
        "outputId": "eb76725c-8970-4beb-bb33-2b29eb02c7f8"
      },
      "execution_count": null,
      "outputs": [
        {
          "output_type": "execute_result",
          "data": {
            "text/plain": [
              "Text(0.5, 1.05, 'GFM Hearts by Category for Successful Projects')"
            ]
          },
          "metadata": {},
          "execution_count": 327
        },
        {
          "output_type": "display_data",
          "data": {
            "text/plain": [
              "<Figure size 911.111x600 with 1 Axes>"
            ],
            "image/png": "[encoded data removed]"
          },
          "metadata": {}
        }
      ]
    },
    {
      "cell_type": "markdown",
      "source": [
        "2. Visualizing the Relationship between Successful Projects in relation to Length of Fundraising"
      ],
      "metadata": {
        "id": "fYUn4H1XwUwQ"
      }
    },
    {
      "cell_type": "code",
      "source": [
        "df['Success'] = (df['Amount_Raised'] >= df['Goal']).astype(int)\n",
        "df['Success'] = df['Success'].replace({0: 'Unsuccessful', 1: 'Successful'})\n",
        "# I had to use chat gpt to figure out how to rename the 0 and 1 to make this reflect\n",
        "# correctly in my legend. i was having difficulty using the code in the documentation to\n",
        "# override these names."
      ],
      "metadata": {
        "id": "vFOzyLXkyxDC"
      },
      "execution_count": null,
      "outputs": []
    },
    {
      "cell_type": "code",
      "source": [
        "# convert length of fundraising variable into days. Here, I used Chat GPT\n",
        "# to create a function to convert all lengths to days. I had issues at first\n",
        "# because some lengths were saying \"months\" or \"days,\" so the data was not\n",
        "# normalized.\n",
        "import re\n",
        "\n",
        "def convert_to_days(length_str):\n",
        "    if isinstance(length_str, str):\n",
        "        # Extract the numeric part and the unit (days or month)\n",
        "        match = re.match(r'(\\d+)\\s*(\\w+)', length_str.strip().lower())\n",
        "        if match:\n",
        "            length = int(match.group(1))\n",
        "            unit = match.group(2)\n",
        "\n",
        "            # Convert based on the unit\n",
        "            if unit in ['month', 'months']:  # If the unit is months\n",
        "                return length * 30  # Convert months to days\n",
        "            elif unit in ['day', 'days']:  # If the unit is days\n",
        "                return length  # Leave days as is\n",
        "    return None\n",
        "\n",
        "df['Length_of_Fundraising'] = df['Length_of_Fundraising'].apply(lambda x: convert_to_days(x) if isinstance(x, str) else None)"
      ],
      "metadata": {
        "id": "MxO1x1Ap5r0J"
      },
      "execution_count": null,
      "outputs": []
    },
    {
      "cell_type": "code",
      "source": [
        "df.head(5)"
      ],
      "metadata": {
        "colab": {
          "base_uri": "https://localhost:8080/",
          "height": 556
        },
        "id": "4goaeVci5_hx",
        "outputId": "03e2d90f-cf4e-450d-bcb4-77da11ceeb40"
      },
      "execution_count": null,
      "outputs": [
        {
          "output_type": "execute_result",
          "data": {
            "text/plain": [
              "   Unnamed: 0                                                Url Category  \\\n",
              "0           0  https://www.gofundme.com/3ctqm-medical-bills-f...  Medical   \n",
              "1           1  https://www.gofundme.com/olivia-stoy-bone-marr...  Medical   \n",
              "2           2  https://www.gofundme.com/autologous-Tcell-Tran...  Medical   \n",
              "3           3       https://www.gofundme.com/a-chance-of-rebirth  Medical   \n",
              "4           4                https://www.gofundme.com/teamclaire  Medical   \n",
              "\n",
              "  Position                                Title           Location  \\\n",
              "0        0     92 Yr old Man Brutally Attacked.    LOS ANGELES, CA   \n",
              "1        0  Olivia Stoy:Transplant & Liv it up!         ASHLEY, IN   \n",
              "2        1         AUTOLOGOUS T CELL TRANSPLANT  STATEN ISLAND, NY   \n",
              "3        1                  A chance of rebirth         DUBLIN, CA   \n",
              "4        1       Claire Wineland Needs Our Help   GARDEN GROVE, CA   \n",
              "\n",
              "   Amount_Raised       Goal Number_of_Donators  Length_of_Fundraising  \\\n",
              "0       327345.0    15000.0             12,167                   30.0   \n",
              "1       316261.0  1000000.0              5,598                   90.0   \n",
              "2       241125.0   250000.0                841                   60.0   \n",
              "3       237424.0   225000.0              4,708                   30.0   \n",
              "4       236590.0   225000.0              8,393                   60.0   \n",
              "\n",
              "   FB_Shares  GFM_hearts                                               Text  \\\n",
              "0    26000.0     12000.0  Rodolfo Rodriguez needs your help today! 92 Yr...   \n",
              "1    12000.0      5700.0  Thomas Stoy needs your help today! Olivia Stoy...   \n",
              "2     1800.0       836.0  Philip Defonte needs your help today! AUTOLOGO...   \n",
              "3     9700.0      4700.0  Sriram Kanniah needs your help today! A chance...   \n",
              "4     6400.0      8900.0  Melissa Yeager needs your help today! Claire W...   \n",
              "\n",
              "    Latitude   Longitude       Success  \n",
              "0  34.052234 -118.243685    Successful  \n",
              "1  41.527273  -85.065523  Unsuccessful  \n",
              "2  40.579532  -74.150201  Unsuccessful  \n",
              "3  37.702152 -121.935792    Successful  \n",
              "4  33.774269 -117.937995    Successful  "
            ],
            "text/html": [
              "\n",
              "  <div id=\"df-5837c28c-0b4b-4114-a844-32dfaf6a96a5\" class=\"colab-df-container\">\n",
              "    <div>\n",
              "<style scoped>\n",
              "    .dataframe tbody tr th:only-of-type {\n",
              "        vertical-align: middle;\n",
              "    }\n",
              "\n",
              "    .dataframe tbody tr th {\n",
              "        vertical-align: top;\n",
              "    }\n",
              "\n",
              "    .dataframe thead th {\n",
              "        text-align: right;\n",
              "    }\n",
              "</style>\n",
              "<table border=\"1\" class=\"dataframe\">\n",
              "  <thead>\n",
              "    <tr style=\"text-align: right;\">\n",
              "      <th></th>\n",
              "      <th>Unnamed: 0</th>\n",
              "      <th>Url</th>\n",
              "      <th>Category</th>\n",
              "      <th>Position</th>\n",
              "      <th>Title</th>\n",
              "      <th>Location</th>\n",
              "      <th>Amount_Raised</th>\n",
              "      <th>Goal</th>\n",
              "      <th>Number_of_Donators</th>\n",
              "      <th>Length_of_Fundraising</th>\n",
              "      <th>FB_Shares</th>\n",
              "      <th>GFM_hearts</th>\n",
              "      <th>Text</th>\n",
              "      <th>Latitude</th>\n",
              "      <th>Longitude</th>\n",
              "      <th>Success</th>\n",
              "    </tr>\n",
              "  </thead>\n",
              "  <tbody>\n",
              "    <tr>\n",
              "      <th>0</th>\n",
              "      <td>0</td>\n",
              "      <td>https://www.gofundme.com/3ctqm-medical-bills-f...</td>\n",
              "      <td>Medical</td>\n",
              "      <td>0</td>\n",
              "      <td>92 Yr old Man Brutally Attacked.</td>\n",
              "      <td>LOS ANGELES, CA</td>\n",
              "      <td>327345.0</td>\n",
              "      <td>15000.0</td>\n",
              "      <td>12,167</td>\n",
              "      <td>30.0</td>\n",
              "      <td>26000.0</td>\n",
              "      <td>12000.0</td>\n",
              "      <td>Rodolfo Rodriguez needs your help today! 92 Yr...</td>\n",
              "      <td>34.052234</td>\n",
              "      <td>-118.243685</td>\n",
              "      <td>Successful</td>\n",
              "    </tr>\n",
              "    <tr>\n",
              "      <th>1</th>\n",
              "      <td>1</td>\n",
              "      <td>https://www.gofundme.com/olivia-stoy-bone-marr...</td>\n",
              "      <td>Medical</td>\n",
              "      <td>0</td>\n",
              "      <td>Olivia Stoy:Transplant &amp; Liv it up!</td>\n",
              "      <td>ASHLEY, IN</td>\n",
              "      <td>316261.0</td>\n",
              "      <td>1000000.0</td>\n",
              "      <td>5,598</td>\n",
              "      <td>90.0</td>\n",
              "      <td>12000.0</td>\n",
              "      <td>5700.0</td>\n",
              "      <td>Thomas Stoy needs your help today! Olivia Stoy...</td>\n",
              "      <td>41.527273</td>\n",
              "      <td>-85.065523</td>\n",
              "      <td>Unsuccessful</td>\n",
              "    </tr>\n",
              "    <tr>\n",
              "      <th>2</th>\n",
              "      <td>2</td>\n",
              "      <td>https://www.gofundme.com/autologous-Tcell-Tran...</td>\n",
              "      <td>Medical</td>\n",
              "      <td>1</td>\n",
              "      <td>AUTOLOGOUS T CELL TRANSPLANT</td>\n",
              "      <td>STATEN ISLAND, NY</td>\n",
              "      <td>241125.0</td>\n",
              "      <td>250000.0</td>\n",
              "      <td>841</td>\n",
              "      <td>60.0</td>\n",
              "      <td>1800.0</td>\n",
              "      <td>836.0</td>\n",
              "      <td>Philip Defonte needs your help today! AUTOLOGO...</td>\n",
              "      <td>40.579532</td>\n",
              "      <td>-74.150201</td>\n",
              "      <td>Unsuccessful</td>\n",
              "    </tr>\n",
              "    <tr>\n",
              "      <th>3</th>\n",
              "      <td>3</td>\n",
              "      <td>https://www.gofundme.com/a-chance-of-rebirth</td>\n",
              "      <td>Medical</td>\n",
              "      <td>1</td>\n",
              "      <td>A chance of rebirth</td>\n",
              "      <td>DUBLIN, CA</td>\n",
              "      <td>237424.0</td>\n",
              "      <td>225000.0</td>\n",
              "      <td>4,708</td>\n",
              "      <td>30.0</td>\n",
              "      <td>9700.0</td>\n",
              "      <td>4700.0</td>\n",
              "      <td>Sriram Kanniah needs your help today! A chance...</td>\n",
              "      <td>37.702152</td>\n",
              "      <td>-121.935792</td>\n",
              "      <td>Successful</td>\n",
              "    </tr>\n",
              "    <tr>\n",
              "      <th>4</th>\n",
              "      <td>4</td>\n",
              "      <td>https://www.gofundme.com/teamclaire</td>\n",
              "      <td>Medical</td>\n",
              "      <td>1</td>\n",
              "      <td>Claire Wineland Needs Our Help</td>\n",
              "      <td>GARDEN GROVE, CA</td>\n",
              "      <td>236590.0</td>\n",
              "      <td>225000.0</td>\n",
              "      <td>8,393</td>\n",
              "      <td>60.0</td>\n",
              "      <td>6400.0</td>\n",
              "      <td>8900.0</td>\n",
              "      <td>Melissa Yeager needs your help today! Claire W...</td>\n",
              "      <td>33.774269</td>\n",
              "      <td>-117.937995</td>\n",
              "      <td>Successful</td>\n",
              "    </tr>\n",
              "  </tbody>\n",
              "</table>\n",
              "</div>\n",
              "    <div class=\"colab-df-buttons\">\n",
              "\n",
              "  <div class=\"colab-df-container\">\n",
              "    <button class=\"colab-df-convert\" onclick=\"convertToInteractive('df-5837c28c-0b4b-4114-a844-32dfaf6a96a5')\"\n",
              "            title=\"Convert this dataframe to an interactive table.\"\n",
              "            style=\"display:none;\">\n",
              "\n",
              "  <svg xmlns=\"http://www.w3.org/2000/svg\" height=\"24px\" viewBox=\"0 -960 960 960\">\n",
              "    <path d=\"M120-120v-720h720v720H120Zm60-500h600v-160H180v160Zm220 220h160v-160H400v160Zm0 220h160v-160H400v160ZM180-400h160v-160H180v160Zm440 0h160v-160H620v160ZM180-180h160v-160H180v160Zm440 0h160v-160H620v160Z\"/>\n",
              "  </svg>\n",
              "    </button>\n",
              "\n",
              "  <style>\n",
              "    .colab-df-container {\n",
              "      display:flex;\n",
              "      gap: 12px;\n",
              "    }\n",
              "\n",
              "    .colab-df-convert {\n",
              "      background-color: #E8F0FE;\n",
              "      border: none;\n",
              "      border-radius: 50%;\n",
              "      cursor: pointer;\n",
              "      display: none;\n",
              "      fill: #1967D2;\n",
              "      height: 32px;\n",
              "      padding: 0 0 0 0;\n",
              "      width: 32px;\n",
              "    }\n",
              "\n",
              "    .colab-df-convert:hover {\n",
              "      background-color: #E2EBFA;\n",
              "      box-shadow: 0px 1px 2px rgba(60, 64, 67, 0.3), 0px 1px 3px 1px rgba(60, 64, 67, 0.15);\n",
              "      fill: #174EA6;\n",
              "    }\n",
              "\n",
              "    .colab-df-buttons div {\n",
              "      margin-bottom: 4px;\n",
              "    }\n",
              "\n",
              "    [theme=dark] .colab-df-convert {\n",
              "      background-color: #3B4455;\n",
              "      fill: #D2E3FC;\n",
              "    }\n",
              "\n",
              "    [theme=dark] .colab-df-convert:hover {\n",
              "      background-color: #434B5C;\n",
              "      box-shadow: 0px 1px 3px 1px rgba(0, 0, 0, 0.15);\n",
              "      filter: drop-shadow(0px 1px 2px rgba(0, 0, 0, 0.3));\n",
              "      fill: #FFFFFF;\n",
              "    }\n",
              "  </style>\n",
              "\n",
              "    <script>\n",
              "      const buttonEl =\n",
              "        document.querySelector('#df-5837c28c-0b4b-4114-a844-32dfaf6a96a5 button.colab-df-convert');\n",
              "      buttonEl.style.display =\n",
              "        google.colab.kernel.accessAllowed ? 'block' : 'none';\n",
              "\n",
              "      async function convertToInteractive(key) {\n",
              "        const element = document.querySelector('#df-5837c28c-0b4b-4114-a844-32dfaf6a96a5');\n",
              "        const dataTable =\n",
              "          await google.colab.kernel.invokeFunction('convertToInteractive',\n",
              "                                                    [key], {});\n",
              "        if (!dataTable) return;\n",
              "\n",
              "        const docLinkHtml = 'Like what you see? Visit the ' +\n",
              "          '<a target=\"_blank\" href=https://colab.research.google.com/notebooks/data_table.ipynb>data table notebook</a>'\n",
              "          + ' to learn more about interactive tables.';\n",
              "        element.innerHTML = '';\n",
              "        dataTable['output_type'] = 'display_data';\n",
              "        await google.colab.output.renderOutput(dataTable, element);\n",
              "        const docLink = document.createElement('div');\n",
              "        docLink.innerHTML = docLinkHtml;\n",
              "        element.appendChild(docLink);\n",
              "      }\n",
              "    </script>\n",
              "  </div>\n",
              "\n",
              "\n",
              "<div id=\"df-fd7a8c1b-13d3-456b-88a2-ab69a3ccfcae\">\n",
              "  <button class=\"colab-df-quickchart\" onclick=\"quickchart('df-fd7a8c1b-13d3-456b-88a2-ab69a3ccfcae')\"\n",
              "            title=\"Suggest charts\"\n",
              "            style=\"display:none;\">\n",
              "\n",
              "<svg xmlns=\"http://www.w3.org/2000/svg\" height=\"24px\"viewBox=\"0 0 24 24\"\n",
              "     width=\"24px\">\n",
              "    <g>\n",
              "        <path d=\"M19 3H5c-1.1 0-2 .9-2 2v14c0 1.1.9 2 2 2h14c1.1 0 2-.9 2-2V5c0-1.1-.9-2-2-2zM9 17H7v-7h2v7zm4 0h-2V7h2v10zm4 0h-2v-4h2v4z\"/>\n",
              "    </g>\n",
              "</svg>\n",
              "  </button>\n",
              "\n",
              "<style>\n",
              "  .colab-df-quickchart {\n",
              "      --bg-color: #E8F0FE;\n",
              "      --fill-color: #1967D2;\n",
              "      --hover-bg-color: #E2EBFA;\n",
              "      --hover-fill-color: #174EA6;\n",
              "      --disabled-fill-color: #AAA;\n",
              "      --disabled-bg-color: #DDD;\n",
              "  }\n",
              "\n",
              "  [theme=dark] .colab-df-quickchart {\n",
              "      --bg-color: #3B4455;\n",
              "      --fill-color: #D2E3FC;\n",
              "      --hover-bg-color: #434B5C;\n",
              "      --hover-fill-color: #FFFFFF;\n",
              "      --disabled-bg-color: #3B4455;\n",
              "      --disabled-fill-color: #666;\n",
              "  }\n",
              "\n",
              "  .colab-df-quickchart {\n",
              "    background-color: var(--bg-color);\n",
              "    border: none;\n",
              "    border-radius: 50%;\n",
              "    cursor: pointer;\n",
              "    display: none;\n",
              "    fill: var(--fill-color);\n",
              "    height: 32px;\n",
              "    padding: 0;\n",
              "    width: 32px;\n",
              "  }\n",
              "\n",
              "  .colab-df-quickchart:hover {\n",
              "    background-color: var(--hover-bg-color);\n",
              "    box-shadow: 0 1px 2px rgba(60, 64, 67, 0.3), 0 1px 3px 1px rgba(60, 64, 67, 0.15);\n",
              "    fill: var(--button-hover-fill-color);\n",
              "  }\n",
              "\n",
              "  .colab-df-quickchart-complete:disabled,\n",
              "  .colab-df-quickchart-complete:disabled:hover {\n",
              "    background-color: var(--disabled-bg-color);\n",
              "    fill: var(--disabled-fill-color);\n",
              "    box-shadow: none;\n",
              "  }\n",
              "\n",
              "  .colab-df-spinner {\n",
              "    border: 2px solid var(--fill-color);\n",
              "    border-color: transparent;\n",
              "    border-bottom-color: var(--fill-color);\n",
              "    animation:\n",
              "      spin 1s steps(1) infinite;\n",
              "  }\n",
              "\n",
              "  @keyframes spin {\n",
              "    0% {\n",
              "      border-color: transparent;\n",
              "      border-bottom-color: var(--fill-color);\n",
              "      border-left-color: var(--fill-color);\n",
              "    }\n",
              "    20% {\n",
              "      border-color: transparent;\n",
              "      border-left-color: var(--fill-color);\n",
              "      border-top-color: var(--fill-color);\n",
              "    }\n",
              "    30% {\n",
              "      border-color: transparent;\n",
              "      border-left-color: var(--fill-color);\n",
              "      border-top-color: var(--fill-color);\n",
              "      border-right-color: var(--fill-color);\n",
              "    }\n",
              "    40% {\n",
              "      border-color: transparent;\n",
              "      border-right-color: var(--fill-color);\n",
              "      border-top-color: var(--fill-color);\n",
              "    }\n",
              "    60% {\n",
              "      border-color: transparent;\n",
              "      border-right-color: var(--fill-color);\n",
              "    }\n",
              "    80% {\n",
              "      border-color: transparent;\n",
              "      border-right-color: var(--fill-color);\n",
              "      border-bottom-color: var(--fill-color);\n",
              "    }\n",
              "    90% {\n",
              "      border-color: transparent;\n",
              "      border-bottom-color: var(--fill-color);\n",
              "    }\n",
              "  }\n",
              "</style>\n",
              "\n",
              "  <script>\n",
              "    async function quickchart(key) {\n",
              "      const quickchartButtonEl =\n",
              "        document.querySelector('#' + key + ' button');\n",
              "      quickchartButtonEl.disabled = true;  // To prevent multiple clicks.\n",
              "      quickchartButtonEl.classList.add('colab-df-spinner');\n",
              "      try {\n",
              "        const charts = await google.colab.kernel.invokeFunction(\n",
              "            'suggestCharts', [key], {});\n",
              "      } catch (error) {\n",
              "        console.error('Error during call to suggestCharts:', error);\n",
              "      }\n",
              "      quickchartButtonEl.classList.remove('colab-df-spinner');\n",
              "      quickchartButtonEl.classList.add('colab-df-quickchart-complete');\n",
              "    }\n",
              "    (() => {\n",
              "      let quickchartButtonEl =\n",
              "        document.querySelector('#df-fd7a8c1b-13d3-456b-88a2-ab69a3ccfcae button');\n",
              "      quickchartButtonEl.style.display =\n",
              "        google.colab.kernel.accessAllowed ? 'block' : 'none';\n",
              "    })();\n",
              "  </script>\n",
              "</div>\n",
              "\n",
              "    </div>\n",
              "  </div>\n"
            ],
            "application/vnd.google.colaboratory.intrinsic+json": {
              "type": "dataframe",
              "variable_name": "df",
              "summary": "{\n  \"name\": \"df\",\n  \"rows\": 1239,\n  \"fields\": [\n    {\n      \"column\": \"Unnamed: 0\",\n      \"properties\": {\n        \"dtype\": \"number\",\n        \"std\": 358,\n        \"min\": 0,\n        \"max\": 1241,\n        \"num_unique_values\": 1239,\n        \"samples\": [\n          417,\n          259,\n          334\n        ],\n        \"semantic_type\": \"\",\n        \"description\": \"\"\n      }\n    },\n    {\n      \"column\": \"Url\",\n      \"properties\": {\n        \"dtype\": \"string\",\n        \"num_unique_values\": 1231,\n        \"samples\": [\n          \"https://www.gofundme.com/competition-civics-nationals-2018\",\n          \"https://www.gofundme.com/btvmission\",\n          \"https://www.gofundme.com/rememberingsean\"\n        ],\n        \"semantic_type\": \"\",\n        \"description\": \"\"\n      }\n    },\n    {\n      \"column\": \"Category\",\n      \"properties\": {\n        \"dtype\": \"category\",\n        \"num_unique_values\": 18,\n        \"samples\": [\n          \"Medical\",\n          \"Memorial\",\n          \"Competition\"\n        ],\n        \"semantic_type\": \"\",\n        \"description\": \"\"\n      }\n    },\n    {\n      \"column\": \"Position\",\n      \"properties\": {\n        \"dtype\": \"category\",\n        \"num_unique_values\": 24,\n        \"samples\": [\n          \"8\",\n          \"16\",\n          \"0\"\n        ],\n        \"semantic_type\": \"\",\n        \"description\": \"\"\n      }\n    },\n    {\n      \"column\": \"Title\",\n      \"properties\": {\n        \"dtype\": \"string\",\n        \"num_unique_values\": 1231,\n        \"samples\": [\n          \"Competition Civics Nationals 2018\",\n          \"Beyond The Veil: Egypt 2018\",\n          \"Supporting Sean & Those with Autism\"\n        ],\n        \"semantic_type\": \"\",\n        \"description\": \"\"\n      }\n    },\n    {\n      \"column\": \"Location\",\n      \"properties\": {\n        \"dtype\": \"string\",\n        \"num_unique_values\": 753,\n        \"samples\": [\n          \"MURFREESBORO, TN\",\n          \"WINDHAM, ME\",\n          \"SEWELL, NJ\"\n        ],\n        \"semantic_type\": \"\",\n        \"description\": \"\"\n      }\n    },\n    {\n      \"column\": \"Amount_Raised\",\n      \"properties\": {\n        \"dtype\": \"number\",\n        \"std\": 134802.88723799353,\n        \"min\": 1935.0,\n        \"max\": 3584330.0,\n        \"num_unique_values\": 1181,\n        \"samples\": [\n          62450.0,\n          13875.0,\n          3700.0\n        ],\n        \"semantic_type\": \"\",\n        \"description\": \"\"\n      }\n    },\n    {\n      \"column\": \"Goal\",\n      \"properties\": {\n        \"dtype\": \"number\",\n        \"std\": 219137.23632291553,\n        \"min\": 1.0,\n        \"max\": 3800000.0,\n        \"num_unique_values\": 153,\n        \"samples\": [\n          6200.0,\n          1800000.0,\n          4142.0\n        ],\n        \"semantic_type\": \"\",\n        \"description\": \"\"\n      }\n    },\n    {\n      \"column\": \"Number_of_Donators\",\n      \"properties\": {\n        \"dtype\": \"category\",\n        \"num_unique_values\": 606,\n        \"samples\": [\n          \"151\",\n          \"2,858\",\n          \"3,482\"\n        ],\n        \"semantic_type\": \"\",\n        \"description\": \"\"\n      }\n    },\n    {\n      \"column\": \"Length_of_Fundraising\",\n      \"properties\": {\n        \"dtype\": \"number\",\n        \"std\": 49.63969946424081,\n        \"min\": 7.0,\n        \"max\": 180.0,\n        \"num_unique_values\": 29,\n        \"samples\": [\n          7.0,\n          21.0,\n          20.0\n        ],\n        \"semantic_type\": \"\",\n        \"description\": \"\"\n      }\n    },\n    {\n      \"column\": \"FB_Shares\",\n      \"properties\": {\n        \"dtype\": \"number\",\n        \"std\": 5254.852030991441,\n        \"min\": 2.0,\n        \"max\": 117000.0,\n        \"num_unique_values\": 582,\n        \"samples\": [\n          146.0,\n          351.0,\n          5300.0\n        ],\n        \"semantic_type\": \"\",\n        \"description\": \"\"\n      }\n    },\n    {\n      \"column\": \"GFM_hearts\",\n      \"properties\": {\n        \"dtype\": \"number\",\n        \"std\": 2019.132141945631,\n        \"min\": 1.0,\n        \"max\": 44000.0,\n        \"num_unique_values\": 499,\n        \"samples\": [\n          25.0,\n          318.0,\n          437.0\n        ],\n        \"semantic_type\": \"\",\n        \"description\": \"\"\n      }\n    },\n    {\n      \"column\": \"Text\",\n      \"properties\": {\n        \"dtype\": \"string\",\n        \"num_unique_values\": 1230,\n        \"samples\": [\n          \"Erica Dorenkamp needs your help today! Send Watertown DI to Global Finals - We are a group of high school freshmen who are part of Watertown DI. Watertown DI is a chapter of the organization Destination Imagination (DI) and have earned the opportunity to compete in the global finals in Knoxville, Tennessee.  Destination Imagination is an organization that teaches kids th...\",\n          \"Milton Academy needs your help today! Milton Academy - Dear MA Lower School Families,  We are starting to plan the Faculty Appreciation Event for the Lower School. We are excited to continue this joyous annual tradition on behalf of the Lower School Parent Association, to honor our wonderful teachers, administrators and staff members.  Money donated...\",\n          \"Corrinne Mestayer needs your help today! Supporting Sean & Those with Autism - On Sunday, July 1st, 2018, our beautiful son and brother, Sean Franklin Salvo, unexpectedly left this world. Words cannot express our grief and deep sense of loss. As we struggle to imagine our lives without Sean, we find ourselves thinking deeply about the unique joys and challenges of living wi...\"\n        ],\n        \"semantic_type\": \"\",\n        \"description\": \"\"\n      }\n    },\n    {\n      \"column\": \"Latitude\",\n      \"properties\": {\n        \"dtype\": \"number\",\n        \"std\": 5.2582616607904695,\n        \"min\": 17.7466397,\n        \"max\": 61.5813889,\n        \"num_unique_values\": 745,\n        \"samples\": [\n          42.3709299,\n          33.7825194,\n          34.0028786\n        ],\n        \"semantic_type\": \"\",\n        \"description\": \"\"\n      }\n    },\n    {\n      \"column\": \"Longitude\",\n      \"properties\": {\n        \"dtype\": \"number\",\n        \"std\": 19.449667075823793,\n        \"min\": -159.4977455,\n        \"max\": -64.7031977,\n        \"num_unique_values\": 744,\n        \"samples\": [\n          -74.3882072,\n          -119.2470536,\n          -80.1071379\n        ],\n        \"semantic_type\": \"\",\n        \"description\": \"\"\n      }\n    },\n    {\n      \"column\": \"Success\",\n      \"properties\": {\n        \"dtype\": \"category\",\n        \"num_unique_values\": 2,\n        \"samples\": [\n          \"Unsuccessful\",\n          \"Successful\"\n        ],\n        \"semantic_type\": \"\",\n        \"description\": \"\"\n      }\n    }\n  ]\n}"
            }
          },
          "metadata": {},
          "execution_count": 330
        }
      ]
    },
    {
      "cell_type": "code",
      "source": [
        "fig = px.histogram(df, x = \"Length_of_Fundraising\", color = \"Success\",\n",
        "                   title = \"Length of Fundraising by Success\")\n",
        "fig.update_xaxes(title_text=\"Length of Fundraising (days)\")\n",
        "fig.update_yaxes(title_text=\"Frequency of Successes\")"
      ],
      "metadata": {
        "colab": {
          "base_uri": "https://localhost:8080/",
          "height": 542
        },
        "id": "GaZJQkT7wPi0",
        "outputId": "73cd136d-75ca-4594-b924-6b581002f673"
      },
      "execution_count": null,
      "outputs": [
        {
          "output_type": "display_data",
          "data": {
            "text/html": [
              "<html>\n",
              "<head><meta charset=\"utf-8\" /></head>\n",
              "<body>\n",
              "    <div>            <script src=\"https://cdnjs.cloudflare.com/ajax/libs/mathjax/2.7.5/MathJax.js?config=TeX-AMS-MML_SVG\"></script><script type=\"text/javascript\">if (window.MathJax && window.MathJax.Hub && window.MathJax.Hub.Config) {window.MathJax.Hub.Config({SVG: {font: \"STIX-Web\"}});}</script>                <script type=\"text/javascript\">window.PlotlyConfig = {MathJaxConfig: 'local'};</script>\n",
              "        <script charset=\"utf-8\" src=\"https://cdn.plot.ly/plotly-2.35.2.min.js\"></script>                <div id=\"de81f566-3c88-4bf5-a12d-e08c66db3aae\" class=\"plotly-graph-div\" style=\"height:525px; width:100%;\"></div>            <script type=\"text/javascript\">                                    window.PLOTLYENV=window.PLOTLYENV || {};                                    if (document.getElementById(\"de81f566-3c88-4bf5-a12d-e08c66db3aae\")) {                    Plotly.newPlot(                        \"de81f566-3c88-4bf5-a12d-e08c66db3aae\",                        [{\"alignmentgroup\":\"True\",\"bingroup\":\"x\",\"hovertemplate\":\"Success=Successful\\u003cbr\\u003eLength_of_Fundraising=%{x}\\u003cbr\\u003ecount=%{y}\\u003cextra\\u003e\\u003c\\u002fextra\\u003e\",\"legendgroup\":\"Successful\",\"marker\":{\"color\":\"#636efa\",\"pattern\":{\"shape\":\"\"}},\"name\":\"Successful\",\"offsetgroup\":\"Successful\",\"orientation\":\"v\",\"showlegend\":true,\"x\":[30.0,30.0,60.0,60.0,150.0,30.0,150.0,60.0,60.0,150.0,90.0,150.0,60.0,15.0,90.0,60.0,90.0,30.0,60.0,30.0,150.0,150.0,60.0,90.0,150.0,30.0,30.0,30.0,60.0,60.0,60.0,26.0,90.0,60.0,150.0,23.0,60.0,30.0,30.0,60.0,30.0,18.0,180.0,30.0,150.0,90.0,150.0,150.0,30.0,25.0,17.0,150.0,60.0,180.0,12.0,90.0,12.0,30.0,30.0,30.0,30.0,30.0,30.0,60.0,150.0,18.0,30.0,120.0,16.0,60.0,150.0,90.0,30.0,120.0,60.0,30.0,90.0,150.0,17.0,90.0,180.0,30.0,14.0,150.0,90.0,90.0,120.0,90.0,150.0,120.0,30.0,90.0,180.0,60.0,21.0,90.0,90.0,60.0,60.0,90.0,90.0,60.0,60.0,60.0,24.0,120.0,120.0,120.0,120.0,150.0,23.0,150.0,90.0,90.0,120.0,30.0,90.0,60.0,120.0,90.0,30.0,13.0,60.0,150.0,30.0,30.0,90.0,150.0,120.0,18.0,15.0,23.0,30.0,24.0,90.0,90.0,150.0,60.0,150.0,120.0,90.0,60.0,60.0,120.0,180.0,150.0,120.0,60.0,60.0,120.0,17.0,30.0,60.0,150.0,120.0,120.0,30.0,90.0,90.0,30.0,30.0,60.0,60.0,120.0,150.0,30.0,90.0,150.0,90.0,25.0,60.0,150.0,90.0,120.0,8.0,90.0,60.0,150.0,90.0,180.0,60.0,15.0,150.0,150.0,120.0,60.0,90.0,60.0,30.0,90.0,120.0,120.0,60.0,20.0,120.0,30.0,150.0,90.0,120.0,30.0,90.0,60.0,180.0,180.0,11.0,90.0,30.0,90.0,90.0,150.0,60.0,16.0,90.0,150.0,30.0,120.0,90.0,28.0,26.0,60.0,120.0,150.0,60.0,90.0,60.0,90.0,30.0,60.0,150.0,90.0,90.0,120.0,90.0,90.0,90.0,26.0,150.0,30.0,90.0,8.0,60.0,120.0,150.0,150.0,120.0,150.0,150.0,120.0,180.0,180.0,90.0,180.0,60.0,27.0,90.0,120.0,150.0,60.0,120.0,30.0,90.0,180.0,150.0,150.0,150.0,150.0,120.0,60.0,30.0,60.0,60.0,60.0,150.0,120.0,120.0,30.0,150.0,150.0,60.0,60.0,120.0,90.0,120.0,150.0,120.0,22.0,30.0,60.0,30.0,60.0,60.0,90.0,30.0,60.0,90.0,30.0,150.0,90.0,10.0,30.0,90.0,150.0,90.0,150.0,30.0,60.0,30.0,90.0,90.0,60.0,90.0,150.0,120.0,90.0,120.0,30.0,90.0,60.0,120.0,120.0,90.0,90.0,150.0,120.0,90.0,150.0,150.0,90.0,30.0,150.0,30.0,30.0,60.0,90.0,30.0,120.0,90.0,30.0,90.0,22.0,90.0,30.0,90.0,30.0,150.0,90.0,120.0,30.0,30.0,30.0,60.0,120.0,150.0,60.0,120.0,90.0,30.0,27.0,90.0,150.0,90.0,120.0,120.0,150.0,90.0,90.0,120.0,150.0,90.0,30.0,120.0,150.0,60.0,120.0,120.0,180.0,19.0,120.0,90.0,120.0,150.0,150.0,90.0,30.0,90.0,90.0,90.0,90.0,60.0,180.0,30.0,120.0,15.0,90.0,150.0,150.0,150.0,60.0,30.0,60.0,60.0,150.0,30.0,120.0,30.0,60.0,150.0,60.0,120.0,150.0,30.0,90.0,120.0,90.0,27.0,90.0,60.0,120.0,120.0,120.0,60.0,60.0,60.0,22.0,90.0,90.0,150.0,30.0,60.0,180.0,180.0,30.0,30.0,30.0,60.0,60.0,60.0,60.0,90.0,120.0,21.0,60.0,60.0,150.0,30.0,120.0,90.0,60.0,150.0,90.0,150.0,14.0,150.0,30.0,150.0],\"xaxis\":\"x\",\"yaxis\":\"y\",\"type\":\"histogram\"},{\"alignmentgroup\":\"True\",\"bingroup\":\"x\",\"hovertemplate\":\"Success=Unsuccessful\\u003cbr\\u003eLength_of_Fundraising=%{x}\\u003cbr\\u003ecount=%{y}\\u003cextra\\u003e\\u003c\\u002fextra\\u003e\",\"legendgroup\":\"Unsuccessful\",\"marker\":{\"color\":\"#EF553B\",\"pattern\":{\"shape\":\"\"}},\"name\":\"Unsuccessful\",\"offsetgroup\":\"Unsuccessful\",\"orientation\":\"v\",\"showlegend\":true,\"x\":[90.0,60.0,150.0,180.0,30.0,150.0,30.0,90.0,12.0,90.0,180.0,90.0,90.0,150.0,90.0,60.0,30.0,90.0,30.0,30.0,30.0,90.0,30.0,30.0,180.0,120.0,150.0,180.0,120.0,60.0,150.0,30.0,90.0,22.0,150.0,90.0,90.0,120.0,30.0,90.0,120.0,30.0,30.0,30.0,150.0,60.0,29.0,150.0,30.0,30.0,20.0,12.0,30.0,12.0,120.0,120.0,120.0,150.0,150.0,150.0,180.0,30.0,30.0,120.0,30.0,60.0,150.0,30.0,150.0,30.0,30.0,90.0,30.0,120.0,120.0,90.0,120.0,60.0,30.0,21.0,180.0,180.0,180.0,60.0,60.0,30.0,120.0,60.0,90.0,30.0,27.0,24.0,60.0,30.0,30.0,120.0,60.0,60.0,120.0,28.0,30.0,60.0,13.0,30.0,150.0,180.0,60.0,60.0,60.0,10.0,120.0,26.0,60.0,30.0,30.0,30.0,22.0,60.0,90.0,90.0,120.0,18.0,90.0,60.0,90.0,60.0,120.0,90.0,120.0,60.0,60.0,30.0,60.0,60.0,90.0,90.0,60.0,60.0,150.0,180.0,150.0,30.0,90.0,150.0,30.0,180.0,120.0,90.0,90.0,120.0,120.0,120.0,30.0,60.0,150.0,30.0,60.0,30.0,150.0,30.0,180.0,180.0,150.0,30.0,60.0,60.0,180.0,150.0,60.0,150.0,60.0,90.0,120.0,30.0,13.0,60.0,30.0,null,150.0,120.0,120.0,30.0,90.0,150.0,30.0,150.0,29.0,30.0,30.0,150.0,120.0,120.0,120.0,30.0,60.0,60.0,120.0,60.0,90.0,180.0,180.0,150.0,90.0,30.0,150.0,120.0,150.0,30.0,30.0,120.0,60.0,90.0,30.0,150.0,60.0,180.0,120.0,120.0,60.0,30.0,19.0,30.0,150.0,90.0,90.0,8.0,150.0,150.0,60.0,60.0,150.0,60.0,150.0,30.0,150.0,150.0,10.0,12.0,8.0,9.0,7.0,8.0,22.0,90.0,60.0,150.0,30.0,60.0,60.0,25.0,30.0,120.0,10.0,120.0,90.0,30.0,120.0,90.0,120.0,150.0,30.0,180.0,60.0,60.0,150.0,60.0,150.0,120.0,120.0,30.0,180.0,30.0,120.0,60.0,180.0,30.0,30.0,150.0,60.0,120.0,60.0,150.0,120.0,30.0,90.0,150.0,120.0,16.0,120.0,150.0,60.0,150.0,90.0,90.0,180.0,150.0,120.0,30.0,120.0,90.0,30.0,null,180.0,150.0,90.0,27.0,180.0,150.0,150.0,60.0,60.0,30.0,150.0,120.0,28.0,60.0,150.0,90.0,180.0,150.0,90.0,7.0,150.0,30.0,120.0,150.0,180.0,120.0,150.0,150.0,90.0,180.0,120.0,180.0,60.0,60.0,30.0,150.0,150.0,90.0,30.0,120.0,90.0,30.0,120.0,150.0,120.0,120.0,150.0,150.0,60.0,120.0,120.0,60.0,26.0,180.0,120.0,150.0,150.0,150.0,120.0,120.0,120.0,120.0,150.0,150.0,90.0,60.0,180.0,150.0,120.0,120.0,120.0,60.0,180.0,150.0,120.0,120.0,180.0,120.0,120.0,30.0,30.0,150.0,150.0,60.0,90.0,120.0,60.0,150.0,29.0,150.0,30.0,180.0,30.0,60.0,150.0,60.0,60.0,30.0,120.0,180.0,120.0,90.0,30.0,60.0,60.0,90.0,60.0,15.0,120.0,150.0,120.0,90.0,120.0,150.0,60.0,150.0,120.0,150.0,150.0,150.0,60.0,150.0,90.0,60.0,120.0,150.0,120.0,120.0,90.0,150.0,120.0,30.0,150.0,9.0,150.0,180.0,60.0,180.0,90.0,150.0,180.0,150.0,60.0,60.0,30.0,180.0,30.0,60.0,120.0,90.0,60.0,150.0,150.0,60.0,90.0,120.0,150.0,null,90.0,120.0,120.0,90.0,30.0,60.0,60.0,120.0,60.0,30.0,23.0,150.0,120.0,150.0,120.0,30.0,150.0,30.0,150.0,150.0,60.0,60.0,150.0,null,150.0,60.0,60.0,150.0,120.0,null,30.0,30.0,90.0,120.0,150.0,16.0,120.0,120.0,90.0,120.0,180.0,120.0,120.0,150.0,60.0,60.0,23.0,11.0,60.0,90.0,150.0,120.0,120.0,60.0,90.0,120.0,60.0,90.0,30.0,60.0,150.0,120.0,30.0,60.0,90.0,120.0,30.0,60.0,60.0,60.0,150.0,150.0,180.0,150.0,29.0,30.0,30.0,120.0,120.0,30.0,120.0,60.0,90.0,150.0,13.0,22.0,120.0,60.0,120.0,90.0,30.0,60.0,150.0,60.0,90.0,150.0,120.0,120.0,120.0,90.0,30.0,90.0,120.0,30.0,120.0,120.0,60.0,30.0,120.0,90.0,180.0,90.0,120.0,60.0,60.0,30.0,30.0,90.0,90.0,150.0,60.0,180.0,60.0,60.0,120.0,90.0,150.0,14.0,120.0,120.0,30.0,180.0,90.0,90.0,30.0,90.0,30.0,120.0,120.0,90.0,30.0,30.0,60.0,150.0,90.0,30.0,120.0,150.0,25.0,150.0,30.0,90.0,150.0,150.0,60.0,null,150.0,22.0,60.0,90.0,60.0,23.0,30.0,150.0,24.0,150.0,60.0,180.0,90.0,30.0,150.0,23.0,180.0,28.0,150.0,120.0,150.0,120.0,90.0,120.0,150.0,23.0,60.0,21.0,30.0,30.0,30.0,90.0,30.0,9.0,150.0,29.0,60.0,60.0,60.0,30.0,30.0,30.0,60.0,30.0,120.0,120.0,150.0,30.0,90.0,30.0,30.0,150.0,30.0,30.0,150.0,120.0,90.0,60.0,90.0,60.0,120.0,120.0,null,150.0,180.0,9.0,90.0,30.0,120.0,120.0,150.0,120.0,90.0,60.0,120.0,60.0,null,120.0,150.0,60.0,90.0,60.0,90.0,30.0,30.0,120.0,150.0,30.0,150.0,150.0,120.0,30.0,150.0,9.0,120.0,30.0,30.0,90.0,150.0,60.0,60.0,180.0,60.0,60.0,18.0,60.0,120.0,30.0,150.0,60.0,150.0,90.0,17.0,30.0,60.0,120.0,150.0,120.0,60.0,120.0,90.0,180.0,60.0,150.0,30.0,90.0,60.0,150.0,13.0,60.0,150.0,30.0,60.0,30.0,30.0,16.0,90.0,30.0,60.0,60.0,180.0,90.0,60.0,30.0,150.0,150.0,120.0,16.0,90.0,150.0,14.0,30.0,60.0,60.0,30.0,90.0,120.0,150.0,180.0,90.0,90.0,30.0,29.0,150.0,30.0,27.0,90.0,150.0],\"xaxis\":\"x\",\"yaxis\":\"y\",\"type\":\"histogram\"}],                        {\"template\":{\"data\":{\"histogram2dcontour\":[{\"type\":\"histogram2dcontour\",\"colorbar\":{\"outlinewidth\":0,\"ticks\":\"\"},\"colorscale\":[[0.0,\"#0d0887\"],[0.1111111111111111,\"#46039f\"],[0.2222222222222222,\"#7201a8\"],[0.3333333333333333,\"#9c179e\"],[0.4444444444444444,\"#bd3786\"],[0.5555555555555556,\"#d8576b\"],[0.6666666666666666,\"#ed7953\"],[0.7777777777777778,\"#fb9f3a\"],[0.8888888888888888,\"#fdca26\"],[1.0,\"#f0f921\"]]}],\"choropleth\":[{\"type\":\"choropleth\",\"colorbar\":{\"outlinewidth\":0,\"ticks\":\"\"}}],\"histogram2d\":[{\"type\":\"histogram2d\",\"colorbar\":{\"outlinewidth\":0,\"ticks\":\"\"},\"colorscale\":[[0.0,\"#0d0887\"],[0.1111111111111111,\"#46039f\"],[0.2222222222222222,\"#7201a8\"],[0.3333333333333333,\"#9c179e\"],[0.4444444444444444,\"#bd3786\"],[0.5555555555555556,\"#d8576b\"],[0.6666666666666666,\"#ed7953\"],[0.7777777777777778,\"#fb9f3a\"],[0.8888888888888888,\"#fdca26\"],[1.0,\"#f0f921\"]]}],\"heatmap\":[{\"type\":\"heatmap\",\"colorbar\":{\"outlinewidth\":0,\"ticks\":\"\"},\"colorscale\":[[0.0,\"#0d0887\"],[0.1111111111111111,\"#46039f\"],[0.2222222222222222,\"#7201a8\"],[0.3333333333333333,\"#9c179e\"],[0.4444444444444444,\"#bd3786\"],[0.5555555555555556,\"#d8576b\"],[0.6666666666666666,\"#ed7953\"],[0.7777777777777778,\"#fb9f3a\"],[0.8888888888888888,\"#fdca26\"],[1.0,\"#f0f921\"]]}],\"heatmapgl\":[{\"type\":\"heatmapgl\",\"colorbar\":{\"outlinewidth\":0,\"ticks\":\"\"},\"colorscale\":[[0.0,\"#0d0887\"],[0.1111111111111111,\"#46039f\"],[0.2222222222222222,\"#7201a8\"],[0.3333333333333333,\"#9c179e\"],[0.4444444444444444,\"#bd3786\"],[0.5555555555555556,\"#d8576b\"],[0.6666666666666666,\"#ed7953\"],[0.7777777777777778,\"#fb9f3a\"],[0.8888888888888888,\"#fdca26\"],[1.0,\"#f0f921\"]]}],\"contourcarpet\":[{\"type\":\"contourcarpet\",\"colorbar\":{\"outlinewidth\":0,\"ticks\":\"\"}}],\"contour\":[{\"type\":\"contour\",\"colorbar\":{\"outlinewidth\":0,\"ticks\":\"\"},\"colorscale\":[[0.0,\"#0d0887\"],[0.1111111111111111,\"#46039f\"],[0.2222222222222222,\"#7201a8\"],[0.3333333333333333,\"#9c179e\"],[0.4444444444444444,\"#bd3786\"],[0.5555555555555556,\"#d8576b\"],[0.6666666666666666,\"#ed7953\"],[0.7777777777777778,\"#fb9f3a\"],[0.8888888888888888,\"#fdca26\"],[1.0,\"#f0f921\"]]}],\"surface\":[{\"type\":\"surface\",\"colorbar\":{\"outlinewidth\":0,\"ticks\":\"\"},\"colorscale\":[[0.0,\"#0d0887\"],[0.1111111111111111,\"#46039f\"],[0.2222222222222222,\"#7201a8\"],[0.3333333333333333,\"#9c179e\"],[0.4444444444444444,\"#bd3786\"],[0.5555555555555556,\"#d8576b\"],[0.6666666666666666,\"#ed7953\"],[0.7777777777777778,\"#fb9f3a\"],[0.8888888888888888,\"#fdca26\"],[1.0,\"#f0f921\"]]}],\"mesh3d\":[{\"type\":\"mesh3d\",\"colorbar\":{\"outlinewidth\":0,\"ticks\":\"\"}}],\"scatter\":[{\"fillpattern\":{\"fillmode\":\"overlay\",\"size\":10,\"solidity\":0.2},\"type\":\"scatter\"}],\"parcoords\":[{\"type\":\"parcoords\",\"line\":{\"colorbar\":{\"outlinewidth\":0,\"ticks\":\"\"}}}],\"scatterpolargl\":[{\"type\":\"scatterpolargl\",\"marker\":{\"colorbar\":{\"outlinewidth\":0,\"ticks\":\"\"}}}],\"bar\":[{\"error_x\":{\"color\":\"#2a3f5f\"},\"error_y\":{\"color\":\"#2a3f5f\"},\"marker\":{\"line\":{\"color\":\"#E5ECF6\",\"width\":0.5},\"pattern\":{\"fillmode\":\"overlay\",\"size\":10,\"solidity\":0.2}},\"type\":\"bar\"}],\"scattergeo\":[{\"type\":\"scattergeo\",\"marker\":{\"colorbar\":{\"outlinewidth\":0,\"ticks\":\"\"}}}],\"scatterpolar\":[{\"type\":\"scatterpolar\",\"marker\":{\"colorbar\":{\"outlinewidth\":0,\"ticks\":\"\"}}}],\"histogram\":[{\"marker\":{\"pattern\":{\"fillmode\":\"overlay\",\"size\":10,\"solidity\":0.2}},\"type\":\"histogram\"}],\"scattergl\":[{\"type\":\"scattergl\",\"marker\":{\"colorbar\":{\"outlinewidth\":0,\"ticks\":\"\"}}}],\"scatter3d\":[{\"type\":\"scatter3d\",\"line\":{\"colorbar\":{\"outlinewidth\":0,\"ticks\":\"\"}},\"marker\":{\"colorbar\":{\"outlinewidth\":0,\"ticks\":\"\"}}}],\"scattermapbox\":[{\"type\":\"scattermapbox\",\"marker\":{\"colorbar\":{\"outlinewidth\":0,\"ticks\":\"\"}}}],\"scatterternary\":[{\"type\":\"scatterternary\",\"marker\":{\"colorbar\":{\"outlinewidth\":0,\"ticks\":\"\"}}}],\"scattercarpet\":[{\"type\":\"scattercarpet\",\"marker\":{\"colorbar\":{\"outlinewidth\":0,\"ticks\":\"\"}}}],\"carpet\":[{\"aaxis\":{\"endlinecolor\":\"#2a3f5f\",\"gridcolor\":\"white\",\"linecolor\":\"white\",\"minorgridcolor\":\"white\",\"startlinecolor\":\"#2a3f5f\"},\"baxis\":{\"endlinecolor\":\"#2a3f5f\",\"gridcolor\":\"white\",\"linecolor\":\"white\",\"minorgridcolor\":\"white\",\"startlinecolor\":\"#2a3f5f\"},\"type\":\"carpet\"}],\"table\":[{\"cells\":{\"fill\":{\"color\":\"#EBF0F8\"},\"line\":{\"color\":\"white\"}},\"header\":{\"fill\":{\"color\":\"#C8D4E3\"},\"line\":{\"color\":\"white\"}},\"type\":\"table\"}],\"barpolar\":[{\"marker\":{\"line\":{\"color\":\"#E5ECF6\",\"width\":0.5},\"pattern\":{\"fillmode\":\"overlay\",\"size\":10,\"solidity\":0.2}},\"type\":\"barpolar\"}],\"pie\":[{\"automargin\":true,\"type\":\"pie\"}]},\"layout\":{\"autotypenumbers\":\"strict\",\"colorway\":[\"#636efa\",\"#EF553B\",\"#00cc96\",\"#ab63fa\",\"#FFA15A\",\"#19d3f3\",\"#FF6692\",\"#B6E880\",\"#FF97FF\",\"#FECB52\"],\"font\":{\"color\":\"#2a3f5f\"},\"hovermode\":\"closest\",\"hoverlabel\":{\"align\":\"left\"},\"paper_bgcolor\":\"white\",\"plot_bgcolor\":\"#E5ECF6\",\"polar\":{\"bgcolor\":\"#E5ECF6\",\"angularaxis\":{\"gridcolor\":\"white\",\"linecolor\":\"white\",\"ticks\":\"\"},\"radialaxis\":{\"gridcolor\":\"white\",\"linecolor\":\"white\",\"ticks\":\"\"}},\"ternary\":{\"bgcolor\":\"#E5ECF6\",\"aaxis\":{\"gridcolor\":\"white\",\"linecolor\":\"white\",\"ticks\":\"\"},\"baxis\":{\"gridcolor\":\"white\",\"linecolor\":\"white\",\"ticks\":\"\"},\"caxis\":{\"gridcolor\":\"white\",\"linecolor\":\"white\",\"ticks\":\"\"}},\"coloraxis\":{\"colorbar\":{\"outlinewidth\":0,\"ticks\":\"\"}},\"colorscale\":{\"sequential\":[[0.0,\"#0d0887\"],[0.1111111111111111,\"#46039f\"],[0.2222222222222222,\"#7201a8\"],[0.3333333333333333,\"#9c179e\"],[0.4444444444444444,\"#bd3786\"],[0.5555555555555556,\"#d8576b\"],[0.6666666666666666,\"#ed7953\"],[0.7777777777777778,\"#fb9f3a\"],[0.8888888888888888,\"#fdca26\"],[1.0,\"#f0f921\"]],\"sequentialminus\":[[0.0,\"#0d0887\"],[0.1111111111111111,\"#46039f\"],[0.2222222222222222,\"#7201a8\"],[0.3333333333333333,\"#9c179e\"],[0.4444444444444444,\"#bd3786\"],[0.5555555555555556,\"#d8576b\"],[0.6666666666666666,\"#ed7953\"],[0.7777777777777778,\"#fb9f3a\"],[0.8888888888888888,\"#fdca26\"],[1.0,\"#f0f921\"]],\"diverging\":[[0,\"#8e0152\"],[0.1,\"#c51b7d\"],[0.2,\"#de77ae\"],[0.3,\"#f1b6da\"],[0.4,\"#fde0ef\"],[0.5,\"#f7f7f7\"],[0.6,\"#e6f5d0\"],[0.7,\"#b8e186\"],[0.8,\"#7fbc41\"],[0.9,\"#4d9221\"],[1,\"#276419\"]]},\"xaxis\":{\"gridcolor\":\"white\",\"linecolor\":\"white\",\"ticks\":\"\",\"title\":{\"standoff\":15},\"zerolinecolor\":\"white\",\"automargin\":true,\"zerolinewidth\":2},\"yaxis\":{\"gridcolor\":\"white\",\"linecolor\":\"white\",\"ticks\":\"\",\"title\":{\"standoff\":15},\"zerolinecolor\":\"white\",\"automargin\":true,\"zerolinewidth\":2},\"scene\":{\"xaxis\":{\"backgroundcolor\":\"#E5ECF6\",\"gridcolor\":\"white\",\"linecolor\":\"white\",\"showbackground\":true,\"ticks\":\"\",\"zerolinecolor\":\"white\",\"gridwidth\":2},\"yaxis\":{\"backgroundcolor\":\"#E5ECF6\",\"gridcolor\":\"white\",\"linecolor\":\"white\",\"showbackground\":true,\"ticks\":\"\",\"zerolinecolor\":\"white\",\"gridwidth\":2},\"zaxis\":{\"backgroundcolor\":\"#E5ECF6\",\"gridcolor\":\"white\",\"linecolor\":\"white\",\"showbackground\":true,\"ticks\":\"\",\"zerolinecolor\":\"white\",\"gridwidth\":2}},\"shapedefaults\":{\"line\":{\"color\":\"#2a3f5f\"}},\"annotationdefaults\":{\"arrowcolor\":\"#2a3f5f\",\"arrowhead\":0,\"arrowwidth\":1},\"geo\":{\"bgcolor\":\"white\",\"landcolor\":\"#E5ECF6\",\"subunitcolor\":\"white\",\"showland\":true,\"showlakes\":true,\"lakecolor\":\"white\"},\"title\":{\"x\":0.05},\"mapbox\":{\"style\":\"light\"}}},\"xaxis\":{\"anchor\":\"y\",\"domain\":[0.0,1.0],\"title\":{\"text\":\"Length of Fundraising (days)\"}},\"yaxis\":{\"anchor\":\"x\",\"domain\":[0.0,1.0],\"title\":{\"text\":\"Frequency of Successes\"}},\"legend\":{\"title\":{\"text\":\"Success\"},\"tracegroupgap\":0},\"title\":{\"text\":\"Length of Fundraising by Success\"},\"barmode\":\"relative\"},                        {\"responsive\": true}                    ).then(function(){\n",
              "                            \n",
              "var gd = document.getElementById('de81f566-3c88-4bf5-a12d-e08c66db3aae');\n",
              "var x = new MutationObserver(function (mutations, observer) {{\n",
              "        var display = window.getComputedStyle(gd).display;\n",
              "        if (!display || display === 'none') {{\n",
              "            console.log([gd, 'removed!']);\n",
              "            Plotly.purge(gd);\n",
              "            observer.disconnect();\n",
              "        }}\n",
              "}});\n",
              "\n",
              "// Listen for the removal of the full notebook cells\n",
              "var notebookContainer = gd.closest('#notebook-container');\n",
              "if (notebookContainer) {{\n",
              "    x.observe(notebookContainer, {childList: true});\n",
              "}}\n",
              "\n",
              "// Listen for the clearing of the current output cell\n",
              "var outputEl = gd.closest('.output');\n",
              "if (outputEl) {{\n",
              "    x.observe(outputEl, {childList: true});\n",
              "}}\n",
              "\n",
              "                        })                };                            </script>        </div>\n",
              "</body>\n",
              "</html>"
            ]
          },
          "metadata": {}
        }
      ]
    },
    {
      "cell_type": "code",
      "source": [
        "fig = px.box(df, x = \"Success\", y = \"Length_of_Fundraising\", color = \"Success\",\n",
        "                   title = \"Length of GoFundMe Fundraising by Success\")\n",
        "fig.update_xaxes(title_text=\"GFM Project Success\")\n",
        "fig.update_yaxes(title_text=\"Length of Fundraising (days)\")"
      ],
      "metadata": {
        "colab": {
          "base_uri": "https://localhost:8080/",
          "height": 542
        },
        "id": "A1O-UvcX29gx",
        "outputId": "082d8347-1eb1-4ddd-f1ef-da5985c29152"
      },
      "execution_count": null,
      "outputs": [
        {
          "output_type": "display_data",
          "data": {
            "text/html": [
              "<html>\n",
              "<head><meta charset=\"utf-8\" /></head>\n",
              "<body>\n",
              "    <div>            <script src=\"https://cdnjs.cloudflare.com/ajax/libs/mathjax/2.7.5/MathJax.js?config=TeX-AMS-MML_SVG\"></script><script type=\"text/javascript\">if (window.MathJax && window.MathJax.Hub && window.MathJax.Hub.Config) {window.MathJax.Hub.Config({SVG: {font: \"STIX-Web\"}});}</script>                <script type=\"text/javascript\">window.PlotlyConfig = {MathJaxConfig: 'local'};</script>\n",
              "        <script charset=\"utf-8\" src=\"https://cdn.plot.ly/plotly-2.35.2.min.js\"></script>                <div id=\"942528b5-d237-47b8-b738-64ef93db9668\" class=\"plotly-graph-div\" style=\"height:525px; width:100%;\"></div>            <script type=\"text/javascript\">                                    window.PLOTLYENV=window.PLOTLYENV || {};                                    if (document.getElementById(\"942528b5-d237-47b8-b738-64ef93db9668\")) {                    Plotly.newPlot(                        \"942528b5-d237-47b8-b738-64ef93db9668\",                        [{\"alignmentgroup\":\"True\",\"hovertemplate\":\"Success=%{x}\\u003cbr\\u003eLength_of_Fundraising=%{y}\\u003cextra\\u003e\\u003c\\u002fextra\\u003e\",\"legendgroup\":\"Successful\",\"marker\":{\"color\":\"#636efa\"},\"name\":\"Successful\",\"notched\":false,\"offsetgroup\":\"Successful\",\"orientation\":\"v\",\"showlegend\":true,\"x\":[\"Successful\",\"Successful\",\"Successful\",\"Successful\",\"Successful\",\"Successful\",\"Successful\",\"Successful\",\"Successful\",\"Successful\",\"Successful\",\"Successful\",\"Successful\",\"Successful\",\"Successful\",\"Successful\",\"Successful\",\"Successful\",\"Successful\",\"Successful\",\"Successful\",\"Successful\",\"Successful\",\"Successful\",\"Successful\",\"Successful\",\"Successful\",\"Successful\",\"Successful\",\"Successful\",\"Successful\",\"Successful\",\"Successful\",\"Successful\",\"Successful\",\"Successful\",\"Successful\",\"Successful\",\"Successful\",\"Successful\",\"Successful\",\"Successful\",\"Successful\",\"Successful\",\"Successful\",\"Successful\",\"Successful\",\"Successful\",\"Successful\",\"Successful\",\"Successful\",\"Successful\",\"Successful\",\"Successful\",\"Successful\",\"Successful\",\"Successful\",\"Successful\",\"Successful\",\"Successful\",\"Successful\",\"Successful\",\"Successful\",\"Successful\",\"Successful\",\"Successful\",\"Successful\",\"Successful\",\"Successful\",\"Successful\",\"Successful\",\"Successful\",\"Successful\",\"Successful\",\"Successful\",\"Successful\",\"Successful\",\"Successful\",\"Successful\",\"Successful\",\"Successful\",\"Successful\",\"Successful\",\"Successful\",\"Successful\",\"Successful\",\"Successful\",\"Successful\",\"Successful\",\"Successful\",\"Successful\",\"Successful\",\"Successful\",\"Successful\",\"Successful\",\"Successful\",\"Successful\",\"Successful\",\"Successful\",\"Successful\",\"Successful\",\"Successful\",\"Successful\",\"Successful\",\"Successful\",\"Successful\",\"Successful\",\"Successful\",\"Successful\",\"Successful\",\"Successful\",\"Successful\",\"Successful\",\"Successful\",\"Successful\",\"Successful\",\"Successful\",\"Successful\",\"Successful\",\"Successful\",\"Successful\",\"Successful\",\"Successful\",\"Successful\",\"Successful\",\"Successful\",\"Successful\",\"Successful\",\"Successful\",\"Successful\",\"Successful\",\"Successful\",\"Successful\",\"Successful\",\"Successful\",\"Successful\",\"Successful\",\"Successful\",\"Successful\",\"Successful\",\"Successful\",\"Successful\",\"Successful\",\"Successful\",\"Successful\",\"Successful\",\"Successful\",\"Successful\",\"Successful\",\"Successful\",\"Successful\",\"Successful\",\"Successful\",\"Successful\",\"Successful\",\"Successful\",\"Successful\",\"Successful\",\"Successful\",\"Successful\",\"Successful\",\"Successful\",\"Successful\",\"Successful\",\"Successful\",\"Successful\",\"Successful\",\"Successful\",\"Successful\",\"Successful\",\"Successful\",\"Successful\",\"Successful\",\"Successful\",\"Successful\",\"Successful\",\"Successful\",\"Successful\",\"Successful\",\"Successful\",\"Successful\",\"Successful\",\"Successful\",\"Successful\",\"Successful\",\"Successful\",\"Successful\",\"Successful\",\"Successful\",\"Successful\",\"Successful\",\"Successful\",\"Successful\",\"Successful\",\"Successful\",\"Successful\",\"Successful\",\"Successful\",\"Successful\",\"Successful\",\"Successful\",\"Successful\",\"Successful\",\"Successful\",\"Successful\",\"Successful\",\"Successful\",\"Successful\",\"Successful\",\"Successful\",\"Successful\",\"Successful\",\"Successful\",\"Successful\",\"Successful\",\"Successful\",\"Successful\",\"Successful\",\"Successful\",\"Successful\",\"Successful\",\"Successful\",\"Successful\",\"Successful\",\"Successful\",\"Successful\",\"Successful\",\"Successful\",\"Successful\",\"Successful\",\"Successful\",\"Successful\",\"Successful\",\"Successful\",\"Successful\",\"Successful\",\"Successful\",\"Successful\",\"Successful\",\"Successful\",\"Successful\",\"Successful\",\"Successful\",\"Successful\",\"Successful\",\"Successful\",\"Successful\",\"Successful\",\"Successful\",\"Successful\",\"Successful\",\"Successful\",\"Successful\",\"Successful\",\"Successful\",\"Successful\",\"Successful\",\"Successful\",\"Successful\",\"Successful\",\"Successful\",\"Successful\",\"Successful\",\"Successful\",\"Successful\",\"Successful\",\"Successful\",\"Successful\",\"Successful\",\"Successful\",\"Successful\",\"Successful\",\"Successful\",\"Successful\",\"Successful\",\"Successful\",\"Successful\",\"Successful\",\"Successful\",\"Successful\",\"Successful\",\"Successful\",\"Successful\",\"Successful\",\"Successful\",\"Successful\",\"Successful\",\"Successful\",\"Successful\",\"Successful\",\"Successful\",\"Successful\",\"Successful\",\"Successful\",\"Successful\",\"Successful\",\"Successful\",\"Successful\",\"Successful\",\"Successful\",\"Successful\",\"Successful\",\"Successful\",\"Successful\",\"Successful\",\"Successful\",\"Successful\",\"Successful\",\"Successful\",\"Successful\",\"Successful\",\"Successful\",\"Successful\",\"Successful\",\"Successful\",\"Successful\",\"Successful\",\"Successful\",\"Successful\",\"Successful\",\"Successful\",\"Successful\",\"Successful\",\"Successful\",\"Successful\",\"Successful\",\"Successful\",\"Successful\",\"Successful\",\"Successful\",\"Successful\",\"Successful\",\"Successful\",\"Successful\",\"Successful\",\"Successful\",\"Successful\",\"Successful\",\"Successful\",\"Successful\",\"Successful\",\"Successful\",\"Successful\",\"Successful\",\"Successful\",\"Successful\",\"Successful\",\"Successful\",\"Successful\",\"Successful\",\"Successful\",\"Successful\",\"Successful\",\"Successful\",\"Successful\",\"Successful\",\"Successful\",\"Successful\",\"Successful\",\"Successful\",\"Successful\",\"Successful\",\"Successful\",\"Successful\",\"Successful\",\"Successful\",\"Successful\",\"Successful\",\"Successful\",\"Successful\",\"Successful\",\"Successful\",\"Successful\",\"Successful\",\"Successful\",\"Successful\",\"Successful\",\"Successful\",\"Successful\",\"Successful\",\"Successful\",\"Successful\",\"Successful\",\"Successful\",\"Successful\",\"Successful\",\"Successful\",\"Successful\",\"Successful\",\"Successful\",\"Successful\",\"Successful\",\"Successful\",\"Successful\",\"Successful\",\"Successful\",\"Successful\",\"Successful\",\"Successful\",\"Successful\",\"Successful\",\"Successful\",\"Successful\",\"Successful\",\"Successful\",\"Successful\",\"Successful\",\"Successful\",\"Successful\",\"Successful\",\"Successful\",\"Successful\",\"Successful\",\"Successful\",\"Successful\",\"Successful\",\"Successful\",\"Successful\",\"Successful\",\"Successful\",\"Successful\",\"Successful\",\"Successful\",\"Successful\",\"Successful\",\"Successful\",\"Successful\",\"Successful\",\"Successful\",\"Successful\",\"Successful\",\"Successful\",\"Successful\",\"Successful\",\"Successful\",\"Successful\",\"Successful\",\"Successful\",\"Successful\",\"Successful\",\"Successful\",\"Successful\",\"Successful\",\"Successful\",\"Successful\",\"Successful\",\"Successful\",\"Successful\",\"Successful\",\"Successful\",\"Successful\",\"Successful\",\"Successful\",\"Successful\",\"Successful\"],\"x0\":\" \",\"xaxis\":\"x\",\"y\":[30.0,30.0,60.0,60.0,150.0,30.0,150.0,60.0,60.0,150.0,90.0,150.0,60.0,15.0,90.0,60.0,90.0,30.0,60.0,30.0,150.0,150.0,60.0,90.0,150.0,30.0,30.0,30.0,60.0,60.0,60.0,26.0,90.0,60.0,150.0,23.0,60.0,30.0,30.0,60.0,30.0,18.0,180.0,30.0,150.0,90.0,150.0,150.0,30.0,25.0,17.0,150.0,60.0,180.0,12.0,90.0,12.0,30.0,30.0,30.0,30.0,30.0,30.0,60.0,150.0,18.0,30.0,120.0,16.0,60.0,150.0,90.0,30.0,120.0,60.0,30.0,90.0,150.0,17.0,90.0,180.0,30.0,14.0,150.0,90.0,90.0,120.0,90.0,150.0,120.0,30.0,90.0,180.0,60.0,21.0,90.0,90.0,60.0,60.0,90.0,90.0,60.0,60.0,60.0,24.0,120.0,120.0,120.0,120.0,150.0,23.0,150.0,90.0,90.0,120.0,30.0,90.0,60.0,120.0,90.0,30.0,13.0,60.0,150.0,30.0,30.0,90.0,150.0,120.0,18.0,15.0,23.0,30.0,24.0,90.0,90.0,150.0,60.0,150.0,120.0,90.0,60.0,60.0,120.0,180.0,150.0,120.0,60.0,60.0,120.0,17.0,30.0,60.0,150.0,120.0,120.0,30.0,90.0,90.0,30.0,30.0,60.0,60.0,120.0,150.0,30.0,90.0,150.0,90.0,25.0,60.0,150.0,90.0,120.0,8.0,90.0,60.0,150.0,90.0,180.0,60.0,15.0,150.0,150.0,120.0,60.0,90.0,60.0,30.0,90.0,120.0,120.0,60.0,20.0,120.0,30.0,150.0,90.0,120.0,30.0,90.0,60.0,180.0,180.0,11.0,90.0,30.0,90.0,90.0,150.0,60.0,16.0,90.0,150.0,30.0,120.0,90.0,28.0,26.0,60.0,120.0,150.0,60.0,90.0,60.0,90.0,30.0,60.0,150.0,90.0,90.0,120.0,90.0,90.0,90.0,26.0,150.0,30.0,90.0,8.0,60.0,120.0,150.0,150.0,120.0,150.0,150.0,120.0,180.0,180.0,90.0,180.0,60.0,27.0,90.0,120.0,150.0,60.0,120.0,30.0,90.0,180.0,150.0,150.0,150.0,150.0,120.0,60.0,30.0,60.0,60.0,60.0,150.0,120.0,120.0,30.0,150.0,150.0,60.0,60.0,120.0,90.0,120.0,150.0,120.0,22.0,30.0,60.0,30.0,60.0,60.0,90.0,30.0,60.0,90.0,30.0,150.0,90.0,10.0,30.0,90.0,150.0,90.0,150.0,30.0,60.0,30.0,90.0,90.0,60.0,90.0,150.0,120.0,90.0,120.0,30.0,90.0,60.0,120.0,120.0,90.0,90.0,150.0,120.0,90.0,150.0,150.0,90.0,30.0,150.0,30.0,30.0,60.0,90.0,30.0,120.0,90.0,30.0,90.0,22.0,90.0,30.0,90.0,30.0,150.0,90.0,120.0,30.0,30.0,30.0,60.0,120.0,150.0,60.0,120.0,90.0,30.0,27.0,90.0,150.0,90.0,120.0,120.0,150.0,90.0,90.0,120.0,150.0,90.0,30.0,120.0,150.0,60.0,120.0,120.0,180.0,19.0,120.0,90.0,120.0,150.0,150.0,90.0,30.0,90.0,90.0,90.0,90.0,60.0,180.0,30.0,120.0,15.0,90.0,150.0,150.0,150.0,60.0,30.0,60.0,60.0,150.0,30.0,120.0,30.0,60.0,150.0,60.0,120.0,150.0,30.0,90.0,120.0,90.0,27.0,90.0,60.0,120.0,120.0,120.0,60.0,60.0,60.0,22.0,90.0,90.0,150.0,30.0,60.0,180.0,180.0,30.0,30.0,30.0,60.0,60.0,60.0,60.0,90.0,120.0,21.0,60.0,60.0,150.0,30.0,120.0,90.0,60.0,150.0,90.0,150.0,14.0,150.0,30.0,150.0],\"y0\":\" \",\"yaxis\":\"y\",\"type\":\"box\"},{\"alignmentgroup\":\"True\",\"hovertemplate\":\"Success=%{x}\\u003cbr\\u003eLength_of_Fundraising=%{y}\\u003cextra\\u003e\\u003c\\u002fextra\\u003e\",\"legendgroup\":\"Unsuccessful\",\"marker\":{\"color\":\"#EF553B\"},\"name\":\"Unsuccessful\",\"notched\":false,\"offsetgroup\":\"Unsuccessful\",\"orientation\":\"v\",\"showlegend\":true,\"x\":[\"Unsuccessful\",\"Unsuccessful\",\"Unsuccessful\",\"Unsuccessful\",\"Unsuccessful\",\"Unsuccessful\",\"Unsuccessful\",\"Unsuccessful\",\"Unsuccessful\",\"Unsuccessful\",\"Unsuccessful\",\"Unsuccessful\",\"Unsuccessful\",\"Unsuccessful\",\"Unsuccessful\",\"Unsuccessful\",\"Unsuccessful\",\"Unsuccessful\",\"Unsuccessful\",\"Unsuccessful\",\"Unsuccessful\",\"Unsuccessful\",\"Unsuccessful\",\"Unsuccessful\",\"Unsuccessful\",\"Unsuccessful\",\"Unsuccessful\",\"Unsuccessful\",\"Unsuccessful\",\"Unsuccessful\",\"Unsuccessful\",\"Unsuccessful\",\"Unsuccessful\",\"Unsuccessful\",\"Unsuccessful\",\"Unsuccessful\",\"Unsuccessful\",\"Unsuccessful\",\"Unsuccessful\",\"Unsuccessful\",\"Unsuccessful\",\"Unsuccessful\",\"Unsuccessful\",\"Unsuccessful\",\"Unsuccessful\",\"Unsuccessful\",\"Unsuccessful\",\"Unsuccessful\",\"Unsuccessful\",\"Unsuccessful\",\"Unsuccessful\",\"Unsuccessful\",\"Unsuccessful\",\"Unsuccessful\",\"Unsuccessful\",\"Unsuccessful\",\"Unsuccessful\",\"Unsuccessful\",\"Unsuccessful\",\"Unsuccessful\",\"Unsuccessful\",\"Unsuccessful\",\"Unsuccessful\",\"Unsuccessful\",\"Unsuccessful\",\"Unsuccessful\",\"Unsuccessful\",\"Unsuccessful\",\"Unsuccessful\",\"Unsuccessful\",\"Unsuccessful\",\"Unsuccessful\",\"Unsuccessful\",\"Unsuccessful\",\"Unsuccessful\",\"Unsuccessful\",\"Unsuccessful\",\"Unsuccessful\",\"Unsuccessful\",\"Unsuccessful\",\"Unsuccessful\",\"Unsuccessful\",\"Unsuccessful\",\"Unsuccessful\",\"Unsuccessful\",\"Unsuccessful\",\"Unsuccessful\",\"Unsuccessful\",\"Unsuccessful\",\"Unsuccessful\",\"Unsuccessful\",\"Unsuccessful\",\"Unsuccessful\",\"Unsuccessful\",\"Unsuccessful\",\"Unsuccessful\",\"Unsuccessful\",\"Unsuccessful\",\"Unsuccessful\",\"Unsuccessful\",\"Unsuccessful\",\"Unsuccessful\",\"Unsuccessful\",\"Unsuccessful\",\"Unsuccessful\",\"Unsuccessful\",\"Unsuccessful\",\"Unsuccessful\",\"Unsuccessful\",\"Unsuccessful\",\"Unsuccessful\",\"Unsuccessful\",\"Unsuccessful\",\"Unsuccessful\",\"Unsuccessful\",\"Unsuccessful\",\"Unsuccessful\",\"Unsuccessful\",\"Unsuccessful\",\"Unsuccessful\",\"Unsuccessful\",\"Unsuccessful\",\"Unsuccessful\",\"Unsuccessful\",\"Unsuccessful\",\"Unsuccessful\",\"Unsuccessful\",\"Unsuccessful\",\"Unsuccessful\",\"Unsuccessful\",\"Unsuccessful\",\"Unsuccessful\",\"Unsuccessful\",\"Unsuccessful\",\"Unsuccessful\",\"Unsuccessful\",\"Unsuccessful\",\"Unsuccessful\",\"Unsuccessful\",\"Unsuccessful\",\"Unsuccessful\",\"Unsuccessful\",\"Unsuccessful\",\"Unsuccessful\",\"Unsuccessful\",\"Unsuccessful\",\"Unsuccessful\",\"Unsuccessful\",\"Unsuccessful\",\"Unsuccessful\",\"Unsuccessful\",\"Unsuccessful\",\"Unsuccessful\",\"Unsuccessful\",\"Unsuccessful\",\"Unsuccessful\",\"Unsuccessful\",\"Unsuccessful\",\"Unsuccessful\",\"Unsuccessful\",\"Unsuccessful\",\"Unsuccessful\",\"Unsuccessful\",\"Unsuccessful\",\"Unsuccessful\",\"Unsuccessful\",\"Unsuccessful\",\"Unsuccessful\",\"Unsuccessful\",\"Unsuccessful\",\"Unsuccessful\",\"Unsuccessful\",\"Unsuccessful\",\"Unsuccessful\",\"Unsuccessful\",\"Unsuccessful\",\"Unsuccessful\",\"Unsuccessful\",\"Unsuccessful\",\"Unsuccessful\",\"Unsuccessful\",\"Unsuccessful\",\"Unsuccessful\",\"Unsuccessful\",\"Unsuccessful\",\"Unsuccessful\",\"Unsuccessful\",\"Unsuccessful\",\"Unsuccessful\",\"Unsuccessful\",\"Unsuccessful\",\"Unsuccessful\",\"Unsuccessful\",\"Unsuccessful\",\"Unsuccessful\",\"Unsuccessful\",\"Unsuccessful\",\"Unsuccessful\",\"Unsuccessful\",\"Unsuccessful\",\"Unsuccessful\",\"Unsuccessful\",\"Unsuccessful\",\"Unsuccessful\",\"Unsuccessful\",\"Unsuccessful\",\"Unsuccessful\",\"Unsuccessful\",\"Unsuccessful\",\"Unsuccessful\",\"Unsuccessful\",\"Unsuccessful\",\"Unsuccessful\",\"Unsuccessful\",\"Unsuccessful\",\"Unsuccessful\",\"Unsuccessful\",\"Unsuccessful\",\"Unsuccessful\",\"Unsuccessful\",\"Unsuccessful\",\"Unsuccessful\",\"Unsuccessful\",\"Unsuccessful\",\"Unsuccessful\",\"Unsuccessful\",\"Unsuccessful\",\"Unsuccessful\",\"Unsuccessful\",\"Unsuccessful\",\"Unsuccessful\",\"Unsuccessful\",\"Unsuccessful\",\"Unsuccessful\",\"Unsuccessful\",\"Unsuccessful\",\"Unsuccessful\",\"Unsuccessful\",\"Unsuccessful\",\"Unsuccessful\",\"Unsuccessful\",\"Unsuccessful\",\"Unsuccessful\",\"Unsuccessful\",\"Unsuccessful\",\"Unsuccessful\",\"Unsuccessful\",\"Unsuccessful\",\"Unsuccessful\",\"Unsuccessful\",\"Unsuccessful\",\"Unsuccessful\",\"Unsuccessful\",\"Unsuccessful\",\"Unsuccessful\",\"Unsuccessful\",\"Unsuccessful\",\"Unsuccessful\",\"Unsuccessful\",\"Unsuccessful\",\"Unsuccessful\",\"Unsuccessful\",\"Unsuccessful\",\"Unsuccessful\",\"Unsuccessful\",\"Unsuccessful\",\"Unsuccessful\",\"Unsuccessful\",\"Unsuccessful\",\"Unsuccessful\",\"Unsuccessful\",\"Unsuccessful\",\"Unsuccessful\",\"Unsuccessful\",\"Unsuccessful\",\"Unsuccessful\",\"Unsuccessful\",\"Unsuccessful\",\"Unsuccessful\",\"Unsuccessful\",\"Unsuccessful\",\"Unsuccessful\",\"Unsuccessful\",\"Unsuccessful\",\"Unsuccessful\",\"Unsuccessful\",\"Unsuccessful\",\"Unsuccessful\",\"Unsuccessful\",\"Unsuccessful\",\"Unsuccessful\",\"Unsuccessful\",\"Unsuccessful\",\"Unsuccessful\",\"Unsuccessful\",\"Unsuccessful\",\"Unsuccessful\",\"Unsuccessful\",\"Unsuccessful\",\"Unsuccessful\",\"Unsuccessful\",\"Unsuccessful\",\"Unsuccessful\",\"Unsuccessful\",\"Unsuccessful\",\"Unsuccessful\",\"Unsuccessful\",\"Unsuccessful\",\"Unsuccessful\",\"Unsuccessful\",\"Unsuccessful\",\"Unsuccessful\",\"Unsuccessful\",\"Unsuccessful\",\"Unsuccessful\",\"Unsuccessful\",\"Unsuccessful\",\"Unsuccessful\",\"Unsuccessful\",\"Unsuccessful\",\"Unsuccessful\",\"Unsuccessful\",\"Unsuccessful\",\"Unsuccessful\",\"Unsuccessful\",\"Unsuccessful\",\"Unsuccessful\",\"Unsuccessful\",\"Unsuccessful\",\"Unsuccessful\",\"Unsuccessful\",\"Unsuccessful\",\"Unsuccessful\",\"Unsuccessful\",\"Unsuccessful\",\"Unsuccessful\",\"Unsuccessful\",\"Unsuccessful\",\"Unsuccessful\",\"Unsuccessful\",\"Unsuccessful\",\"Unsuccessful\",\"Unsuccessful\",\"Unsuccessful\",\"Unsuccessful\",\"Unsuccessful\",\"Unsuccessful\",\"Unsuccessful\",\"Unsuccessful\",\"Unsuccessful\",\"Unsuccessful\",\"Unsuccessful\",\"Unsuccessful\",\"Unsuccessful\",\"Unsuccessful\",\"Unsuccessful\",\"Unsuccessful\",\"Unsuccessful\",\"Unsuccessful\",\"Unsuccessful\",\"Unsuccessful\",\"Unsuccessful\",\"Unsuccessful\",\"Unsuccessful\",\"Unsuccessful\",\"Unsuccessful\",\"Unsuccessful\",\"Unsuccessful\",\"Unsuccessful\",\"Unsuccessful\",\"Unsuccessful\",\"Unsuccessful\",\"Unsuccessful\",\"Unsuccessful\",\"Unsuccessful\",\"Unsuccessful\",\"Unsuccessful\",\"Unsuccessful\",\"Unsuccessful\",\"Unsuccessful\",\"Unsuccessful\",\"Unsuccessful\",\"Unsuccessful\",\"Unsuccessful\",\"Unsuccessful\",\"Unsuccessful\",\"Unsuccessful\",\"Unsuccessful\",\"Unsuccessful\",\"Unsuccessful\",\"Unsuccessful\",\"Unsuccessful\",\"Unsuccessful\",\"Unsuccessful\",\"Unsuccessful\",\"Unsuccessful\",\"Unsuccessful\",\"Unsuccessful\",\"Unsuccessful\",\"Unsuccessful\",\"Unsuccessful\",\"Unsuccessful\",\"Unsuccessful\",\"Unsuccessful\",\"Unsuccessful\",\"Unsuccessful\",\"Unsuccessful\",\"Unsuccessful\",\"Unsuccessful\",\"Unsuccessful\",\"Unsuccessful\",\"Unsuccessful\",\"Unsuccessful\",\"Unsuccessful\",\"Unsuccessful\",\"Unsuccessful\",\"Unsuccessful\",\"Unsuccessful\",\"Unsuccessful\",\"Unsuccessful\",\"Unsuccessful\",\"Unsuccessful\",\"Unsuccessful\",\"Unsuccessful\",\"Unsuccessful\",\"Unsuccessful\",\"Unsuccessful\",\"Unsuccessful\",\"Unsuccessful\",\"Unsuccessful\",\"Unsuccessful\",\"Unsuccessful\",\"Unsuccessful\",\"Unsuccessful\",\"Unsuccessful\",\"Unsuccessful\",\"Unsuccessful\",\"Unsuccessful\",\"Unsuccessful\",\"Unsuccessful\",\"Unsuccessful\",\"Unsuccessful\",\"Unsuccessful\",\"Unsuccessful\",\"Unsuccessful\",\"Unsuccessful\",\"Unsuccessful\",\"Unsuccessful\",\"Unsuccessful\",\"Unsuccessful\",\"Unsuccessful\",\"Unsuccessful\",\"Unsuccessful\",\"Unsuccessful\",\"Unsuccessful\",\"Unsuccessful\",\"Unsuccessful\",\"Unsuccessful\",\"Unsuccessful\",\"Unsuccessful\",\"Unsuccessful\",\"Unsuccessful\",\"Unsuccessful\",\"Unsuccessful\",\"Unsuccessful\",\"Unsuccessful\",\"Unsuccessful\",\"Unsuccessful\",\"Unsuccessful\",\"Unsuccessful\",\"Unsuccessful\",\"Unsuccessful\",\"Unsuccessful\",\"Unsuccessful\",\"Unsuccessful\",\"Unsuccessful\",\"Unsuccessful\",\"Unsuccessful\",\"Unsuccessful\",\"Unsuccessful\",\"Unsuccessful\",\"Unsuccessful\",\"Unsuccessful\",\"Unsuccessful\",\"Unsuccessful\",\"Unsuccessful\",\"Unsuccessful\",\"Unsuccessful\",\"Unsuccessful\",\"Unsuccessful\",\"Unsuccessful\",\"Unsuccessful\",\"Unsuccessful\",\"Unsuccessful\",\"Unsuccessful\",\"Unsuccessful\",\"Unsuccessful\",\"Unsuccessful\",\"Unsuccessful\",\"Unsuccessful\",\"Unsuccessful\",\"Unsuccessful\",\"Unsuccessful\",\"Unsuccessful\",\"Unsuccessful\",\"Unsuccessful\",\"Unsuccessful\",\"Unsuccessful\",\"Unsuccessful\",\"Unsuccessful\",\"Unsuccessful\",\"Unsuccessful\",\"Unsuccessful\",\"Unsuccessful\",\"Unsuccessful\",\"Unsuccessful\",\"Unsuccessful\",\"Unsuccessful\",\"Unsuccessful\",\"Unsuccessful\",\"Unsuccessful\",\"Unsuccessful\",\"Unsuccessful\",\"Unsuccessful\",\"Unsuccessful\",\"Unsuccessful\",\"Unsuccessful\",\"Unsuccessful\",\"Unsuccessful\",\"Unsuccessful\",\"Unsuccessful\",\"Unsuccessful\",\"Unsuccessful\",\"Unsuccessful\",\"Unsuccessful\",\"Unsuccessful\",\"Unsuccessful\",\"Unsuccessful\",\"Unsuccessful\",\"Unsuccessful\",\"Unsuccessful\",\"Unsuccessful\",\"Unsuccessful\",\"Unsuccessful\",\"Unsuccessful\",\"Unsuccessful\",\"Unsuccessful\",\"Unsuccessful\",\"Unsuccessful\",\"Unsuccessful\",\"Unsuccessful\",\"Unsuccessful\",\"Unsuccessful\",\"Unsuccessful\",\"Unsuccessful\",\"Unsuccessful\",\"Unsuccessful\",\"Unsuccessful\",\"Unsuccessful\",\"Unsuccessful\",\"Unsuccessful\",\"Unsuccessful\",\"Unsuccessful\",\"Unsuccessful\",\"Unsuccessful\",\"Unsuccessful\",\"Unsuccessful\",\"Unsuccessful\",\"Unsuccessful\",\"Unsuccessful\",\"Unsuccessful\",\"Unsuccessful\",\"Unsuccessful\",\"Unsuccessful\",\"Unsuccessful\",\"Unsuccessful\",\"Unsuccessful\",\"Unsuccessful\",\"Unsuccessful\",\"Unsuccessful\",\"Unsuccessful\",\"Unsuccessful\",\"Unsuccessful\",\"Unsuccessful\",\"Unsuccessful\",\"Unsuccessful\",\"Unsuccessful\",\"Unsuccessful\",\"Unsuccessful\",\"Unsuccessful\",\"Unsuccessful\",\"Unsuccessful\",\"Unsuccessful\",\"Unsuccessful\",\"Unsuccessful\",\"Unsuccessful\",\"Unsuccessful\",\"Unsuccessful\",\"Unsuccessful\",\"Unsuccessful\",\"Unsuccessful\",\"Unsuccessful\",\"Unsuccessful\",\"Unsuccessful\",\"Unsuccessful\",\"Unsuccessful\",\"Unsuccessful\",\"Unsuccessful\",\"Unsuccessful\",\"Unsuccessful\",\"Unsuccessful\",\"Unsuccessful\",\"Unsuccessful\",\"Unsuccessful\",\"Unsuccessful\",\"Unsuccessful\",\"Unsuccessful\",\"Unsuccessful\",\"Unsuccessful\",\"Unsuccessful\",\"Unsuccessful\",\"Unsuccessful\",\"Unsuccessful\",\"Unsuccessful\",\"Unsuccessful\",\"Unsuccessful\",\"Unsuccessful\",\"Unsuccessful\",\"Unsuccessful\",\"Unsuccessful\",\"Unsuccessful\",\"Unsuccessful\",\"Unsuccessful\",\"Unsuccessful\",\"Unsuccessful\",\"Unsuccessful\",\"Unsuccessful\",\"Unsuccessful\",\"Unsuccessful\",\"Unsuccessful\",\"Unsuccessful\",\"Unsuccessful\",\"Unsuccessful\",\"Unsuccessful\",\"Unsuccessful\",\"Unsuccessful\",\"Unsuccessful\",\"Unsuccessful\",\"Unsuccessful\",\"Unsuccessful\",\"Unsuccessful\",\"Unsuccessful\",\"Unsuccessful\",\"Unsuccessful\",\"Unsuccessful\",\"Unsuccessful\",\"Unsuccessful\",\"Unsuccessful\",\"Unsuccessful\",\"Unsuccessful\",\"Unsuccessful\",\"Unsuccessful\",\"Unsuccessful\",\"Unsuccessful\",\"Unsuccessful\",\"Unsuccessful\",\"Unsuccessful\",\"Unsuccessful\",\"Unsuccessful\",\"Unsuccessful\",\"Unsuccessful\",\"Unsuccessful\",\"Unsuccessful\",\"Unsuccessful\",\"Unsuccessful\",\"Unsuccessful\",\"Unsuccessful\",\"Unsuccessful\",\"Unsuccessful\",\"Unsuccessful\",\"Unsuccessful\",\"Unsuccessful\",\"Unsuccessful\",\"Unsuccessful\",\"Unsuccessful\",\"Unsuccessful\",\"Unsuccessful\",\"Unsuccessful\",\"Unsuccessful\",\"Unsuccessful\",\"Unsuccessful\",\"Unsuccessful\",\"Unsuccessful\",\"Unsuccessful\",\"Unsuccessful\",\"Unsuccessful\",\"Unsuccessful\",\"Unsuccessful\",\"Unsuccessful\",\"Unsuccessful\",\"Unsuccessful\",\"Unsuccessful\",\"Unsuccessful\",\"Unsuccessful\",\"Unsuccessful\",\"Unsuccessful\",\"Unsuccessful\",\"Unsuccessful\",\"Unsuccessful\",\"Unsuccessful\",\"Unsuccessful\",\"Unsuccessful\",\"Unsuccessful\",\"Unsuccessful\",\"Unsuccessful\",\"Unsuccessful\",\"Unsuccessful\",\"Unsuccessful\",\"Unsuccessful\",\"Unsuccessful\",\"Unsuccessful\",\"Unsuccessful\",\"Unsuccessful\",\"Unsuccessful\",\"Unsuccessful\",\"Unsuccessful\",\"Unsuccessful\",\"Unsuccessful\",\"Unsuccessful\",\"Unsuccessful\",\"Unsuccessful\",\"Unsuccessful\",\"Unsuccessful\",\"Unsuccessful\",\"Unsuccessful\",\"Unsuccessful\",\"Unsuccessful\",\"Unsuccessful\",\"Unsuccessful\",\"Unsuccessful\",\"Unsuccessful\",\"Unsuccessful\",\"Unsuccessful\",\"Unsuccessful\",\"Unsuccessful\",\"Unsuccessful\",\"Unsuccessful\",\"Unsuccessful\",\"Unsuccessful\",\"Unsuccessful\",\"Unsuccessful\",\"Unsuccessful\",\"Unsuccessful\",\"Unsuccessful\",\"Unsuccessful\",\"Unsuccessful\",\"Unsuccessful\",\"Unsuccessful\",\"Unsuccessful\",\"Unsuccessful\",\"Unsuccessful\",\"Unsuccessful\",\"Unsuccessful\",\"Unsuccessful\",\"Unsuccessful\",\"Unsuccessful\",\"Unsuccessful\",\"Unsuccessful\",\"Unsuccessful\",\"Unsuccessful\",\"Unsuccessful\",\"Unsuccessful\",\"Unsuccessful\",\"Unsuccessful\",\"Unsuccessful\",\"Unsuccessful\",\"Unsuccessful\",\"Unsuccessful\",\"Unsuccessful\",\"Unsuccessful\",\"Unsuccessful\",\"Unsuccessful\",\"Unsuccessful\",\"Unsuccessful\"],\"x0\":\" \",\"xaxis\":\"x\",\"y\":[90.0,60.0,150.0,180.0,30.0,150.0,30.0,90.0,12.0,90.0,180.0,90.0,90.0,150.0,90.0,60.0,30.0,90.0,30.0,30.0,30.0,90.0,30.0,30.0,180.0,120.0,150.0,180.0,120.0,60.0,150.0,30.0,90.0,22.0,150.0,90.0,90.0,120.0,30.0,90.0,120.0,30.0,30.0,30.0,150.0,60.0,29.0,150.0,30.0,30.0,20.0,12.0,30.0,12.0,120.0,120.0,120.0,150.0,150.0,150.0,180.0,30.0,30.0,120.0,30.0,60.0,150.0,30.0,150.0,30.0,30.0,90.0,30.0,120.0,120.0,90.0,120.0,60.0,30.0,21.0,180.0,180.0,180.0,60.0,60.0,30.0,120.0,60.0,90.0,30.0,27.0,24.0,60.0,30.0,30.0,120.0,60.0,60.0,120.0,28.0,30.0,60.0,13.0,30.0,150.0,180.0,60.0,60.0,60.0,10.0,120.0,26.0,60.0,30.0,30.0,30.0,22.0,60.0,90.0,90.0,120.0,18.0,90.0,60.0,90.0,60.0,120.0,90.0,120.0,60.0,60.0,30.0,60.0,60.0,90.0,90.0,60.0,60.0,150.0,180.0,150.0,30.0,90.0,150.0,30.0,180.0,120.0,90.0,90.0,120.0,120.0,120.0,30.0,60.0,150.0,30.0,60.0,30.0,150.0,30.0,180.0,180.0,150.0,30.0,60.0,60.0,180.0,150.0,60.0,150.0,60.0,90.0,120.0,30.0,13.0,60.0,30.0,null,150.0,120.0,120.0,30.0,90.0,150.0,30.0,150.0,29.0,30.0,30.0,150.0,120.0,120.0,120.0,30.0,60.0,60.0,120.0,60.0,90.0,180.0,180.0,150.0,90.0,30.0,150.0,120.0,150.0,30.0,30.0,120.0,60.0,90.0,30.0,150.0,60.0,180.0,120.0,120.0,60.0,30.0,19.0,30.0,150.0,90.0,90.0,8.0,150.0,150.0,60.0,60.0,150.0,60.0,150.0,30.0,150.0,150.0,10.0,12.0,8.0,9.0,7.0,8.0,22.0,90.0,60.0,150.0,30.0,60.0,60.0,25.0,30.0,120.0,10.0,120.0,90.0,30.0,120.0,90.0,120.0,150.0,30.0,180.0,60.0,60.0,150.0,60.0,150.0,120.0,120.0,30.0,180.0,30.0,120.0,60.0,180.0,30.0,30.0,150.0,60.0,120.0,60.0,150.0,120.0,30.0,90.0,150.0,120.0,16.0,120.0,150.0,60.0,150.0,90.0,90.0,180.0,150.0,120.0,30.0,120.0,90.0,30.0,null,180.0,150.0,90.0,27.0,180.0,150.0,150.0,60.0,60.0,30.0,150.0,120.0,28.0,60.0,150.0,90.0,180.0,150.0,90.0,7.0,150.0,30.0,120.0,150.0,180.0,120.0,150.0,150.0,90.0,180.0,120.0,180.0,60.0,60.0,30.0,150.0,150.0,90.0,30.0,120.0,90.0,30.0,120.0,150.0,120.0,120.0,150.0,150.0,60.0,120.0,120.0,60.0,26.0,180.0,120.0,150.0,150.0,150.0,120.0,120.0,120.0,120.0,150.0,150.0,90.0,60.0,180.0,150.0,120.0,120.0,120.0,60.0,180.0,150.0,120.0,120.0,180.0,120.0,120.0,30.0,30.0,150.0,150.0,60.0,90.0,120.0,60.0,150.0,29.0,150.0,30.0,180.0,30.0,60.0,150.0,60.0,60.0,30.0,120.0,180.0,120.0,90.0,30.0,60.0,60.0,90.0,60.0,15.0,120.0,150.0,120.0,90.0,120.0,150.0,60.0,150.0,120.0,150.0,150.0,150.0,60.0,150.0,90.0,60.0,120.0,150.0,120.0,120.0,90.0,150.0,120.0,30.0,150.0,9.0,150.0,180.0,60.0,180.0,90.0,150.0,180.0,150.0,60.0,60.0,30.0,180.0,30.0,60.0,120.0,90.0,60.0,150.0,150.0,60.0,90.0,120.0,150.0,null,90.0,120.0,120.0,90.0,30.0,60.0,60.0,120.0,60.0,30.0,23.0,150.0,120.0,150.0,120.0,30.0,150.0,30.0,150.0,150.0,60.0,60.0,150.0,null,150.0,60.0,60.0,150.0,120.0,null,30.0,30.0,90.0,120.0,150.0,16.0,120.0,120.0,90.0,120.0,180.0,120.0,120.0,150.0,60.0,60.0,23.0,11.0,60.0,90.0,150.0,120.0,120.0,60.0,90.0,120.0,60.0,90.0,30.0,60.0,150.0,120.0,30.0,60.0,90.0,120.0,30.0,60.0,60.0,60.0,150.0,150.0,180.0,150.0,29.0,30.0,30.0,120.0,120.0,30.0,120.0,60.0,90.0,150.0,13.0,22.0,120.0,60.0,120.0,90.0,30.0,60.0,150.0,60.0,90.0,150.0,120.0,120.0,120.0,90.0,30.0,90.0,120.0,30.0,120.0,120.0,60.0,30.0,120.0,90.0,180.0,90.0,120.0,60.0,60.0,30.0,30.0,90.0,90.0,150.0,60.0,180.0,60.0,60.0,120.0,90.0,150.0,14.0,120.0,120.0,30.0,180.0,90.0,90.0,30.0,90.0,30.0,120.0,120.0,90.0,30.0,30.0,60.0,150.0,90.0,30.0,120.0,150.0,25.0,150.0,30.0,90.0,150.0,150.0,60.0,null,150.0,22.0,60.0,90.0,60.0,23.0,30.0,150.0,24.0,150.0,60.0,180.0,90.0,30.0,150.0,23.0,180.0,28.0,150.0,120.0,150.0,120.0,90.0,120.0,150.0,23.0,60.0,21.0,30.0,30.0,30.0,90.0,30.0,9.0,150.0,29.0,60.0,60.0,60.0,30.0,30.0,30.0,60.0,30.0,120.0,120.0,150.0,30.0,90.0,30.0,30.0,150.0,30.0,30.0,150.0,120.0,90.0,60.0,90.0,60.0,120.0,120.0,null,150.0,180.0,9.0,90.0,30.0,120.0,120.0,150.0,120.0,90.0,60.0,120.0,60.0,null,120.0,150.0,60.0,90.0,60.0,90.0,30.0,30.0,120.0,150.0,30.0,150.0,150.0,120.0,30.0,150.0,9.0,120.0,30.0,30.0,90.0,150.0,60.0,60.0,180.0,60.0,60.0,18.0,60.0,120.0,30.0,150.0,60.0,150.0,90.0,17.0,30.0,60.0,120.0,150.0,120.0,60.0,120.0,90.0,180.0,60.0,150.0,30.0,90.0,60.0,150.0,13.0,60.0,150.0,30.0,60.0,30.0,30.0,16.0,90.0,30.0,60.0,60.0,180.0,90.0,60.0,30.0,150.0,150.0,120.0,16.0,90.0,150.0,14.0,30.0,60.0,60.0,30.0,90.0,120.0,150.0,180.0,90.0,90.0,30.0,29.0,150.0,30.0,27.0,90.0,150.0],\"y0\":\" \",\"yaxis\":\"y\",\"type\":\"box\"}],                        {\"template\":{\"data\":{\"histogram2dcontour\":[{\"type\":\"histogram2dcontour\",\"colorbar\":{\"outlinewidth\":0,\"ticks\":\"\"},\"colorscale\":[[0.0,\"#0d0887\"],[0.1111111111111111,\"#46039f\"],[0.2222222222222222,\"#7201a8\"],[0.3333333333333333,\"#9c179e\"],[0.4444444444444444,\"#bd3786\"],[0.5555555555555556,\"#d8576b\"],[0.6666666666666666,\"#ed7953\"],[0.7777777777777778,\"#fb9f3a\"],[0.8888888888888888,\"#fdca26\"],[1.0,\"#f0f921\"]]}],\"choropleth\":[{\"type\":\"choropleth\",\"colorbar\":{\"outlinewidth\":0,\"ticks\":\"\"}}],\"histogram2d\":[{\"type\":\"histogram2d\",\"colorbar\":{\"outlinewidth\":0,\"ticks\":\"\"},\"colorscale\":[[0.0,\"#0d0887\"],[0.1111111111111111,\"#46039f\"],[0.2222222222222222,\"#7201a8\"],[0.3333333333333333,\"#9c179e\"],[0.4444444444444444,\"#bd3786\"],[0.5555555555555556,\"#d8576b\"],[0.6666666666666666,\"#ed7953\"],[0.7777777777777778,\"#fb9f3a\"],[0.8888888888888888,\"#fdca26\"],[1.0,\"#f0f921\"]]}],\"heatmap\":[{\"type\":\"heatmap\",\"colorbar\":{\"outlinewidth\":0,\"ticks\":\"\"},\"colorscale\":[[0.0,\"#0d0887\"],[0.1111111111111111,\"#46039f\"],[0.2222222222222222,\"#7201a8\"],[0.3333333333333333,\"#9c179e\"],[0.4444444444444444,\"#bd3786\"],[0.5555555555555556,\"#d8576b\"],[0.6666666666666666,\"#ed7953\"],[0.7777777777777778,\"#fb9f3a\"],[0.8888888888888888,\"#fdca26\"],[1.0,\"#f0f921\"]]}],\"heatmapgl\":[{\"type\":\"heatmapgl\",\"colorbar\":{\"outlinewidth\":0,\"ticks\":\"\"},\"colorscale\":[[0.0,\"#0d0887\"],[0.1111111111111111,\"#46039f\"],[0.2222222222222222,\"#7201a8\"],[0.3333333333333333,\"#9c179e\"],[0.4444444444444444,\"#bd3786\"],[0.5555555555555556,\"#d8576b\"],[0.6666666666666666,\"#ed7953\"],[0.7777777777777778,\"#fb9f3a\"],[0.8888888888888888,\"#fdca26\"],[1.0,\"#f0f921\"]]}],\"contourcarpet\":[{\"type\":\"contourcarpet\",\"colorbar\":{\"outlinewidth\":0,\"ticks\":\"\"}}],\"contour\":[{\"type\":\"contour\",\"colorbar\":{\"outlinewidth\":0,\"ticks\":\"\"},\"colorscale\":[[0.0,\"#0d0887\"],[0.1111111111111111,\"#46039f\"],[0.2222222222222222,\"#7201a8\"],[0.3333333333333333,\"#9c179e\"],[0.4444444444444444,\"#bd3786\"],[0.5555555555555556,\"#d8576b\"],[0.6666666666666666,\"#ed7953\"],[0.7777777777777778,\"#fb9f3a\"],[0.8888888888888888,\"#fdca26\"],[1.0,\"#f0f921\"]]}],\"surface\":[{\"type\":\"surface\",\"colorbar\":{\"outlinewidth\":0,\"ticks\":\"\"},\"colorscale\":[[0.0,\"#0d0887\"],[0.1111111111111111,\"#46039f\"],[0.2222222222222222,\"#7201a8\"],[0.3333333333333333,\"#9c179e\"],[0.4444444444444444,\"#bd3786\"],[0.5555555555555556,\"#d8576b\"],[0.6666666666666666,\"#ed7953\"],[0.7777777777777778,\"#fb9f3a\"],[0.8888888888888888,\"#fdca26\"],[1.0,\"#f0f921\"]]}],\"mesh3d\":[{\"type\":\"mesh3d\",\"colorbar\":{\"outlinewidth\":0,\"ticks\":\"\"}}],\"scatter\":[{\"fillpattern\":{\"fillmode\":\"overlay\",\"size\":10,\"solidity\":0.2},\"type\":\"scatter\"}],\"parcoords\":[{\"type\":\"parcoords\",\"line\":{\"colorbar\":{\"outlinewidth\":0,\"ticks\":\"\"}}}],\"scatterpolargl\":[{\"type\":\"scatterpolargl\",\"marker\":{\"colorbar\":{\"outlinewidth\":0,\"ticks\":\"\"}}}],\"bar\":[{\"error_x\":{\"color\":\"#2a3f5f\"},\"error_y\":{\"color\":\"#2a3f5f\"},\"marker\":{\"line\":{\"color\":\"#E5ECF6\",\"width\":0.5},\"pattern\":{\"fillmode\":\"overlay\",\"size\":10,\"solidity\":0.2}},\"type\":\"bar\"}],\"scattergeo\":[{\"type\":\"scattergeo\",\"marker\":{\"colorbar\":{\"outlinewidth\":0,\"ticks\":\"\"}}}],\"scatterpolar\":[{\"type\":\"scatterpolar\",\"marker\":{\"colorbar\":{\"outlinewidth\":0,\"ticks\":\"\"}}}],\"histogram\":[{\"marker\":{\"pattern\":{\"fillmode\":\"overlay\",\"size\":10,\"solidity\":0.2}},\"type\":\"histogram\"}],\"scattergl\":[{\"type\":\"scattergl\",\"marker\":{\"colorbar\":{\"outlinewidth\":0,\"ticks\":\"\"}}}],\"scatter3d\":[{\"type\":\"scatter3d\",\"line\":{\"colorbar\":{\"outlinewidth\":0,\"ticks\":\"\"}},\"marker\":{\"colorbar\":{\"outlinewidth\":0,\"ticks\":\"\"}}}],\"scattermapbox\":[{\"type\":\"scattermapbox\",\"marker\":{\"colorbar\":{\"outlinewidth\":0,\"ticks\":\"\"}}}],\"scatterternary\":[{\"type\":\"scatterternary\",\"marker\":{\"colorbar\":{\"outlinewidth\":0,\"ticks\":\"\"}}}],\"scattercarpet\":[{\"type\":\"scattercarpet\",\"marker\":{\"colorbar\":{\"outlinewidth\":0,\"ticks\":\"\"}}}],\"carpet\":[{\"aaxis\":{\"endlinecolor\":\"#2a3f5f\",\"gridcolor\":\"white\",\"linecolor\":\"white\",\"minorgridcolor\":\"white\",\"startlinecolor\":\"#2a3f5f\"},\"baxis\":{\"endlinecolor\":\"#2a3f5f\",\"gridcolor\":\"white\",\"linecolor\":\"white\",\"minorgridcolor\":\"white\",\"startlinecolor\":\"#2a3f5f\"},\"type\":\"carpet\"}],\"table\":[{\"cells\":{\"fill\":{\"color\":\"#EBF0F8\"},\"line\":{\"color\":\"white\"}},\"header\":{\"fill\":{\"color\":\"#C8D4E3\"},\"line\":{\"color\":\"white\"}},\"type\":\"table\"}],\"barpolar\":[{\"marker\":{\"line\":{\"color\":\"#E5ECF6\",\"width\":0.5},\"pattern\":{\"fillmode\":\"overlay\",\"size\":10,\"solidity\":0.2}},\"type\":\"barpolar\"}],\"pie\":[{\"automargin\":true,\"type\":\"pie\"}]},\"layout\":{\"autotypenumbers\":\"strict\",\"colorway\":[\"#636efa\",\"#EF553B\",\"#00cc96\",\"#ab63fa\",\"#FFA15A\",\"#19d3f3\",\"#FF6692\",\"#B6E880\",\"#FF97FF\",\"#FECB52\"],\"font\":{\"color\":\"#2a3f5f\"},\"hovermode\":\"closest\",\"hoverlabel\":{\"align\":\"left\"},\"paper_bgcolor\":\"white\",\"plot_bgcolor\":\"#E5ECF6\",\"polar\":{\"bgcolor\":\"#E5ECF6\",\"angularaxis\":{\"gridcolor\":\"white\",\"linecolor\":\"white\",\"ticks\":\"\"},\"radialaxis\":{\"gridcolor\":\"white\",\"linecolor\":\"white\",\"ticks\":\"\"}},\"ternary\":{\"bgcolor\":\"#E5ECF6\",\"aaxis\":{\"gridcolor\":\"white\",\"linecolor\":\"white\",\"ticks\":\"\"},\"baxis\":{\"gridcolor\":\"white\",\"linecolor\":\"white\",\"ticks\":\"\"},\"caxis\":{\"gridcolor\":\"white\",\"linecolor\":\"white\",\"ticks\":\"\"}},\"coloraxis\":{\"colorbar\":{\"outlinewidth\":0,\"ticks\":\"\"}},\"colorscale\":{\"sequential\":[[0.0,\"#0d0887\"],[0.1111111111111111,\"#46039f\"],[0.2222222222222222,\"#7201a8\"],[0.3333333333333333,\"#9c179e\"],[0.4444444444444444,\"#bd3786\"],[0.5555555555555556,\"#d8576b\"],[0.6666666666666666,\"#ed7953\"],[0.7777777777777778,\"#fb9f3a\"],[0.8888888888888888,\"#fdca26\"],[1.0,\"#f0f921\"]],\"sequentialminus\":[[0.0,\"#0d0887\"],[0.1111111111111111,\"#46039f\"],[0.2222222222222222,\"#7201a8\"],[0.3333333333333333,\"#9c179e\"],[0.4444444444444444,\"#bd3786\"],[0.5555555555555556,\"#d8576b\"],[0.6666666666666666,\"#ed7953\"],[0.7777777777777778,\"#fb9f3a\"],[0.8888888888888888,\"#fdca26\"],[1.0,\"#f0f921\"]],\"diverging\":[[0,\"#8e0152\"],[0.1,\"#c51b7d\"],[0.2,\"#de77ae\"],[0.3,\"#f1b6da\"],[0.4,\"#fde0ef\"],[0.5,\"#f7f7f7\"],[0.6,\"#e6f5d0\"],[0.7,\"#b8e186\"],[0.8,\"#7fbc41\"],[0.9,\"#4d9221\"],[1,\"#276419\"]]},\"xaxis\":{\"gridcolor\":\"white\",\"linecolor\":\"white\",\"ticks\":\"\",\"title\":{\"standoff\":15},\"zerolinecolor\":\"white\",\"automargin\":true,\"zerolinewidth\":2},\"yaxis\":{\"gridcolor\":\"white\",\"linecolor\":\"white\",\"ticks\":\"\",\"title\":{\"standoff\":15},\"zerolinecolor\":\"white\",\"automargin\":true,\"zerolinewidth\":2},\"scene\":{\"xaxis\":{\"backgroundcolor\":\"#E5ECF6\",\"gridcolor\":\"white\",\"linecolor\":\"white\",\"showbackground\":true,\"ticks\":\"\",\"zerolinecolor\":\"white\",\"gridwidth\":2},\"yaxis\":{\"backgroundcolor\":\"#E5ECF6\",\"gridcolor\":\"white\",\"linecolor\":\"white\",\"showbackground\":true,\"ticks\":\"\",\"zerolinecolor\":\"white\",\"gridwidth\":2},\"zaxis\":{\"backgroundcolor\":\"#E5ECF6\",\"gridcolor\":\"white\",\"linecolor\":\"white\",\"showbackground\":true,\"ticks\":\"\",\"zerolinecolor\":\"white\",\"gridwidth\":2}},\"shapedefaults\":{\"line\":{\"color\":\"#2a3f5f\"}},\"annotationdefaults\":{\"arrowcolor\":\"#2a3f5f\",\"arrowhead\":0,\"arrowwidth\":1},\"geo\":{\"bgcolor\":\"white\",\"landcolor\":\"#E5ECF6\",\"subunitcolor\":\"white\",\"showland\":true,\"showlakes\":true,\"lakecolor\":\"white\"},\"title\":{\"x\":0.05},\"mapbox\":{\"style\":\"light\"}}},\"xaxis\":{\"anchor\":\"y\",\"domain\":[0.0,1.0],\"title\":{\"text\":\"GFM Project Success\"},\"categoryorder\":\"array\",\"categoryarray\":[\"Successful\",\"Unsuccessful\"]},\"yaxis\":{\"anchor\":\"x\",\"domain\":[0.0,1.0],\"title\":{\"text\":\"Length of Fundraising (days)\"}},\"legend\":{\"title\":{\"text\":\"Success\"},\"tracegroupgap\":0},\"title\":{\"text\":\"Length of GoFundMe Fundraising by Success\"},\"boxmode\":\"overlay\"},                        {\"responsive\": true}                    ).then(function(){\n",
              "                            \n",
              "var gd = document.getElementById('942528b5-d237-47b8-b738-64ef93db9668');\n",
              "var x = new MutationObserver(function (mutations, observer) {{\n",
              "        var display = window.getComputedStyle(gd).display;\n",
              "        if (!display || display === 'none') {{\n",
              "            console.log([gd, 'removed!']);\n",
              "            Plotly.purge(gd);\n",
              "            observer.disconnect();\n",
              "        }}\n",
              "}});\n",
              "\n",
              "// Listen for the removal of the full notebook cells\n",
              "var notebookContainer = gd.closest('#notebook-container');\n",
              "if (notebookContainer) {{\n",
              "    x.observe(notebookContainer, {childList: true});\n",
              "}}\n",
              "\n",
              "// Listen for the clearing of the current output cell\n",
              "var outputEl = gd.closest('.output');\n",
              "if (outputEl) {{\n",
              "    x.observe(outputEl, {childList: true});\n",
              "}}\n",
              "\n",
              "                        })                };                            </script>        </div>\n",
              "</body>\n",
              "</html>"
            ]
          },
          "metadata": {}
        }
      ]
    },
    {
      "cell_type": "code",
      "source": [
        "fig = px.histogram(df, x=\"Length_of_Fundraising\", color=\"Success\",\n",
        "                   title=\"Duration (in days) of Fundraising for GoFundMe Posts by Success\",\n",
        "                   barmode=\"group\",\n",
        "                   labels={\"Length_of_Fundraising\": \"Length of Fundraising (days)\",\n",
        "                           \"Success\": \"Success\"})\n",
        "fig.update_xaxes(title_text=\"Length of Fundraising (days)\")\n",
        "fig.update_yaxes(title_text=\"Frequency\")\n",
        "fig.show()"
      ],
      "metadata": {
        "colab": {
          "base_uri": "https://localhost:8080/",
          "height": 542
        },
        "id": "FxqI7w4s8SBl",
        "outputId": "cbbec9fa-3759-4213-c26e-26cf500fa5cc"
      },
      "execution_count": null,
      "outputs": [
        {
          "output_type": "display_data",
          "data": {
            "text/html": [
              "<html>\n",
              "<head><meta charset=\"utf-8\" /></head>\n",
              "<body>\n",
              "    <div>            <script src=\"https://cdnjs.cloudflare.com/ajax/libs/mathjax/2.7.5/MathJax.js?config=TeX-AMS-MML_SVG\"></script><script type=\"text/javascript\">if (window.MathJax && window.MathJax.Hub && window.MathJax.Hub.Config) {window.MathJax.Hub.Config({SVG: {font: \"STIX-Web\"}});}</script>                <script type=\"text/javascript\">window.PlotlyConfig = {MathJaxConfig: 'local'};</script>\n",
              "        <script charset=\"utf-8\" src=\"https://cdn.plot.ly/plotly-2.35.2.min.js\"></script>                <div id=\"97023cd5-0f94-4436-a5c5-64be4198ced6\" class=\"plotly-graph-div\" style=\"height:525px; width:100%;\"></div>            <script type=\"text/javascript\">                                    window.PLOTLYENV=window.PLOTLYENV || {};                                    if (document.getElementById(\"97023cd5-0f94-4436-a5c5-64be4198ced6\")) {                    Plotly.newPlot(                        \"97023cd5-0f94-4436-a5c5-64be4198ced6\",                        [{\"alignmentgroup\":\"True\",\"bingroup\":\"x\",\"hovertemplate\":\"Success=Successful\\u003cbr\\u003eLength of Fundraising (days)=%{x}\\u003cbr\\u003ecount=%{y}\\u003cextra\\u003e\\u003c\\u002fextra\\u003e\",\"legendgroup\":\"Successful\",\"marker\":{\"color\":\"#636efa\",\"pattern\":{\"shape\":\"\"}},\"name\":\"Successful\",\"offsetgroup\":\"Successful\",\"orientation\":\"v\",\"showlegend\":true,\"x\":[30.0,30.0,60.0,60.0,150.0,30.0,150.0,60.0,60.0,150.0,90.0,150.0,60.0,15.0,90.0,60.0,90.0,30.0,60.0,30.0,150.0,150.0,60.0,90.0,150.0,30.0,30.0,30.0,60.0,60.0,60.0,26.0,90.0,60.0,150.0,23.0,60.0,30.0,30.0,60.0,30.0,18.0,180.0,30.0,150.0,90.0,150.0,150.0,30.0,25.0,17.0,150.0,60.0,180.0,12.0,90.0,12.0,30.0,30.0,30.0,30.0,30.0,30.0,60.0,150.0,18.0,30.0,120.0,16.0,60.0,150.0,90.0,30.0,120.0,60.0,30.0,90.0,150.0,17.0,90.0,180.0,30.0,14.0,150.0,90.0,90.0,120.0,90.0,150.0,120.0,30.0,90.0,180.0,60.0,21.0,90.0,90.0,60.0,60.0,90.0,90.0,60.0,60.0,60.0,24.0,120.0,120.0,120.0,120.0,150.0,23.0,150.0,90.0,90.0,120.0,30.0,90.0,60.0,120.0,90.0,30.0,13.0,60.0,150.0,30.0,30.0,90.0,150.0,120.0,18.0,15.0,23.0,30.0,24.0,90.0,90.0,150.0,60.0,150.0,120.0,90.0,60.0,60.0,120.0,180.0,150.0,120.0,60.0,60.0,120.0,17.0,30.0,60.0,150.0,120.0,120.0,30.0,90.0,90.0,30.0,30.0,60.0,60.0,120.0,150.0,30.0,90.0,150.0,90.0,25.0,60.0,150.0,90.0,120.0,8.0,90.0,60.0,150.0,90.0,180.0,60.0,15.0,150.0,150.0,120.0,60.0,90.0,60.0,30.0,90.0,120.0,120.0,60.0,20.0,120.0,30.0,150.0,90.0,120.0,30.0,90.0,60.0,180.0,180.0,11.0,90.0,30.0,90.0,90.0,150.0,60.0,16.0,90.0,150.0,30.0,120.0,90.0,28.0,26.0,60.0,120.0,150.0,60.0,90.0,60.0,90.0,30.0,60.0,150.0,90.0,90.0,120.0,90.0,90.0,90.0,26.0,150.0,30.0,90.0,8.0,60.0,120.0,150.0,150.0,120.0,150.0,150.0,120.0,180.0,180.0,90.0,180.0,60.0,27.0,90.0,120.0,150.0,60.0,120.0,30.0,90.0,180.0,150.0,150.0,150.0,150.0,120.0,60.0,30.0,60.0,60.0,60.0,150.0,120.0,120.0,30.0,150.0,150.0,60.0,60.0,120.0,90.0,120.0,150.0,120.0,22.0,30.0,60.0,30.0,60.0,60.0,90.0,30.0,60.0,90.0,30.0,150.0,90.0,10.0,30.0,90.0,150.0,90.0,150.0,30.0,60.0,30.0,90.0,90.0,60.0,90.0,150.0,120.0,90.0,120.0,30.0,90.0,60.0,120.0,120.0,90.0,90.0,150.0,120.0,90.0,150.0,150.0,90.0,30.0,150.0,30.0,30.0,60.0,90.0,30.0,120.0,90.0,30.0,90.0,22.0,90.0,30.0,90.0,30.0,150.0,90.0,120.0,30.0,30.0,30.0,60.0,120.0,150.0,60.0,120.0,90.0,30.0,27.0,90.0,150.0,90.0,120.0,120.0,150.0,90.0,90.0,120.0,150.0,90.0,30.0,120.0,150.0,60.0,120.0,120.0,180.0,19.0,120.0,90.0,120.0,150.0,150.0,90.0,30.0,90.0,90.0,90.0,90.0,60.0,180.0,30.0,120.0,15.0,90.0,150.0,150.0,150.0,60.0,30.0,60.0,60.0,150.0,30.0,120.0,30.0,60.0,150.0,60.0,120.0,150.0,30.0,90.0,120.0,90.0,27.0,90.0,60.0,120.0,120.0,120.0,60.0,60.0,60.0,22.0,90.0,90.0,150.0,30.0,60.0,180.0,180.0,30.0,30.0,30.0,60.0,60.0,60.0,60.0,90.0,120.0,21.0,60.0,60.0,150.0,30.0,120.0,90.0,60.0,150.0,90.0,150.0,14.0,150.0,30.0,150.0],\"xaxis\":\"x\",\"yaxis\":\"y\",\"type\":\"histogram\"},{\"alignmentgroup\":\"True\",\"bingroup\":\"x\",\"hovertemplate\":\"Success=Unsuccessful\\u003cbr\\u003eLength of Fundraising (days)=%{x}\\u003cbr\\u003ecount=%{y}\\u003cextra\\u003e\\u003c\\u002fextra\\u003e\",\"legendgroup\":\"Unsuccessful\",\"marker\":{\"color\":\"#EF553B\",\"pattern\":{\"shape\":\"\"}},\"name\":\"Unsuccessful\",\"offsetgroup\":\"Unsuccessful\",\"orientation\":\"v\",\"showlegend\":true,\"x\":[90.0,60.0,150.0,180.0,30.0,150.0,30.0,90.0,12.0,90.0,180.0,90.0,90.0,150.0,90.0,60.0,30.0,90.0,30.0,30.0,30.0,90.0,30.0,30.0,180.0,120.0,150.0,180.0,120.0,60.0,150.0,30.0,90.0,22.0,150.0,90.0,90.0,120.0,30.0,90.0,120.0,30.0,30.0,30.0,150.0,60.0,29.0,150.0,30.0,30.0,20.0,12.0,30.0,12.0,120.0,120.0,120.0,150.0,150.0,150.0,180.0,30.0,30.0,120.0,30.0,60.0,150.0,30.0,150.0,30.0,30.0,90.0,30.0,120.0,120.0,90.0,120.0,60.0,30.0,21.0,180.0,180.0,180.0,60.0,60.0,30.0,120.0,60.0,90.0,30.0,27.0,24.0,60.0,30.0,30.0,120.0,60.0,60.0,120.0,28.0,30.0,60.0,13.0,30.0,150.0,180.0,60.0,60.0,60.0,10.0,120.0,26.0,60.0,30.0,30.0,30.0,22.0,60.0,90.0,90.0,120.0,18.0,90.0,60.0,90.0,60.0,120.0,90.0,120.0,60.0,60.0,30.0,60.0,60.0,90.0,90.0,60.0,60.0,150.0,180.0,150.0,30.0,90.0,150.0,30.0,180.0,120.0,90.0,90.0,120.0,120.0,120.0,30.0,60.0,150.0,30.0,60.0,30.0,150.0,30.0,180.0,180.0,150.0,30.0,60.0,60.0,180.0,150.0,60.0,150.0,60.0,90.0,120.0,30.0,13.0,60.0,30.0,null,150.0,120.0,120.0,30.0,90.0,150.0,30.0,150.0,29.0,30.0,30.0,150.0,120.0,120.0,120.0,30.0,60.0,60.0,120.0,60.0,90.0,180.0,180.0,150.0,90.0,30.0,150.0,120.0,150.0,30.0,30.0,120.0,60.0,90.0,30.0,150.0,60.0,180.0,120.0,120.0,60.0,30.0,19.0,30.0,150.0,90.0,90.0,8.0,150.0,150.0,60.0,60.0,150.0,60.0,150.0,30.0,150.0,150.0,10.0,12.0,8.0,9.0,7.0,8.0,22.0,90.0,60.0,150.0,30.0,60.0,60.0,25.0,30.0,120.0,10.0,120.0,90.0,30.0,120.0,90.0,120.0,150.0,30.0,180.0,60.0,60.0,150.0,60.0,150.0,120.0,120.0,30.0,180.0,30.0,120.0,60.0,180.0,30.0,30.0,150.0,60.0,120.0,60.0,150.0,120.0,30.0,90.0,150.0,120.0,16.0,120.0,150.0,60.0,150.0,90.0,90.0,180.0,150.0,120.0,30.0,120.0,90.0,30.0,null,180.0,150.0,90.0,27.0,180.0,150.0,150.0,60.0,60.0,30.0,150.0,120.0,28.0,60.0,150.0,90.0,180.0,150.0,90.0,7.0,150.0,30.0,120.0,150.0,180.0,120.0,150.0,150.0,90.0,180.0,120.0,180.0,60.0,60.0,30.0,150.0,150.0,90.0,30.0,120.0,90.0,30.0,120.0,150.0,120.0,120.0,150.0,150.0,60.0,120.0,120.0,60.0,26.0,180.0,120.0,150.0,150.0,150.0,120.0,120.0,120.0,120.0,150.0,150.0,90.0,60.0,180.0,150.0,120.0,120.0,120.0,60.0,180.0,150.0,120.0,120.0,180.0,120.0,120.0,30.0,30.0,150.0,150.0,60.0,90.0,120.0,60.0,150.0,29.0,150.0,30.0,180.0,30.0,60.0,150.0,60.0,60.0,30.0,120.0,180.0,120.0,90.0,30.0,60.0,60.0,90.0,60.0,15.0,120.0,150.0,120.0,90.0,120.0,150.0,60.0,150.0,120.0,150.0,150.0,150.0,60.0,150.0,90.0,60.0,120.0,150.0,120.0,120.0,90.0,150.0,120.0,30.0,150.0,9.0,150.0,180.0,60.0,180.0,90.0,150.0,180.0,150.0,60.0,60.0,30.0,180.0,30.0,60.0,120.0,90.0,60.0,150.0,150.0,60.0,90.0,120.0,150.0,null,90.0,120.0,120.0,90.0,30.0,60.0,60.0,120.0,60.0,30.0,23.0,150.0,120.0,150.0,120.0,30.0,150.0,30.0,150.0,150.0,60.0,60.0,150.0,null,150.0,60.0,60.0,150.0,120.0,null,30.0,30.0,90.0,120.0,150.0,16.0,120.0,120.0,90.0,120.0,180.0,120.0,120.0,150.0,60.0,60.0,23.0,11.0,60.0,90.0,150.0,120.0,120.0,60.0,90.0,120.0,60.0,90.0,30.0,60.0,150.0,120.0,30.0,60.0,90.0,120.0,30.0,60.0,60.0,60.0,150.0,150.0,180.0,150.0,29.0,30.0,30.0,120.0,120.0,30.0,120.0,60.0,90.0,150.0,13.0,22.0,120.0,60.0,120.0,90.0,30.0,60.0,150.0,60.0,90.0,150.0,120.0,120.0,120.0,90.0,30.0,90.0,120.0,30.0,120.0,120.0,60.0,30.0,120.0,90.0,180.0,90.0,120.0,60.0,60.0,30.0,30.0,90.0,90.0,150.0,60.0,180.0,60.0,60.0,120.0,90.0,150.0,14.0,120.0,120.0,30.0,180.0,90.0,90.0,30.0,90.0,30.0,120.0,120.0,90.0,30.0,30.0,60.0,150.0,90.0,30.0,120.0,150.0,25.0,150.0,30.0,90.0,150.0,150.0,60.0,null,150.0,22.0,60.0,90.0,60.0,23.0,30.0,150.0,24.0,150.0,60.0,180.0,90.0,30.0,150.0,23.0,180.0,28.0,150.0,120.0,150.0,120.0,90.0,120.0,150.0,23.0,60.0,21.0,30.0,30.0,30.0,90.0,30.0,9.0,150.0,29.0,60.0,60.0,60.0,30.0,30.0,30.0,60.0,30.0,120.0,120.0,150.0,30.0,90.0,30.0,30.0,150.0,30.0,30.0,150.0,120.0,90.0,60.0,90.0,60.0,120.0,120.0,null,150.0,180.0,9.0,90.0,30.0,120.0,120.0,150.0,120.0,90.0,60.0,120.0,60.0,null,120.0,150.0,60.0,90.0,60.0,90.0,30.0,30.0,120.0,150.0,30.0,150.0,150.0,120.0,30.0,150.0,9.0,120.0,30.0,30.0,90.0,150.0,60.0,60.0,180.0,60.0,60.0,18.0,60.0,120.0,30.0,150.0,60.0,150.0,90.0,17.0,30.0,60.0,120.0,150.0,120.0,60.0,120.0,90.0,180.0,60.0,150.0,30.0,90.0,60.0,150.0,13.0,60.0,150.0,30.0,60.0,30.0,30.0,16.0,90.0,30.0,60.0,60.0,180.0,90.0,60.0,30.0,150.0,150.0,120.0,16.0,90.0,150.0,14.0,30.0,60.0,60.0,30.0,90.0,120.0,150.0,180.0,90.0,90.0,30.0,29.0,150.0,30.0,27.0,90.0,150.0],\"xaxis\":\"x\",\"yaxis\":\"y\",\"type\":\"histogram\"}],                        {\"template\":{\"data\":{\"histogram2dcontour\":[{\"type\":\"histogram2dcontour\",\"colorbar\":{\"outlinewidth\":0,\"ticks\":\"\"},\"colorscale\":[[0.0,\"#0d0887\"],[0.1111111111111111,\"#46039f\"],[0.2222222222222222,\"#7201a8\"],[0.3333333333333333,\"#9c179e\"],[0.4444444444444444,\"#bd3786\"],[0.5555555555555556,\"#d8576b\"],[0.6666666666666666,\"#ed7953\"],[0.7777777777777778,\"#fb9f3a\"],[0.8888888888888888,\"#fdca26\"],[1.0,\"#f0f921\"]]}],\"choropleth\":[{\"type\":\"choropleth\",\"colorbar\":{\"outlinewidth\":0,\"ticks\":\"\"}}],\"histogram2d\":[{\"type\":\"histogram2d\",\"colorbar\":{\"outlinewidth\":0,\"ticks\":\"\"},\"colorscale\":[[0.0,\"#0d0887\"],[0.1111111111111111,\"#46039f\"],[0.2222222222222222,\"#7201a8\"],[0.3333333333333333,\"#9c179e\"],[0.4444444444444444,\"#bd3786\"],[0.5555555555555556,\"#d8576b\"],[0.6666666666666666,\"#ed7953\"],[0.7777777777777778,\"#fb9f3a\"],[0.8888888888888888,\"#fdca26\"],[1.0,\"#f0f921\"]]}],\"heatmap\":[{\"type\":\"heatmap\",\"colorbar\":{\"outlinewidth\":0,\"ticks\":\"\"},\"colorscale\":[[0.0,\"#0d0887\"],[0.1111111111111111,\"#46039f\"],[0.2222222222222222,\"#7201a8\"],[0.3333333333333333,\"#9c179e\"],[0.4444444444444444,\"#bd3786\"],[0.5555555555555556,\"#d8576b\"],[0.6666666666666666,\"#ed7953\"],[0.7777777777777778,\"#fb9f3a\"],[0.8888888888888888,\"#fdca26\"],[1.0,\"#f0f921\"]]}],\"heatmapgl\":[{\"type\":\"heatmapgl\",\"colorbar\":{\"outlinewidth\":0,\"ticks\":\"\"},\"colorscale\":[[0.0,\"#0d0887\"],[0.1111111111111111,\"#46039f\"],[0.2222222222222222,\"#7201a8\"],[0.3333333333333333,\"#9c179e\"],[0.4444444444444444,\"#bd3786\"],[0.5555555555555556,\"#d8576b\"],[0.6666666666666666,\"#ed7953\"],[0.7777777777777778,\"#fb9f3a\"],[0.8888888888888888,\"#fdca26\"],[1.0,\"#f0f921\"]]}],\"contourcarpet\":[{\"type\":\"contourcarpet\",\"colorbar\":{\"outlinewidth\":0,\"ticks\":\"\"}}],\"contour\":[{\"type\":\"contour\",\"colorbar\":{\"outlinewidth\":0,\"ticks\":\"\"},\"colorscale\":[[0.0,\"#0d0887\"],[0.1111111111111111,\"#46039f\"],[0.2222222222222222,\"#7201a8\"],[0.3333333333333333,\"#9c179e\"],[0.4444444444444444,\"#bd3786\"],[0.5555555555555556,\"#d8576b\"],[0.6666666666666666,\"#ed7953\"],[0.7777777777777778,\"#fb9f3a\"],[0.8888888888888888,\"#fdca26\"],[1.0,\"#f0f921\"]]}],\"surface\":[{\"type\":\"surface\",\"colorbar\":{\"outlinewidth\":0,\"ticks\":\"\"},\"colorscale\":[[0.0,\"#0d0887\"],[0.1111111111111111,\"#46039f\"],[0.2222222222222222,\"#7201a8\"],[0.3333333333333333,\"#9c179e\"],[0.4444444444444444,\"#bd3786\"],[0.5555555555555556,\"#d8576b\"],[0.6666666666666666,\"#ed7953\"],[0.7777777777777778,\"#fb9f3a\"],[0.8888888888888888,\"#fdca26\"],[1.0,\"#f0f921\"]]}],\"mesh3d\":[{\"type\":\"mesh3d\",\"colorbar\":{\"outlinewidth\":0,\"ticks\":\"\"}}],\"scatter\":[{\"fillpattern\":{\"fillmode\":\"overlay\",\"size\":10,\"solidity\":0.2},\"type\":\"scatter\"}],\"parcoords\":[{\"type\":\"parcoords\",\"line\":{\"colorbar\":{\"outlinewidth\":0,\"ticks\":\"\"}}}],\"scatterpolargl\":[{\"type\":\"scatterpolargl\",\"marker\":{\"colorbar\":{\"outlinewidth\":0,\"ticks\":\"\"}}}],\"bar\":[{\"error_x\":{\"color\":\"#2a3f5f\"},\"error_y\":{\"color\":\"#2a3f5f\"},\"marker\":{\"line\":{\"color\":\"#E5ECF6\",\"width\":0.5},\"pattern\":{\"fillmode\":\"overlay\",\"size\":10,\"solidity\":0.2}},\"type\":\"bar\"}],\"scattergeo\":[{\"type\":\"scattergeo\",\"marker\":{\"colorbar\":{\"outlinewidth\":0,\"ticks\":\"\"}}}],\"scatterpolar\":[{\"type\":\"scatterpolar\",\"marker\":{\"colorbar\":{\"outlinewidth\":0,\"ticks\":\"\"}}}],\"histogram\":[{\"marker\":{\"pattern\":{\"fillmode\":\"overlay\",\"size\":10,\"solidity\":0.2}},\"type\":\"histogram\"}],\"scattergl\":[{\"type\":\"scattergl\",\"marker\":{\"colorbar\":{\"outlinewidth\":0,\"ticks\":\"\"}}}],\"scatter3d\":[{\"type\":\"scatter3d\",\"line\":{\"colorbar\":{\"outlinewidth\":0,\"ticks\":\"\"}},\"marker\":{\"colorbar\":{\"outlinewidth\":0,\"ticks\":\"\"}}}],\"scattermapbox\":[{\"type\":\"scattermapbox\",\"marker\":{\"colorbar\":{\"outlinewidth\":0,\"ticks\":\"\"}}}],\"scatterternary\":[{\"type\":\"scatterternary\",\"marker\":{\"colorbar\":{\"outlinewidth\":0,\"ticks\":\"\"}}}],\"scattercarpet\":[{\"type\":\"scattercarpet\",\"marker\":{\"colorbar\":{\"outlinewidth\":0,\"ticks\":\"\"}}}],\"carpet\":[{\"aaxis\":{\"endlinecolor\":\"#2a3f5f\",\"gridcolor\":\"white\",\"linecolor\":\"white\",\"minorgridcolor\":\"white\",\"startlinecolor\":\"#2a3f5f\"},\"baxis\":{\"endlinecolor\":\"#2a3f5f\",\"gridcolor\":\"white\",\"linecolor\":\"white\",\"minorgridcolor\":\"white\",\"startlinecolor\":\"#2a3f5f\"},\"type\":\"carpet\"}],\"table\":[{\"cells\":{\"fill\":{\"color\":\"#EBF0F8\"},\"line\":{\"color\":\"white\"}},\"header\":{\"fill\":{\"color\":\"#C8D4E3\"},\"line\":{\"color\":\"white\"}},\"type\":\"table\"}],\"barpolar\":[{\"marker\":{\"line\":{\"color\":\"#E5ECF6\",\"width\":0.5},\"pattern\":{\"fillmode\":\"overlay\",\"size\":10,\"solidity\":0.2}},\"type\":\"barpolar\"}],\"pie\":[{\"automargin\":true,\"type\":\"pie\"}]},\"layout\":{\"autotypenumbers\":\"strict\",\"colorway\":[\"#636efa\",\"#EF553B\",\"#00cc96\",\"#ab63fa\",\"#FFA15A\",\"#19d3f3\",\"#FF6692\",\"#B6E880\",\"#FF97FF\",\"#FECB52\"],\"font\":{\"color\":\"#2a3f5f\"},\"hovermode\":\"closest\",\"hoverlabel\":{\"align\":\"left\"},\"paper_bgcolor\":\"white\",\"plot_bgcolor\":\"#E5ECF6\",\"polar\":{\"bgcolor\":\"#E5ECF6\",\"angularaxis\":{\"gridcolor\":\"white\",\"linecolor\":\"white\",\"ticks\":\"\"},\"radialaxis\":{\"gridcolor\":\"white\",\"linecolor\":\"white\",\"ticks\":\"\"}},\"ternary\":{\"bgcolor\":\"#E5ECF6\",\"aaxis\":{\"gridcolor\":\"white\",\"linecolor\":\"white\",\"ticks\":\"\"},\"baxis\":{\"gridcolor\":\"white\",\"linecolor\":\"white\",\"ticks\":\"\"},\"caxis\":{\"gridcolor\":\"white\",\"linecolor\":\"white\",\"ticks\":\"\"}},\"coloraxis\":{\"colorbar\":{\"outlinewidth\":0,\"ticks\":\"\"}},\"colorscale\":{\"sequential\":[[0.0,\"#0d0887\"],[0.1111111111111111,\"#46039f\"],[0.2222222222222222,\"#7201a8\"],[0.3333333333333333,\"#9c179e\"],[0.4444444444444444,\"#bd3786\"],[0.5555555555555556,\"#d8576b\"],[0.6666666666666666,\"#ed7953\"],[0.7777777777777778,\"#fb9f3a\"],[0.8888888888888888,\"#fdca26\"],[1.0,\"#f0f921\"]],\"sequentialminus\":[[0.0,\"#0d0887\"],[0.1111111111111111,\"#46039f\"],[0.2222222222222222,\"#7201a8\"],[0.3333333333333333,\"#9c179e\"],[0.4444444444444444,\"#bd3786\"],[0.5555555555555556,\"#d8576b\"],[0.6666666666666666,\"#ed7953\"],[0.7777777777777778,\"#fb9f3a\"],[0.8888888888888888,\"#fdca26\"],[1.0,\"#f0f921\"]],\"diverging\":[[0,\"#8e0152\"],[0.1,\"#c51b7d\"],[0.2,\"#de77ae\"],[0.3,\"#f1b6da\"],[0.4,\"#fde0ef\"],[0.5,\"#f7f7f7\"],[0.6,\"#e6f5d0\"],[0.7,\"#b8e186\"],[0.8,\"#7fbc41\"],[0.9,\"#4d9221\"],[1,\"#276419\"]]},\"xaxis\":{\"gridcolor\":\"white\",\"linecolor\":\"white\",\"ticks\":\"\",\"title\":{\"standoff\":15},\"zerolinecolor\":\"white\",\"automargin\":true,\"zerolinewidth\":2},\"yaxis\":{\"gridcolor\":\"white\",\"linecolor\":\"white\",\"ticks\":\"\",\"title\":{\"standoff\":15},\"zerolinecolor\":\"white\",\"automargin\":true,\"zerolinewidth\":2},\"scene\":{\"xaxis\":{\"backgroundcolor\":\"#E5ECF6\",\"gridcolor\":\"white\",\"linecolor\":\"white\",\"showbackground\":true,\"ticks\":\"\",\"zerolinecolor\":\"white\",\"gridwidth\":2},\"yaxis\":{\"backgroundcolor\":\"#E5ECF6\",\"gridcolor\":\"white\",\"linecolor\":\"white\",\"showbackground\":true,\"ticks\":\"\",\"zerolinecolor\":\"white\",\"gridwidth\":2},\"zaxis\":{\"backgroundcolor\":\"#E5ECF6\",\"gridcolor\":\"white\",\"linecolor\":\"white\",\"showbackground\":true,\"ticks\":\"\",\"zerolinecolor\":\"white\",\"gridwidth\":2}},\"shapedefaults\":{\"line\":{\"color\":\"#2a3f5f\"}},\"annotationdefaults\":{\"arrowcolor\":\"#2a3f5f\",\"arrowhead\":0,\"arrowwidth\":1},\"geo\":{\"bgcolor\":\"white\",\"landcolor\":\"#E5ECF6\",\"subunitcolor\":\"white\",\"showland\":true,\"showlakes\":true,\"lakecolor\":\"white\"},\"title\":{\"x\":0.05},\"mapbox\":{\"style\":\"light\"}}},\"xaxis\":{\"anchor\":\"y\",\"domain\":[0.0,1.0],\"title\":{\"text\":\"Length of Fundraising (days)\"}},\"yaxis\":{\"anchor\":\"x\",\"domain\":[0.0,1.0],\"title\":{\"text\":\"Frequency\"}},\"legend\":{\"title\":{\"text\":\"Success\"},\"tracegroupgap\":0},\"title\":{\"text\":\"Duration (in days) of Fundraising for GoFundMe Posts by Success\"},\"barmode\":\"group\"},                        {\"responsive\": true}                    ).then(function(){\n",
              "                            \n",
              "var gd = document.getElementById('97023cd5-0f94-4436-a5c5-64be4198ced6');\n",
              "var x = new MutationObserver(function (mutations, observer) {{\n",
              "        var display = window.getComputedStyle(gd).display;\n",
              "        if (!display || display === 'none') {{\n",
              "            console.log([gd, 'removed!']);\n",
              "            Plotly.purge(gd);\n",
              "            observer.disconnect();\n",
              "        }}\n",
              "}});\n",
              "\n",
              "// Listen for the removal of the full notebook cells\n",
              "var notebookContainer = gd.closest('#notebook-container');\n",
              "if (notebookContainer) {{\n",
              "    x.observe(notebookContainer, {childList: true});\n",
              "}}\n",
              "\n",
              "// Listen for the clearing of the current output cell\n",
              "var outputEl = gd.closest('.output');\n",
              "if (outputEl) {{\n",
              "    x.observe(outputEl, {childList: true});\n",
              "}}\n",
              "\n",
              "                        })                };                            </script>        </div>\n",
              "</body>\n",
              "</html>"
            ]
          },
          "metadata": {}
        }
      ]
    },
    {
      "cell_type": "markdown",
      "source": [
        "Looking at the first two distributions, we can see that that majority of posts seem to be split between being successful and unsuccessful. It almost seems as though there is no relationship between whether a GoFundMe post is successful or not based on the length it has been posted in days.\n",
        "\n",
        "I wanted to explore this relationship further, so I created a side-by-side histogram.Here we can see that there are consistently more unsuccessful posts on average, regardless of the length of fundraising."
      ],
      "metadata": {
        "id": "B_UIKO0m1J2j"
      }
    },
    {
      "cell_type": "markdown",
      "source": [
        "3. Visualizing the Relationship Between Successful Projects and FB Shares"
      ],
      "metadata": {
        "id": "BVmXBZcS9Qba"
      }
    },
    {
      "cell_type": "code",
      "source": [
        "fig = px.box(df, x = \"Success\", y = \"FB_Shares\", color = \"Success\",\n",
        "                   title = \"Frequency of FaceBook Shares of GoFundMe Posts by Success\")\n",
        "fig.update_xaxes(title_text=\"GFM Project Success\")\n",
        "fig.update_yaxes(title_text=\"FB Shares\")"
      ],
      "metadata": {
        "colab": {
          "base_uri": "https://localhost:8080/",
          "height": 542
        },
        "id": "Lj6SobPt9dNP",
        "outputId": "c572cfc0-3f9e-421d-cee3-021ba6fb3324"
      },
      "execution_count": null,
      "outputs": [
        {
          "output_type": "display_data",
          "data": {
            "text/html": [
              "<html>\n",
              "<head><meta charset=\"utf-8\" /></head>\n",
              "<body>\n",
              "    <div>            <script src=\"https://cdnjs.cloudflare.com/ajax/libs/mathjax/2.7.5/MathJax.js?config=TeX-AMS-MML_SVG\"></script><script type=\"text/javascript\">if (window.MathJax && window.MathJax.Hub && window.MathJax.Hub.Config) {window.MathJax.Hub.Config({SVG: {font: \"STIX-Web\"}});}</script>                <script type=\"text/javascript\">window.PlotlyConfig = {MathJaxConfig: 'local'};</script>\n",
              "        <script charset=\"utf-8\" src=\"https://cdn.plot.ly/plotly-2.35.2.min.js\"></script>                <div id=\"6e3989d3-48aa-4f28-afba-ebb38c00909d\" class=\"plotly-graph-div\" style=\"height:525px; width:100%;\"></div>            <script type=\"text/javascript\">                                    window.PLOTLYENV=window.PLOTLYENV || {};                                    if (document.getElementById(\"6e3989d3-48aa-4f28-afba-ebb38c00909d\")) {                    Plotly.newPlot(                        \"6e3989d3-48aa-4f28-afba-ebb38c00909d\",                        [{\"alignmentgroup\":\"True\",\"hovertemplate\":\"Success=%{x}\\u003cbr\\u003eFB_Shares=%{y}\\u003cextra\\u003e\\u003c\\u002fextra\\u003e\",\"legendgroup\":\"Successful\",\"marker\":{\"color\":\"#636efa\"},\"name\":\"Successful\",\"notched\":false,\"offsetgroup\":\"Successful\",\"orientation\":\"v\",\"showlegend\":true,\"x\":[\"Successful\",\"Successful\",\"Successful\",\"Successful\",\"Successful\",\"Successful\",\"Successful\",\"Successful\",\"Successful\",\"Successful\",\"Successful\",\"Successful\",\"Successful\",\"Successful\",\"Successful\",\"Successful\",\"Successful\",\"Successful\",\"Successful\",\"Successful\",\"Successful\",\"Successful\",\"Successful\",\"Successful\",\"Successful\",\"Successful\",\"Successful\",\"Successful\",\"Successful\",\"Successful\",\"Successful\",\"Successful\",\"Successful\",\"Successful\",\"Successful\",\"Successful\",\"Successful\",\"Successful\",\"Successful\",\"Successful\",\"Successful\",\"Successful\",\"Successful\",\"Successful\",\"Successful\",\"Successful\",\"Successful\",\"Successful\",\"Successful\",\"Successful\",\"Successful\",\"Successful\",\"Successful\",\"Successful\",\"Successful\",\"Successful\",\"Successful\",\"Successful\",\"Successful\",\"Successful\",\"Successful\",\"Successful\",\"Successful\",\"Successful\",\"Successful\",\"Successful\",\"Successful\",\"Successful\",\"Successful\",\"Successful\",\"Successful\",\"Successful\",\"Successful\",\"Successful\",\"Successful\",\"Successful\",\"Successful\",\"Successful\",\"Successful\",\"Successful\",\"Successful\",\"Successful\",\"Successful\",\"Successful\",\"Successful\",\"Successful\",\"Successful\",\"Successful\",\"Successful\",\"Successful\",\"Successful\",\"Successful\",\"Successful\",\"Successful\",\"Successful\",\"Successful\",\"Successful\",\"Successful\",\"Successful\",\"Successful\",\"Successful\",\"Successful\",\"Successful\",\"Successful\",\"Successful\",\"Successful\",\"Successful\",\"Successful\",\"Successful\",\"Successful\",\"Successful\",\"Successful\",\"Successful\",\"Successful\",\"Successful\",\"Successful\",\"Successful\",\"Successful\",\"Successful\",\"Successful\",\"Successful\",\"Successful\",\"Successful\",\"Successful\",\"Successful\",\"Successful\",\"Successful\",\"Successful\",\"Successful\",\"Successful\",\"Successful\",\"Successful\",\"Successful\",\"Successful\",\"Successful\",\"Successful\",\"Successful\",\"Successful\",\"Successful\",\"Successful\",\"Successful\",\"Successful\",\"Successful\",\"Successful\",\"Successful\",\"Successful\",\"Successful\",\"Successful\",\"Successful\",\"Successful\",\"Successful\",\"Successful\",\"Successful\",\"Successful\",\"Successful\",\"Successful\",\"Successful\",\"Successful\",\"Successful\",\"Successful\",\"Successful\",\"Successful\",\"Successful\",\"Successful\",\"Successful\",\"Successful\",\"Successful\",\"Successful\",\"Successful\",\"Successful\",\"Successful\",\"Successful\",\"Successful\",\"Successful\",\"Successful\",\"Successful\",\"Successful\",\"Successful\",\"Successful\",\"Successful\",\"Successful\",\"Successful\",\"Successful\",\"Successful\",\"Successful\",\"Successful\",\"Successful\",\"Successful\",\"Successful\",\"Successful\",\"Successful\",\"Successful\",\"Successful\",\"Successful\",\"Successful\",\"Successful\",\"Successful\",\"Successful\",\"Successful\",\"Successful\",\"Successful\",\"Successful\",\"Successful\",\"Successful\",\"Successful\",\"Successful\",\"Successful\",\"Successful\",\"Successful\",\"Successful\",\"Successful\",\"Successful\",\"Successful\",\"Successful\",\"Successful\",\"Successful\",\"Successful\",\"Successful\",\"Successful\",\"Successful\",\"Successful\",\"Successful\",\"Successful\",\"Successful\",\"Successful\",\"Successful\",\"Successful\",\"Successful\",\"Successful\",\"Successful\",\"Successful\",\"Successful\",\"Successful\",\"Successful\",\"Successful\",\"Successful\",\"Successful\",\"Successful\",\"Successful\",\"Successful\",\"Successful\",\"Successful\",\"Successful\",\"Successful\",\"Successful\",\"Successful\",\"Successful\",\"Successful\",\"Successful\",\"Successful\",\"Successful\",\"Successful\",\"Successful\",\"Successful\",\"Successful\",\"Successful\",\"Successful\",\"Successful\",\"Successful\",\"Successful\",\"Successful\",\"Successful\",\"Successful\",\"Successful\",\"Successful\",\"Successful\",\"Successful\",\"Successful\",\"Successful\",\"Successful\",\"Successful\",\"Successful\",\"Successful\",\"Successful\",\"Successful\",\"Successful\",\"Successful\",\"Successful\",\"Successful\",\"Successful\",\"Successful\",\"Successful\",\"Successful\",\"Successful\",\"Successful\",\"Successful\",\"Successful\",\"Successful\",\"Successful\",\"Successful\",\"Successful\",\"Successful\",\"Successful\",\"Successful\",\"Successful\",\"Successful\",\"Successful\",\"Successful\",\"Successful\",\"Successful\",\"Successful\",\"Successful\",\"Successful\",\"Successful\",\"Successful\",\"Successful\",\"Successful\",\"Successful\",\"Successful\",\"Successful\",\"Successful\",\"Successful\",\"Successful\",\"Successful\",\"Successful\",\"Successful\",\"Successful\",\"Successful\",\"Successful\",\"Successful\",\"Successful\",\"Successful\",\"Successful\",\"Successful\",\"Successful\",\"Successful\",\"Successful\",\"Successful\",\"Successful\",\"Successful\",\"Successful\",\"Successful\",\"Successful\",\"Successful\",\"Successful\",\"Successful\",\"Successful\",\"Successful\",\"Successful\",\"Successful\",\"Successful\",\"Successful\",\"Successful\",\"Successful\",\"Successful\",\"Successful\",\"Successful\",\"Successful\",\"Successful\",\"Successful\",\"Successful\",\"Successful\",\"Successful\",\"Successful\",\"Successful\",\"Successful\",\"Successful\",\"Successful\",\"Successful\",\"Successful\",\"Successful\",\"Successful\",\"Successful\",\"Successful\",\"Successful\",\"Successful\",\"Successful\",\"Successful\",\"Successful\",\"Successful\",\"Successful\",\"Successful\",\"Successful\",\"Successful\",\"Successful\",\"Successful\",\"Successful\",\"Successful\",\"Successful\",\"Successful\",\"Successful\",\"Successful\",\"Successful\",\"Successful\",\"Successful\",\"Successful\",\"Successful\",\"Successful\",\"Successful\",\"Successful\",\"Successful\",\"Successful\",\"Successful\",\"Successful\",\"Successful\",\"Successful\",\"Successful\",\"Successful\",\"Successful\",\"Successful\",\"Successful\",\"Successful\",\"Successful\",\"Successful\",\"Successful\",\"Successful\",\"Successful\",\"Successful\",\"Successful\",\"Successful\",\"Successful\",\"Successful\",\"Successful\",\"Successful\",\"Successful\",\"Successful\",\"Successful\",\"Successful\",\"Successful\",\"Successful\",\"Successful\",\"Successful\",\"Successful\",\"Successful\",\"Successful\",\"Successful\",\"Successful\",\"Successful\",\"Successful\",\"Successful\",\"Successful\",\"Successful\",\"Successful\",\"Successful\",\"Successful\",\"Successful\",\"Successful\",\"Successful\",\"Successful\",\"Successful\",\"Successful\",\"Successful\",\"Successful\",\"Successful\",\"Successful\",\"Successful\",\"Successful\",\"Successful\",\"Successful\",\"Successful\",\"Successful\",\"Successful\",\"Successful\",\"Successful\",\"Successful\"],\"x0\":\" \",\"xaxis\":\"x\",\"y\":[26000.0,9700.0,6400.0,2500.0,12000.0,2100.0,1600.0,8600.0,9100.0,1600.0,3800.0,913.0,11000.0,3100.0,2300.0,1700.0,764.0,921.0,904.0,9400.0,1300.0,11000.0,828.0,12000.0,9100.0,3000.0,3100.0,1000.0,1600.0,1300.0,47000.0,29000.0,3100.0,1000.0,4200.0,11000.0,6400.0,95.0,330.0,1900.0,1600.0,1300.0,4500.0,5000.0,3800.0,26000.0,6500.0,786.0,3400.0,840.0,14000.0,3900.0,750.0,996.0,1300.0,487.0,8300.0,4300.0,3300.0,2400.0,1300.0,699.0,3200.0,5100.0,15000.0,2600.0,3600.0,2400.0,3600.0,5300.0,8700.0,1100.0,8400.0,1000.0,2100.0,3900.0,12000.0,2700.0,2200.0,3900.0,2000.0,961.0,2100.0,652.0,22000.0,1400.0,3000.0,242.0,367.0,8700.0,916.0,2000.0,249.0,328.0,1100.0,829.0,2.0,326.0,576.0,414.0,1100.0,174.0,163.0,435.0,4600.0,354.0,747.0,2100.0,501.0,3500.0,669.0,342.0,878.0,291.0,577.0,3500.0,798.0,74.0,282.0,3500.0,224.0,1200.0,2.0,657.0,1600.0,198.0,515.0,404.0,120.0,2600.0,3100.0,70.0,169.0,1200.0,49.0,241.0,101.0,132.0,632.0,280.0,879.0,22.0,151.0,430.0,464.0,3.0,184.0,112.0,261.0,272.0,343.0,130.0,257.0,19000.0,3200.0,7700.0,2800.0,64.0,3000.0,254.0,4000.0,19.0,1400.0,1100.0,879.0,417.0,770.0,1500.0,1900.0,954.0,264.0,795.0,786.0,20.0,4900.0,62.0,171.0,315.0,284.0,1000.0,987.0,1300.0,643.0,1200.0,2600.0,23.0,153.0,92.0,596.0,412.0,314.0,113.0,null,24.0,153.0,131.0,107.0,39.0,118.0,29.0,37.0,2000.0,1400.0,803.0,844.0,599.0,1300.0,540.0,267.0,243.0,217.0,94.0,170.0,null,1600.0,107.0,362.0,132.0,44.0,171.0,193.0,559.0,276.0,138.0,203.0,93.0,1000.0,20.0,966.0,55.0,2.0,870.0,316.0,613.0,8.0,364.0,4.0,79.0,23.0,18.0,114.0,2.0,16.0,96.0,116.0,191.0,140.0,2.0,613.0,496.0,72.0,202.0,null,69.0,54.0,75.0,36.0,190.0,66.0,22.0,62.0,500.0,100.0,664.0,297.0,87.0,89.0,441.0,3.0,238.0,265.0,78.0,567.0,84.0,199.0,22.0,103.0,747.0,18.0,56.0,178.0,524.0,null,196.0,55.0,1100.0,5900.0,5900.0,7600.0,1400.0,336.0,423.0,982.0,1100.0,1100.0,238.0,5900.0,975.0,2700.0,530.0,3200.0,601.0,1600.0,577.0,436.0,137.0,2900.0,1200.0,934.0,1800.0,586.0,1600.0,null,null,34.0,null,30.0,88.0,null,45.0,null,29.0,null,17.0,null,null,8.0,10.0,3.0,3.0,70.0,7400.0,568.0,313.0,5400.0,1200.0,566.0,240.0,362.0,265.0,402.0,579.0,286.0,815.0,177.0,204.0,298.0,105.0,554.0,830.0,454.0,549.0,915.0,669.0,910.0,588.0,367.0,64.0,4.0,12.0,27.0,10.0,147.0,null,343.0,341.0,36.0,226.0,5.0,176.0,123.0,90.0,null,163.0,null,284.0,112.0,7.0,455.0,194.0,220.0,null,28.0,16.0,109.0,7.0,31.0,730.0,7.0,708.0,1200.0,453.0,4000.0,109.0,627.0,232.0,981.0,1000.0,1300.0,35.0,861.0,60.0,791.0,172.0,507.0,341.0,449.0,185.0,38.0,115.0,396.0,438.0,827.0,75.0,475.0,16.0,440.0,59.0,119.0,74.0,86.0,131.0,503.0,5700.0,1200.0,2100.0,2900.0,522.0,5700.0,833.0,651.0,397.0,516.0,707.0,1300.0,1200.0,337.0,149.0,542.0,389.0,94.0,126.0,558.0,235.0,15.0,229.0,353.0,344.0,168.0,28.0,419.0,72.0,871.0,107.0,398.0],\"y0\":\" \",\"yaxis\":\"y\",\"type\":\"box\"},{\"alignmentgroup\":\"True\",\"hovertemplate\":\"Success=%{x}\\u003cbr\\u003eFB_Shares=%{y}\\u003cextra\\u003e\\u003c\\u002fextra\\u003e\",\"legendgroup\":\"Unsuccessful\",\"marker\":{\"color\":\"#EF553B\"},\"name\":\"Unsuccessful\",\"notched\":false,\"offsetgroup\":\"Unsuccessful\",\"orientation\":\"v\",\"showlegend\":true,\"x\":[\"Unsuccessful\",\"Unsuccessful\",\"Unsuccessful\",\"Unsuccessful\",\"Unsuccessful\",\"Unsuccessful\",\"Unsuccessful\",\"Unsuccessful\",\"Unsuccessful\",\"Unsuccessful\",\"Unsuccessful\",\"Unsuccessful\",\"Unsuccessful\",\"Unsuccessful\",\"Unsuccessful\",\"Unsuccessful\",\"Unsuccessful\",\"Unsuccessful\",\"Unsuccessful\",\"Unsuccessful\",\"Unsuccessful\",\"Unsuccessful\",\"Unsuccessful\",\"Unsuccessful\",\"Unsuccessful\",\"Unsuccessful\",\"Unsuccessful\",\"Unsuccessful\",\"Unsuccessful\",\"Unsuccessful\",\"Unsuccessful\",\"Unsuccessful\",\"Unsuccessful\",\"Unsuccessful\",\"Unsuccessful\",\"Unsuccessful\",\"Unsuccessful\",\"Unsuccessful\",\"Unsuccessful\",\"Unsuccessful\",\"Unsuccessful\",\"Unsuccessful\",\"Unsuccessful\",\"Unsuccessful\",\"Unsuccessful\",\"Unsuccessful\",\"Unsuccessful\",\"Unsuccessful\",\"Unsuccessful\",\"Unsuccessful\",\"Unsuccessful\",\"Unsuccessful\",\"Unsuccessful\",\"Unsuccessful\",\"Unsuccessful\",\"Unsuccessful\",\"Unsuccessful\",\"Unsuccessful\",\"Unsuccessful\",\"Unsuccessful\",\"Unsuccessful\",\"Unsuccessful\",\"Unsuccessful\",\"Unsuccessful\",\"Unsuccessful\",\"Unsuccessful\",\"Unsuccessful\",\"Unsuccessful\",\"Unsuccessful\",\"Unsuccessful\",\"Unsuccessful\",\"Unsuccessful\",\"Unsuccessful\",\"Unsuccessful\",\"Unsuccessful\",\"Unsuccessful\",\"Unsuccessful\",\"Unsuccessful\",\"Unsuccessful\",\"Unsuccessful\",\"Unsuccessful\",\"Unsuccessful\",\"Unsuccessful\",\"Unsuccessful\",\"Unsuccessful\",\"Unsuccessful\",\"Unsuccessful\",\"Unsuccessful\",\"Unsuccessful\",\"Unsuccessful\",\"Unsuccessful\",\"Unsuccessful\",\"Unsuccessful\",\"Unsuccessful\",\"Unsuccessful\",\"Unsuccessful\",\"Unsuccessful\",\"Unsuccessful\",\"Unsuccessful\",\"Unsuccessful\",\"Unsuccessful\",\"Unsuccessful\",\"Unsuccessful\",\"Unsuccessful\",\"Unsuccessful\",\"Unsuccessful\",\"Unsuccessful\",\"Unsuccessful\",\"Unsuccessful\",\"Unsuccessful\",\"Unsuccessful\",\"Unsuccessful\",\"Unsuccessful\",\"Unsuccessful\",\"Unsuccessful\",\"Unsuccessful\",\"Unsuccessful\",\"Unsuccessful\",\"Unsuccessful\",\"Unsuccessful\",\"Unsuccessful\",\"Unsuccessful\",\"Unsuccessful\",\"Unsuccessful\",\"Unsuccessful\",\"Unsuccessful\",\"Unsuccessful\",\"Unsuccessful\",\"Unsuccessful\",\"Unsuccessful\",\"Unsuccessful\",\"Unsuccessful\",\"Unsuccessful\",\"Unsuccessful\",\"Unsuccessful\",\"Unsuccessful\",\"Unsuccessful\",\"Unsuccessful\",\"Unsuccessful\",\"Unsuccessful\",\"Unsuccessful\",\"Unsuccessful\",\"Unsuccessful\",\"Unsuccessful\",\"Unsuccessful\",\"Unsuccessful\",\"Unsuccessful\",\"Unsuccessful\",\"Unsuccessful\",\"Unsuccessful\",\"Unsuccessful\",\"Unsuccessful\",\"Unsuccessful\",\"Unsuccessful\",\"Unsuccessful\",\"Unsuccessful\",\"Unsuccessful\",\"Unsuccessful\",\"Unsuccessful\",\"Unsuccessful\",\"Unsuccessful\",\"Unsuccessful\",\"Unsuccessful\",\"Unsuccessful\",\"Unsuccessful\",\"Unsuccessful\",\"Unsuccessful\",\"Unsuccessful\",\"Unsuccessful\",\"Unsuccessful\",\"Unsuccessful\",\"Unsuccessful\",\"Unsuccessful\",\"Unsuccessful\",\"Unsuccessful\",\"Unsuccessful\",\"Unsuccessful\",\"Unsuccessful\",\"Unsuccessful\",\"Unsuccessful\",\"Unsuccessful\",\"Unsuccessful\",\"Unsuccessful\",\"Unsuccessful\",\"Unsuccessful\",\"Unsuccessful\",\"Unsuccessful\",\"Unsuccessful\",\"Unsuccessful\",\"Unsuccessful\",\"Unsuccessful\",\"Unsuccessful\",\"Unsuccessful\",\"Unsuccessful\",\"Unsuccessful\",\"Unsuccessful\",\"Unsuccessful\",\"Unsuccessful\",\"Unsuccessful\",\"Unsuccessful\",\"Unsuccessful\",\"Unsuccessful\",\"Unsuccessful\",\"Unsuccessful\",\"Unsuccessful\",\"Unsuccessful\",\"Unsuccessful\",\"Unsuccessful\",\"Unsuccessful\",\"Unsuccessful\",\"Unsuccessful\",\"Unsuccessful\",\"Unsuccessful\",\"Unsuccessful\",\"Unsuccessful\",\"Unsuccessful\",\"Unsuccessful\",\"Unsuccessful\",\"Unsuccessful\",\"Unsuccessful\",\"Unsuccessful\",\"Unsuccessful\",\"Unsuccessful\",\"Unsuccessful\",\"Unsuccessful\",\"Unsuccessful\",\"Unsuccessful\",\"Unsuccessful\",\"Unsuccessful\",\"Unsuccessful\",\"Unsuccessful\",\"Unsuccessful\",\"Unsuccessful\",\"Unsuccessful\",\"Unsuccessful\",\"Unsuccessful\",\"Unsuccessful\",\"Unsuccessful\",\"Unsuccessful\",\"Unsuccessful\",\"Unsuccessful\",\"Unsuccessful\",\"Unsuccessful\",\"Unsuccessful\",\"Unsuccessful\",\"Unsuccessful\",\"Unsuccessful\",\"Unsuccessful\",\"Unsuccessful\",\"Unsuccessful\",\"Unsuccessful\",\"Unsuccessful\",\"Unsuccessful\",\"Unsuccessful\",\"Unsuccessful\",\"Unsuccessful\",\"Unsuccessful\",\"Unsuccessful\",\"Unsuccessful\",\"Unsuccessful\",\"Unsuccessful\",\"Unsuccessful\",\"Unsuccessful\",\"Unsuccessful\",\"Unsuccessful\",\"Unsuccessful\",\"Unsuccessful\",\"Unsuccessful\",\"Unsuccessful\",\"Unsuccessful\",\"Unsuccessful\",\"Unsuccessful\",\"Unsuccessful\",\"Unsuccessful\",\"Unsuccessful\",\"Unsuccessful\",\"Unsuccessful\",\"Unsuccessful\",\"Unsuccessful\",\"Unsuccessful\",\"Unsuccessful\",\"Unsuccessful\",\"Unsuccessful\",\"Unsuccessful\",\"Unsuccessful\",\"Unsuccessful\",\"Unsuccessful\",\"Unsuccessful\",\"Unsuccessful\",\"Unsuccessful\",\"Unsuccessful\",\"Unsuccessful\",\"Unsuccessful\",\"Unsuccessful\",\"Unsuccessful\",\"Unsuccessful\",\"Unsuccessful\",\"Unsuccessful\",\"Unsuccessful\",\"Unsuccessful\",\"Unsuccessful\",\"Unsuccessful\",\"Unsuccessful\",\"Unsuccessful\",\"Unsuccessful\",\"Unsuccessful\",\"Unsuccessful\",\"Unsuccessful\",\"Unsuccessful\",\"Unsuccessful\",\"Unsuccessful\",\"Unsuccessful\",\"Unsuccessful\",\"Unsuccessful\",\"Unsuccessful\",\"Unsuccessful\",\"Unsuccessful\",\"Unsuccessful\",\"Unsuccessful\",\"Unsuccessful\",\"Unsuccessful\",\"Unsuccessful\",\"Unsuccessful\",\"Unsuccessful\",\"Unsuccessful\",\"Unsuccessful\",\"Unsuccessful\",\"Unsuccessful\",\"Unsuccessful\",\"Unsuccessful\",\"Unsuccessful\",\"Unsuccessful\",\"Unsuccessful\",\"Unsuccessful\",\"Unsuccessful\",\"Unsuccessful\",\"Unsuccessful\",\"Unsuccessful\",\"Unsuccessful\",\"Unsuccessful\",\"Unsuccessful\",\"Unsuccessful\",\"Unsuccessful\",\"Unsuccessful\",\"Unsuccessful\",\"Unsuccessful\",\"Unsuccessful\",\"Unsuccessful\",\"Unsuccessful\",\"Unsuccessful\",\"Unsuccessful\",\"Unsuccessful\",\"Unsuccessful\",\"Unsuccessful\",\"Unsuccessful\",\"Unsuccessful\",\"Unsuccessful\",\"Unsuccessful\",\"Unsuccessful\",\"Unsuccessful\",\"Unsuccessful\",\"Unsuccessful\",\"Unsuccessful\",\"Unsuccessful\",\"Unsuccessful\",\"Unsuccessful\",\"Unsuccessful\",\"Unsuccessful\",\"Unsuccessful\",\"Unsuccessful\",\"Unsuccessful\",\"Unsuccessful\",\"Unsuccessful\",\"Unsuccessful\",\"Unsuccessful\",\"Unsuccessful\",\"Unsuccessful\",\"Unsuccessful\",\"Unsuccessful\",\"Unsuccessful\",\"Unsuccessful\",\"Unsuccessful\",\"Unsuccessful\",\"Unsuccessful\",\"Unsuccessful\",\"Unsuccessful\",\"Unsuccessful\",\"Unsuccessful\",\"Unsuccessful\",\"Unsuccessful\",\"Unsuccessful\",\"Unsuccessful\",\"Unsuccessful\",\"Unsuccessful\",\"Unsuccessful\",\"Unsuccessful\",\"Unsuccessful\",\"Unsuccessful\",\"Unsuccessful\",\"Unsuccessful\",\"Unsuccessful\",\"Unsuccessful\",\"Unsuccessful\",\"Unsuccessful\",\"Unsuccessful\",\"Unsuccessful\",\"Unsuccessful\",\"Unsuccessful\",\"Unsuccessful\",\"Unsuccessful\",\"Unsuccessful\",\"Unsuccessful\",\"Unsuccessful\",\"Unsuccessful\",\"Unsuccessful\",\"Unsuccessful\",\"Unsuccessful\",\"Unsuccessful\",\"Unsuccessful\",\"Unsuccessful\",\"Unsuccessful\",\"Unsuccessful\",\"Unsuccessful\",\"Unsuccessful\",\"Unsuccessful\",\"Unsuccessful\",\"Unsuccessful\",\"Unsuccessful\",\"Unsuccessful\",\"Unsuccessful\",\"Unsuccessful\",\"Unsuccessful\",\"Unsuccessful\",\"Unsuccessful\",\"Unsuccessful\",\"Unsuccessful\",\"Unsuccessful\",\"Unsuccessful\",\"Unsuccessful\",\"Unsuccessful\",\"Unsuccessful\",\"Unsuccessful\",\"Unsuccessful\",\"Unsuccessful\",\"Unsuccessful\",\"Unsuccessful\",\"Unsuccessful\",\"Unsuccessful\",\"Unsuccessful\",\"Unsuccessful\",\"Unsuccessful\",\"Unsuccessful\",\"Unsuccessful\",\"Unsuccessful\",\"Unsuccessful\",\"Unsuccessful\",\"Unsuccessful\",\"Unsuccessful\",\"Unsuccessful\",\"Unsuccessful\",\"Unsuccessful\",\"Unsuccessful\",\"Unsuccessful\",\"Unsuccessful\",\"Unsuccessful\",\"Unsuccessful\",\"Unsuccessful\",\"Unsuccessful\",\"Unsuccessful\",\"Unsuccessful\",\"Unsuccessful\",\"Unsuccessful\",\"Unsuccessful\",\"Unsuccessful\",\"Unsuccessful\",\"Unsuccessful\",\"Unsuccessful\",\"Unsuccessful\",\"Unsuccessful\",\"Unsuccessful\",\"Unsuccessful\",\"Unsuccessful\",\"Unsuccessful\",\"Unsuccessful\",\"Unsuccessful\",\"Unsuccessful\",\"Unsuccessful\",\"Unsuccessful\",\"Unsuccessful\",\"Unsuccessful\",\"Unsuccessful\",\"Unsuccessful\",\"Unsuccessful\",\"Unsuccessful\",\"Unsuccessful\",\"Unsuccessful\",\"Unsuccessful\",\"Unsuccessful\",\"Unsuccessful\",\"Unsuccessful\",\"Unsuccessful\",\"Unsuccessful\",\"Unsuccessful\",\"Unsuccessful\",\"Unsuccessful\",\"Unsuccessful\",\"Unsuccessful\",\"Unsuccessful\",\"Unsuccessful\",\"Unsuccessful\",\"Unsuccessful\",\"Unsuccessful\",\"Unsuccessful\",\"Unsuccessful\",\"Unsuccessful\",\"Unsuccessful\",\"Unsuccessful\",\"Unsuccessful\",\"Unsuccessful\",\"Unsuccessful\",\"Unsuccessful\",\"Unsuccessful\",\"Unsuccessful\",\"Unsuccessful\",\"Unsuccessful\",\"Unsuccessful\",\"Unsuccessful\",\"Unsuccessful\",\"Unsuccessful\",\"Unsuccessful\",\"Unsuccessful\",\"Unsuccessful\",\"Unsuccessful\",\"Unsuccessful\",\"Unsuccessful\",\"Unsuccessful\",\"Unsuccessful\",\"Unsuccessful\",\"Unsuccessful\",\"Unsuccessful\",\"Unsuccessful\",\"Unsuccessful\",\"Unsuccessful\",\"Unsuccessful\",\"Unsuccessful\",\"Unsuccessful\",\"Unsuccessful\",\"Unsuccessful\",\"Unsuccessful\",\"Unsuccessful\",\"Unsuccessful\",\"Unsuccessful\",\"Unsuccessful\",\"Unsuccessful\",\"Unsuccessful\",\"Unsuccessful\",\"Unsuccessful\",\"Unsuccessful\",\"Unsuccessful\",\"Unsuccessful\",\"Unsuccessful\",\"Unsuccessful\",\"Unsuccessful\",\"Unsuccessful\",\"Unsuccessful\",\"Unsuccessful\",\"Unsuccessful\",\"Unsuccessful\",\"Unsuccessful\",\"Unsuccessful\",\"Unsuccessful\",\"Unsuccessful\",\"Unsuccessful\",\"Unsuccessful\",\"Unsuccessful\",\"Unsuccessful\",\"Unsuccessful\",\"Unsuccessful\",\"Unsuccessful\",\"Unsuccessful\",\"Unsuccessful\",\"Unsuccessful\",\"Unsuccessful\",\"Unsuccessful\",\"Unsuccessful\",\"Unsuccessful\",\"Unsuccessful\",\"Unsuccessful\",\"Unsuccessful\",\"Unsuccessful\",\"Unsuccessful\",\"Unsuccessful\",\"Unsuccessful\",\"Unsuccessful\",\"Unsuccessful\",\"Unsuccessful\",\"Unsuccessful\",\"Unsuccessful\",\"Unsuccessful\",\"Unsuccessful\",\"Unsuccessful\",\"Unsuccessful\",\"Unsuccessful\",\"Unsuccessful\",\"Unsuccessful\",\"Unsuccessful\",\"Unsuccessful\",\"Unsuccessful\",\"Unsuccessful\",\"Unsuccessful\",\"Unsuccessful\",\"Unsuccessful\",\"Unsuccessful\",\"Unsuccessful\",\"Unsuccessful\",\"Unsuccessful\",\"Unsuccessful\",\"Unsuccessful\",\"Unsuccessful\",\"Unsuccessful\",\"Unsuccessful\",\"Unsuccessful\",\"Unsuccessful\",\"Unsuccessful\",\"Unsuccessful\",\"Unsuccessful\",\"Unsuccessful\",\"Unsuccessful\",\"Unsuccessful\",\"Unsuccessful\",\"Unsuccessful\",\"Unsuccessful\",\"Unsuccessful\",\"Unsuccessful\",\"Unsuccessful\",\"Unsuccessful\",\"Unsuccessful\",\"Unsuccessful\",\"Unsuccessful\",\"Unsuccessful\",\"Unsuccessful\",\"Unsuccessful\",\"Unsuccessful\",\"Unsuccessful\",\"Unsuccessful\",\"Unsuccessful\",\"Unsuccessful\",\"Unsuccessful\",\"Unsuccessful\",\"Unsuccessful\",\"Unsuccessful\",\"Unsuccessful\",\"Unsuccessful\",\"Unsuccessful\",\"Unsuccessful\",\"Unsuccessful\",\"Unsuccessful\",\"Unsuccessful\",\"Unsuccessful\",\"Unsuccessful\",\"Unsuccessful\",\"Unsuccessful\",\"Unsuccessful\",\"Unsuccessful\",\"Unsuccessful\",\"Unsuccessful\",\"Unsuccessful\",\"Unsuccessful\",\"Unsuccessful\",\"Unsuccessful\",\"Unsuccessful\",\"Unsuccessful\",\"Unsuccessful\",\"Unsuccessful\",\"Unsuccessful\",\"Unsuccessful\",\"Unsuccessful\",\"Unsuccessful\",\"Unsuccessful\",\"Unsuccessful\",\"Unsuccessful\",\"Unsuccessful\",\"Unsuccessful\",\"Unsuccessful\",\"Unsuccessful\",\"Unsuccessful\",\"Unsuccessful\",\"Unsuccessful\",\"Unsuccessful\",\"Unsuccessful\",\"Unsuccessful\",\"Unsuccessful\",\"Unsuccessful\",\"Unsuccessful\",\"Unsuccessful\",\"Unsuccessful\",\"Unsuccessful\",\"Unsuccessful\",\"Unsuccessful\",\"Unsuccessful\",\"Unsuccessful\",\"Unsuccessful\",\"Unsuccessful\",\"Unsuccessful\",\"Unsuccessful\",\"Unsuccessful\",\"Unsuccessful\",\"Unsuccessful\",\"Unsuccessful\",\"Unsuccessful\",\"Unsuccessful\",\"Unsuccessful\",\"Unsuccessful\",\"Unsuccessful\",\"Unsuccessful\",\"Unsuccessful\",\"Unsuccessful\",\"Unsuccessful\",\"Unsuccessful\",\"Unsuccessful\",\"Unsuccessful\",\"Unsuccessful\",\"Unsuccessful\",\"Unsuccessful\",\"Unsuccessful\",\"Unsuccessful\",\"Unsuccessful\",\"Unsuccessful\",\"Unsuccessful\",\"Unsuccessful\",\"Unsuccessful\",\"Unsuccessful\",\"Unsuccessful\",\"Unsuccessful\",\"Unsuccessful\",\"Unsuccessful\",\"Unsuccessful\",\"Unsuccessful\",\"Unsuccessful\",\"Unsuccessful\",\"Unsuccessful\",\"Unsuccessful\",\"Unsuccessful\",\"Unsuccessful\",\"Unsuccessful\",\"Unsuccessful\",\"Unsuccessful\",\"Unsuccessful\",\"Unsuccessful\",\"Unsuccessful\",\"Unsuccessful\",\"Unsuccessful\",\"Unsuccessful\",\"Unsuccessful\",\"Unsuccessful\",\"Unsuccessful\",\"Unsuccessful\",\"Unsuccessful\",\"Unsuccessful\",\"Unsuccessful\",\"Unsuccessful\",\"Unsuccessful\",\"Unsuccessful\",\"Unsuccessful\",\"Unsuccessful\",\"Unsuccessful\",\"Unsuccessful\",\"Unsuccessful\",\"Unsuccessful\",\"Unsuccessful\",\"Unsuccessful\",\"Unsuccessful\",\"Unsuccessful\",\"Unsuccessful\",\"Unsuccessful\",\"Unsuccessful\",\"Unsuccessful\",\"Unsuccessful\",\"Unsuccessful\",\"Unsuccessful\",\"Unsuccessful\",\"Unsuccessful\",\"Unsuccessful\",\"Unsuccessful\"],\"x0\":\" \",\"xaxis\":\"x\",\"y\":[12000.0,1800.0,3700.0,10000.0,2800.0,3300.0,6000.0,3200.0,1300.0,5600.0,606.0,2400.0,1000.0,1800.0,9900.0,1600.0,1600.0,2600.0,8500.0,845.0,2000.0,7400.0,246.0,2300.0,365.0,8700.0,5100.0,723.0,2400.0,2500.0,681.0,147.0,1800.0,1700.0,1100.0,170.0,2600.0,1500.0,2000.0,689.0,9200.0,10000.0,63000.0,22000.0,12000.0,3300.0,2000.0,5700.0,11000.0,5400.0,3700.0,1300.0,2300.0,1300.0,8700.0,5500.0,2900.0,9000.0,2900.0,811.0,579.0,605.0,1300.0,381.0,8800.0,831.0,545.0,5800.0,918.0,3400.0,2400.0,536.0,1600.0,2400.0,4400.0,623.0,1300.0,6300.0,2000.0,7200.0,833.0,909.0,5900.0,3800.0,972.0,6400.0,5400.0,20000.0,8800.0,16000.0,5200.0,5700.0,2700.0,8500.0,7800.0,1400.0,3600.0,1900.0,3100.0,11000.0,3000.0,5800.0,5300.0,5300.0,4800.0,1100.0,2600.0,1800.0,1900.0,1000.0,8300.0,8400.0,2500.0,3800.0,4400.0,1600.0,894.0,2300.0,2900.0,499.0,825.0,816.0,2100.0,5100.0,4500.0,1100.0,6100.0,4800.0,1600.0,1300.0,1400.0,1900.0,3100.0,1200.0,736.0,1800.0,520.0,12000.0,2600.0,901.0,2100.0,240.0,1400.0,174.0,1500.0,1200.0,1900.0,4100.0,2200.0,354.0,70.0,921.0,323.0,836.0,1500.0,878.0,400.0,1100.0,3400.0,1400.0,578.0,523.0,495.0,509.0,1800.0,584.0,28.0,999.0,12.0,1900.0,709.0,183.0,2300.0,1600.0,374.0,713.0,83.0,null,380.0,1100.0,145.0,5.0,410.0,2200.0,1200.0,1400.0,858.0,463.0,1500.0,596.0,683.0,74.0,5200.0,298.0,2400.0,3700.0,92.0,85.0,1800.0,604.0,844.0,608.0,3.0,319.0,678.0,375.0,489.0,295.0,394.0,796.0,552.0,489.0,38.0,315.0,1000.0,1200.0,59.0,269.0,100.0,96.0,213.0,832.0,2500.0,688.0,469.0,493.0,295.0,85.0,682.0,321.0,342.0,51.0,96.0,100.0,450.0,357.0,46000.0,1300.0,645.0,177.0,152.0,6.0,77.0,495.0,399.0,1100.0,116.0,1000.0,66.0,397.0,184.0,361.0,180.0,1200.0,79.0,180.0,383.0,383.0,1500.0,417.0,271.0,1000.0,1300.0,317.0,359.0,172.0,392.0,525.0,375.0,578.0,1800.0,100.0,138.0,253.0,520.0,597.0,128.0,300.0,446.0,50.0,61.0,145.0,516.0,649.0,451.0,77.0,180.0,567.0,373.0,296.0,307.0,1600.0,514.0,1400.0,117000.0,1800.0,163.0,1400.0,4500.0,1700.0,721.0,null,2400.0,251.0,1200.0,1000.0,278.0,623.0,836.0,199.0,456.0,161.0,1500.0,14.0,74.0,1400.0,351.0,92.0,496.0,61.0,1100.0,2900.0,359.0,565.0,95.0,82.0,1300.0,516.0,70.0,1300.0,27.0,178.0,558.0,782.0,88.0,805.0,483.0,null,568.0,557.0,576.0,637.0,52.0,8.0,107.0,455.0,148.0,109.0,160.0,521.0,401.0,205.0,135.0,107.0,123.0,145.0,156.0,39.0,372.0,304.0,193.0,267.0,438.0,106.0,331.0,225.0,670.0,145.0,226.0,173.0,150.0,266.0,22.0,443.0,92.0,103.0,255.0,247.0,191.0,162.0,70.0,498.0,135.0,266.0,119.0,236.0,98.0,191.0,59.0,268.0,115.0,169.0,3000.0,558.0,1200.0,38000.0,45.0,399.0,1100.0,620.0,207.0,923.0,1000.0,309.0,743.0,190.0,311.0,316.0,121.0,1600.0,317.0,423.0,355.0,820.0,1400.0,156.0,325.0,2500.0,725.0,364.0,478.0,1000.0,398.0,173.0,127.0,546.0,75.0,419.0,498.0,122.0,178.0,276.0,318.0,345.0,629.0,272.0,68.0,1600.0,1300.0,839.0,110.0,169.0,11.0,225.0,46.0,228.0,301.0,240.0,null,54.0,56.0,181.0,203.0,12.0,86.0,65.0,108.0,403.0,356.0,null,49.0,1800.0,4.0,1500.0,55.0,1500.0,null,229.0,182.0,926.0,1400.0,365.0,441.0,334.0,27.0,108.0,773.0,28.0,5800.0,198.0,114.0,148.0,898.0,null,186.0,25.0,154.0,104.0,178.0,15.0,15.0,114.0,null,2.0,8.0,null,375.0,173.0,191.0,29.0,764.0,34.0,58.0,458.0,144.0,98.0,181.0,795.0,328.0,204.0,154.0,212.0,1100.0,273.0,116.0,8.0,130.0,112.0,34.0,84.0,424.0,209.0,8800.0,5500.0,10000.0,3400.0,38000.0,1400.0,3700.0,66.0,6000.0,1400.0,2000.0,2400.0,1700.0,2200.0,1200.0,103.0,4400.0,2400.0,6400.0,1400.0,1600.0,1900.0,545.0,2400.0,1100.0,3900.0,677.0,1300.0,1700.0,1700.0,1100.0,1000.0,402.0,2300.0,2500.0,631.0,196.0,2600.0,3700.0,6.0,85.0,2600.0,1500.0,382.0,189.0,1100.0,90.0,3.0,5.0,49.0,21.0,179.0,577.0,86.0,null,88.0,null,49.0,10.0,4.0,14.0,103.0,112.0,265.0,null,null,null,19.0,223.0,19.0,95.0,37.0,23.0,null,51.0,2.0,31.0,null,13.0,134.0,85.0,124.0,null,126.0,null,null,null,null,223.0,22.0,37.0,81.0,123.0,null,74.0,null,8.0,null,369.0,1500.0,374.0,2700.0,521.0,70.0,44.0,491.0,null,368.0,1000.0,2900.0,1300.0,943.0,214.0,398.0,1300.0,83.0,41.0,678.0,67.0,973.0,469.0,144.0,723.0,882.0,580.0,272.0,108.0,1000.0,406.0,361.0,196.0,470.0,321.0,512.0,338.0,1300.0,154.0,904.0,427.0,null,231.0,526.0,274.0,460.0,1100.0,435.0,274.0,123.0,652.0,1100.0,1100.0,277.0,237.0,209.0,388.0,1100.0,37.0,193.0,72.0,80.0,123.0,2.0,339.0,87.0,70.0,101.0,44.0,328.0,58.0,84.0,null,338.0,274.0,101.0,null,316.0,258.0,4.0,209.0,175.0,6.0,252.0,4.0,50.0,2.0,71.0,17000.0,250.0,2400.0,710.0,983.0,162.0,171.0,349.0,188.0,677.0,322.0,1800.0,377.0,155.0,4.0,96.0,334.0,633.0,149.0,1500.0,157.0,711.0,259.0,54.0,264.0,144.0,53.0,494.0,45.0,374.0,505.0,78.0,41.0,65.0,386.0,377.0,1900.0,1700.0,2200.0,1300.0,219.0,5800.0,105.0,4100.0,5100.0,795.0,430.0,429.0,730.0,754.0,3400.0,90.0,672.0,900.0,183.0,1900.0,196.0,999.0,315.0,93.0,274.0,414.0,1200.0,332.0,null,3200.0,668.0,146.0,266.0,1100.0,50.0,110.0,977.0,66.0,476.0,322.0],\"y0\":\" \",\"yaxis\":\"y\",\"type\":\"box\"}],                        {\"template\":{\"data\":{\"histogram2dcontour\":[{\"type\":\"histogram2dcontour\",\"colorbar\":{\"outlinewidth\":0,\"ticks\":\"\"},\"colorscale\":[[0.0,\"#0d0887\"],[0.1111111111111111,\"#46039f\"],[0.2222222222222222,\"#7201a8\"],[0.3333333333333333,\"#9c179e\"],[0.4444444444444444,\"#bd3786\"],[0.5555555555555556,\"#d8576b\"],[0.6666666666666666,\"#ed7953\"],[0.7777777777777778,\"#fb9f3a\"],[0.8888888888888888,\"#fdca26\"],[1.0,\"#f0f921\"]]}],\"choropleth\":[{\"type\":\"choropleth\",\"colorbar\":{\"outlinewidth\":0,\"ticks\":\"\"}}],\"histogram2d\":[{\"type\":\"histogram2d\",\"colorbar\":{\"outlinewidth\":0,\"ticks\":\"\"},\"colorscale\":[[0.0,\"#0d0887\"],[0.1111111111111111,\"#46039f\"],[0.2222222222222222,\"#7201a8\"],[0.3333333333333333,\"#9c179e\"],[0.4444444444444444,\"#bd3786\"],[0.5555555555555556,\"#d8576b\"],[0.6666666666666666,\"#ed7953\"],[0.7777777777777778,\"#fb9f3a\"],[0.8888888888888888,\"#fdca26\"],[1.0,\"#f0f921\"]]}],\"heatmap\":[{\"type\":\"heatmap\",\"colorbar\":{\"outlinewidth\":0,\"ticks\":\"\"},\"colorscale\":[[0.0,\"#0d0887\"],[0.1111111111111111,\"#46039f\"],[0.2222222222222222,\"#7201a8\"],[0.3333333333333333,\"#9c179e\"],[0.4444444444444444,\"#bd3786\"],[0.5555555555555556,\"#d8576b\"],[0.6666666666666666,\"#ed7953\"],[0.7777777777777778,\"#fb9f3a\"],[0.8888888888888888,\"#fdca26\"],[1.0,\"#f0f921\"]]}],\"heatmapgl\":[{\"type\":\"heatmapgl\",\"colorbar\":{\"outlinewidth\":0,\"ticks\":\"\"},\"colorscale\":[[0.0,\"#0d0887\"],[0.1111111111111111,\"#46039f\"],[0.2222222222222222,\"#7201a8\"],[0.3333333333333333,\"#9c179e\"],[0.4444444444444444,\"#bd3786\"],[0.5555555555555556,\"#d8576b\"],[0.6666666666666666,\"#ed7953\"],[0.7777777777777778,\"#fb9f3a\"],[0.8888888888888888,\"#fdca26\"],[1.0,\"#f0f921\"]]}],\"contourcarpet\":[{\"type\":\"contourcarpet\",\"colorbar\":{\"outlinewidth\":0,\"ticks\":\"\"}}],\"contour\":[{\"type\":\"contour\",\"colorbar\":{\"outlinewidth\":0,\"ticks\":\"\"},\"colorscale\":[[0.0,\"#0d0887\"],[0.1111111111111111,\"#46039f\"],[0.2222222222222222,\"#7201a8\"],[0.3333333333333333,\"#9c179e\"],[0.4444444444444444,\"#bd3786\"],[0.5555555555555556,\"#d8576b\"],[0.6666666666666666,\"#ed7953\"],[0.7777777777777778,\"#fb9f3a\"],[0.8888888888888888,\"#fdca26\"],[1.0,\"#f0f921\"]]}],\"surface\":[{\"type\":\"surface\",\"colorbar\":{\"outlinewidth\":0,\"ticks\":\"\"},\"colorscale\":[[0.0,\"#0d0887\"],[0.1111111111111111,\"#46039f\"],[0.2222222222222222,\"#7201a8\"],[0.3333333333333333,\"#9c179e\"],[0.4444444444444444,\"#bd3786\"],[0.5555555555555556,\"#d8576b\"],[0.6666666666666666,\"#ed7953\"],[0.7777777777777778,\"#fb9f3a\"],[0.8888888888888888,\"#fdca26\"],[1.0,\"#f0f921\"]]}],\"mesh3d\":[{\"type\":\"mesh3d\",\"colorbar\":{\"outlinewidth\":0,\"ticks\":\"\"}}],\"scatter\":[{\"fillpattern\":{\"fillmode\":\"overlay\",\"size\":10,\"solidity\":0.2},\"type\":\"scatter\"}],\"parcoords\":[{\"type\":\"parcoords\",\"line\":{\"colorbar\":{\"outlinewidth\":0,\"ticks\":\"\"}}}],\"scatterpolargl\":[{\"type\":\"scatterpolargl\",\"marker\":{\"colorbar\":{\"outlinewidth\":0,\"ticks\":\"\"}}}],\"bar\":[{\"error_x\":{\"color\":\"#2a3f5f\"},\"error_y\":{\"color\":\"#2a3f5f\"},\"marker\":{\"line\":{\"color\":\"#E5ECF6\",\"width\":0.5},\"pattern\":{\"fillmode\":\"overlay\",\"size\":10,\"solidity\":0.2}},\"type\":\"bar\"}],\"scattergeo\":[{\"type\":\"scattergeo\",\"marker\":{\"colorbar\":{\"outlinewidth\":0,\"ticks\":\"\"}}}],\"scatterpolar\":[{\"type\":\"scatterpolar\",\"marker\":{\"colorbar\":{\"outlinewidth\":0,\"ticks\":\"\"}}}],\"histogram\":[{\"marker\":{\"pattern\":{\"fillmode\":\"overlay\",\"size\":10,\"solidity\":0.2}},\"type\":\"histogram\"}],\"scattergl\":[{\"type\":\"scattergl\",\"marker\":{\"colorbar\":{\"outlinewidth\":0,\"ticks\":\"\"}}}],\"scatter3d\":[{\"type\":\"scatter3d\",\"line\":{\"colorbar\":{\"outlinewidth\":0,\"ticks\":\"\"}},\"marker\":{\"colorbar\":{\"outlinewidth\":0,\"ticks\":\"\"}}}],\"scattermapbox\":[{\"type\":\"scattermapbox\",\"marker\":{\"colorbar\":{\"outlinewidth\":0,\"ticks\":\"\"}}}],\"scatterternary\":[{\"type\":\"scatterternary\",\"marker\":{\"colorbar\":{\"outlinewidth\":0,\"ticks\":\"\"}}}],\"scattercarpet\":[{\"type\":\"scattercarpet\",\"marker\":{\"colorbar\":{\"outlinewidth\":0,\"ticks\":\"\"}}}],\"carpet\":[{\"aaxis\":{\"endlinecolor\":\"#2a3f5f\",\"gridcolor\":\"white\",\"linecolor\":\"white\",\"minorgridcolor\":\"white\",\"startlinecolor\":\"#2a3f5f\"},\"baxis\":{\"endlinecolor\":\"#2a3f5f\",\"gridcolor\":\"white\",\"linecolor\":\"white\",\"minorgridcolor\":\"white\",\"startlinecolor\":\"#2a3f5f\"},\"type\":\"carpet\"}],\"table\":[{\"cells\":{\"fill\":{\"color\":\"#EBF0F8\"},\"line\":{\"color\":\"white\"}},\"header\":{\"fill\":{\"color\":\"#C8D4E3\"},\"line\":{\"color\":\"white\"}},\"type\":\"table\"}],\"barpolar\":[{\"marker\":{\"line\":{\"color\":\"#E5ECF6\",\"width\":0.5},\"pattern\":{\"fillmode\":\"overlay\",\"size\":10,\"solidity\":0.2}},\"type\":\"barpolar\"}],\"pie\":[{\"automargin\":true,\"type\":\"pie\"}]},\"layout\":{\"autotypenumbers\":\"strict\",\"colorway\":[\"#636efa\",\"#EF553B\",\"#00cc96\",\"#ab63fa\",\"#FFA15A\",\"#19d3f3\",\"#FF6692\",\"#B6E880\",\"#FF97FF\",\"#FECB52\"],\"font\":{\"color\":\"#2a3f5f\"},\"hovermode\":\"closest\",\"hoverlabel\":{\"align\":\"left\"},\"paper_bgcolor\":\"white\",\"plot_bgcolor\":\"#E5ECF6\",\"polar\":{\"bgcolor\":\"#E5ECF6\",\"angularaxis\":{\"gridcolor\":\"white\",\"linecolor\":\"white\",\"ticks\":\"\"},\"radialaxis\":{\"gridcolor\":\"white\",\"linecolor\":\"white\",\"ticks\":\"\"}},\"ternary\":{\"bgcolor\":\"#E5ECF6\",\"aaxis\":{\"gridcolor\":\"white\",\"linecolor\":\"white\",\"ticks\":\"\"},\"baxis\":{\"gridcolor\":\"white\",\"linecolor\":\"white\",\"ticks\":\"\"},\"caxis\":{\"gridcolor\":\"white\",\"linecolor\":\"white\",\"ticks\":\"\"}},\"coloraxis\":{\"colorbar\":{\"outlinewidth\":0,\"ticks\":\"\"}},\"colorscale\":{\"sequential\":[[0.0,\"#0d0887\"],[0.1111111111111111,\"#46039f\"],[0.2222222222222222,\"#7201a8\"],[0.3333333333333333,\"#9c179e\"],[0.4444444444444444,\"#bd3786\"],[0.5555555555555556,\"#d8576b\"],[0.6666666666666666,\"#ed7953\"],[0.7777777777777778,\"#fb9f3a\"],[0.8888888888888888,\"#fdca26\"],[1.0,\"#f0f921\"]],\"sequentialminus\":[[0.0,\"#0d0887\"],[0.1111111111111111,\"#46039f\"],[0.2222222222222222,\"#7201a8\"],[0.3333333333333333,\"#9c179e\"],[0.4444444444444444,\"#bd3786\"],[0.5555555555555556,\"#d8576b\"],[0.6666666666666666,\"#ed7953\"],[0.7777777777777778,\"#fb9f3a\"],[0.8888888888888888,\"#fdca26\"],[1.0,\"#f0f921\"]],\"diverging\":[[0,\"#8e0152\"],[0.1,\"#c51b7d\"],[0.2,\"#de77ae\"],[0.3,\"#f1b6da\"],[0.4,\"#fde0ef\"],[0.5,\"#f7f7f7\"],[0.6,\"#e6f5d0\"],[0.7,\"#b8e186\"],[0.8,\"#7fbc41\"],[0.9,\"#4d9221\"],[1,\"#276419\"]]},\"xaxis\":{\"gridcolor\":\"white\",\"linecolor\":\"white\",\"ticks\":\"\",\"title\":{\"standoff\":15},\"zerolinecolor\":\"white\",\"automargin\":true,\"zerolinewidth\":2},\"yaxis\":{\"gridcolor\":\"white\",\"linecolor\":\"white\",\"ticks\":\"\",\"title\":{\"standoff\":15},\"zerolinecolor\":\"white\",\"automargin\":true,\"zerolinewidth\":2},\"scene\":{\"xaxis\":{\"backgroundcolor\":\"#E5ECF6\",\"gridcolor\":\"white\",\"linecolor\":\"white\",\"showbackground\":true,\"ticks\":\"\",\"zerolinecolor\":\"white\",\"gridwidth\":2},\"yaxis\":{\"backgroundcolor\":\"#E5ECF6\",\"gridcolor\":\"white\",\"linecolor\":\"white\",\"showbackground\":true,\"ticks\":\"\",\"zerolinecolor\":\"white\",\"gridwidth\":2},\"zaxis\":{\"backgroundcolor\":\"#E5ECF6\",\"gridcolor\":\"white\",\"linecolor\":\"white\",\"showbackground\":true,\"ticks\":\"\",\"zerolinecolor\":\"white\",\"gridwidth\":2}},\"shapedefaults\":{\"line\":{\"color\":\"#2a3f5f\"}},\"annotationdefaults\":{\"arrowcolor\":\"#2a3f5f\",\"arrowhead\":0,\"arrowwidth\":1},\"geo\":{\"bgcolor\":\"white\",\"landcolor\":\"#E5ECF6\",\"subunitcolor\":\"white\",\"showland\":true,\"showlakes\":true,\"lakecolor\":\"white\"},\"title\":{\"x\":0.05},\"mapbox\":{\"style\":\"light\"}}},\"xaxis\":{\"anchor\":\"y\",\"domain\":[0.0,1.0],\"title\":{\"text\":\"GFM Project Success\"},\"categoryorder\":\"array\",\"categoryarray\":[\"Successful\",\"Unsuccessful\"]},\"yaxis\":{\"anchor\":\"x\",\"domain\":[0.0,1.0],\"title\":{\"text\":\"FB Shares\"}},\"legend\":{\"title\":{\"text\":\"Success\"},\"tracegroupgap\":0},\"title\":{\"text\":\"Frequency of FaceBook Shares of GoFundMe Posts by Success\"},\"boxmode\":\"overlay\"},                        {\"responsive\": true}                    ).then(function(){\n",
              "                            \n",
              "var gd = document.getElementById('6e3989d3-48aa-4f28-afba-ebb38c00909d');\n",
              "var x = new MutationObserver(function (mutations, observer) {{\n",
              "        var display = window.getComputedStyle(gd).display;\n",
              "        if (!display || display === 'none') {{\n",
              "            console.log([gd, 'removed!']);\n",
              "            Plotly.purge(gd);\n",
              "            observer.disconnect();\n",
              "        }}\n",
              "}});\n",
              "\n",
              "// Listen for the removal of the full notebook cells\n",
              "var notebookContainer = gd.closest('#notebook-container');\n",
              "if (notebookContainer) {{\n",
              "    x.observe(notebookContainer, {childList: true});\n",
              "}}\n",
              "\n",
              "// Listen for the clearing of the current output cell\n",
              "var outputEl = gd.closest('.output');\n",
              "if (outputEl) {{\n",
              "    x.observe(outputEl, {childList: true});\n",
              "}}\n",
              "\n",
              "                        })                };                            </script>        </div>\n",
              "</body>\n",
              "</html>"
            ]
          },
          "metadata": {}
        }
      ]
    },
    {
      "cell_type": "code",
      "source": [
        "fig = px.histogram(df, x = \"FB_Shares\", color = \"Success\",\n",
        "                   title = \"Distribution of FaceBook Shares of GoFundMe Posts by Success\")\n",
        "fig.update_xaxes(title_text=\"Number of FaceBook Shares\")\n",
        "fig.update_yaxes(title_text=\"Frequency\")"
      ],
      "metadata": {
        "colab": {
          "base_uri": "https://localhost:8080/",
          "height": 542
        },
        "id": "PL0KW5Ga94GG",
        "outputId": "9cdabd48-183c-46c7-94eb-d3ac41da4e06"
      },
      "execution_count": null,
      "outputs": [
        {
          "output_type": "display_data",
          "data": {
            "text/html": [
              "<html>\n",
              "<head><meta charset=\"utf-8\" /></head>\n",
              "<body>\n",
              "    <div>            <script src=\"https://cdnjs.cloudflare.com/ajax/libs/mathjax/2.7.5/MathJax.js?config=TeX-AMS-MML_SVG\"></script><script type=\"text/javascript\">if (window.MathJax && window.MathJax.Hub && window.MathJax.Hub.Config) {window.MathJax.Hub.Config({SVG: {font: \"STIX-Web\"}});}</script>                <script type=\"text/javascript\">window.PlotlyConfig = {MathJaxConfig: 'local'};</script>\n",
              "        <script charset=\"utf-8\" src=\"https://cdn.plot.ly/plotly-2.35.2.min.js\"></script>                <div id=\"b84353bc-b037-4ac1-b011-e29b04cfdebb\" class=\"plotly-graph-div\" style=\"height:525px; width:100%;\"></div>            <script type=\"text/javascript\">                                    window.PLOTLYENV=window.PLOTLYENV || {};                                    if (document.getElementById(\"b84353bc-b037-4ac1-b011-e29b04cfdebb\")) {                    Plotly.newPlot(                        \"b84353bc-b037-4ac1-b011-e29b04cfdebb\",                        [{\"alignmentgroup\":\"True\",\"bingroup\":\"x\",\"hovertemplate\":\"Success=Successful\\u003cbr\\u003eFB_Shares=%{x}\\u003cbr\\u003ecount=%{y}\\u003cextra\\u003e\\u003c\\u002fextra\\u003e\",\"legendgroup\":\"Successful\",\"marker\":{\"color\":\"#636efa\",\"pattern\":{\"shape\":\"\"}},\"name\":\"Successful\",\"offsetgroup\":\"Successful\",\"orientation\":\"v\",\"showlegend\":true,\"x\":[26000.0,9700.0,6400.0,2500.0,12000.0,2100.0,1600.0,8600.0,9100.0,1600.0,3800.0,913.0,11000.0,3100.0,2300.0,1700.0,764.0,921.0,904.0,9400.0,1300.0,11000.0,828.0,12000.0,9100.0,3000.0,3100.0,1000.0,1600.0,1300.0,47000.0,29000.0,3100.0,1000.0,4200.0,11000.0,6400.0,95.0,330.0,1900.0,1600.0,1300.0,4500.0,5000.0,3800.0,26000.0,6500.0,786.0,3400.0,840.0,14000.0,3900.0,750.0,996.0,1300.0,487.0,8300.0,4300.0,3300.0,2400.0,1300.0,699.0,3200.0,5100.0,15000.0,2600.0,3600.0,2400.0,3600.0,5300.0,8700.0,1100.0,8400.0,1000.0,2100.0,3900.0,12000.0,2700.0,2200.0,3900.0,2000.0,961.0,2100.0,652.0,22000.0,1400.0,3000.0,242.0,367.0,8700.0,916.0,2000.0,249.0,328.0,1100.0,829.0,2.0,326.0,576.0,414.0,1100.0,174.0,163.0,435.0,4600.0,354.0,747.0,2100.0,501.0,3500.0,669.0,342.0,878.0,291.0,577.0,3500.0,798.0,74.0,282.0,3500.0,224.0,1200.0,2.0,657.0,1600.0,198.0,515.0,404.0,120.0,2600.0,3100.0,70.0,169.0,1200.0,49.0,241.0,101.0,132.0,632.0,280.0,879.0,22.0,151.0,430.0,464.0,3.0,184.0,112.0,261.0,272.0,343.0,130.0,257.0,19000.0,3200.0,7700.0,2800.0,64.0,3000.0,254.0,4000.0,19.0,1400.0,1100.0,879.0,417.0,770.0,1500.0,1900.0,954.0,264.0,795.0,786.0,20.0,4900.0,62.0,171.0,315.0,284.0,1000.0,987.0,1300.0,643.0,1200.0,2600.0,23.0,153.0,92.0,596.0,412.0,314.0,113.0,null,24.0,153.0,131.0,107.0,39.0,118.0,29.0,37.0,2000.0,1400.0,803.0,844.0,599.0,1300.0,540.0,267.0,243.0,217.0,94.0,170.0,null,1600.0,107.0,362.0,132.0,44.0,171.0,193.0,559.0,276.0,138.0,203.0,93.0,1000.0,20.0,966.0,55.0,2.0,870.0,316.0,613.0,8.0,364.0,4.0,79.0,23.0,18.0,114.0,2.0,16.0,96.0,116.0,191.0,140.0,2.0,613.0,496.0,72.0,202.0,null,69.0,54.0,75.0,36.0,190.0,66.0,22.0,62.0,500.0,100.0,664.0,297.0,87.0,89.0,441.0,3.0,238.0,265.0,78.0,567.0,84.0,199.0,22.0,103.0,747.0,18.0,56.0,178.0,524.0,null,196.0,55.0,1100.0,5900.0,5900.0,7600.0,1400.0,336.0,423.0,982.0,1100.0,1100.0,238.0,5900.0,975.0,2700.0,530.0,3200.0,601.0,1600.0,577.0,436.0,137.0,2900.0,1200.0,934.0,1800.0,586.0,1600.0,null,null,34.0,null,30.0,88.0,null,45.0,null,29.0,null,17.0,null,null,8.0,10.0,3.0,3.0,70.0,7400.0,568.0,313.0,5400.0,1200.0,566.0,240.0,362.0,265.0,402.0,579.0,286.0,815.0,177.0,204.0,298.0,105.0,554.0,830.0,454.0,549.0,915.0,669.0,910.0,588.0,367.0,64.0,4.0,12.0,27.0,10.0,147.0,null,343.0,341.0,36.0,226.0,5.0,176.0,123.0,90.0,null,163.0,null,284.0,112.0,7.0,455.0,194.0,220.0,null,28.0,16.0,109.0,7.0,31.0,730.0,7.0,708.0,1200.0,453.0,4000.0,109.0,627.0,232.0,981.0,1000.0,1300.0,35.0,861.0,60.0,791.0,172.0,507.0,341.0,449.0,185.0,38.0,115.0,396.0,438.0,827.0,75.0,475.0,16.0,440.0,59.0,119.0,74.0,86.0,131.0,503.0,5700.0,1200.0,2100.0,2900.0,522.0,5700.0,833.0,651.0,397.0,516.0,707.0,1300.0,1200.0,337.0,149.0,542.0,389.0,94.0,126.0,558.0,235.0,15.0,229.0,353.0,344.0,168.0,28.0,419.0,72.0,871.0,107.0,398.0],\"xaxis\":\"x\",\"yaxis\":\"y\",\"type\":\"histogram\"},{\"alignmentgroup\":\"True\",\"bingroup\":\"x\",\"hovertemplate\":\"Success=Unsuccessful\\u003cbr\\u003eFB_Shares=%{x}\\u003cbr\\u003ecount=%{y}\\u003cextra\\u003e\\u003c\\u002fextra\\u003e\",\"legendgroup\":\"Unsuccessful\",\"marker\":{\"color\":\"#EF553B\",\"pattern\":{\"shape\":\"\"}},\"name\":\"Unsuccessful\",\"offsetgroup\":\"Unsuccessful\",\"orientation\":\"v\",\"showlegend\":true,\"x\":[12000.0,1800.0,3700.0,10000.0,2800.0,3300.0,6000.0,3200.0,1300.0,5600.0,606.0,2400.0,1000.0,1800.0,9900.0,1600.0,1600.0,2600.0,8500.0,845.0,2000.0,7400.0,246.0,2300.0,365.0,8700.0,5100.0,723.0,2400.0,2500.0,681.0,147.0,1800.0,1700.0,1100.0,170.0,2600.0,1500.0,2000.0,689.0,9200.0,10000.0,63000.0,22000.0,12000.0,3300.0,2000.0,5700.0,11000.0,5400.0,3700.0,1300.0,2300.0,1300.0,8700.0,5500.0,2900.0,9000.0,2900.0,811.0,579.0,605.0,1300.0,381.0,8800.0,831.0,545.0,5800.0,918.0,3400.0,2400.0,536.0,1600.0,2400.0,4400.0,623.0,1300.0,6300.0,2000.0,7200.0,833.0,909.0,5900.0,3800.0,972.0,6400.0,5400.0,20000.0,8800.0,16000.0,5200.0,5700.0,2700.0,8500.0,7800.0,1400.0,3600.0,1900.0,3100.0,11000.0,3000.0,5800.0,5300.0,5300.0,4800.0,1100.0,2600.0,1800.0,1900.0,1000.0,8300.0,8400.0,2500.0,3800.0,4400.0,1600.0,894.0,2300.0,2900.0,499.0,825.0,816.0,2100.0,5100.0,4500.0,1100.0,6100.0,4800.0,1600.0,1300.0,1400.0,1900.0,3100.0,1200.0,736.0,1800.0,520.0,12000.0,2600.0,901.0,2100.0,240.0,1400.0,174.0,1500.0,1200.0,1900.0,4100.0,2200.0,354.0,70.0,921.0,323.0,836.0,1500.0,878.0,400.0,1100.0,3400.0,1400.0,578.0,523.0,495.0,509.0,1800.0,584.0,28.0,999.0,12.0,1900.0,709.0,183.0,2300.0,1600.0,374.0,713.0,83.0,null,380.0,1100.0,145.0,5.0,410.0,2200.0,1200.0,1400.0,858.0,463.0,1500.0,596.0,683.0,74.0,5200.0,298.0,2400.0,3700.0,92.0,85.0,1800.0,604.0,844.0,608.0,3.0,319.0,678.0,375.0,489.0,295.0,394.0,796.0,552.0,489.0,38.0,315.0,1000.0,1200.0,59.0,269.0,100.0,96.0,213.0,832.0,2500.0,688.0,469.0,493.0,295.0,85.0,682.0,321.0,342.0,51.0,96.0,100.0,450.0,357.0,46000.0,1300.0,645.0,177.0,152.0,6.0,77.0,495.0,399.0,1100.0,116.0,1000.0,66.0,397.0,184.0,361.0,180.0,1200.0,79.0,180.0,383.0,383.0,1500.0,417.0,271.0,1000.0,1300.0,317.0,359.0,172.0,392.0,525.0,375.0,578.0,1800.0,100.0,138.0,253.0,520.0,597.0,128.0,300.0,446.0,50.0,61.0,145.0,516.0,649.0,451.0,77.0,180.0,567.0,373.0,296.0,307.0,1600.0,514.0,1400.0,117000.0,1800.0,163.0,1400.0,4500.0,1700.0,721.0,null,2400.0,251.0,1200.0,1000.0,278.0,623.0,836.0,199.0,456.0,161.0,1500.0,14.0,74.0,1400.0,351.0,92.0,496.0,61.0,1100.0,2900.0,359.0,565.0,95.0,82.0,1300.0,516.0,70.0,1300.0,27.0,178.0,558.0,782.0,88.0,805.0,483.0,null,568.0,557.0,576.0,637.0,52.0,8.0,107.0,455.0,148.0,109.0,160.0,521.0,401.0,205.0,135.0,107.0,123.0,145.0,156.0,39.0,372.0,304.0,193.0,267.0,438.0,106.0,331.0,225.0,670.0,145.0,226.0,173.0,150.0,266.0,22.0,443.0,92.0,103.0,255.0,247.0,191.0,162.0,70.0,498.0,135.0,266.0,119.0,236.0,98.0,191.0,59.0,268.0,115.0,169.0,3000.0,558.0,1200.0,38000.0,45.0,399.0,1100.0,620.0,207.0,923.0,1000.0,309.0,743.0,190.0,311.0,316.0,121.0,1600.0,317.0,423.0,355.0,820.0,1400.0,156.0,325.0,2500.0,725.0,364.0,478.0,1000.0,398.0,173.0,127.0,546.0,75.0,419.0,498.0,122.0,178.0,276.0,318.0,345.0,629.0,272.0,68.0,1600.0,1300.0,839.0,110.0,169.0,11.0,225.0,46.0,228.0,301.0,240.0,null,54.0,56.0,181.0,203.0,12.0,86.0,65.0,108.0,403.0,356.0,null,49.0,1800.0,4.0,1500.0,55.0,1500.0,null,229.0,182.0,926.0,1400.0,365.0,441.0,334.0,27.0,108.0,773.0,28.0,5800.0,198.0,114.0,148.0,898.0,null,186.0,25.0,154.0,104.0,178.0,15.0,15.0,114.0,null,2.0,8.0,null,375.0,173.0,191.0,29.0,764.0,34.0,58.0,458.0,144.0,98.0,181.0,795.0,328.0,204.0,154.0,212.0,1100.0,273.0,116.0,8.0,130.0,112.0,34.0,84.0,424.0,209.0,8800.0,5500.0,10000.0,3400.0,38000.0,1400.0,3700.0,66.0,6000.0,1400.0,2000.0,2400.0,1700.0,2200.0,1200.0,103.0,4400.0,2400.0,6400.0,1400.0,1600.0,1900.0,545.0,2400.0,1100.0,3900.0,677.0,1300.0,1700.0,1700.0,1100.0,1000.0,402.0,2300.0,2500.0,631.0,196.0,2600.0,3700.0,6.0,85.0,2600.0,1500.0,382.0,189.0,1100.0,90.0,3.0,5.0,49.0,21.0,179.0,577.0,86.0,null,88.0,null,49.0,10.0,4.0,14.0,103.0,112.0,265.0,null,null,null,19.0,223.0,19.0,95.0,37.0,23.0,null,51.0,2.0,31.0,null,13.0,134.0,85.0,124.0,null,126.0,null,null,null,null,223.0,22.0,37.0,81.0,123.0,null,74.0,null,8.0,null,369.0,1500.0,374.0,2700.0,521.0,70.0,44.0,491.0,null,368.0,1000.0,2900.0,1300.0,943.0,214.0,398.0,1300.0,83.0,41.0,678.0,67.0,973.0,469.0,144.0,723.0,882.0,580.0,272.0,108.0,1000.0,406.0,361.0,196.0,470.0,321.0,512.0,338.0,1300.0,154.0,904.0,427.0,null,231.0,526.0,274.0,460.0,1100.0,435.0,274.0,123.0,652.0,1100.0,1100.0,277.0,237.0,209.0,388.0,1100.0,37.0,193.0,72.0,80.0,123.0,2.0,339.0,87.0,70.0,101.0,44.0,328.0,58.0,84.0,null,338.0,274.0,101.0,null,316.0,258.0,4.0,209.0,175.0,6.0,252.0,4.0,50.0,2.0,71.0,17000.0,250.0,2400.0,710.0,983.0,162.0,171.0,349.0,188.0,677.0,322.0,1800.0,377.0,155.0,4.0,96.0,334.0,633.0,149.0,1500.0,157.0,711.0,259.0,54.0,264.0,144.0,53.0,494.0,45.0,374.0,505.0,78.0,41.0,65.0,386.0,377.0,1900.0,1700.0,2200.0,1300.0,219.0,5800.0,105.0,4100.0,5100.0,795.0,430.0,429.0,730.0,754.0,3400.0,90.0,672.0,900.0,183.0,1900.0,196.0,999.0,315.0,93.0,274.0,414.0,1200.0,332.0,null,3200.0,668.0,146.0,266.0,1100.0,50.0,110.0,977.0,66.0,476.0,322.0],\"xaxis\":\"x\",\"yaxis\":\"y\",\"type\":\"histogram\"}],                        {\"template\":{\"data\":{\"histogram2dcontour\":[{\"type\":\"histogram2dcontour\",\"colorbar\":{\"outlinewidth\":0,\"ticks\":\"\"},\"colorscale\":[[0.0,\"#0d0887\"],[0.1111111111111111,\"#46039f\"],[0.2222222222222222,\"#7201a8\"],[0.3333333333333333,\"#9c179e\"],[0.4444444444444444,\"#bd3786\"],[0.5555555555555556,\"#d8576b\"],[0.6666666666666666,\"#ed7953\"],[0.7777777777777778,\"#fb9f3a\"],[0.8888888888888888,\"#fdca26\"],[1.0,\"#f0f921\"]]}],\"choropleth\":[{\"type\":\"choropleth\",\"colorbar\":{\"outlinewidth\":0,\"ticks\":\"\"}}],\"histogram2d\":[{\"type\":\"histogram2d\",\"colorbar\":{\"outlinewidth\":0,\"ticks\":\"\"},\"colorscale\":[[0.0,\"#0d0887\"],[0.1111111111111111,\"#46039f\"],[0.2222222222222222,\"#7201a8\"],[0.3333333333333333,\"#9c179e\"],[0.4444444444444444,\"#bd3786\"],[0.5555555555555556,\"#d8576b\"],[0.6666666666666666,\"#ed7953\"],[0.7777777777777778,\"#fb9f3a\"],[0.8888888888888888,\"#fdca26\"],[1.0,\"#f0f921\"]]}],\"heatmap\":[{\"type\":\"heatmap\",\"colorbar\":{\"outlinewidth\":0,\"ticks\":\"\"},\"colorscale\":[[0.0,\"#0d0887\"],[0.1111111111111111,\"#46039f\"],[0.2222222222222222,\"#7201a8\"],[0.3333333333333333,\"#9c179e\"],[0.4444444444444444,\"#bd3786\"],[0.5555555555555556,\"#d8576b\"],[0.6666666666666666,\"#ed7953\"],[0.7777777777777778,\"#fb9f3a\"],[0.8888888888888888,\"#fdca26\"],[1.0,\"#f0f921\"]]}],\"heatmapgl\":[{\"type\":\"heatmapgl\",\"colorbar\":{\"outlinewidth\":0,\"ticks\":\"\"},\"colorscale\":[[0.0,\"#0d0887\"],[0.1111111111111111,\"#46039f\"],[0.2222222222222222,\"#7201a8\"],[0.3333333333333333,\"#9c179e\"],[0.4444444444444444,\"#bd3786\"],[0.5555555555555556,\"#d8576b\"],[0.6666666666666666,\"#ed7953\"],[0.7777777777777778,\"#fb9f3a\"],[0.8888888888888888,\"#fdca26\"],[1.0,\"#f0f921\"]]}],\"contourcarpet\":[{\"type\":\"contourcarpet\",\"colorbar\":{\"outlinewidth\":0,\"ticks\":\"\"}}],\"contour\":[{\"type\":\"contour\",\"colorbar\":{\"outlinewidth\":0,\"ticks\":\"\"},\"colorscale\":[[0.0,\"#0d0887\"],[0.1111111111111111,\"#46039f\"],[0.2222222222222222,\"#7201a8\"],[0.3333333333333333,\"#9c179e\"],[0.4444444444444444,\"#bd3786\"],[0.5555555555555556,\"#d8576b\"],[0.6666666666666666,\"#ed7953\"],[0.7777777777777778,\"#fb9f3a\"],[0.8888888888888888,\"#fdca26\"],[1.0,\"#f0f921\"]]}],\"surface\":[{\"type\":\"surface\",\"colorbar\":{\"outlinewidth\":0,\"ticks\":\"\"},\"colorscale\":[[0.0,\"#0d0887\"],[0.1111111111111111,\"#46039f\"],[0.2222222222222222,\"#7201a8\"],[0.3333333333333333,\"#9c179e\"],[0.4444444444444444,\"#bd3786\"],[0.5555555555555556,\"#d8576b\"],[0.6666666666666666,\"#ed7953\"],[0.7777777777777778,\"#fb9f3a\"],[0.8888888888888888,\"#fdca26\"],[1.0,\"#f0f921\"]]}],\"mesh3d\":[{\"type\":\"mesh3d\",\"colorbar\":{\"outlinewidth\":0,\"ticks\":\"\"}}],\"scatter\":[{\"fillpattern\":{\"fillmode\":\"overlay\",\"size\":10,\"solidity\":0.2},\"type\":\"scatter\"}],\"parcoords\":[{\"type\":\"parcoords\",\"line\":{\"colorbar\":{\"outlinewidth\":0,\"ticks\":\"\"}}}],\"scatterpolargl\":[{\"type\":\"scatterpolargl\",\"marker\":{\"colorbar\":{\"outlinewidth\":0,\"ticks\":\"\"}}}],\"bar\":[{\"error_x\":{\"color\":\"#2a3f5f\"},\"error_y\":{\"color\":\"#2a3f5f\"},\"marker\":{\"line\":{\"color\":\"#E5ECF6\",\"width\":0.5},\"pattern\":{\"fillmode\":\"overlay\",\"size\":10,\"solidity\":0.2}},\"type\":\"bar\"}],\"scattergeo\":[{\"type\":\"scattergeo\",\"marker\":{\"colorbar\":{\"outlinewidth\":0,\"ticks\":\"\"}}}],\"scatterpolar\":[{\"type\":\"scatterpolar\",\"marker\":{\"colorbar\":{\"outlinewidth\":0,\"ticks\":\"\"}}}],\"histogram\":[{\"marker\":{\"pattern\":{\"fillmode\":\"overlay\",\"size\":10,\"solidity\":0.2}},\"type\":\"histogram\"}],\"scattergl\":[{\"type\":\"scattergl\",\"marker\":{\"colorbar\":{\"outlinewidth\":0,\"ticks\":\"\"}}}],\"scatter3d\":[{\"type\":\"scatter3d\",\"line\":{\"colorbar\":{\"outlinewidth\":0,\"ticks\":\"\"}},\"marker\":{\"colorbar\":{\"outlinewidth\":0,\"ticks\":\"\"}}}],\"scattermapbox\":[{\"type\":\"scattermapbox\",\"marker\":{\"colorbar\":{\"outlinewidth\":0,\"ticks\":\"\"}}}],\"scatterternary\":[{\"type\":\"scatterternary\",\"marker\":{\"colorbar\":{\"outlinewidth\":0,\"ticks\":\"\"}}}],\"scattercarpet\":[{\"type\":\"scattercarpet\",\"marker\":{\"colorbar\":{\"outlinewidth\":0,\"ticks\":\"\"}}}],\"carpet\":[{\"aaxis\":{\"endlinecolor\":\"#2a3f5f\",\"gridcolor\":\"white\",\"linecolor\":\"white\",\"minorgridcolor\":\"white\",\"startlinecolor\":\"#2a3f5f\"},\"baxis\":{\"endlinecolor\":\"#2a3f5f\",\"gridcolor\":\"white\",\"linecolor\":\"white\",\"minorgridcolor\":\"white\",\"startlinecolor\":\"#2a3f5f\"},\"type\":\"carpet\"}],\"table\":[{\"cells\":{\"fill\":{\"color\":\"#EBF0F8\"},\"line\":{\"color\":\"white\"}},\"header\":{\"fill\":{\"color\":\"#C8D4E3\"},\"line\":{\"color\":\"white\"}},\"type\":\"table\"}],\"barpolar\":[{\"marker\":{\"line\":{\"color\":\"#E5ECF6\",\"width\":0.5},\"pattern\":{\"fillmode\":\"overlay\",\"size\":10,\"solidity\":0.2}},\"type\":\"barpolar\"}],\"pie\":[{\"automargin\":true,\"type\":\"pie\"}]},\"layout\":{\"autotypenumbers\":\"strict\",\"colorway\":[\"#636efa\",\"#EF553B\",\"#00cc96\",\"#ab63fa\",\"#FFA15A\",\"#19d3f3\",\"#FF6692\",\"#B6E880\",\"#FF97FF\",\"#FECB52\"],\"font\":{\"color\":\"#2a3f5f\"},\"hovermode\":\"closest\",\"hoverlabel\":{\"align\":\"left\"},\"paper_bgcolor\":\"white\",\"plot_bgcolor\":\"#E5ECF6\",\"polar\":{\"bgcolor\":\"#E5ECF6\",\"angularaxis\":{\"gridcolor\":\"white\",\"linecolor\":\"white\",\"ticks\":\"\"},\"radialaxis\":{\"gridcolor\":\"white\",\"linecolor\":\"white\",\"ticks\":\"\"}},\"ternary\":{\"bgcolor\":\"#E5ECF6\",\"aaxis\":{\"gridcolor\":\"white\",\"linecolor\":\"white\",\"ticks\":\"\"},\"baxis\":{\"gridcolor\":\"white\",\"linecolor\":\"white\",\"ticks\":\"\"},\"caxis\":{\"gridcolor\":\"white\",\"linecolor\":\"white\",\"ticks\":\"\"}},\"coloraxis\":{\"colorbar\":{\"outlinewidth\":0,\"ticks\":\"\"}},\"colorscale\":{\"sequential\":[[0.0,\"#0d0887\"],[0.1111111111111111,\"#46039f\"],[0.2222222222222222,\"#7201a8\"],[0.3333333333333333,\"#9c179e\"],[0.4444444444444444,\"#bd3786\"],[0.5555555555555556,\"#d8576b\"],[0.6666666666666666,\"#ed7953\"],[0.7777777777777778,\"#fb9f3a\"],[0.8888888888888888,\"#fdca26\"],[1.0,\"#f0f921\"]],\"sequentialminus\":[[0.0,\"#0d0887\"],[0.1111111111111111,\"#46039f\"],[0.2222222222222222,\"#7201a8\"],[0.3333333333333333,\"#9c179e\"],[0.4444444444444444,\"#bd3786\"],[0.5555555555555556,\"#d8576b\"],[0.6666666666666666,\"#ed7953\"],[0.7777777777777778,\"#fb9f3a\"],[0.8888888888888888,\"#fdca26\"],[1.0,\"#f0f921\"]],\"diverging\":[[0,\"#8e0152\"],[0.1,\"#c51b7d\"],[0.2,\"#de77ae\"],[0.3,\"#f1b6da\"],[0.4,\"#fde0ef\"],[0.5,\"#f7f7f7\"],[0.6,\"#e6f5d0\"],[0.7,\"#b8e186\"],[0.8,\"#7fbc41\"],[0.9,\"#4d9221\"],[1,\"#276419\"]]},\"xaxis\":{\"gridcolor\":\"white\",\"linecolor\":\"white\",\"ticks\":\"\",\"title\":{\"standoff\":15},\"zerolinecolor\":\"white\",\"automargin\":true,\"zerolinewidth\":2},\"yaxis\":{\"gridcolor\":\"white\",\"linecolor\":\"white\",\"ticks\":\"\",\"title\":{\"standoff\":15},\"zerolinecolor\":\"white\",\"automargin\":true,\"zerolinewidth\":2},\"scene\":{\"xaxis\":{\"backgroundcolor\":\"#E5ECF6\",\"gridcolor\":\"white\",\"linecolor\":\"white\",\"showbackground\":true,\"ticks\":\"\",\"zerolinecolor\":\"white\",\"gridwidth\":2},\"yaxis\":{\"backgroundcolor\":\"#E5ECF6\",\"gridcolor\":\"white\",\"linecolor\":\"white\",\"showbackground\":true,\"ticks\":\"\",\"zerolinecolor\":\"white\",\"gridwidth\":2},\"zaxis\":{\"backgroundcolor\":\"#E5ECF6\",\"gridcolor\":\"white\",\"linecolor\":\"white\",\"showbackground\":true,\"ticks\":\"\",\"zerolinecolor\":\"white\",\"gridwidth\":2}},\"shapedefaults\":{\"line\":{\"color\":\"#2a3f5f\"}},\"annotationdefaults\":{\"arrowcolor\":\"#2a3f5f\",\"arrowhead\":0,\"arrowwidth\":1},\"geo\":{\"bgcolor\":\"white\",\"landcolor\":\"#E5ECF6\",\"subunitcolor\":\"white\",\"showland\":true,\"showlakes\":true,\"lakecolor\":\"white\"},\"title\":{\"x\":0.05},\"mapbox\":{\"style\":\"light\"}}},\"xaxis\":{\"anchor\":\"y\",\"domain\":[0.0,1.0],\"title\":{\"text\":\"Number of FaceBook Shares\"}},\"yaxis\":{\"anchor\":\"x\",\"domain\":[0.0,1.0],\"title\":{\"text\":\"Frequency\"}},\"legend\":{\"title\":{\"text\":\"Success\"},\"tracegroupgap\":0},\"title\":{\"text\":\"Distribution of FaceBook Shares of GoFundMe Posts by Success\"},\"barmode\":\"relative\"},                        {\"responsive\": true}                    ).then(function(){\n",
              "                            \n",
              "var gd = document.getElementById('b84353bc-b037-4ac1-b011-e29b04cfdebb');\n",
              "var x = new MutationObserver(function (mutations, observer) {{\n",
              "        var display = window.getComputedStyle(gd).display;\n",
              "        if (!display || display === 'none') {{\n",
              "            console.log([gd, 'removed!']);\n",
              "            Plotly.purge(gd);\n",
              "            observer.disconnect();\n",
              "        }}\n",
              "}});\n",
              "\n",
              "// Listen for the removal of the full notebook cells\n",
              "var notebookContainer = gd.closest('#notebook-container');\n",
              "if (notebookContainer) {{\n",
              "    x.observe(notebookContainer, {childList: true});\n",
              "}}\n",
              "\n",
              "// Listen for the clearing of the current output cell\n",
              "var outputEl = gd.closest('.output');\n",
              "if (outputEl) {{\n",
              "    x.observe(outputEl, {childList: true});\n",
              "}}\n",
              "\n",
              "                        })                };                            </script>        </div>\n",
              "</body>\n",
              "</html>"
            ]
          },
          "metadata": {}
        }
      ]
    },
    {
      "cell_type": "code",
      "source": [
        "# I chose to remove outliers to better visualize trends\n",
        "df_filtered = df[df['FB_Shares'] <= 15000]"
      ],
      "metadata": {
        "id": "Y9Ku8Wrv-vQP"
      },
      "execution_count": null,
      "outputs": []
    },
    {
      "cell_type": "code",
      "source": [
        "fig = px.box(df_filtered, x = \"Success\", y = \"FB_Shares\", color = \"Success\",\n",
        "                   title = \"Frequency of FaceBook Shares of GoFundMe Posts by Success\")\n",
        "fig.update_xaxes(title_text=\"GFM Project Success Status\")\n",
        "fig.update_yaxes(title_text=\"FB Shares\")"
      ],
      "metadata": {
        "colab": {
          "base_uri": "https://localhost:8080/",
          "height": 542
        },
        "id": "RIJYqS9a_B9j",
        "outputId": "18055a4e-9307-4118-bded-ec92f29fa776"
      },
      "execution_count": null,
      "outputs": [
        {
          "output_type": "display_data",
          "data": {
            "text/html": [
              "<html>\n",
              "<head><meta charset=\"utf-8\" /></head>\n",
              "<body>\n",
              "    <div>            <script src=\"https://cdnjs.cloudflare.com/ajax/libs/mathjax/2.7.5/MathJax.js?config=TeX-AMS-MML_SVG\"></script><script type=\"text/javascript\">if (window.MathJax && window.MathJax.Hub && window.MathJax.Hub.Config) {window.MathJax.Hub.Config({SVG: {font: \"STIX-Web\"}});}</script>                <script type=\"text/javascript\">window.PlotlyConfig = {MathJaxConfig: 'local'};</script>\n",
              "        <script charset=\"utf-8\" src=\"https://cdn.plot.ly/plotly-2.35.2.min.js\"></script>                <div id=\"7f579852-438f-42bb-9b5b-d5d15f33415d\" class=\"plotly-graph-div\" style=\"height:525px; width:100%;\"></div>            <script type=\"text/javascript\">                                    window.PLOTLYENV=window.PLOTLYENV || {};                                    if (document.getElementById(\"7f579852-438f-42bb-9b5b-d5d15f33415d\")) {                    Plotly.newPlot(                        \"7f579852-438f-42bb-9b5b-d5d15f33415d\",                        [{\"alignmentgroup\":\"True\",\"hovertemplate\":\"Success=%{x}\\u003cbr\\u003eFB_Shares=%{y}\\u003cextra\\u003e\\u003c\\u002fextra\\u003e\",\"legendgroup\":\"Unsuccessful\",\"marker\":{\"color\":\"#636efa\"},\"name\":\"Unsuccessful\",\"notched\":false,\"offsetgroup\":\"Unsuccessful\",\"orientation\":\"v\",\"showlegend\":true,\"x\":[\"Unsuccessful\",\"Unsuccessful\",\"Unsuccessful\",\"Unsuccessful\",\"Unsuccessful\",\"Unsuccessful\",\"Unsuccessful\",\"Unsuccessful\",\"Unsuccessful\",\"Unsuccessful\",\"Unsuccessful\",\"Unsuccessful\",\"Unsuccessful\",\"Unsuccessful\",\"Unsuccessful\",\"Unsuccessful\",\"Unsuccessful\",\"Unsuccessful\",\"Unsuccessful\",\"Unsuccessful\",\"Unsuccessful\",\"Unsuccessful\",\"Unsuccessful\",\"Unsuccessful\",\"Unsuccessful\",\"Unsuccessful\",\"Unsuccessful\",\"Unsuccessful\",\"Unsuccessful\",\"Unsuccessful\",\"Unsuccessful\",\"Unsuccessful\",\"Unsuccessful\",\"Unsuccessful\",\"Unsuccessful\",\"Unsuccessful\",\"Unsuccessful\",\"Unsuccessful\",\"Unsuccessful\",\"Unsuccessful\",\"Unsuccessful\",\"Unsuccessful\",\"Unsuccessful\",\"Unsuccessful\",\"Unsuccessful\",\"Unsuccessful\",\"Unsuccessful\",\"Unsuccessful\",\"Unsuccessful\",\"Unsuccessful\",\"Unsuccessful\",\"Unsuccessful\",\"Unsuccessful\",\"Unsuccessful\",\"Unsuccessful\",\"Unsuccessful\",\"Unsuccessful\",\"Unsuccessful\",\"Unsuccessful\",\"Unsuccessful\",\"Unsuccessful\",\"Unsuccessful\",\"Unsuccessful\",\"Unsuccessful\",\"Unsuccessful\",\"Unsuccessful\",\"Unsuccessful\",\"Unsuccessful\",\"Unsuccessful\",\"Unsuccessful\",\"Unsuccessful\",\"Unsuccessful\",\"Unsuccessful\",\"Unsuccessful\",\"Unsuccessful\",\"Unsuccessful\",\"Unsuccessful\",\"Unsuccessful\",\"Unsuccessful\",\"Unsuccessful\",\"Unsuccessful\",\"Unsuccessful\",\"Unsuccessful\",\"Unsuccessful\",\"Unsuccessful\",\"Unsuccessful\",\"Unsuccessful\",\"Unsuccessful\",\"Unsuccessful\",\"Unsuccessful\",\"Unsuccessful\",\"Unsuccessful\",\"Unsuccessful\",\"Unsuccessful\",\"Unsuccessful\",\"Unsuccessful\",\"Unsuccessful\",\"Unsuccessful\",\"Unsuccessful\",\"Unsuccessful\",\"Unsuccessful\",\"Unsuccessful\",\"Unsuccessful\",\"Unsuccessful\",\"Unsuccessful\",\"Unsuccessful\",\"Unsuccessful\",\"Unsuccessful\",\"Unsuccessful\",\"Unsuccessful\",\"Unsuccessful\",\"Unsuccessful\",\"Unsuccessful\",\"Unsuccessful\",\"Unsuccessful\",\"Unsuccessful\",\"Unsuccessful\",\"Unsuccessful\",\"Unsuccessful\",\"Unsuccessful\",\"Unsuccessful\",\"Unsuccessful\",\"Unsuccessful\",\"Unsuccessful\",\"Unsuccessful\",\"Unsuccessful\",\"Unsuccessful\",\"Unsuccessful\",\"Unsuccessful\",\"Unsuccessful\",\"Unsuccessful\",\"Unsuccessful\",\"Unsuccessful\",\"Unsuccessful\",\"Unsuccessful\",\"Unsuccessful\",\"Unsuccessful\",\"Unsuccessful\",\"Unsuccessful\",\"Unsuccessful\",\"Unsuccessful\",\"Unsuccessful\",\"Unsuccessful\",\"Unsuccessful\",\"Unsuccessful\",\"Unsuccessful\",\"Unsuccessful\",\"Unsuccessful\",\"Unsuccessful\",\"Unsuccessful\",\"Unsuccessful\",\"Unsuccessful\",\"Unsuccessful\",\"Unsuccessful\",\"Unsuccessful\",\"Unsuccessful\",\"Unsuccessful\",\"Unsuccessful\",\"Unsuccessful\",\"Unsuccessful\",\"Unsuccessful\",\"Unsuccessful\",\"Unsuccessful\",\"Unsuccessful\",\"Unsuccessful\",\"Unsuccessful\",\"Unsuccessful\",\"Unsuccessful\",\"Unsuccessful\",\"Unsuccessful\",\"Unsuccessful\",\"Unsuccessful\",\"Unsuccessful\",\"Unsuccessful\",\"Unsuccessful\",\"Unsuccessful\",\"Unsuccessful\",\"Unsuccessful\",\"Unsuccessful\",\"Unsuccessful\",\"Unsuccessful\",\"Unsuccessful\",\"Unsuccessful\",\"Unsuccessful\",\"Unsuccessful\",\"Unsuccessful\",\"Unsuccessful\",\"Unsuccessful\",\"Unsuccessful\",\"Unsuccessful\",\"Unsuccessful\",\"Unsuccessful\",\"Unsuccessful\",\"Unsuccessful\",\"Unsuccessful\",\"Unsuccessful\",\"Unsuccessful\",\"Unsuccessful\",\"Unsuccessful\",\"Unsuccessful\",\"Unsuccessful\",\"Unsuccessful\",\"Unsuccessful\",\"Unsuccessful\",\"Unsuccessful\",\"Unsuccessful\",\"Unsuccessful\",\"Unsuccessful\",\"Unsuccessful\",\"Unsuccessful\",\"Unsuccessful\",\"Unsuccessful\",\"Unsuccessful\",\"Unsuccessful\",\"Unsuccessful\",\"Unsuccessful\",\"Unsuccessful\",\"Unsuccessful\",\"Unsuccessful\",\"Unsuccessful\",\"Unsuccessful\",\"Unsuccessful\",\"Unsuccessful\",\"Unsuccessful\",\"Unsuccessful\",\"Unsuccessful\",\"Unsuccessful\",\"Unsuccessful\",\"Unsuccessful\",\"Unsuccessful\",\"Unsuccessful\",\"Unsuccessful\",\"Unsuccessful\",\"Unsuccessful\",\"Unsuccessful\",\"Unsuccessful\",\"Unsuccessful\",\"Unsuccessful\",\"Unsuccessful\",\"Unsuccessful\",\"Unsuccessful\",\"Unsuccessful\",\"Unsuccessful\",\"Unsuccessful\",\"Unsuccessful\",\"Unsuccessful\",\"Unsuccessful\",\"Unsuccessful\",\"Unsuccessful\",\"Unsuccessful\",\"Unsuccessful\",\"Unsuccessful\",\"Unsuccessful\",\"Unsuccessful\",\"Unsuccessful\",\"Unsuccessful\",\"Unsuccessful\",\"Unsuccessful\",\"Unsuccessful\",\"Unsuccessful\",\"Unsuccessful\",\"Unsuccessful\",\"Unsuccessful\",\"Unsuccessful\",\"Unsuccessful\",\"Unsuccessful\",\"Unsuccessful\",\"Unsuccessful\",\"Unsuccessful\",\"Unsuccessful\",\"Unsuccessful\",\"Unsuccessful\",\"Unsuccessful\",\"Unsuccessful\",\"Unsuccessful\",\"Unsuccessful\",\"Unsuccessful\",\"Unsuccessful\",\"Unsuccessful\",\"Unsuccessful\",\"Unsuccessful\",\"Unsuccessful\",\"Unsuccessful\",\"Unsuccessful\",\"Unsuccessful\",\"Unsuccessful\",\"Unsuccessful\",\"Unsuccessful\",\"Unsuccessful\",\"Unsuccessful\",\"Unsuccessful\",\"Unsuccessful\",\"Unsuccessful\",\"Unsuccessful\",\"Unsuccessful\",\"Unsuccessful\",\"Unsuccessful\",\"Unsuccessful\",\"Unsuccessful\",\"Unsuccessful\",\"Unsuccessful\",\"Unsuccessful\",\"Unsuccessful\",\"Unsuccessful\",\"Unsuccessful\",\"Unsuccessful\",\"Unsuccessful\",\"Unsuccessful\",\"Unsuccessful\",\"Unsuccessful\",\"Unsuccessful\",\"Unsuccessful\",\"Unsuccessful\",\"Unsuccessful\",\"Unsuccessful\",\"Unsuccessful\",\"Unsuccessful\",\"Unsuccessful\",\"Unsuccessful\",\"Unsuccessful\",\"Unsuccessful\",\"Unsuccessful\",\"Unsuccessful\",\"Unsuccessful\",\"Unsuccessful\",\"Unsuccessful\",\"Unsuccessful\",\"Unsuccessful\",\"Unsuccessful\",\"Unsuccessful\",\"Unsuccessful\",\"Unsuccessful\",\"Unsuccessful\",\"Unsuccessful\",\"Unsuccessful\",\"Unsuccessful\",\"Unsuccessful\",\"Unsuccessful\",\"Unsuccessful\",\"Unsuccessful\",\"Unsuccessful\",\"Unsuccessful\",\"Unsuccessful\",\"Unsuccessful\",\"Unsuccessful\",\"Unsuccessful\",\"Unsuccessful\",\"Unsuccessful\",\"Unsuccessful\",\"Unsuccessful\",\"Unsuccessful\",\"Unsuccessful\",\"Unsuccessful\",\"Unsuccessful\",\"Unsuccessful\",\"Unsuccessful\",\"Unsuccessful\",\"Unsuccessful\",\"Unsuccessful\",\"Unsuccessful\",\"Unsuccessful\",\"Unsuccessful\",\"Unsuccessful\",\"Unsuccessful\",\"Unsuccessful\",\"Unsuccessful\",\"Unsuccessful\",\"Unsuccessful\",\"Unsuccessful\",\"Unsuccessful\",\"Unsuccessful\",\"Unsuccessful\",\"Unsuccessful\",\"Unsuccessful\",\"Unsuccessful\",\"Unsuccessful\",\"Unsuccessful\",\"Unsuccessful\",\"Unsuccessful\",\"Unsuccessful\",\"Unsuccessful\",\"Unsuccessful\",\"Unsuccessful\",\"Unsuccessful\",\"Unsuccessful\",\"Unsuccessful\",\"Unsuccessful\",\"Unsuccessful\",\"Unsuccessful\",\"Unsuccessful\",\"Unsuccessful\",\"Unsuccessful\",\"Unsuccessful\",\"Unsuccessful\",\"Unsuccessful\",\"Unsuccessful\",\"Unsuccessful\",\"Unsuccessful\",\"Unsuccessful\",\"Unsuccessful\",\"Unsuccessful\",\"Unsuccessful\",\"Unsuccessful\",\"Unsuccessful\",\"Unsuccessful\",\"Unsuccessful\",\"Unsuccessful\",\"Unsuccessful\",\"Unsuccessful\",\"Unsuccessful\",\"Unsuccessful\",\"Unsuccessful\",\"Unsuccessful\",\"Unsuccessful\",\"Unsuccessful\",\"Unsuccessful\",\"Unsuccessful\",\"Unsuccessful\",\"Unsuccessful\",\"Unsuccessful\",\"Unsuccessful\",\"Unsuccessful\",\"Unsuccessful\",\"Unsuccessful\",\"Unsuccessful\",\"Unsuccessful\",\"Unsuccessful\",\"Unsuccessful\",\"Unsuccessful\",\"Unsuccessful\",\"Unsuccessful\",\"Unsuccessful\",\"Unsuccessful\",\"Unsuccessful\",\"Unsuccessful\",\"Unsuccessful\",\"Unsuccessful\",\"Unsuccessful\",\"Unsuccessful\",\"Unsuccessful\",\"Unsuccessful\",\"Unsuccessful\",\"Unsuccessful\",\"Unsuccessful\",\"Unsuccessful\",\"Unsuccessful\",\"Unsuccessful\",\"Unsuccessful\",\"Unsuccessful\",\"Unsuccessful\",\"Unsuccessful\",\"Unsuccessful\",\"Unsuccessful\",\"Unsuccessful\",\"Unsuccessful\",\"Unsuccessful\",\"Unsuccessful\",\"Unsuccessful\",\"Unsuccessful\",\"Unsuccessful\",\"Unsuccessful\",\"Unsuccessful\",\"Unsuccessful\",\"Unsuccessful\",\"Unsuccessful\",\"Unsuccessful\",\"Unsuccessful\",\"Unsuccessful\",\"Unsuccessful\",\"Unsuccessful\",\"Unsuccessful\",\"Unsuccessful\",\"Unsuccessful\",\"Unsuccessful\",\"Unsuccessful\",\"Unsuccessful\",\"Unsuccessful\",\"Unsuccessful\",\"Unsuccessful\",\"Unsuccessful\",\"Unsuccessful\",\"Unsuccessful\",\"Unsuccessful\",\"Unsuccessful\",\"Unsuccessful\",\"Unsuccessful\",\"Unsuccessful\",\"Unsuccessful\",\"Unsuccessful\",\"Unsuccessful\",\"Unsuccessful\",\"Unsuccessful\",\"Unsuccessful\",\"Unsuccessful\",\"Unsuccessful\",\"Unsuccessful\",\"Unsuccessful\",\"Unsuccessful\",\"Unsuccessful\",\"Unsuccessful\",\"Unsuccessful\",\"Unsuccessful\",\"Unsuccessful\",\"Unsuccessful\",\"Unsuccessful\",\"Unsuccessful\",\"Unsuccessful\",\"Unsuccessful\",\"Unsuccessful\",\"Unsuccessful\",\"Unsuccessful\",\"Unsuccessful\",\"Unsuccessful\",\"Unsuccessful\",\"Unsuccessful\",\"Unsuccessful\",\"Unsuccessful\",\"Unsuccessful\",\"Unsuccessful\",\"Unsuccessful\",\"Unsuccessful\",\"Unsuccessful\",\"Unsuccessful\",\"Unsuccessful\",\"Unsuccessful\",\"Unsuccessful\",\"Unsuccessful\",\"Unsuccessful\",\"Unsuccessful\",\"Unsuccessful\",\"Unsuccessful\",\"Unsuccessful\",\"Unsuccessful\",\"Unsuccessful\",\"Unsuccessful\",\"Unsuccessful\",\"Unsuccessful\",\"Unsuccessful\",\"Unsuccessful\",\"Unsuccessful\",\"Unsuccessful\",\"Unsuccessful\",\"Unsuccessful\",\"Unsuccessful\",\"Unsuccessful\",\"Unsuccessful\",\"Unsuccessful\",\"Unsuccessful\",\"Unsuccessful\",\"Unsuccessful\",\"Unsuccessful\",\"Unsuccessful\",\"Unsuccessful\",\"Unsuccessful\",\"Unsuccessful\",\"Unsuccessful\",\"Unsuccessful\",\"Unsuccessful\",\"Unsuccessful\",\"Unsuccessful\",\"Unsuccessful\",\"Unsuccessful\",\"Unsuccessful\",\"Unsuccessful\",\"Unsuccessful\",\"Unsuccessful\",\"Unsuccessful\",\"Unsuccessful\",\"Unsuccessful\",\"Unsuccessful\",\"Unsuccessful\",\"Unsuccessful\",\"Unsuccessful\",\"Unsuccessful\",\"Unsuccessful\",\"Unsuccessful\",\"Unsuccessful\",\"Unsuccessful\",\"Unsuccessful\",\"Unsuccessful\",\"Unsuccessful\",\"Unsuccessful\",\"Unsuccessful\",\"Unsuccessful\",\"Unsuccessful\",\"Unsuccessful\",\"Unsuccessful\",\"Unsuccessful\",\"Unsuccessful\",\"Unsuccessful\",\"Unsuccessful\",\"Unsuccessful\",\"Unsuccessful\",\"Unsuccessful\",\"Unsuccessful\",\"Unsuccessful\",\"Unsuccessful\",\"Unsuccessful\",\"Unsuccessful\",\"Unsuccessful\",\"Unsuccessful\",\"Unsuccessful\",\"Unsuccessful\",\"Unsuccessful\",\"Unsuccessful\",\"Unsuccessful\",\"Unsuccessful\",\"Unsuccessful\",\"Unsuccessful\",\"Unsuccessful\",\"Unsuccessful\",\"Unsuccessful\",\"Unsuccessful\",\"Unsuccessful\",\"Unsuccessful\",\"Unsuccessful\",\"Unsuccessful\",\"Unsuccessful\",\"Unsuccessful\",\"Unsuccessful\",\"Unsuccessful\",\"Unsuccessful\",\"Unsuccessful\",\"Unsuccessful\",\"Unsuccessful\",\"Unsuccessful\",\"Unsuccessful\",\"Unsuccessful\",\"Unsuccessful\",\"Unsuccessful\",\"Unsuccessful\",\"Unsuccessful\",\"Unsuccessful\",\"Unsuccessful\",\"Unsuccessful\",\"Unsuccessful\",\"Unsuccessful\",\"Unsuccessful\",\"Unsuccessful\",\"Unsuccessful\",\"Unsuccessful\",\"Unsuccessful\",\"Unsuccessful\",\"Unsuccessful\",\"Unsuccessful\",\"Unsuccessful\",\"Unsuccessful\",\"Unsuccessful\",\"Unsuccessful\",\"Unsuccessful\",\"Unsuccessful\",\"Unsuccessful\",\"Unsuccessful\",\"Unsuccessful\",\"Unsuccessful\",\"Unsuccessful\",\"Unsuccessful\",\"Unsuccessful\",\"Unsuccessful\",\"Unsuccessful\",\"Unsuccessful\",\"Unsuccessful\",\"Unsuccessful\",\"Unsuccessful\",\"Unsuccessful\",\"Unsuccessful\",\"Unsuccessful\",\"Unsuccessful\",\"Unsuccessful\",\"Unsuccessful\",\"Unsuccessful\",\"Unsuccessful\",\"Unsuccessful\",\"Unsuccessful\",\"Unsuccessful\",\"Unsuccessful\",\"Unsuccessful\",\"Unsuccessful\",\"Unsuccessful\",\"Unsuccessful\",\"Unsuccessful\",\"Unsuccessful\",\"Unsuccessful\",\"Unsuccessful\",\"Unsuccessful\",\"Unsuccessful\",\"Unsuccessful\",\"Unsuccessful\",\"Unsuccessful\",\"Unsuccessful\",\"Unsuccessful\",\"Unsuccessful\",\"Unsuccessful\",\"Unsuccessful\",\"Unsuccessful\",\"Unsuccessful\",\"Unsuccessful\",\"Unsuccessful\",\"Unsuccessful\",\"Unsuccessful\",\"Unsuccessful\",\"Unsuccessful\",\"Unsuccessful\",\"Unsuccessful\",\"Unsuccessful\",\"Unsuccessful\",\"Unsuccessful\",\"Unsuccessful\",\"Unsuccessful\",\"Unsuccessful\",\"Unsuccessful\",\"Unsuccessful\",\"Unsuccessful\",\"Unsuccessful\",\"Unsuccessful\",\"Unsuccessful\",\"Unsuccessful\",\"Unsuccessful\",\"Unsuccessful\",\"Unsuccessful\",\"Unsuccessful\",\"Unsuccessful\",\"Unsuccessful\",\"Unsuccessful\",\"Unsuccessful\",\"Unsuccessful\",\"Unsuccessful\",\"Unsuccessful\",\"Unsuccessful\",\"Unsuccessful\",\"Unsuccessful\",\"Unsuccessful\",\"Unsuccessful\",\"Unsuccessful\",\"Unsuccessful\",\"Unsuccessful\",\"Unsuccessful\",\"Unsuccessful\",\"Unsuccessful\",\"Unsuccessful\",\"Unsuccessful\",\"Unsuccessful\",\"Unsuccessful\",\"Unsuccessful\",\"Unsuccessful\",\"Unsuccessful\"],\"x0\":\" \",\"xaxis\":\"x\",\"y\":[12000.0,1800.0,3700.0,10000.0,2800.0,3300.0,6000.0,3200.0,1300.0,5600.0,606.0,2400.0,1000.0,1800.0,9900.0,1600.0,1600.0,2600.0,8500.0,845.0,2000.0,7400.0,246.0,2300.0,365.0,8700.0,5100.0,723.0,2400.0,2500.0,681.0,147.0,1800.0,1700.0,1100.0,170.0,2600.0,1500.0,2000.0,689.0,9200.0,10000.0,12000.0,3300.0,2000.0,5700.0,11000.0,5400.0,3700.0,1300.0,2300.0,1300.0,8700.0,5500.0,2900.0,9000.0,2900.0,811.0,579.0,605.0,1300.0,381.0,8800.0,831.0,545.0,5800.0,918.0,3400.0,2400.0,536.0,1600.0,2400.0,4400.0,623.0,1300.0,6300.0,2000.0,7200.0,833.0,909.0,5900.0,3800.0,972.0,6400.0,5400.0,8800.0,5200.0,5700.0,2700.0,8500.0,7800.0,1400.0,3600.0,1900.0,3100.0,11000.0,3000.0,5800.0,5300.0,5300.0,4800.0,1100.0,2600.0,1800.0,1900.0,1000.0,8300.0,8400.0,2500.0,3800.0,4400.0,1600.0,894.0,2300.0,2900.0,499.0,825.0,816.0,2100.0,5100.0,4500.0,1100.0,6100.0,4800.0,1600.0,1300.0,1400.0,1900.0,3100.0,1200.0,736.0,1800.0,520.0,12000.0,2600.0,901.0,2100.0,240.0,1400.0,174.0,1500.0,1200.0,1900.0,4100.0,2200.0,354.0,70.0,921.0,323.0,836.0,1500.0,878.0,400.0,1100.0,3400.0,1400.0,578.0,523.0,495.0,509.0,1800.0,584.0,28.0,999.0,12.0,1900.0,709.0,183.0,2300.0,1600.0,374.0,713.0,83.0,380.0,1100.0,145.0,5.0,410.0,2200.0,1200.0,1400.0,858.0,463.0,1500.0,596.0,683.0,74.0,5200.0,298.0,2400.0,3700.0,92.0,85.0,1800.0,604.0,844.0,608.0,3.0,319.0,678.0,375.0,489.0,295.0,394.0,796.0,552.0,489.0,38.0,315.0,1000.0,1200.0,59.0,269.0,100.0,96.0,213.0,832.0,2500.0,688.0,469.0,493.0,295.0,85.0,682.0,321.0,342.0,51.0,96.0,100.0,450.0,357.0,1300.0,645.0,177.0,152.0,6.0,77.0,495.0,399.0,1100.0,116.0,1000.0,66.0,397.0,184.0,361.0,180.0,1200.0,79.0,180.0,383.0,383.0,1500.0,417.0,271.0,1000.0,1300.0,317.0,359.0,172.0,392.0,525.0,375.0,578.0,1800.0,100.0,138.0,253.0,520.0,597.0,128.0,300.0,446.0,50.0,61.0,145.0,516.0,649.0,451.0,77.0,180.0,567.0,373.0,296.0,307.0,1600.0,514.0,1400.0,1800.0,163.0,1400.0,4500.0,1700.0,721.0,2400.0,251.0,1200.0,1000.0,278.0,623.0,836.0,199.0,456.0,161.0,1500.0,14.0,74.0,1400.0,351.0,92.0,496.0,61.0,1100.0,2900.0,359.0,565.0,95.0,82.0,1300.0,516.0,70.0,1300.0,27.0,178.0,558.0,782.0,88.0,805.0,483.0,568.0,557.0,576.0,637.0,52.0,8.0,107.0,455.0,148.0,109.0,160.0,521.0,401.0,205.0,135.0,107.0,123.0,145.0,156.0,39.0,372.0,304.0,193.0,267.0,438.0,106.0,331.0,225.0,670.0,145.0,226.0,173.0,150.0,266.0,22.0,443.0,92.0,103.0,255.0,247.0,191.0,162.0,70.0,498.0,135.0,266.0,119.0,236.0,98.0,191.0,59.0,268.0,115.0,169.0,3000.0,558.0,1200.0,45.0,399.0,1100.0,620.0,207.0,923.0,1000.0,309.0,743.0,190.0,311.0,316.0,121.0,1600.0,317.0,423.0,355.0,820.0,1400.0,156.0,325.0,2500.0,725.0,364.0,478.0,1000.0,398.0,173.0,127.0,546.0,75.0,419.0,498.0,122.0,178.0,276.0,318.0,345.0,629.0,272.0,68.0,1600.0,1300.0,839.0,110.0,169.0,11.0,225.0,46.0,228.0,301.0,240.0,54.0,56.0,181.0,203.0,12.0,86.0,65.0,108.0,403.0,356.0,49.0,1800.0,4.0,1500.0,55.0,1500.0,229.0,182.0,926.0,1400.0,365.0,441.0,334.0,27.0,108.0,773.0,28.0,5800.0,198.0,114.0,148.0,898.0,186.0,25.0,154.0,104.0,178.0,15.0,15.0,114.0,2.0,8.0,375.0,173.0,191.0,29.0,764.0,34.0,58.0,458.0,144.0,98.0,181.0,795.0,328.0,204.0,154.0,212.0,1100.0,273.0,116.0,8.0,130.0,112.0,34.0,84.0,424.0,209.0,8800.0,5500.0,10000.0,3400.0,1400.0,3700.0,66.0,6000.0,1400.0,2000.0,2400.0,1700.0,2200.0,1200.0,103.0,4400.0,2400.0,6400.0,1400.0,1600.0,1900.0,545.0,2400.0,1100.0,3900.0,677.0,1300.0,1700.0,1700.0,1100.0,1000.0,402.0,2300.0,2500.0,631.0,196.0,2600.0,3700.0,6.0,85.0,2600.0,1500.0,382.0,189.0,1100.0,90.0,3.0,5.0,49.0,21.0,179.0,577.0,86.0,88.0,49.0,10.0,4.0,14.0,103.0,112.0,265.0,19.0,223.0,19.0,95.0,37.0,23.0,51.0,2.0,31.0,13.0,134.0,85.0,124.0,126.0,223.0,22.0,37.0,81.0,123.0,74.0,8.0,369.0,1500.0,374.0,2700.0,521.0,70.0,44.0,491.0,368.0,1000.0,2900.0,1300.0,943.0,214.0,398.0,1300.0,83.0,41.0,678.0,67.0,973.0,469.0,144.0,723.0,882.0,580.0,272.0,108.0,1000.0,406.0,361.0,196.0,470.0,321.0,512.0,338.0,1300.0,154.0,904.0,427.0,231.0,526.0,274.0,460.0,1100.0,435.0,274.0,123.0,652.0,1100.0,1100.0,277.0,237.0,209.0,388.0,1100.0,37.0,193.0,72.0,80.0,123.0,2.0,339.0,87.0,70.0,101.0,44.0,328.0,58.0,84.0,338.0,274.0,101.0,316.0,258.0,4.0,209.0,175.0,6.0,252.0,4.0,50.0,2.0,71.0,250.0,2400.0,710.0,983.0,162.0,171.0,349.0,188.0,677.0,322.0,1800.0,377.0,155.0,4.0,96.0,334.0,633.0,149.0,1500.0,157.0,711.0,259.0,54.0,264.0,144.0,53.0,494.0,45.0,374.0,505.0,78.0,41.0,65.0,386.0,377.0,1900.0,1700.0,2200.0,1300.0,219.0,5800.0,105.0,4100.0,5100.0,795.0,430.0,429.0,730.0,754.0,3400.0,90.0,672.0,900.0,183.0,1900.0,196.0,999.0,315.0,93.0,274.0,414.0,1200.0,332.0,3200.0,668.0,146.0,266.0,1100.0,50.0,110.0,977.0,66.0,476.0,322.0],\"y0\":\" \",\"yaxis\":\"y\",\"type\":\"box\"},{\"alignmentgroup\":\"True\",\"hovertemplate\":\"Success=%{x}\\u003cbr\\u003eFB_Shares=%{y}\\u003cextra\\u003e\\u003c\\u002fextra\\u003e\",\"legendgroup\":\"Successful\",\"marker\":{\"color\":\"#EF553B\"},\"name\":\"Successful\",\"notched\":false,\"offsetgroup\":\"Successful\",\"orientation\":\"v\",\"showlegend\":true,\"x\":[\"Successful\",\"Successful\",\"Successful\",\"Successful\",\"Successful\",\"Successful\",\"Successful\",\"Successful\",\"Successful\",\"Successful\",\"Successful\",\"Successful\",\"Successful\",\"Successful\",\"Successful\",\"Successful\",\"Successful\",\"Successful\",\"Successful\",\"Successful\",\"Successful\",\"Successful\",\"Successful\",\"Successful\",\"Successful\",\"Successful\",\"Successful\",\"Successful\",\"Successful\",\"Successful\",\"Successful\",\"Successful\",\"Successful\",\"Successful\",\"Successful\",\"Successful\",\"Successful\",\"Successful\",\"Successful\",\"Successful\",\"Successful\",\"Successful\",\"Successful\",\"Successful\",\"Successful\",\"Successful\",\"Successful\",\"Successful\",\"Successful\",\"Successful\",\"Successful\",\"Successful\",\"Successful\",\"Successful\",\"Successful\",\"Successful\",\"Successful\",\"Successful\",\"Successful\",\"Successful\",\"Successful\",\"Successful\",\"Successful\",\"Successful\",\"Successful\",\"Successful\",\"Successful\",\"Successful\",\"Successful\",\"Successful\",\"Successful\",\"Successful\",\"Successful\",\"Successful\",\"Successful\",\"Successful\",\"Successful\",\"Successful\",\"Successful\",\"Successful\",\"Successful\",\"Successful\",\"Successful\",\"Successful\",\"Successful\",\"Successful\",\"Successful\",\"Successful\",\"Successful\",\"Successful\",\"Successful\",\"Successful\",\"Successful\",\"Successful\",\"Successful\",\"Successful\",\"Successful\",\"Successful\",\"Successful\",\"Successful\",\"Successful\",\"Successful\",\"Successful\",\"Successful\",\"Successful\",\"Successful\",\"Successful\",\"Successful\",\"Successful\",\"Successful\",\"Successful\",\"Successful\",\"Successful\",\"Successful\",\"Successful\",\"Successful\",\"Successful\",\"Successful\",\"Successful\",\"Successful\",\"Successful\",\"Successful\",\"Successful\",\"Successful\",\"Successful\",\"Successful\",\"Successful\",\"Successful\",\"Successful\",\"Successful\",\"Successful\",\"Successful\",\"Successful\",\"Successful\",\"Successful\",\"Successful\",\"Successful\",\"Successful\",\"Successful\",\"Successful\",\"Successful\",\"Successful\",\"Successful\",\"Successful\",\"Successful\",\"Successful\",\"Successful\",\"Successful\",\"Successful\",\"Successful\",\"Successful\",\"Successful\",\"Successful\",\"Successful\",\"Successful\",\"Successful\",\"Successful\",\"Successful\",\"Successful\",\"Successful\",\"Successful\",\"Successful\",\"Successful\",\"Successful\",\"Successful\",\"Successful\",\"Successful\",\"Successful\",\"Successful\",\"Successful\",\"Successful\",\"Successful\",\"Successful\",\"Successful\",\"Successful\",\"Successful\",\"Successful\",\"Successful\",\"Successful\",\"Successful\",\"Successful\",\"Successful\",\"Successful\",\"Successful\",\"Successful\",\"Successful\",\"Successful\",\"Successful\",\"Successful\",\"Successful\",\"Successful\",\"Successful\",\"Successful\",\"Successful\",\"Successful\",\"Successful\",\"Successful\",\"Successful\",\"Successful\",\"Successful\",\"Successful\",\"Successful\",\"Successful\",\"Successful\",\"Successful\",\"Successful\",\"Successful\",\"Successful\",\"Successful\",\"Successful\",\"Successful\",\"Successful\",\"Successful\",\"Successful\",\"Successful\",\"Successful\",\"Successful\",\"Successful\",\"Successful\",\"Successful\",\"Successful\",\"Successful\",\"Successful\",\"Successful\",\"Successful\",\"Successful\",\"Successful\",\"Successful\",\"Successful\",\"Successful\",\"Successful\",\"Successful\",\"Successful\",\"Successful\",\"Successful\",\"Successful\",\"Successful\",\"Successful\",\"Successful\",\"Successful\",\"Successful\",\"Successful\",\"Successful\",\"Successful\",\"Successful\",\"Successful\",\"Successful\",\"Successful\",\"Successful\",\"Successful\",\"Successful\",\"Successful\",\"Successful\",\"Successful\",\"Successful\",\"Successful\",\"Successful\",\"Successful\",\"Successful\",\"Successful\",\"Successful\",\"Successful\",\"Successful\",\"Successful\",\"Successful\",\"Successful\",\"Successful\",\"Successful\",\"Successful\",\"Successful\",\"Successful\",\"Successful\",\"Successful\",\"Successful\",\"Successful\",\"Successful\",\"Successful\",\"Successful\",\"Successful\",\"Successful\",\"Successful\",\"Successful\",\"Successful\",\"Successful\",\"Successful\",\"Successful\",\"Successful\",\"Successful\",\"Successful\",\"Successful\",\"Successful\",\"Successful\",\"Successful\",\"Successful\",\"Successful\",\"Successful\",\"Successful\",\"Successful\",\"Successful\",\"Successful\",\"Successful\",\"Successful\",\"Successful\",\"Successful\",\"Successful\",\"Successful\",\"Successful\",\"Successful\",\"Successful\",\"Successful\",\"Successful\",\"Successful\",\"Successful\",\"Successful\",\"Successful\",\"Successful\",\"Successful\",\"Successful\",\"Successful\",\"Successful\",\"Successful\",\"Successful\",\"Successful\",\"Successful\",\"Successful\",\"Successful\",\"Successful\",\"Successful\",\"Successful\",\"Successful\",\"Successful\",\"Successful\",\"Successful\",\"Successful\",\"Successful\",\"Successful\",\"Successful\",\"Successful\",\"Successful\",\"Successful\",\"Successful\",\"Successful\",\"Successful\",\"Successful\",\"Successful\",\"Successful\",\"Successful\",\"Successful\",\"Successful\",\"Successful\",\"Successful\",\"Successful\",\"Successful\",\"Successful\",\"Successful\",\"Successful\",\"Successful\",\"Successful\",\"Successful\",\"Successful\",\"Successful\",\"Successful\",\"Successful\",\"Successful\",\"Successful\",\"Successful\",\"Successful\",\"Successful\",\"Successful\",\"Successful\",\"Successful\",\"Successful\",\"Successful\",\"Successful\",\"Successful\",\"Successful\",\"Successful\",\"Successful\",\"Successful\",\"Successful\",\"Successful\",\"Successful\",\"Successful\",\"Successful\",\"Successful\",\"Successful\",\"Successful\",\"Successful\",\"Successful\",\"Successful\",\"Successful\",\"Successful\",\"Successful\",\"Successful\",\"Successful\",\"Successful\",\"Successful\",\"Successful\",\"Successful\",\"Successful\",\"Successful\",\"Successful\",\"Successful\",\"Successful\",\"Successful\",\"Successful\",\"Successful\",\"Successful\",\"Successful\",\"Successful\",\"Successful\",\"Successful\",\"Successful\",\"Successful\",\"Successful\",\"Successful\",\"Successful\",\"Successful\",\"Successful\",\"Successful\",\"Successful\",\"Successful\",\"Successful\",\"Successful\",\"Successful\",\"Successful\",\"Successful\",\"Successful\",\"Successful\",\"Successful\",\"Successful\",\"Successful\",\"Successful\"],\"x0\":\" \",\"xaxis\":\"x\",\"y\":[9700.0,6400.0,2500.0,12000.0,2100.0,1600.0,8600.0,9100.0,1600.0,3800.0,913.0,11000.0,3100.0,2300.0,1700.0,764.0,921.0,904.0,9400.0,1300.0,11000.0,828.0,12000.0,9100.0,3000.0,3100.0,1000.0,1600.0,1300.0,3100.0,1000.0,4200.0,11000.0,6400.0,95.0,330.0,1900.0,1600.0,1300.0,4500.0,5000.0,3800.0,6500.0,786.0,3400.0,840.0,14000.0,3900.0,750.0,996.0,1300.0,487.0,8300.0,4300.0,3300.0,2400.0,1300.0,699.0,3200.0,5100.0,15000.0,2600.0,3600.0,2400.0,3600.0,5300.0,8700.0,1100.0,8400.0,1000.0,2100.0,3900.0,12000.0,2700.0,2200.0,3900.0,2000.0,961.0,2100.0,652.0,1400.0,3000.0,242.0,367.0,8700.0,916.0,2000.0,249.0,328.0,1100.0,829.0,2.0,326.0,576.0,414.0,1100.0,174.0,163.0,435.0,4600.0,354.0,747.0,2100.0,501.0,3500.0,669.0,342.0,878.0,291.0,577.0,3500.0,798.0,74.0,282.0,3500.0,224.0,1200.0,2.0,657.0,1600.0,198.0,515.0,404.0,120.0,2600.0,3100.0,70.0,169.0,1200.0,49.0,241.0,101.0,132.0,632.0,280.0,879.0,22.0,151.0,430.0,464.0,3.0,184.0,112.0,261.0,272.0,343.0,130.0,257.0,3200.0,7700.0,2800.0,64.0,3000.0,254.0,4000.0,19.0,1400.0,1100.0,879.0,417.0,770.0,1500.0,1900.0,954.0,264.0,795.0,786.0,20.0,4900.0,62.0,171.0,315.0,284.0,1000.0,987.0,1300.0,643.0,1200.0,2600.0,23.0,153.0,92.0,596.0,412.0,314.0,113.0,24.0,153.0,131.0,107.0,39.0,118.0,29.0,37.0,2000.0,1400.0,803.0,844.0,599.0,1300.0,540.0,267.0,243.0,217.0,94.0,170.0,1600.0,107.0,362.0,132.0,44.0,171.0,193.0,559.0,276.0,138.0,203.0,93.0,1000.0,20.0,966.0,55.0,2.0,870.0,316.0,613.0,8.0,364.0,4.0,79.0,23.0,18.0,114.0,2.0,16.0,96.0,116.0,191.0,140.0,2.0,613.0,496.0,72.0,202.0,69.0,54.0,75.0,36.0,190.0,66.0,22.0,62.0,500.0,100.0,664.0,297.0,87.0,89.0,441.0,3.0,238.0,265.0,78.0,567.0,84.0,199.0,22.0,103.0,747.0,18.0,56.0,178.0,524.0,196.0,55.0,1100.0,5900.0,5900.0,7600.0,1400.0,336.0,423.0,982.0,1100.0,1100.0,238.0,5900.0,975.0,2700.0,530.0,3200.0,601.0,1600.0,577.0,436.0,137.0,2900.0,1200.0,934.0,1800.0,586.0,1600.0,34.0,30.0,88.0,45.0,29.0,17.0,8.0,10.0,3.0,3.0,70.0,7400.0,568.0,313.0,5400.0,1200.0,566.0,240.0,362.0,265.0,402.0,579.0,286.0,815.0,177.0,204.0,298.0,105.0,554.0,830.0,454.0,549.0,915.0,669.0,910.0,588.0,367.0,64.0,4.0,12.0,27.0,10.0,147.0,343.0,341.0,36.0,226.0,5.0,176.0,123.0,90.0,163.0,284.0,112.0,7.0,455.0,194.0,220.0,28.0,16.0,109.0,7.0,31.0,730.0,7.0,708.0,1200.0,453.0,4000.0,109.0,627.0,232.0,981.0,1000.0,1300.0,35.0,861.0,60.0,791.0,172.0,507.0,341.0,449.0,185.0,38.0,115.0,396.0,438.0,827.0,75.0,475.0,16.0,440.0,59.0,119.0,74.0,86.0,131.0,503.0,5700.0,1200.0,2100.0,2900.0,522.0,5700.0,833.0,651.0,397.0,516.0,707.0,1300.0,1200.0,337.0,149.0,542.0,389.0,94.0,126.0,558.0,235.0,15.0,229.0,353.0,344.0,168.0,28.0,419.0,72.0,871.0,107.0,398.0],\"y0\":\" \",\"yaxis\":\"y\",\"type\":\"box\"}],                        {\"template\":{\"data\":{\"histogram2dcontour\":[{\"type\":\"histogram2dcontour\",\"colorbar\":{\"outlinewidth\":0,\"ticks\":\"\"},\"colorscale\":[[0.0,\"#0d0887\"],[0.1111111111111111,\"#46039f\"],[0.2222222222222222,\"#7201a8\"],[0.3333333333333333,\"#9c179e\"],[0.4444444444444444,\"#bd3786\"],[0.5555555555555556,\"#d8576b\"],[0.6666666666666666,\"#ed7953\"],[0.7777777777777778,\"#fb9f3a\"],[0.8888888888888888,\"#fdca26\"],[1.0,\"#f0f921\"]]}],\"choropleth\":[{\"type\":\"choropleth\",\"colorbar\":{\"outlinewidth\":0,\"ticks\":\"\"}}],\"histogram2d\":[{\"type\":\"histogram2d\",\"colorbar\":{\"outlinewidth\":0,\"ticks\":\"\"},\"colorscale\":[[0.0,\"#0d0887\"],[0.1111111111111111,\"#46039f\"],[0.2222222222222222,\"#7201a8\"],[0.3333333333333333,\"#9c179e\"],[0.4444444444444444,\"#bd3786\"],[0.5555555555555556,\"#d8576b\"],[0.6666666666666666,\"#ed7953\"],[0.7777777777777778,\"#fb9f3a\"],[0.8888888888888888,\"#fdca26\"],[1.0,\"#f0f921\"]]}],\"heatmap\":[{\"type\":\"heatmap\",\"colorbar\":{\"outlinewidth\":0,\"ticks\":\"\"},\"colorscale\":[[0.0,\"#0d0887\"],[0.1111111111111111,\"#46039f\"],[0.2222222222222222,\"#7201a8\"],[0.3333333333333333,\"#9c179e\"],[0.4444444444444444,\"#bd3786\"],[0.5555555555555556,\"#d8576b\"],[0.6666666666666666,\"#ed7953\"],[0.7777777777777778,\"#fb9f3a\"],[0.8888888888888888,\"#fdca26\"],[1.0,\"#f0f921\"]]}],\"heatmapgl\":[{\"type\":\"heatmapgl\",\"colorbar\":{\"outlinewidth\":0,\"ticks\":\"\"},\"colorscale\":[[0.0,\"#0d0887\"],[0.1111111111111111,\"#46039f\"],[0.2222222222222222,\"#7201a8\"],[0.3333333333333333,\"#9c179e\"],[0.4444444444444444,\"#bd3786\"],[0.5555555555555556,\"#d8576b\"],[0.6666666666666666,\"#ed7953\"],[0.7777777777777778,\"#fb9f3a\"],[0.8888888888888888,\"#fdca26\"],[1.0,\"#f0f921\"]]}],\"contourcarpet\":[{\"type\":\"contourcarpet\",\"colorbar\":{\"outlinewidth\":0,\"ticks\":\"\"}}],\"contour\":[{\"type\":\"contour\",\"colorbar\":{\"outlinewidth\":0,\"ticks\":\"\"},\"colorscale\":[[0.0,\"#0d0887\"],[0.1111111111111111,\"#46039f\"],[0.2222222222222222,\"#7201a8\"],[0.3333333333333333,\"#9c179e\"],[0.4444444444444444,\"#bd3786\"],[0.5555555555555556,\"#d8576b\"],[0.6666666666666666,\"#ed7953\"],[0.7777777777777778,\"#fb9f3a\"],[0.8888888888888888,\"#fdca26\"],[1.0,\"#f0f921\"]]}],\"surface\":[{\"type\":\"surface\",\"colorbar\":{\"outlinewidth\":0,\"ticks\":\"\"},\"colorscale\":[[0.0,\"#0d0887\"],[0.1111111111111111,\"#46039f\"],[0.2222222222222222,\"#7201a8\"],[0.3333333333333333,\"#9c179e\"],[0.4444444444444444,\"#bd3786\"],[0.5555555555555556,\"#d8576b\"],[0.6666666666666666,\"#ed7953\"],[0.7777777777777778,\"#fb9f3a\"],[0.8888888888888888,\"#fdca26\"],[1.0,\"#f0f921\"]]}],\"mesh3d\":[{\"type\":\"mesh3d\",\"colorbar\":{\"outlinewidth\":0,\"ticks\":\"\"}}],\"scatter\":[{\"fillpattern\":{\"fillmode\":\"overlay\",\"size\":10,\"solidity\":0.2},\"type\":\"scatter\"}],\"parcoords\":[{\"type\":\"parcoords\",\"line\":{\"colorbar\":{\"outlinewidth\":0,\"ticks\":\"\"}}}],\"scatterpolargl\":[{\"type\":\"scatterpolargl\",\"marker\":{\"colorbar\":{\"outlinewidth\":0,\"ticks\":\"\"}}}],\"bar\":[{\"error_x\":{\"color\":\"#2a3f5f\"},\"error_y\":{\"color\":\"#2a3f5f\"},\"marker\":{\"line\":{\"color\":\"#E5ECF6\",\"width\":0.5},\"pattern\":{\"fillmode\":\"overlay\",\"size\":10,\"solidity\":0.2}},\"type\":\"bar\"}],\"scattergeo\":[{\"type\":\"scattergeo\",\"marker\":{\"colorbar\":{\"outlinewidth\":0,\"ticks\":\"\"}}}],\"scatterpolar\":[{\"type\":\"scatterpolar\",\"marker\":{\"colorbar\":{\"outlinewidth\":0,\"ticks\":\"\"}}}],\"histogram\":[{\"marker\":{\"pattern\":{\"fillmode\":\"overlay\",\"size\":10,\"solidity\":0.2}},\"type\":\"histogram\"}],\"scattergl\":[{\"type\":\"scattergl\",\"marker\":{\"colorbar\":{\"outlinewidth\":0,\"ticks\":\"\"}}}],\"scatter3d\":[{\"type\":\"scatter3d\",\"line\":{\"colorbar\":{\"outlinewidth\":0,\"ticks\":\"\"}},\"marker\":{\"colorbar\":{\"outlinewidth\":0,\"ticks\":\"\"}}}],\"scattermapbox\":[{\"type\":\"scattermapbox\",\"marker\":{\"colorbar\":{\"outlinewidth\":0,\"ticks\":\"\"}}}],\"scatterternary\":[{\"type\":\"scatterternary\",\"marker\":{\"colorbar\":{\"outlinewidth\":0,\"ticks\":\"\"}}}],\"scattercarpet\":[{\"type\":\"scattercarpet\",\"marker\":{\"colorbar\":{\"outlinewidth\":0,\"ticks\":\"\"}}}],\"carpet\":[{\"aaxis\":{\"endlinecolor\":\"#2a3f5f\",\"gridcolor\":\"white\",\"linecolor\":\"white\",\"minorgridcolor\":\"white\",\"startlinecolor\":\"#2a3f5f\"},\"baxis\":{\"endlinecolor\":\"#2a3f5f\",\"gridcolor\":\"white\",\"linecolor\":\"white\",\"minorgridcolor\":\"white\",\"startlinecolor\":\"#2a3f5f\"},\"type\":\"carpet\"}],\"table\":[{\"cells\":{\"fill\":{\"color\":\"#EBF0F8\"},\"line\":{\"color\":\"white\"}},\"header\":{\"fill\":{\"color\":\"#C8D4E3\"},\"line\":{\"color\":\"white\"}},\"type\":\"table\"}],\"barpolar\":[{\"marker\":{\"line\":{\"color\":\"#E5ECF6\",\"width\":0.5},\"pattern\":{\"fillmode\":\"overlay\",\"size\":10,\"solidity\":0.2}},\"type\":\"barpolar\"}],\"pie\":[{\"automargin\":true,\"type\":\"pie\"}]},\"layout\":{\"autotypenumbers\":\"strict\",\"colorway\":[\"#636efa\",\"#EF553B\",\"#00cc96\",\"#ab63fa\",\"#FFA15A\",\"#19d3f3\",\"#FF6692\",\"#B6E880\",\"#FF97FF\",\"#FECB52\"],\"font\":{\"color\":\"#2a3f5f\"},\"hovermode\":\"closest\",\"hoverlabel\":{\"align\":\"left\"},\"paper_bgcolor\":\"white\",\"plot_bgcolor\":\"#E5ECF6\",\"polar\":{\"bgcolor\":\"#E5ECF6\",\"angularaxis\":{\"gridcolor\":\"white\",\"linecolor\":\"white\",\"ticks\":\"\"},\"radialaxis\":{\"gridcolor\":\"white\",\"linecolor\":\"white\",\"ticks\":\"\"}},\"ternary\":{\"bgcolor\":\"#E5ECF6\",\"aaxis\":{\"gridcolor\":\"white\",\"linecolor\":\"white\",\"ticks\":\"\"},\"baxis\":{\"gridcolor\":\"white\",\"linecolor\":\"white\",\"ticks\":\"\"},\"caxis\":{\"gridcolor\":\"white\",\"linecolor\":\"white\",\"ticks\":\"\"}},\"coloraxis\":{\"colorbar\":{\"outlinewidth\":0,\"ticks\":\"\"}},\"colorscale\":{\"sequential\":[[0.0,\"#0d0887\"],[0.1111111111111111,\"#46039f\"],[0.2222222222222222,\"#7201a8\"],[0.3333333333333333,\"#9c179e\"],[0.4444444444444444,\"#bd3786\"],[0.5555555555555556,\"#d8576b\"],[0.6666666666666666,\"#ed7953\"],[0.7777777777777778,\"#fb9f3a\"],[0.8888888888888888,\"#fdca26\"],[1.0,\"#f0f921\"]],\"sequentialminus\":[[0.0,\"#0d0887\"],[0.1111111111111111,\"#46039f\"],[0.2222222222222222,\"#7201a8\"],[0.3333333333333333,\"#9c179e\"],[0.4444444444444444,\"#bd3786\"],[0.5555555555555556,\"#d8576b\"],[0.6666666666666666,\"#ed7953\"],[0.7777777777777778,\"#fb9f3a\"],[0.8888888888888888,\"#fdca26\"],[1.0,\"#f0f921\"]],\"diverging\":[[0,\"#8e0152\"],[0.1,\"#c51b7d\"],[0.2,\"#de77ae\"],[0.3,\"#f1b6da\"],[0.4,\"#fde0ef\"],[0.5,\"#f7f7f7\"],[0.6,\"#e6f5d0\"],[0.7,\"#b8e186\"],[0.8,\"#7fbc41\"],[0.9,\"#4d9221\"],[1,\"#276419\"]]},\"xaxis\":{\"gridcolor\":\"white\",\"linecolor\":\"white\",\"ticks\":\"\",\"title\":{\"standoff\":15},\"zerolinecolor\":\"white\",\"automargin\":true,\"zerolinewidth\":2},\"yaxis\":{\"gridcolor\":\"white\",\"linecolor\":\"white\",\"ticks\":\"\",\"title\":{\"standoff\":15},\"zerolinecolor\":\"white\",\"automargin\":true,\"zerolinewidth\":2},\"scene\":{\"xaxis\":{\"backgroundcolor\":\"#E5ECF6\",\"gridcolor\":\"white\",\"linecolor\":\"white\",\"showbackground\":true,\"ticks\":\"\",\"zerolinecolor\":\"white\",\"gridwidth\":2},\"yaxis\":{\"backgroundcolor\":\"#E5ECF6\",\"gridcolor\":\"white\",\"linecolor\":\"white\",\"showbackground\":true,\"ticks\":\"\",\"zerolinecolor\":\"white\",\"gridwidth\":2},\"zaxis\":{\"backgroundcolor\":\"#E5ECF6\",\"gridcolor\":\"white\",\"linecolor\":\"white\",\"showbackground\":true,\"ticks\":\"\",\"zerolinecolor\":\"white\",\"gridwidth\":2}},\"shapedefaults\":{\"line\":{\"color\":\"#2a3f5f\"}},\"annotationdefaults\":{\"arrowcolor\":\"#2a3f5f\",\"arrowhead\":0,\"arrowwidth\":1},\"geo\":{\"bgcolor\":\"white\",\"landcolor\":\"#E5ECF6\",\"subunitcolor\":\"white\",\"showland\":true,\"showlakes\":true,\"lakecolor\":\"white\"},\"title\":{\"x\":0.05},\"mapbox\":{\"style\":\"light\"}}},\"xaxis\":{\"anchor\":\"y\",\"domain\":[0.0,1.0],\"title\":{\"text\":\"GFM Project Success Status\"},\"categoryorder\":\"array\",\"categoryarray\":[\"Unsuccessful\",\"Successful\"]},\"yaxis\":{\"anchor\":\"x\",\"domain\":[0.0,1.0],\"title\":{\"text\":\"FB Shares\"}},\"legend\":{\"title\":{\"text\":\"Success\"},\"tracegroupgap\":0},\"title\":{\"text\":\"Frequency of FaceBook Shares of GoFundMe Posts by Success\"},\"boxmode\":\"overlay\"},                        {\"responsive\": true}                    ).then(function(){\n",
              "                            \n",
              "var gd = document.getElementById('7f579852-438f-42bb-9b5b-d5d15f33415d');\n",
              "var x = new MutationObserver(function (mutations, observer) {{\n",
              "        var display = window.getComputedStyle(gd).display;\n",
              "        if (!display || display === 'none') {{\n",
              "            console.log([gd, 'removed!']);\n",
              "            Plotly.purge(gd);\n",
              "            observer.disconnect();\n",
              "        }}\n",
              "}});\n",
              "\n",
              "// Listen for the removal of the full notebook cells\n",
              "var notebookContainer = gd.closest('#notebook-container');\n",
              "if (notebookContainer) {{\n",
              "    x.observe(notebookContainer, {childList: true});\n",
              "}}\n",
              "\n",
              "// Listen for the clearing of the current output cell\n",
              "var outputEl = gd.closest('.output');\n",
              "if (outputEl) {{\n",
              "    x.observe(outputEl, {childList: true});\n",
              "}}\n",
              "\n",
              "                        })                };                            </script>        </div>\n",
              "</body>\n",
              "</html>"
            ]
          },
          "metadata": {}
        }
      ]
    },
    {
      "cell_type": "code",
      "source": [
        "fig = px.histogram(df_filtered, x=\"FB_Shares\", color=\"Success\",\n",
        "                   title=\"Distribution of FaceBook Shares of GoFundMe Posts by Success\")\n",
        "\n",
        "fig.update_xaxes(title_text=\"Number of Facebook Shares\")\n",
        "fig.update_yaxes(title_text=\"Frequency\")\n",
        "fig.show()"
      ],
      "metadata": {
        "colab": {
          "base_uri": "https://localhost:8080/",
          "height": 542
        },
        "id": "6aU5JKVu-9CU",
        "outputId": "29a56df8-e01d-4384-cd97-8b765bb8a269"
      },
      "execution_count": null,
      "outputs": [
        {
          "output_type": "display_data",
          "data": {
            "text/html": [
              "<html>\n",
              "<head><meta charset=\"utf-8\" /></head>\n",
              "<body>\n",
              "    <div>            <script src=\"https://cdnjs.cloudflare.com/ajax/libs/mathjax/2.7.5/MathJax.js?config=TeX-AMS-MML_SVG\"></script><script type=\"text/javascript\">if (window.MathJax && window.MathJax.Hub && window.MathJax.Hub.Config) {window.MathJax.Hub.Config({SVG: {font: \"STIX-Web\"}});}</script>                <script type=\"text/javascript\">window.PlotlyConfig = {MathJaxConfig: 'local'};</script>\n",
              "        <script charset=\"utf-8\" src=\"https://cdn.plot.ly/plotly-2.35.2.min.js\"></script>                <div id=\"64a52fbf-61aa-4f00-a3b9-dd8570eb982a\" class=\"plotly-graph-div\" style=\"height:525px; width:100%;\"></div>            <script type=\"text/javascript\">                                    window.PLOTLYENV=window.PLOTLYENV || {};                                    if (document.getElementById(\"64a52fbf-61aa-4f00-a3b9-dd8570eb982a\")) {                    Plotly.newPlot(                        \"64a52fbf-61aa-4f00-a3b9-dd8570eb982a\",                        [{\"alignmentgroup\":\"True\",\"bingroup\":\"x\",\"hovertemplate\":\"Success=Unsuccessful\\u003cbr\\u003eFB_Shares=%{x}\\u003cbr\\u003ecount=%{y}\\u003cextra\\u003e\\u003c\\u002fextra\\u003e\",\"legendgroup\":\"Unsuccessful\",\"marker\":{\"color\":\"#636efa\",\"pattern\":{\"shape\":\"\"}},\"name\":\"Unsuccessful\",\"offsetgroup\":\"Unsuccessful\",\"orientation\":\"v\",\"showlegend\":true,\"x\":[12000.0,1800.0,3700.0,10000.0,2800.0,3300.0,6000.0,3200.0,1300.0,5600.0,606.0,2400.0,1000.0,1800.0,9900.0,1600.0,1600.0,2600.0,8500.0,845.0,2000.0,7400.0,246.0,2300.0,365.0,8700.0,5100.0,723.0,2400.0,2500.0,681.0,147.0,1800.0,1700.0,1100.0,170.0,2600.0,1500.0,2000.0,689.0,9200.0,10000.0,12000.0,3300.0,2000.0,5700.0,11000.0,5400.0,3700.0,1300.0,2300.0,1300.0,8700.0,5500.0,2900.0,9000.0,2900.0,811.0,579.0,605.0,1300.0,381.0,8800.0,831.0,545.0,5800.0,918.0,3400.0,2400.0,536.0,1600.0,2400.0,4400.0,623.0,1300.0,6300.0,2000.0,7200.0,833.0,909.0,5900.0,3800.0,972.0,6400.0,5400.0,8800.0,5200.0,5700.0,2700.0,8500.0,7800.0,1400.0,3600.0,1900.0,3100.0,11000.0,3000.0,5800.0,5300.0,5300.0,4800.0,1100.0,2600.0,1800.0,1900.0,1000.0,8300.0,8400.0,2500.0,3800.0,4400.0,1600.0,894.0,2300.0,2900.0,499.0,825.0,816.0,2100.0,5100.0,4500.0,1100.0,6100.0,4800.0,1600.0,1300.0,1400.0,1900.0,3100.0,1200.0,736.0,1800.0,520.0,12000.0,2600.0,901.0,2100.0,240.0,1400.0,174.0,1500.0,1200.0,1900.0,4100.0,2200.0,354.0,70.0,921.0,323.0,836.0,1500.0,878.0,400.0,1100.0,3400.0,1400.0,578.0,523.0,495.0,509.0,1800.0,584.0,28.0,999.0,12.0,1900.0,709.0,183.0,2300.0,1600.0,374.0,713.0,83.0,380.0,1100.0,145.0,5.0,410.0,2200.0,1200.0,1400.0,858.0,463.0,1500.0,596.0,683.0,74.0,5200.0,298.0,2400.0,3700.0,92.0,85.0,1800.0,604.0,844.0,608.0,3.0,319.0,678.0,375.0,489.0,295.0,394.0,796.0,552.0,489.0,38.0,315.0,1000.0,1200.0,59.0,269.0,100.0,96.0,213.0,832.0,2500.0,688.0,469.0,493.0,295.0,85.0,682.0,321.0,342.0,51.0,96.0,100.0,450.0,357.0,1300.0,645.0,177.0,152.0,6.0,77.0,495.0,399.0,1100.0,116.0,1000.0,66.0,397.0,184.0,361.0,180.0,1200.0,79.0,180.0,383.0,383.0,1500.0,417.0,271.0,1000.0,1300.0,317.0,359.0,172.0,392.0,525.0,375.0,578.0,1800.0,100.0,138.0,253.0,520.0,597.0,128.0,300.0,446.0,50.0,61.0,145.0,516.0,649.0,451.0,77.0,180.0,567.0,373.0,296.0,307.0,1600.0,514.0,1400.0,1800.0,163.0,1400.0,4500.0,1700.0,721.0,2400.0,251.0,1200.0,1000.0,278.0,623.0,836.0,199.0,456.0,161.0,1500.0,14.0,74.0,1400.0,351.0,92.0,496.0,61.0,1100.0,2900.0,359.0,565.0,95.0,82.0,1300.0,516.0,70.0,1300.0,27.0,178.0,558.0,782.0,88.0,805.0,483.0,568.0,557.0,576.0,637.0,52.0,8.0,107.0,455.0,148.0,109.0,160.0,521.0,401.0,205.0,135.0,107.0,123.0,145.0,156.0,39.0,372.0,304.0,193.0,267.0,438.0,106.0,331.0,225.0,670.0,145.0,226.0,173.0,150.0,266.0,22.0,443.0,92.0,103.0,255.0,247.0,191.0,162.0,70.0,498.0,135.0,266.0,119.0,236.0,98.0,191.0,59.0,268.0,115.0,169.0,3000.0,558.0,1200.0,45.0,399.0,1100.0,620.0,207.0,923.0,1000.0,309.0,743.0,190.0,311.0,316.0,121.0,1600.0,317.0,423.0,355.0,820.0,1400.0,156.0,325.0,2500.0,725.0,364.0,478.0,1000.0,398.0,173.0,127.0,546.0,75.0,419.0,498.0,122.0,178.0,276.0,318.0,345.0,629.0,272.0,68.0,1600.0,1300.0,839.0,110.0,169.0,11.0,225.0,46.0,228.0,301.0,240.0,54.0,56.0,181.0,203.0,12.0,86.0,65.0,108.0,403.0,356.0,49.0,1800.0,4.0,1500.0,55.0,1500.0,229.0,182.0,926.0,1400.0,365.0,441.0,334.0,27.0,108.0,773.0,28.0,5800.0,198.0,114.0,148.0,898.0,186.0,25.0,154.0,104.0,178.0,15.0,15.0,114.0,2.0,8.0,375.0,173.0,191.0,29.0,764.0,34.0,58.0,458.0,144.0,98.0,181.0,795.0,328.0,204.0,154.0,212.0,1100.0,273.0,116.0,8.0,130.0,112.0,34.0,84.0,424.0,209.0,8800.0,5500.0,10000.0,3400.0,1400.0,3700.0,66.0,6000.0,1400.0,2000.0,2400.0,1700.0,2200.0,1200.0,103.0,4400.0,2400.0,6400.0,1400.0,1600.0,1900.0,545.0,2400.0,1100.0,3900.0,677.0,1300.0,1700.0,1700.0,1100.0,1000.0,402.0,2300.0,2500.0,631.0,196.0,2600.0,3700.0,6.0,85.0,2600.0,1500.0,382.0,189.0,1100.0,90.0,3.0,5.0,49.0,21.0,179.0,577.0,86.0,88.0,49.0,10.0,4.0,14.0,103.0,112.0,265.0,19.0,223.0,19.0,95.0,37.0,23.0,51.0,2.0,31.0,13.0,134.0,85.0,124.0,126.0,223.0,22.0,37.0,81.0,123.0,74.0,8.0,369.0,1500.0,374.0,2700.0,521.0,70.0,44.0,491.0,368.0,1000.0,2900.0,1300.0,943.0,214.0,398.0,1300.0,83.0,41.0,678.0,67.0,973.0,469.0,144.0,723.0,882.0,580.0,272.0,108.0,1000.0,406.0,361.0,196.0,470.0,321.0,512.0,338.0,1300.0,154.0,904.0,427.0,231.0,526.0,274.0,460.0,1100.0,435.0,274.0,123.0,652.0,1100.0,1100.0,277.0,237.0,209.0,388.0,1100.0,37.0,193.0,72.0,80.0,123.0,2.0,339.0,87.0,70.0,101.0,44.0,328.0,58.0,84.0,338.0,274.0,101.0,316.0,258.0,4.0,209.0,175.0,6.0,252.0,4.0,50.0,2.0,71.0,250.0,2400.0,710.0,983.0,162.0,171.0,349.0,188.0,677.0,322.0,1800.0,377.0,155.0,4.0,96.0,334.0,633.0,149.0,1500.0,157.0,711.0,259.0,54.0,264.0,144.0,53.0,494.0,45.0,374.0,505.0,78.0,41.0,65.0,386.0,377.0,1900.0,1700.0,2200.0,1300.0,219.0,5800.0,105.0,4100.0,5100.0,795.0,430.0,429.0,730.0,754.0,3400.0,90.0,672.0,900.0,183.0,1900.0,196.0,999.0,315.0,93.0,274.0,414.0,1200.0,332.0,3200.0,668.0,146.0,266.0,1100.0,50.0,110.0,977.0,66.0,476.0,322.0],\"xaxis\":\"x\",\"yaxis\":\"y\",\"type\":\"histogram\"},{\"alignmentgroup\":\"True\",\"bingroup\":\"x\",\"hovertemplate\":\"Success=Successful\\u003cbr\\u003eFB_Shares=%{x}\\u003cbr\\u003ecount=%{y}\\u003cextra\\u003e\\u003c\\u002fextra\\u003e\",\"legendgroup\":\"Successful\",\"marker\":{\"color\":\"#EF553B\",\"pattern\":{\"shape\":\"\"}},\"name\":\"Successful\",\"offsetgroup\":\"Successful\",\"orientation\":\"v\",\"showlegend\":true,\"x\":[9700.0,6400.0,2500.0,12000.0,2100.0,1600.0,8600.0,9100.0,1600.0,3800.0,913.0,11000.0,3100.0,2300.0,1700.0,764.0,921.0,904.0,9400.0,1300.0,11000.0,828.0,12000.0,9100.0,3000.0,3100.0,1000.0,1600.0,1300.0,3100.0,1000.0,4200.0,11000.0,6400.0,95.0,330.0,1900.0,1600.0,1300.0,4500.0,5000.0,3800.0,6500.0,786.0,3400.0,840.0,14000.0,3900.0,750.0,996.0,1300.0,487.0,8300.0,4300.0,3300.0,2400.0,1300.0,699.0,3200.0,5100.0,15000.0,2600.0,3600.0,2400.0,3600.0,5300.0,8700.0,1100.0,8400.0,1000.0,2100.0,3900.0,12000.0,2700.0,2200.0,3900.0,2000.0,961.0,2100.0,652.0,1400.0,3000.0,242.0,367.0,8700.0,916.0,2000.0,249.0,328.0,1100.0,829.0,2.0,326.0,576.0,414.0,1100.0,174.0,163.0,435.0,4600.0,354.0,747.0,2100.0,501.0,3500.0,669.0,342.0,878.0,291.0,577.0,3500.0,798.0,74.0,282.0,3500.0,224.0,1200.0,2.0,657.0,1600.0,198.0,515.0,404.0,120.0,2600.0,3100.0,70.0,169.0,1200.0,49.0,241.0,101.0,132.0,632.0,280.0,879.0,22.0,151.0,430.0,464.0,3.0,184.0,112.0,261.0,272.0,343.0,130.0,257.0,3200.0,7700.0,2800.0,64.0,3000.0,254.0,4000.0,19.0,1400.0,1100.0,879.0,417.0,770.0,1500.0,1900.0,954.0,264.0,795.0,786.0,20.0,4900.0,62.0,171.0,315.0,284.0,1000.0,987.0,1300.0,643.0,1200.0,2600.0,23.0,153.0,92.0,596.0,412.0,314.0,113.0,24.0,153.0,131.0,107.0,39.0,118.0,29.0,37.0,2000.0,1400.0,803.0,844.0,599.0,1300.0,540.0,267.0,243.0,217.0,94.0,170.0,1600.0,107.0,362.0,132.0,44.0,171.0,193.0,559.0,276.0,138.0,203.0,93.0,1000.0,20.0,966.0,55.0,2.0,870.0,316.0,613.0,8.0,364.0,4.0,79.0,23.0,18.0,114.0,2.0,16.0,96.0,116.0,191.0,140.0,2.0,613.0,496.0,72.0,202.0,69.0,54.0,75.0,36.0,190.0,66.0,22.0,62.0,500.0,100.0,664.0,297.0,87.0,89.0,441.0,3.0,238.0,265.0,78.0,567.0,84.0,199.0,22.0,103.0,747.0,18.0,56.0,178.0,524.0,196.0,55.0,1100.0,5900.0,5900.0,7600.0,1400.0,336.0,423.0,982.0,1100.0,1100.0,238.0,5900.0,975.0,2700.0,530.0,3200.0,601.0,1600.0,577.0,436.0,137.0,2900.0,1200.0,934.0,1800.0,586.0,1600.0,34.0,30.0,88.0,45.0,29.0,17.0,8.0,10.0,3.0,3.0,70.0,7400.0,568.0,313.0,5400.0,1200.0,566.0,240.0,362.0,265.0,402.0,579.0,286.0,815.0,177.0,204.0,298.0,105.0,554.0,830.0,454.0,549.0,915.0,669.0,910.0,588.0,367.0,64.0,4.0,12.0,27.0,10.0,147.0,343.0,341.0,36.0,226.0,5.0,176.0,123.0,90.0,163.0,284.0,112.0,7.0,455.0,194.0,220.0,28.0,16.0,109.0,7.0,31.0,730.0,7.0,708.0,1200.0,453.0,4000.0,109.0,627.0,232.0,981.0,1000.0,1300.0,35.0,861.0,60.0,791.0,172.0,507.0,341.0,449.0,185.0,38.0,115.0,396.0,438.0,827.0,75.0,475.0,16.0,440.0,59.0,119.0,74.0,86.0,131.0,503.0,5700.0,1200.0,2100.0,2900.0,522.0,5700.0,833.0,651.0,397.0,516.0,707.0,1300.0,1200.0,337.0,149.0,542.0,389.0,94.0,126.0,558.0,235.0,15.0,229.0,353.0,344.0,168.0,28.0,419.0,72.0,871.0,107.0,398.0],\"xaxis\":\"x\",\"yaxis\":\"y\",\"type\":\"histogram\"}],                        {\"template\":{\"data\":{\"histogram2dcontour\":[{\"type\":\"histogram2dcontour\",\"colorbar\":{\"outlinewidth\":0,\"ticks\":\"\"},\"colorscale\":[[0.0,\"#0d0887\"],[0.1111111111111111,\"#46039f\"],[0.2222222222222222,\"#7201a8\"],[0.3333333333333333,\"#9c179e\"],[0.4444444444444444,\"#bd3786\"],[0.5555555555555556,\"#d8576b\"],[0.6666666666666666,\"#ed7953\"],[0.7777777777777778,\"#fb9f3a\"],[0.8888888888888888,\"#fdca26\"],[1.0,\"#f0f921\"]]}],\"choropleth\":[{\"type\":\"choropleth\",\"colorbar\":{\"outlinewidth\":0,\"ticks\":\"\"}}],\"histogram2d\":[{\"type\":\"histogram2d\",\"colorbar\":{\"outlinewidth\":0,\"ticks\":\"\"},\"colorscale\":[[0.0,\"#0d0887\"],[0.1111111111111111,\"#46039f\"],[0.2222222222222222,\"#7201a8\"],[0.3333333333333333,\"#9c179e\"],[0.4444444444444444,\"#bd3786\"],[0.5555555555555556,\"#d8576b\"],[0.6666666666666666,\"#ed7953\"],[0.7777777777777778,\"#fb9f3a\"],[0.8888888888888888,\"#fdca26\"],[1.0,\"#f0f921\"]]}],\"heatmap\":[{\"type\":\"heatmap\",\"colorbar\":{\"outlinewidth\":0,\"ticks\":\"\"},\"colorscale\":[[0.0,\"#0d0887\"],[0.1111111111111111,\"#46039f\"],[0.2222222222222222,\"#7201a8\"],[0.3333333333333333,\"#9c179e\"],[0.4444444444444444,\"#bd3786\"],[0.5555555555555556,\"#d8576b\"],[0.6666666666666666,\"#ed7953\"],[0.7777777777777778,\"#fb9f3a\"],[0.8888888888888888,\"#fdca26\"],[1.0,\"#f0f921\"]]}],\"heatmapgl\":[{\"type\":\"heatmapgl\",\"colorbar\":{\"outlinewidth\":0,\"ticks\":\"\"},\"colorscale\":[[0.0,\"#0d0887\"],[0.1111111111111111,\"#46039f\"],[0.2222222222222222,\"#7201a8\"],[0.3333333333333333,\"#9c179e\"],[0.4444444444444444,\"#bd3786\"],[0.5555555555555556,\"#d8576b\"],[0.6666666666666666,\"#ed7953\"],[0.7777777777777778,\"#fb9f3a\"],[0.8888888888888888,\"#fdca26\"],[1.0,\"#f0f921\"]]}],\"contourcarpet\":[{\"type\":\"contourcarpet\",\"colorbar\":{\"outlinewidth\":0,\"ticks\":\"\"}}],\"contour\":[{\"type\":\"contour\",\"colorbar\":{\"outlinewidth\":0,\"ticks\":\"\"},\"colorscale\":[[0.0,\"#0d0887\"],[0.1111111111111111,\"#46039f\"],[0.2222222222222222,\"#7201a8\"],[0.3333333333333333,\"#9c179e\"],[0.4444444444444444,\"#bd3786\"],[0.5555555555555556,\"#d8576b\"],[0.6666666666666666,\"#ed7953\"],[0.7777777777777778,\"#fb9f3a\"],[0.8888888888888888,\"#fdca26\"],[1.0,\"#f0f921\"]]}],\"surface\":[{\"type\":\"surface\",\"colorbar\":{\"outlinewidth\":0,\"ticks\":\"\"},\"colorscale\":[[0.0,\"#0d0887\"],[0.1111111111111111,\"#46039f\"],[0.2222222222222222,\"#7201a8\"],[0.3333333333333333,\"#9c179e\"],[0.4444444444444444,\"#bd3786\"],[0.5555555555555556,\"#d8576b\"],[0.6666666666666666,\"#ed7953\"],[0.7777777777777778,\"#fb9f3a\"],[0.8888888888888888,\"#fdca26\"],[1.0,\"#f0f921\"]]}],\"mesh3d\":[{\"type\":\"mesh3d\",\"colorbar\":{\"outlinewidth\":0,\"ticks\":\"\"}}],\"scatter\":[{\"fillpattern\":{\"fillmode\":\"overlay\",\"size\":10,\"solidity\":0.2},\"type\":\"scatter\"}],\"parcoords\":[{\"type\":\"parcoords\",\"line\":{\"colorbar\":{\"outlinewidth\":0,\"ticks\":\"\"}}}],\"scatterpolargl\":[{\"type\":\"scatterpolargl\",\"marker\":{\"colorbar\":{\"outlinewidth\":0,\"ticks\":\"\"}}}],\"bar\":[{\"error_x\":{\"color\":\"#2a3f5f\"},\"error_y\":{\"color\":\"#2a3f5f\"},\"marker\":{\"line\":{\"color\":\"#E5ECF6\",\"width\":0.5},\"pattern\":{\"fillmode\":\"overlay\",\"size\":10,\"solidity\":0.2}},\"type\":\"bar\"}],\"scattergeo\":[{\"type\":\"scattergeo\",\"marker\":{\"colorbar\":{\"outlinewidth\":0,\"ticks\":\"\"}}}],\"scatterpolar\":[{\"type\":\"scatterpolar\",\"marker\":{\"colorbar\":{\"outlinewidth\":0,\"ticks\":\"\"}}}],\"histogram\":[{\"marker\":{\"pattern\":{\"fillmode\":\"overlay\",\"size\":10,\"solidity\":0.2}},\"type\":\"histogram\"}],\"scattergl\":[{\"type\":\"scattergl\",\"marker\":{\"colorbar\":{\"outlinewidth\":0,\"ticks\":\"\"}}}],\"scatter3d\":[{\"type\":\"scatter3d\",\"line\":{\"colorbar\":{\"outlinewidth\":0,\"ticks\":\"\"}},\"marker\":{\"colorbar\":{\"outlinewidth\":0,\"ticks\":\"\"}}}],\"scattermapbox\":[{\"type\":\"scattermapbox\",\"marker\":{\"colorbar\":{\"outlinewidth\":0,\"ticks\":\"\"}}}],\"scatterternary\":[{\"type\":\"scatterternary\",\"marker\":{\"colorbar\":{\"outlinewidth\":0,\"ticks\":\"\"}}}],\"scattercarpet\":[{\"type\":\"scattercarpet\",\"marker\":{\"colorbar\":{\"outlinewidth\":0,\"ticks\":\"\"}}}],\"carpet\":[{\"aaxis\":{\"endlinecolor\":\"#2a3f5f\",\"gridcolor\":\"white\",\"linecolor\":\"white\",\"minorgridcolor\":\"white\",\"startlinecolor\":\"#2a3f5f\"},\"baxis\":{\"endlinecolor\":\"#2a3f5f\",\"gridcolor\":\"white\",\"linecolor\":\"white\",\"minorgridcolor\":\"white\",\"startlinecolor\":\"#2a3f5f\"},\"type\":\"carpet\"}],\"table\":[{\"cells\":{\"fill\":{\"color\":\"#EBF0F8\"},\"line\":{\"color\":\"white\"}},\"header\":{\"fill\":{\"color\":\"#C8D4E3\"},\"line\":{\"color\":\"white\"}},\"type\":\"table\"}],\"barpolar\":[{\"marker\":{\"line\":{\"color\":\"#E5ECF6\",\"width\":0.5},\"pattern\":{\"fillmode\":\"overlay\",\"size\":10,\"solidity\":0.2}},\"type\":\"barpolar\"}],\"pie\":[{\"automargin\":true,\"type\":\"pie\"}]},\"layout\":{\"autotypenumbers\":\"strict\",\"colorway\":[\"#636efa\",\"#EF553B\",\"#00cc96\",\"#ab63fa\",\"#FFA15A\",\"#19d3f3\",\"#FF6692\",\"#B6E880\",\"#FF97FF\",\"#FECB52\"],\"font\":{\"color\":\"#2a3f5f\"},\"hovermode\":\"closest\",\"hoverlabel\":{\"align\":\"left\"},\"paper_bgcolor\":\"white\",\"plot_bgcolor\":\"#E5ECF6\",\"polar\":{\"bgcolor\":\"#E5ECF6\",\"angularaxis\":{\"gridcolor\":\"white\",\"linecolor\":\"white\",\"ticks\":\"\"},\"radialaxis\":{\"gridcolor\":\"white\",\"linecolor\":\"white\",\"ticks\":\"\"}},\"ternary\":{\"bgcolor\":\"#E5ECF6\",\"aaxis\":{\"gridcolor\":\"white\",\"linecolor\":\"white\",\"ticks\":\"\"},\"baxis\":{\"gridcolor\":\"white\",\"linecolor\":\"white\",\"ticks\":\"\"},\"caxis\":{\"gridcolor\":\"white\",\"linecolor\":\"white\",\"ticks\":\"\"}},\"coloraxis\":{\"colorbar\":{\"outlinewidth\":0,\"ticks\":\"\"}},\"colorscale\":{\"sequential\":[[0.0,\"#0d0887\"],[0.1111111111111111,\"#46039f\"],[0.2222222222222222,\"#7201a8\"],[0.3333333333333333,\"#9c179e\"],[0.4444444444444444,\"#bd3786\"],[0.5555555555555556,\"#d8576b\"],[0.6666666666666666,\"#ed7953\"],[0.7777777777777778,\"#fb9f3a\"],[0.8888888888888888,\"#fdca26\"],[1.0,\"#f0f921\"]],\"sequentialminus\":[[0.0,\"#0d0887\"],[0.1111111111111111,\"#46039f\"],[0.2222222222222222,\"#7201a8\"],[0.3333333333333333,\"#9c179e\"],[0.4444444444444444,\"#bd3786\"],[0.5555555555555556,\"#d8576b\"],[0.6666666666666666,\"#ed7953\"],[0.7777777777777778,\"#fb9f3a\"],[0.8888888888888888,\"#fdca26\"],[1.0,\"#f0f921\"]],\"diverging\":[[0,\"#8e0152\"],[0.1,\"#c51b7d\"],[0.2,\"#de77ae\"],[0.3,\"#f1b6da\"],[0.4,\"#fde0ef\"],[0.5,\"#f7f7f7\"],[0.6,\"#e6f5d0\"],[0.7,\"#b8e186\"],[0.8,\"#7fbc41\"],[0.9,\"#4d9221\"],[1,\"#276419\"]]},\"xaxis\":{\"gridcolor\":\"white\",\"linecolor\":\"white\",\"ticks\":\"\",\"title\":{\"standoff\":15},\"zerolinecolor\":\"white\",\"automargin\":true,\"zerolinewidth\":2},\"yaxis\":{\"gridcolor\":\"white\",\"linecolor\":\"white\",\"ticks\":\"\",\"title\":{\"standoff\":15},\"zerolinecolor\":\"white\",\"automargin\":true,\"zerolinewidth\":2},\"scene\":{\"xaxis\":{\"backgroundcolor\":\"#E5ECF6\",\"gridcolor\":\"white\",\"linecolor\":\"white\",\"showbackground\":true,\"ticks\":\"\",\"zerolinecolor\":\"white\",\"gridwidth\":2},\"yaxis\":{\"backgroundcolor\":\"#E5ECF6\",\"gridcolor\":\"white\",\"linecolor\":\"white\",\"showbackground\":true,\"ticks\":\"\",\"zerolinecolor\":\"white\",\"gridwidth\":2},\"zaxis\":{\"backgroundcolor\":\"#E5ECF6\",\"gridcolor\":\"white\",\"linecolor\":\"white\",\"showbackground\":true,\"ticks\":\"\",\"zerolinecolor\":\"white\",\"gridwidth\":2}},\"shapedefaults\":{\"line\":{\"color\":\"#2a3f5f\"}},\"annotationdefaults\":{\"arrowcolor\":\"#2a3f5f\",\"arrowhead\":0,\"arrowwidth\":1},\"geo\":{\"bgcolor\":\"white\",\"landcolor\":\"#E5ECF6\",\"subunitcolor\":\"white\",\"showland\":true,\"showlakes\":true,\"lakecolor\":\"white\"},\"title\":{\"x\":0.05},\"mapbox\":{\"style\":\"light\"}}},\"xaxis\":{\"anchor\":\"y\",\"domain\":[0.0,1.0],\"title\":{\"text\":\"Number of Facebook Shares\"}},\"yaxis\":{\"anchor\":\"x\",\"domain\":[0.0,1.0],\"title\":{\"text\":\"Frequency\"}},\"legend\":{\"title\":{\"text\":\"Success\"},\"tracegroupgap\":0},\"title\":{\"text\":\"Distribution of FaceBook Shares of GoFundMe Posts by Success\"},\"barmode\":\"relative\"},                        {\"responsive\": true}                    ).then(function(){\n",
              "                            \n",
              "var gd = document.getElementById('64a52fbf-61aa-4f00-a3b9-dd8570eb982a');\n",
              "var x = new MutationObserver(function (mutations, observer) {{\n",
              "        var display = window.getComputedStyle(gd).display;\n",
              "        if (!display || display === 'none') {{\n",
              "            console.log([gd, 'removed!']);\n",
              "            Plotly.purge(gd);\n",
              "            observer.disconnect();\n",
              "        }}\n",
              "}});\n",
              "\n",
              "// Listen for the removal of the full notebook cells\n",
              "var notebookContainer = gd.closest('#notebook-container');\n",
              "if (notebookContainer) {{\n",
              "    x.observe(notebookContainer, {childList: true});\n",
              "}}\n",
              "\n",
              "// Listen for the clearing of the current output cell\n",
              "var outputEl = gd.closest('.output');\n",
              "if (outputEl) {{\n",
              "    x.observe(outputEl, {childList: true});\n",
              "}}\n",
              "\n",
              "                        })                };                            </script>        </div>\n",
              "</body>\n",
              "</html>"
            ]
          },
          "metadata": {}
        }
      ]
    },
    {
      "cell_type": "code",
      "source": [
        "fig = px.histogram(df_filtered, x=\"FB_Shares\", color=\"Success\",\n",
        "                   title=\"Distribution of FaceBook Shares of GoFundMe Posts by Success\",\n",
        "                   barmode=\"group\",\n",
        "                   labels={\"Length_of_Fundraising\": \"Length of Fundraising (days)\",\n",
        "                           \"Success\": \"Success Status\"})\n",
        "fig.update_xaxes(title_text=\"Number of FB Shares\")\n",
        "fig.update_yaxes(title_text=\"Frequency\")\n",
        "fig.show()"
      ],
      "metadata": {
        "colab": {
          "base_uri": "https://localhost:8080/",
          "height": 542
        },
        "id": "wzrHWXJS_Ls4",
        "outputId": "95d1079e-d639-4bc1-e9f7-1525009608cf"
      },
      "execution_count": null,
      "outputs": [
        {
          "output_type": "display_data",
          "data": {
            "text/html": [
              "<html>\n",
              "<head><meta charset=\"utf-8\" /></head>\n",
              "<body>\n",
              "    <div>            <script src=\"https://cdnjs.cloudflare.com/ajax/libs/mathjax/2.7.5/MathJax.js?config=TeX-AMS-MML_SVG\"></script><script type=\"text/javascript\">if (window.MathJax && window.MathJax.Hub && window.MathJax.Hub.Config) {window.MathJax.Hub.Config({SVG: {font: \"STIX-Web\"}});}</script>                <script type=\"text/javascript\">window.PlotlyConfig = {MathJaxConfig: 'local'};</script>\n",
              "        <script charset=\"utf-8\" src=\"https://cdn.plot.ly/plotly-2.35.2.min.js\"></script>                <div id=\"83242cda-5005-40e0-8f31-2070b92073ae\" class=\"plotly-graph-div\" style=\"height:525px; width:100%;\"></div>            <script type=\"text/javascript\">                                    window.PLOTLYENV=window.PLOTLYENV || {};                                    if (document.getElementById(\"83242cda-5005-40e0-8f31-2070b92073ae\")) {                    Plotly.newPlot(                        \"83242cda-5005-40e0-8f31-2070b92073ae\",                        [{\"alignmentgroup\":\"True\",\"bingroup\":\"x\",\"hovertemplate\":\"Success Status=Unsuccessful\\u003cbr\\u003eFB_Shares=%{x}\\u003cbr\\u003ecount=%{y}\\u003cextra\\u003e\\u003c\\u002fextra\\u003e\",\"legendgroup\":\"Unsuccessful\",\"marker\":{\"color\":\"#636efa\",\"pattern\":{\"shape\":\"\"}},\"name\":\"Unsuccessful\",\"offsetgroup\":\"Unsuccessful\",\"orientation\":\"v\",\"showlegend\":true,\"x\":[12000.0,1800.0,3700.0,10000.0,2800.0,3300.0,6000.0,3200.0,1300.0,5600.0,606.0,2400.0,1000.0,1800.0,9900.0,1600.0,1600.0,2600.0,8500.0,845.0,2000.0,7400.0,246.0,2300.0,365.0,8700.0,5100.0,723.0,2400.0,2500.0,681.0,147.0,1800.0,1700.0,1100.0,170.0,2600.0,1500.0,2000.0,689.0,9200.0,10000.0,12000.0,3300.0,2000.0,5700.0,11000.0,5400.0,3700.0,1300.0,2300.0,1300.0,8700.0,5500.0,2900.0,9000.0,2900.0,811.0,579.0,605.0,1300.0,381.0,8800.0,831.0,545.0,5800.0,918.0,3400.0,2400.0,536.0,1600.0,2400.0,4400.0,623.0,1300.0,6300.0,2000.0,7200.0,833.0,909.0,5900.0,3800.0,972.0,6400.0,5400.0,8800.0,5200.0,5700.0,2700.0,8500.0,7800.0,1400.0,3600.0,1900.0,3100.0,11000.0,3000.0,5800.0,5300.0,5300.0,4800.0,1100.0,2600.0,1800.0,1900.0,1000.0,8300.0,8400.0,2500.0,3800.0,4400.0,1600.0,894.0,2300.0,2900.0,499.0,825.0,816.0,2100.0,5100.0,4500.0,1100.0,6100.0,4800.0,1600.0,1300.0,1400.0,1900.0,3100.0,1200.0,736.0,1800.0,520.0,12000.0,2600.0,901.0,2100.0,240.0,1400.0,174.0,1500.0,1200.0,1900.0,4100.0,2200.0,354.0,70.0,921.0,323.0,836.0,1500.0,878.0,400.0,1100.0,3400.0,1400.0,578.0,523.0,495.0,509.0,1800.0,584.0,28.0,999.0,12.0,1900.0,709.0,183.0,2300.0,1600.0,374.0,713.0,83.0,380.0,1100.0,145.0,5.0,410.0,2200.0,1200.0,1400.0,858.0,463.0,1500.0,596.0,683.0,74.0,5200.0,298.0,2400.0,3700.0,92.0,85.0,1800.0,604.0,844.0,608.0,3.0,319.0,678.0,375.0,489.0,295.0,394.0,796.0,552.0,489.0,38.0,315.0,1000.0,1200.0,59.0,269.0,100.0,96.0,213.0,832.0,2500.0,688.0,469.0,493.0,295.0,85.0,682.0,321.0,342.0,51.0,96.0,100.0,450.0,357.0,1300.0,645.0,177.0,152.0,6.0,77.0,495.0,399.0,1100.0,116.0,1000.0,66.0,397.0,184.0,361.0,180.0,1200.0,79.0,180.0,383.0,383.0,1500.0,417.0,271.0,1000.0,1300.0,317.0,359.0,172.0,392.0,525.0,375.0,578.0,1800.0,100.0,138.0,253.0,520.0,597.0,128.0,300.0,446.0,50.0,61.0,145.0,516.0,649.0,451.0,77.0,180.0,567.0,373.0,296.0,307.0,1600.0,514.0,1400.0,1800.0,163.0,1400.0,4500.0,1700.0,721.0,2400.0,251.0,1200.0,1000.0,278.0,623.0,836.0,199.0,456.0,161.0,1500.0,14.0,74.0,1400.0,351.0,92.0,496.0,61.0,1100.0,2900.0,359.0,565.0,95.0,82.0,1300.0,516.0,70.0,1300.0,27.0,178.0,558.0,782.0,88.0,805.0,483.0,568.0,557.0,576.0,637.0,52.0,8.0,107.0,455.0,148.0,109.0,160.0,521.0,401.0,205.0,135.0,107.0,123.0,145.0,156.0,39.0,372.0,304.0,193.0,267.0,438.0,106.0,331.0,225.0,670.0,145.0,226.0,173.0,150.0,266.0,22.0,443.0,92.0,103.0,255.0,247.0,191.0,162.0,70.0,498.0,135.0,266.0,119.0,236.0,98.0,191.0,59.0,268.0,115.0,169.0,3000.0,558.0,1200.0,45.0,399.0,1100.0,620.0,207.0,923.0,1000.0,309.0,743.0,190.0,311.0,316.0,121.0,1600.0,317.0,423.0,355.0,820.0,1400.0,156.0,325.0,2500.0,725.0,364.0,478.0,1000.0,398.0,173.0,127.0,546.0,75.0,419.0,498.0,122.0,178.0,276.0,318.0,345.0,629.0,272.0,68.0,1600.0,1300.0,839.0,110.0,169.0,11.0,225.0,46.0,228.0,301.0,240.0,54.0,56.0,181.0,203.0,12.0,86.0,65.0,108.0,403.0,356.0,49.0,1800.0,4.0,1500.0,55.0,1500.0,229.0,182.0,926.0,1400.0,365.0,441.0,334.0,27.0,108.0,773.0,28.0,5800.0,198.0,114.0,148.0,898.0,186.0,25.0,154.0,104.0,178.0,15.0,15.0,114.0,2.0,8.0,375.0,173.0,191.0,29.0,764.0,34.0,58.0,458.0,144.0,98.0,181.0,795.0,328.0,204.0,154.0,212.0,1100.0,273.0,116.0,8.0,130.0,112.0,34.0,84.0,424.0,209.0,8800.0,5500.0,10000.0,3400.0,1400.0,3700.0,66.0,6000.0,1400.0,2000.0,2400.0,1700.0,2200.0,1200.0,103.0,4400.0,2400.0,6400.0,1400.0,1600.0,1900.0,545.0,2400.0,1100.0,3900.0,677.0,1300.0,1700.0,1700.0,1100.0,1000.0,402.0,2300.0,2500.0,631.0,196.0,2600.0,3700.0,6.0,85.0,2600.0,1500.0,382.0,189.0,1100.0,90.0,3.0,5.0,49.0,21.0,179.0,577.0,86.0,88.0,49.0,10.0,4.0,14.0,103.0,112.0,265.0,19.0,223.0,19.0,95.0,37.0,23.0,51.0,2.0,31.0,13.0,134.0,85.0,124.0,126.0,223.0,22.0,37.0,81.0,123.0,74.0,8.0,369.0,1500.0,374.0,2700.0,521.0,70.0,44.0,491.0,368.0,1000.0,2900.0,1300.0,943.0,214.0,398.0,1300.0,83.0,41.0,678.0,67.0,973.0,469.0,144.0,723.0,882.0,580.0,272.0,108.0,1000.0,406.0,361.0,196.0,470.0,321.0,512.0,338.0,1300.0,154.0,904.0,427.0,231.0,526.0,274.0,460.0,1100.0,435.0,274.0,123.0,652.0,1100.0,1100.0,277.0,237.0,209.0,388.0,1100.0,37.0,193.0,72.0,80.0,123.0,2.0,339.0,87.0,70.0,101.0,44.0,328.0,58.0,84.0,338.0,274.0,101.0,316.0,258.0,4.0,209.0,175.0,6.0,252.0,4.0,50.0,2.0,71.0,250.0,2400.0,710.0,983.0,162.0,171.0,349.0,188.0,677.0,322.0,1800.0,377.0,155.0,4.0,96.0,334.0,633.0,149.0,1500.0,157.0,711.0,259.0,54.0,264.0,144.0,53.0,494.0,45.0,374.0,505.0,78.0,41.0,65.0,386.0,377.0,1900.0,1700.0,2200.0,1300.0,219.0,5800.0,105.0,4100.0,5100.0,795.0,430.0,429.0,730.0,754.0,3400.0,90.0,672.0,900.0,183.0,1900.0,196.0,999.0,315.0,93.0,274.0,414.0,1200.0,332.0,3200.0,668.0,146.0,266.0,1100.0,50.0,110.0,977.0,66.0,476.0,322.0],\"xaxis\":\"x\",\"yaxis\":\"y\",\"type\":\"histogram\"},{\"alignmentgroup\":\"True\",\"bingroup\":\"x\",\"hovertemplate\":\"Success Status=Successful\\u003cbr\\u003eFB_Shares=%{x}\\u003cbr\\u003ecount=%{y}\\u003cextra\\u003e\\u003c\\u002fextra\\u003e\",\"legendgroup\":\"Successful\",\"marker\":{\"color\":\"#EF553B\",\"pattern\":{\"shape\":\"\"}},\"name\":\"Successful\",\"offsetgroup\":\"Successful\",\"orientation\":\"v\",\"showlegend\":true,\"x\":[9700.0,6400.0,2500.0,12000.0,2100.0,1600.0,8600.0,9100.0,1600.0,3800.0,913.0,11000.0,3100.0,2300.0,1700.0,764.0,921.0,904.0,9400.0,1300.0,11000.0,828.0,12000.0,9100.0,3000.0,3100.0,1000.0,1600.0,1300.0,3100.0,1000.0,4200.0,11000.0,6400.0,95.0,330.0,1900.0,1600.0,1300.0,4500.0,5000.0,3800.0,6500.0,786.0,3400.0,840.0,14000.0,3900.0,750.0,996.0,1300.0,487.0,8300.0,4300.0,3300.0,2400.0,1300.0,699.0,3200.0,5100.0,15000.0,2600.0,3600.0,2400.0,3600.0,5300.0,8700.0,1100.0,8400.0,1000.0,2100.0,3900.0,12000.0,2700.0,2200.0,3900.0,2000.0,961.0,2100.0,652.0,1400.0,3000.0,242.0,367.0,8700.0,916.0,2000.0,249.0,328.0,1100.0,829.0,2.0,326.0,576.0,414.0,1100.0,174.0,163.0,435.0,4600.0,354.0,747.0,2100.0,501.0,3500.0,669.0,342.0,878.0,291.0,577.0,3500.0,798.0,74.0,282.0,3500.0,224.0,1200.0,2.0,657.0,1600.0,198.0,515.0,404.0,120.0,2600.0,3100.0,70.0,169.0,1200.0,49.0,241.0,101.0,132.0,632.0,280.0,879.0,22.0,151.0,430.0,464.0,3.0,184.0,112.0,261.0,272.0,343.0,130.0,257.0,3200.0,7700.0,2800.0,64.0,3000.0,254.0,4000.0,19.0,1400.0,1100.0,879.0,417.0,770.0,1500.0,1900.0,954.0,264.0,795.0,786.0,20.0,4900.0,62.0,171.0,315.0,284.0,1000.0,987.0,1300.0,643.0,1200.0,2600.0,23.0,153.0,92.0,596.0,412.0,314.0,113.0,24.0,153.0,131.0,107.0,39.0,118.0,29.0,37.0,2000.0,1400.0,803.0,844.0,599.0,1300.0,540.0,267.0,243.0,217.0,94.0,170.0,1600.0,107.0,362.0,132.0,44.0,171.0,193.0,559.0,276.0,138.0,203.0,93.0,1000.0,20.0,966.0,55.0,2.0,870.0,316.0,613.0,8.0,364.0,4.0,79.0,23.0,18.0,114.0,2.0,16.0,96.0,116.0,191.0,140.0,2.0,613.0,496.0,72.0,202.0,69.0,54.0,75.0,36.0,190.0,66.0,22.0,62.0,500.0,100.0,664.0,297.0,87.0,89.0,441.0,3.0,238.0,265.0,78.0,567.0,84.0,199.0,22.0,103.0,747.0,18.0,56.0,178.0,524.0,196.0,55.0,1100.0,5900.0,5900.0,7600.0,1400.0,336.0,423.0,982.0,1100.0,1100.0,238.0,5900.0,975.0,2700.0,530.0,3200.0,601.0,1600.0,577.0,436.0,137.0,2900.0,1200.0,934.0,1800.0,586.0,1600.0,34.0,30.0,88.0,45.0,29.0,17.0,8.0,10.0,3.0,3.0,70.0,7400.0,568.0,313.0,5400.0,1200.0,566.0,240.0,362.0,265.0,402.0,579.0,286.0,815.0,177.0,204.0,298.0,105.0,554.0,830.0,454.0,549.0,915.0,669.0,910.0,588.0,367.0,64.0,4.0,12.0,27.0,10.0,147.0,343.0,341.0,36.0,226.0,5.0,176.0,123.0,90.0,163.0,284.0,112.0,7.0,455.0,194.0,220.0,28.0,16.0,109.0,7.0,31.0,730.0,7.0,708.0,1200.0,453.0,4000.0,109.0,627.0,232.0,981.0,1000.0,1300.0,35.0,861.0,60.0,791.0,172.0,507.0,341.0,449.0,185.0,38.0,115.0,396.0,438.0,827.0,75.0,475.0,16.0,440.0,59.0,119.0,74.0,86.0,131.0,503.0,5700.0,1200.0,2100.0,2900.0,522.0,5700.0,833.0,651.0,397.0,516.0,707.0,1300.0,1200.0,337.0,149.0,542.0,389.0,94.0,126.0,558.0,235.0,15.0,229.0,353.0,344.0,168.0,28.0,419.0,72.0,871.0,107.0,398.0],\"xaxis\":\"x\",\"yaxis\":\"y\",\"type\":\"histogram\"}],                        {\"template\":{\"data\":{\"histogram2dcontour\":[{\"type\":\"histogram2dcontour\",\"colorbar\":{\"outlinewidth\":0,\"ticks\":\"\"},\"colorscale\":[[0.0,\"#0d0887\"],[0.1111111111111111,\"#46039f\"],[0.2222222222222222,\"#7201a8\"],[0.3333333333333333,\"#9c179e\"],[0.4444444444444444,\"#bd3786\"],[0.5555555555555556,\"#d8576b\"],[0.6666666666666666,\"#ed7953\"],[0.7777777777777778,\"#fb9f3a\"],[0.8888888888888888,\"#fdca26\"],[1.0,\"#f0f921\"]]}],\"choropleth\":[{\"type\":\"choropleth\",\"colorbar\":{\"outlinewidth\":0,\"ticks\":\"\"}}],\"histogram2d\":[{\"type\":\"histogram2d\",\"colorbar\":{\"outlinewidth\":0,\"ticks\":\"\"},\"colorscale\":[[0.0,\"#0d0887\"],[0.1111111111111111,\"#46039f\"],[0.2222222222222222,\"#7201a8\"],[0.3333333333333333,\"#9c179e\"],[0.4444444444444444,\"#bd3786\"],[0.5555555555555556,\"#d8576b\"],[0.6666666666666666,\"#ed7953\"],[0.7777777777777778,\"#fb9f3a\"],[0.8888888888888888,\"#fdca26\"],[1.0,\"#f0f921\"]]}],\"heatmap\":[{\"type\":\"heatmap\",\"colorbar\":{\"outlinewidth\":0,\"ticks\":\"\"},\"colorscale\":[[0.0,\"#0d0887\"],[0.1111111111111111,\"#46039f\"],[0.2222222222222222,\"#7201a8\"],[0.3333333333333333,\"#9c179e\"],[0.4444444444444444,\"#bd3786\"],[0.5555555555555556,\"#d8576b\"],[0.6666666666666666,\"#ed7953\"],[0.7777777777777778,\"#fb9f3a\"],[0.8888888888888888,\"#fdca26\"],[1.0,\"#f0f921\"]]}],\"heatmapgl\":[{\"type\":\"heatmapgl\",\"colorbar\":{\"outlinewidth\":0,\"ticks\":\"\"},\"colorscale\":[[0.0,\"#0d0887\"],[0.1111111111111111,\"#46039f\"],[0.2222222222222222,\"#7201a8\"],[0.3333333333333333,\"#9c179e\"],[0.4444444444444444,\"#bd3786\"],[0.5555555555555556,\"#d8576b\"],[0.6666666666666666,\"#ed7953\"],[0.7777777777777778,\"#fb9f3a\"],[0.8888888888888888,\"#fdca26\"],[1.0,\"#f0f921\"]]}],\"contourcarpet\":[{\"type\":\"contourcarpet\",\"colorbar\":{\"outlinewidth\":0,\"ticks\":\"\"}}],\"contour\":[{\"type\":\"contour\",\"colorbar\":{\"outlinewidth\":0,\"ticks\":\"\"},\"colorscale\":[[0.0,\"#0d0887\"],[0.1111111111111111,\"#46039f\"],[0.2222222222222222,\"#7201a8\"],[0.3333333333333333,\"#9c179e\"],[0.4444444444444444,\"#bd3786\"],[0.5555555555555556,\"#d8576b\"],[0.6666666666666666,\"#ed7953\"],[0.7777777777777778,\"#fb9f3a\"],[0.8888888888888888,\"#fdca26\"],[1.0,\"#f0f921\"]]}],\"surface\":[{\"type\":\"surface\",\"colorbar\":{\"outlinewidth\":0,\"ticks\":\"\"},\"colorscale\":[[0.0,\"#0d0887\"],[0.1111111111111111,\"#46039f\"],[0.2222222222222222,\"#7201a8\"],[0.3333333333333333,\"#9c179e\"],[0.4444444444444444,\"#bd3786\"],[0.5555555555555556,\"#d8576b\"],[0.6666666666666666,\"#ed7953\"],[0.7777777777777778,\"#fb9f3a\"],[0.8888888888888888,\"#fdca26\"],[1.0,\"#f0f921\"]]}],\"mesh3d\":[{\"type\":\"mesh3d\",\"colorbar\":{\"outlinewidth\":0,\"ticks\":\"\"}}],\"scatter\":[{\"fillpattern\":{\"fillmode\":\"overlay\",\"size\":10,\"solidity\":0.2},\"type\":\"scatter\"}],\"parcoords\":[{\"type\":\"parcoords\",\"line\":{\"colorbar\":{\"outlinewidth\":0,\"ticks\":\"\"}}}],\"scatterpolargl\":[{\"type\":\"scatterpolargl\",\"marker\":{\"colorbar\":{\"outlinewidth\":0,\"ticks\":\"\"}}}],\"bar\":[{\"error_x\":{\"color\":\"#2a3f5f\"},\"error_y\":{\"color\":\"#2a3f5f\"},\"marker\":{\"line\":{\"color\":\"#E5ECF6\",\"width\":0.5},\"pattern\":{\"fillmode\":\"overlay\",\"size\":10,\"solidity\":0.2}},\"type\":\"bar\"}],\"scattergeo\":[{\"type\":\"scattergeo\",\"marker\":{\"colorbar\":{\"outlinewidth\":0,\"ticks\":\"\"}}}],\"scatterpolar\":[{\"type\":\"scatterpolar\",\"marker\":{\"colorbar\":{\"outlinewidth\":0,\"ticks\":\"\"}}}],\"histogram\":[{\"marker\":{\"pattern\":{\"fillmode\":\"overlay\",\"size\":10,\"solidity\":0.2}},\"type\":\"histogram\"}],\"scattergl\":[{\"type\":\"scattergl\",\"marker\":{\"colorbar\":{\"outlinewidth\":0,\"ticks\":\"\"}}}],\"scatter3d\":[{\"type\":\"scatter3d\",\"line\":{\"colorbar\":{\"outlinewidth\":0,\"ticks\":\"\"}},\"marker\":{\"colorbar\":{\"outlinewidth\":0,\"ticks\":\"\"}}}],\"scattermapbox\":[{\"type\":\"scattermapbox\",\"marker\":{\"colorbar\":{\"outlinewidth\":0,\"ticks\":\"\"}}}],\"scatterternary\":[{\"type\":\"scatterternary\",\"marker\":{\"colorbar\":{\"outlinewidth\":0,\"ticks\":\"\"}}}],\"scattercarpet\":[{\"type\":\"scattercarpet\",\"marker\":{\"colorbar\":{\"outlinewidth\":0,\"ticks\":\"\"}}}],\"carpet\":[{\"aaxis\":{\"endlinecolor\":\"#2a3f5f\",\"gridcolor\":\"white\",\"linecolor\":\"white\",\"minorgridcolor\":\"white\",\"startlinecolor\":\"#2a3f5f\"},\"baxis\":{\"endlinecolor\":\"#2a3f5f\",\"gridcolor\":\"white\",\"linecolor\":\"white\",\"minorgridcolor\":\"white\",\"startlinecolor\":\"#2a3f5f\"},\"type\":\"carpet\"}],\"table\":[{\"cells\":{\"fill\":{\"color\":\"#EBF0F8\"},\"line\":{\"color\":\"white\"}},\"header\":{\"fill\":{\"color\":\"#C8D4E3\"},\"line\":{\"color\":\"white\"}},\"type\":\"table\"}],\"barpolar\":[{\"marker\":{\"line\":{\"color\":\"#E5ECF6\",\"width\":0.5},\"pattern\":{\"fillmode\":\"overlay\",\"size\":10,\"solidity\":0.2}},\"type\":\"barpolar\"}],\"pie\":[{\"automargin\":true,\"type\":\"pie\"}]},\"layout\":{\"autotypenumbers\":\"strict\",\"colorway\":[\"#636efa\",\"#EF553B\",\"#00cc96\",\"#ab63fa\",\"#FFA15A\",\"#19d3f3\",\"#FF6692\",\"#B6E880\",\"#FF97FF\",\"#FECB52\"],\"font\":{\"color\":\"#2a3f5f\"},\"hovermode\":\"closest\",\"hoverlabel\":{\"align\":\"left\"},\"paper_bgcolor\":\"white\",\"plot_bgcolor\":\"#E5ECF6\",\"polar\":{\"bgcolor\":\"#E5ECF6\",\"angularaxis\":{\"gridcolor\":\"white\",\"linecolor\":\"white\",\"ticks\":\"\"},\"radialaxis\":{\"gridcolor\":\"white\",\"linecolor\":\"white\",\"ticks\":\"\"}},\"ternary\":{\"bgcolor\":\"#E5ECF6\",\"aaxis\":{\"gridcolor\":\"white\",\"linecolor\":\"white\",\"ticks\":\"\"},\"baxis\":{\"gridcolor\":\"white\",\"linecolor\":\"white\",\"ticks\":\"\"},\"caxis\":{\"gridcolor\":\"white\",\"linecolor\":\"white\",\"ticks\":\"\"}},\"coloraxis\":{\"colorbar\":{\"outlinewidth\":0,\"ticks\":\"\"}},\"colorscale\":{\"sequential\":[[0.0,\"#0d0887\"],[0.1111111111111111,\"#46039f\"],[0.2222222222222222,\"#7201a8\"],[0.3333333333333333,\"#9c179e\"],[0.4444444444444444,\"#bd3786\"],[0.5555555555555556,\"#d8576b\"],[0.6666666666666666,\"#ed7953\"],[0.7777777777777778,\"#fb9f3a\"],[0.8888888888888888,\"#fdca26\"],[1.0,\"#f0f921\"]],\"sequentialminus\":[[0.0,\"#0d0887\"],[0.1111111111111111,\"#46039f\"],[0.2222222222222222,\"#7201a8\"],[0.3333333333333333,\"#9c179e\"],[0.4444444444444444,\"#bd3786\"],[0.5555555555555556,\"#d8576b\"],[0.6666666666666666,\"#ed7953\"],[0.7777777777777778,\"#fb9f3a\"],[0.8888888888888888,\"#fdca26\"],[1.0,\"#f0f921\"]],\"diverging\":[[0,\"#8e0152\"],[0.1,\"#c51b7d\"],[0.2,\"#de77ae\"],[0.3,\"#f1b6da\"],[0.4,\"#fde0ef\"],[0.5,\"#f7f7f7\"],[0.6,\"#e6f5d0\"],[0.7,\"#b8e186\"],[0.8,\"#7fbc41\"],[0.9,\"#4d9221\"],[1,\"#276419\"]]},\"xaxis\":{\"gridcolor\":\"white\",\"linecolor\":\"white\",\"ticks\":\"\",\"title\":{\"standoff\":15},\"zerolinecolor\":\"white\",\"automargin\":true,\"zerolinewidth\":2},\"yaxis\":{\"gridcolor\":\"white\",\"linecolor\":\"white\",\"ticks\":\"\",\"title\":{\"standoff\":15},\"zerolinecolor\":\"white\",\"automargin\":true,\"zerolinewidth\":2},\"scene\":{\"xaxis\":{\"backgroundcolor\":\"#E5ECF6\",\"gridcolor\":\"white\",\"linecolor\":\"white\",\"showbackground\":true,\"ticks\":\"\",\"zerolinecolor\":\"white\",\"gridwidth\":2},\"yaxis\":{\"backgroundcolor\":\"#E5ECF6\",\"gridcolor\":\"white\",\"linecolor\":\"white\",\"showbackground\":true,\"ticks\":\"\",\"zerolinecolor\":\"white\",\"gridwidth\":2},\"zaxis\":{\"backgroundcolor\":\"#E5ECF6\",\"gridcolor\":\"white\",\"linecolor\":\"white\",\"showbackground\":true,\"ticks\":\"\",\"zerolinecolor\":\"white\",\"gridwidth\":2}},\"shapedefaults\":{\"line\":{\"color\":\"#2a3f5f\"}},\"annotationdefaults\":{\"arrowcolor\":\"#2a3f5f\",\"arrowhead\":0,\"arrowwidth\":1},\"geo\":{\"bgcolor\":\"white\",\"landcolor\":\"#E5ECF6\",\"subunitcolor\":\"white\",\"showland\":true,\"showlakes\":true,\"lakecolor\":\"white\"},\"title\":{\"x\":0.05},\"mapbox\":{\"style\":\"light\"}}},\"xaxis\":{\"anchor\":\"y\",\"domain\":[0.0,1.0],\"title\":{\"text\":\"Number of FB Shares\"}},\"yaxis\":{\"anchor\":\"x\",\"domain\":[0.0,1.0],\"title\":{\"text\":\"Frequency\"}},\"legend\":{\"title\":{\"text\":\"Success Status\"},\"tracegroupgap\":0},\"title\":{\"text\":\"Distribution of FaceBook Shares of GoFundMe Posts by Success\"},\"barmode\":\"group\"},                        {\"responsive\": true}                    ).then(function(){\n",
              "                            \n",
              "var gd = document.getElementById('83242cda-5005-40e0-8f31-2070b92073ae');\n",
              "var x = new MutationObserver(function (mutations, observer) {{\n",
              "        var display = window.getComputedStyle(gd).display;\n",
              "        if (!display || display === 'none') {{\n",
              "            console.log([gd, 'removed!']);\n",
              "            Plotly.purge(gd);\n",
              "            observer.disconnect();\n",
              "        }}\n",
              "}});\n",
              "\n",
              "// Listen for the removal of the full notebook cells\n",
              "var notebookContainer = gd.closest('#notebook-container');\n",
              "if (notebookContainer) {{\n",
              "    x.observe(notebookContainer, {childList: true});\n",
              "}}\n",
              "\n",
              "// Listen for the clearing of the current output cell\n",
              "var outputEl = gd.closest('.output');\n",
              "if (outputEl) {{\n",
              "    x.observe(outputEl, {childList: true});\n",
              "}}\n",
              "\n",
              "                        })                };                            </script>        </div>\n",
              "</body>\n",
              "</html>"
            ]
          },
          "metadata": {}
        }
      ]
    },
    {
      "cell_type": "markdown",
      "source": [
        "It seems as though majority of posts are unsuccessful. We do see, however, that the highest amount of unsuccessful posts are those with 0 FaceBook shares. Outliers within the boxplots illustrate that a few posts with a significant number of more facebook shares are successful."
      ],
      "metadata": {
        "id": "4HQuGnEBAucP"
      }
    },
    {
      "cell_type": "markdown",
      "source": [
        "4. Ratio of Success vs Unsuccessful projects by Category"
      ],
      "metadata": {
        "id": "pR15hBCwBg0K"
      }
    },
    {
      "cell_type": "code",
      "source": [
        "success_ratio = df.groupby(['Category', 'Success']).size().reset_index(name='Count')\n",
        "\n",
        "fig = px.bar(success_ratio, x=\"Category\", y=\"Count\", color=\"Success\",\n",
        "             title=\"Successful:Unsuccessful Projects by GoFundMe Category\",\n",
        "             labels={\"Count\": \"Number of Projects\",\n",
        "                     \"Success\": \"Success Status\"},\n",
        "             barmode='stack')\n",
        "fig.show()"
      ],
      "metadata": {
        "colab": {
          "base_uri": "https://localhost:8080/",
          "height": 542
        },
        "id": "KDtqdK9OBgXw",
        "outputId": "0b4ed5b3-8524-4570-b465-7f3ec64d2453"
      },
      "execution_count": null,
      "outputs": [
        {
          "output_type": "display_data",
          "data": {
            "text/html": [
              "<html>\n",
              "<head><meta charset=\"utf-8\" /></head>\n",
              "<body>\n",
              "    <div>            <script src=\"https://cdnjs.cloudflare.com/ajax/libs/mathjax/2.7.5/MathJax.js?config=TeX-AMS-MML_SVG\"></script><script type=\"text/javascript\">if (window.MathJax && window.MathJax.Hub && window.MathJax.Hub.Config) {window.MathJax.Hub.Config({SVG: {font: \"STIX-Web\"}});}</script>                <script type=\"text/javascript\">window.PlotlyConfig = {MathJaxConfig: 'local'};</script>\n",
              "        <script charset=\"utf-8\" src=\"https://cdn.plot.ly/plotly-2.35.2.min.js\"></script>                <div id=\"2e3a2f21-1885-4adc-8e52-8012e792261c\" class=\"plotly-graph-div\" style=\"height:525px; width:100%;\"></div>            <script type=\"text/javascript\">                                    window.PLOTLYENV=window.PLOTLYENV || {};                                    if (document.getElementById(\"2e3a2f21-1885-4adc-8e52-8012e792261c\")) {                    Plotly.newPlot(                        \"2e3a2f21-1885-4adc-8e52-8012e792261c\",                        [{\"alignmentgroup\":\"True\",\"hovertemplate\":\"Success Status=Successful\\u003cbr\\u003eCategory=%{x}\\u003cbr\\u003eNumber of Projects=%{y}\\u003cextra\\u003e\\u003c\\u002fextra\\u003e\",\"legendgroup\":\"Successful\",\"marker\":{\"color\":\"#636efa\",\"pattern\":{\"shape\":\"\"}},\"name\":\"Successful\",\"offsetgroup\":\"Successful\",\"orientation\":\"v\",\"showlegend\":true,\"textposition\":\"auto\",\"x\":[\"Animals\",\"Business\",\"Charity\",\"Community\",\"Competition\",\"Creative\",\"Education\",\"Emergency\",\"Event\",\"Faith\",\"Family\",\"Medical\",\"Memorial\",\"Newlywed\",\"Sports\",\"Travel\",\"Volunteer\",\"Wishes\"],\"xaxis\":\"x\",\"y\":[3,21,19,29,17,27,26,21,41,18,27,31,32,19,22,34,36,32],\"yaxis\":\"y\",\"type\":\"bar\"},{\"alignmentgroup\":\"True\",\"hovertemplate\":\"Success Status=Unsuccessful\\u003cbr\\u003eCategory=%{x}\\u003cbr\\u003eNumber of Projects=%{y}\\u003cextra\\u003e\\u003c\\u002fextra\\u003e\",\"legendgroup\":\"Unsuccessful\",\"marker\":{\"color\":\"#EF553B\",\"pattern\":{\"shape\":\"\"}},\"name\":\"Unsuccessful\",\"offsetgroup\":\"Unsuccessful\",\"orientation\":\"v\",\"showlegend\":true,\"textposition\":\"auto\",\"x\":[\"Animals\",\"Business\",\"Charity\",\"Community\",\"Competition\",\"Creative\",\"Education\",\"Emergency\",\"Event\",\"Faith\",\"Family\",\"Medical\",\"Memorial\",\"Newlywed\",\"Sports\",\"Travel\",\"Volunteer\",\"Wishes\"],\"xaxis\":\"x\",\"y\":[7,51,53,43,55,45,46,51,31,54,45,45,40,53,50,38,36,40],\"yaxis\":\"y\",\"type\":\"bar\"}],                        {\"template\":{\"data\":{\"histogram2dcontour\":[{\"type\":\"histogram2dcontour\",\"colorbar\":{\"outlinewidth\":0,\"ticks\":\"\"},\"colorscale\":[[0.0,\"#0d0887\"],[0.1111111111111111,\"#46039f\"],[0.2222222222222222,\"#7201a8\"],[0.3333333333333333,\"#9c179e\"],[0.4444444444444444,\"#bd3786\"],[0.5555555555555556,\"#d8576b\"],[0.6666666666666666,\"#ed7953\"],[0.7777777777777778,\"#fb9f3a\"],[0.8888888888888888,\"#fdca26\"],[1.0,\"#f0f921\"]]}],\"choropleth\":[{\"type\":\"choropleth\",\"colorbar\":{\"outlinewidth\":0,\"ticks\":\"\"}}],\"histogram2d\":[{\"type\":\"histogram2d\",\"colorbar\":{\"outlinewidth\":0,\"ticks\":\"\"},\"colorscale\":[[0.0,\"#0d0887\"],[0.1111111111111111,\"#46039f\"],[0.2222222222222222,\"#7201a8\"],[0.3333333333333333,\"#9c179e\"],[0.4444444444444444,\"#bd3786\"],[0.5555555555555556,\"#d8576b\"],[0.6666666666666666,\"#ed7953\"],[0.7777777777777778,\"#fb9f3a\"],[0.8888888888888888,\"#fdca26\"],[1.0,\"#f0f921\"]]}],\"heatmap\":[{\"type\":\"heatmap\",\"colorbar\":{\"outlinewidth\":0,\"ticks\":\"\"},\"colorscale\":[[0.0,\"#0d0887\"],[0.1111111111111111,\"#46039f\"],[0.2222222222222222,\"#7201a8\"],[0.3333333333333333,\"#9c179e\"],[0.4444444444444444,\"#bd3786\"],[0.5555555555555556,\"#d8576b\"],[0.6666666666666666,\"#ed7953\"],[0.7777777777777778,\"#fb9f3a\"],[0.8888888888888888,\"#fdca26\"],[1.0,\"#f0f921\"]]}],\"heatmapgl\":[{\"type\":\"heatmapgl\",\"colorbar\":{\"outlinewidth\":0,\"ticks\":\"\"},\"colorscale\":[[0.0,\"#0d0887\"],[0.1111111111111111,\"#46039f\"],[0.2222222222222222,\"#7201a8\"],[0.3333333333333333,\"#9c179e\"],[0.4444444444444444,\"#bd3786\"],[0.5555555555555556,\"#d8576b\"],[0.6666666666666666,\"#ed7953\"],[0.7777777777777778,\"#fb9f3a\"],[0.8888888888888888,\"#fdca26\"],[1.0,\"#f0f921\"]]}],\"contourcarpet\":[{\"type\":\"contourcarpet\",\"colorbar\":{\"outlinewidth\":0,\"ticks\":\"\"}}],\"contour\":[{\"type\":\"contour\",\"colorbar\":{\"outlinewidth\":0,\"ticks\":\"\"},\"colorscale\":[[0.0,\"#0d0887\"],[0.1111111111111111,\"#46039f\"],[0.2222222222222222,\"#7201a8\"],[0.3333333333333333,\"#9c179e\"],[0.4444444444444444,\"#bd3786\"],[0.5555555555555556,\"#d8576b\"],[0.6666666666666666,\"#ed7953\"],[0.7777777777777778,\"#fb9f3a\"],[0.8888888888888888,\"#fdca26\"],[1.0,\"#f0f921\"]]}],\"surface\":[{\"type\":\"surface\",\"colorbar\":{\"outlinewidth\":0,\"ticks\":\"\"},\"colorscale\":[[0.0,\"#0d0887\"],[0.1111111111111111,\"#46039f\"],[0.2222222222222222,\"#7201a8\"],[0.3333333333333333,\"#9c179e\"],[0.4444444444444444,\"#bd3786\"],[0.5555555555555556,\"#d8576b\"],[0.6666666666666666,\"#ed7953\"],[0.7777777777777778,\"#fb9f3a\"],[0.8888888888888888,\"#fdca26\"],[1.0,\"#f0f921\"]]}],\"mesh3d\":[{\"type\":\"mesh3d\",\"colorbar\":{\"outlinewidth\":0,\"ticks\":\"\"}}],\"scatter\":[{\"fillpattern\":{\"fillmode\":\"overlay\",\"size\":10,\"solidity\":0.2},\"type\":\"scatter\"}],\"parcoords\":[{\"type\":\"parcoords\",\"line\":{\"colorbar\":{\"outlinewidth\":0,\"ticks\":\"\"}}}],\"scatterpolargl\":[{\"type\":\"scatterpolargl\",\"marker\":{\"colorbar\":{\"outlinewidth\":0,\"ticks\":\"\"}}}],\"bar\":[{\"error_x\":{\"color\":\"#2a3f5f\"},\"error_y\":{\"color\":\"#2a3f5f\"},\"marker\":{\"line\":{\"color\":\"#E5ECF6\",\"width\":0.5},\"pattern\":{\"fillmode\":\"overlay\",\"size\":10,\"solidity\":0.2}},\"type\":\"bar\"}],\"scattergeo\":[{\"type\":\"scattergeo\",\"marker\":{\"colorbar\":{\"outlinewidth\":0,\"ticks\":\"\"}}}],\"scatterpolar\":[{\"type\":\"scatterpolar\",\"marker\":{\"colorbar\":{\"outlinewidth\":0,\"ticks\":\"\"}}}],\"histogram\":[{\"marker\":{\"pattern\":{\"fillmode\":\"overlay\",\"size\":10,\"solidity\":0.2}},\"type\":\"histogram\"}],\"scattergl\":[{\"type\":\"scattergl\",\"marker\":{\"colorbar\":{\"outlinewidth\":0,\"ticks\":\"\"}}}],\"scatter3d\":[{\"type\":\"scatter3d\",\"line\":{\"colorbar\":{\"outlinewidth\":0,\"ticks\":\"\"}},\"marker\":{\"colorbar\":{\"outlinewidth\":0,\"ticks\":\"\"}}}],\"scattermapbox\":[{\"type\":\"scattermapbox\",\"marker\":{\"colorbar\":{\"outlinewidth\":0,\"ticks\":\"\"}}}],\"scatterternary\":[{\"type\":\"scatterternary\",\"marker\":{\"colorbar\":{\"outlinewidth\":0,\"ticks\":\"\"}}}],\"scattercarpet\":[{\"type\":\"scattercarpet\",\"marker\":{\"colorbar\":{\"outlinewidth\":0,\"ticks\":\"\"}}}],\"carpet\":[{\"aaxis\":{\"endlinecolor\":\"#2a3f5f\",\"gridcolor\":\"white\",\"linecolor\":\"white\",\"minorgridcolor\":\"white\",\"startlinecolor\":\"#2a3f5f\"},\"baxis\":{\"endlinecolor\":\"#2a3f5f\",\"gridcolor\":\"white\",\"linecolor\":\"white\",\"minorgridcolor\":\"white\",\"startlinecolor\":\"#2a3f5f\"},\"type\":\"carpet\"}],\"table\":[{\"cells\":{\"fill\":{\"color\":\"#EBF0F8\"},\"line\":{\"color\":\"white\"}},\"header\":{\"fill\":{\"color\":\"#C8D4E3\"},\"line\":{\"color\":\"white\"}},\"type\":\"table\"}],\"barpolar\":[{\"marker\":{\"line\":{\"color\":\"#E5ECF6\",\"width\":0.5},\"pattern\":{\"fillmode\":\"overlay\",\"size\":10,\"solidity\":0.2}},\"type\":\"barpolar\"}],\"pie\":[{\"automargin\":true,\"type\":\"pie\"}]},\"layout\":{\"autotypenumbers\":\"strict\",\"colorway\":[\"#636efa\",\"#EF553B\",\"#00cc96\",\"#ab63fa\",\"#FFA15A\",\"#19d3f3\",\"#FF6692\",\"#B6E880\",\"#FF97FF\",\"#FECB52\"],\"font\":{\"color\":\"#2a3f5f\"},\"hovermode\":\"closest\",\"hoverlabel\":{\"align\":\"left\"},\"paper_bgcolor\":\"white\",\"plot_bgcolor\":\"#E5ECF6\",\"polar\":{\"bgcolor\":\"#E5ECF6\",\"angularaxis\":{\"gridcolor\":\"white\",\"linecolor\":\"white\",\"ticks\":\"\"},\"radialaxis\":{\"gridcolor\":\"white\",\"linecolor\":\"white\",\"ticks\":\"\"}},\"ternary\":{\"bgcolor\":\"#E5ECF6\",\"aaxis\":{\"gridcolor\":\"white\",\"linecolor\":\"white\",\"ticks\":\"\"},\"baxis\":{\"gridcolor\":\"white\",\"linecolor\":\"white\",\"ticks\":\"\"},\"caxis\":{\"gridcolor\":\"white\",\"linecolor\":\"white\",\"ticks\":\"\"}},\"coloraxis\":{\"colorbar\":{\"outlinewidth\":0,\"ticks\":\"\"}},\"colorscale\":{\"sequential\":[[0.0,\"#0d0887\"],[0.1111111111111111,\"#46039f\"],[0.2222222222222222,\"#7201a8\"],[0.3333333333333333,\"#9c179e\"],[0.4444444444444444,\"#bd3786\"],[0.5555555555555556,\"#d8576b\"],[0.6666666666666666,\"#ed7953\"],[0.7777777777777778,\"#fb9f3a\"],[0.8888888888888888,\"#fdca26\"],[1.0,\"#f0f921\"]],\"sequentialminus\":[[0.0,\"#0d0887\"],[0.1111111111111111,\"#46039f\"],[0.2222222222222222,\"#7201a8\"],[0.3333333333333333,\"#9c179e\"],[0.4444444444444444,\"#bd3786\"],[0.5555555555555556,\"#d8576b\"],[0.6666666666666666,\"#ed7953\"],[0.7777777777777778,\"#fb9f3a\"],[0.8888888888888888,\"#fdca26\"],[1.0,\"#f0f921\"]],\"diverging\":[[0,\"#8e0152\"],[0.1,\"#c51b7d\"],[0.2,\"#de77ae\"],[0.3,\"#f1b6da\"],[0.4,\"#fde0ef\"],[0.5,\"#f7f7f7\"],[0.6,\"#e6f5d0\"],[0.7,\"#b8e186\"],[0.8,\"#7fbc41\"],[0.9,\"#4d9221\"],[1,\"#276419\"]]},\"xaxis\":{\"gridcolor\":\"white\",\"linecolor\":\"white\",\"ticks\":\"\",\"title\":{\"standoff\":15},\"zerolinecolor\":\"white\",\"automargin\":true,\"zerolinewidth\":2},\"yaxis\":{\"gridcolor\":\"white\",\"linecolor\":\"white\",\"ticks\":\"\",\"title\":{\"standoff\":15},\"zerolinecolor\":\"white\",\"automargin\":true,\"zerolinewidth\":2},\"scene\":{\"xaxis\":{\"backgroundcolor\":\"#E5ECF6\",\"gridcolor\":\"white\",\"linecolor\":\"white\",\"showbackground\":true,\"ticks\":\"\",\"zerolinecolor\":\"white\",\"gridwidth\":2},\"yaxis\":{\"backgroundcolor\":\"#E5ECF6\",\"gridcolor\":\"white\",\"linecolor\":\"white\",\"showbackground\":true,\"ticks\":\"\",\"zerolinecolor\":\"white\",\"gridwidth\":2},\"zaxis\":{\"backgroundcolor\":\"#E5ECF6\",\"gridcolor\":\"white\",\"linecolor\":\"white\",\"showbackground\":true,\"ticks\":\"\",\"zerolinecolor\":\"white\",\"gridwidth\":2}},\"shapedefaults\":{\"line\":{\"color\":\"#2a3f5f\"}},\"annotationdefaults\":{\"arrowcolor\":\"#2a3f5f\",\"arrowhead\":0,\"arrowwidth\":1},\"geo\":{\"bgcolor\":\"white\",\"landcolor\":\"#E5ECF6\",\"subunitcolor\":\"white\",\"showland\":true,\"showlakes\":true,\"lakecolor\":\"white\"},\"title\":{\"x\":0.05},\"mapbox\":{\"style\":\"light\"}}},\"xaxis\":{\"anchor\":\"y\",\"domain\":[0.0,1.0],\"title\":{\"text\":\"Category\"}},\"yaxis\":{\"anchor\":\"x\",\"domain\":[0.0,1.0],\"title\":{\"text\":\"Number of Projects\"}},\"legend\":{\"title\":{\"text\":\"Success Status\"},\"tracegroupgap\":0},\"title\":{\"text\":\"Successful:Unsuccessful Projects by GoFundMe Category\"},\"barmode\":\"stack\"},                        {\"responsive\": true}                    ).then(function(){\n",
              "                            \n",
              "var gd = document.getElementById('2e3a2f21-1885-4adc-8e52-8012e792261c');\n",
              "var x = new MutationObserver(function (mutations, observer) {{\n",
              "        var display = window.getComputedStyle(gd).display;\n",
              "        if (!display || display === 'none') {{\n",
              "            console.log([gd, 'removed!']);\n",
              "            Plotly.purge(gd);\n",
              "            observer.disconnect();\n",
              "        }}\n",
              "}});\n",
              "\n",
              "// Listen for the removal of the full notebook cells\n",
              "var notebookContainer = gd.closest('#notebook-container');\n",
              "if (notebookContainer) {{\n",
              "    x.observe(notebookContainer, {childList: true});\n",
              "}}\n",
              "\n",
              "// Listen for the clearing of the current output cell\n",
              "var outputEl = gd.closest('.output');\n",
              "if (outputEl) {{\n",
              "    x.observe(outputEl, {childList: true});\n",
              "}}\n",
              "\n",
              "                        })                };                            </script>        </div>\n",
              "</body>\n",
              "</html>"
            ]
          },
          "metadata": {}
        }
      ]
    },
    {
      "cell_type": "markdown",
      "source": [
        "It seems that majority of GoFundMe projects are unsuccessful, regardless of category. However, we do see that the most successful projects seem to be Event GoFundMe projects."
      ],
      "metadata": {
        "id": "o25QVZq5CqbS"
      }
    }
  ]
}